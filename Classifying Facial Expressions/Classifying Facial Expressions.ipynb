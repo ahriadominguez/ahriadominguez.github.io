{
 "cells": [
  {
   "cell_type": "markdown",
   "id": "82d5b302",
   "metadata": {},
   "source": [
    "# Classifying Facial Expressions\n",
    "## Author: Ahria Dominguez\n",
    "### Last Updated: 8/10/2024"
   ]
  },
  {
   "cell_type": "markdown",
   "id": "c7c07da1",
   "metadata": {},
   "source": [
    "In this project, we will examine data from a Kaggle dataset titled _FER-2013_ (https://www.kaggle.com/datasets/msambare/fer2013). We will determine if images of facial expressions can be classified into one of seven different emotional categories using convolutional neural networks (CNNs).\n",
    "\n",
    "The data used in these models consist of:\n",
    "- Original, non-cleaned data:\n",
    "    - Training Images\n",
    "        - Angry: 3995\n",
    "        - Disgust: 436\n",
    "        - Fear: 4097\n",
    "        - Happy: 7215\n",
    "        - Neutral: 4965\n",
    "        - Sad: 4830\n",
    "        - Surprise: 3171\n",
    "    - Testing Images\n",
    "        - Angry: 958\n",
    "        - Disgust: 111\n",
    "        - Fear: 1024\n",
    "        - Happy: 1774\n",
    "        - Neutral: 1233\n",
    "        - Sad: 1247\n",
    "        - Surprise:831 \n",
    "- Cleaned data (all non-facial expression photos were removed):\n",
    "    - Training Images\n",
    "        - Angry: 3981\n",
    "        - Disgust: 435\n",
    "        - Fear: 4089\n",
    "        - Happy: 7203\n",
    "        - Neutral: 4952\n",
    "        - Sad: 4822\n",
    "        - Surprise: 3163 \n",
    "    - Testing Images\n",
    "        - Angry: 956\n",
    "        - Disgust: 111\n",
    "        - Fear: 1023\n",
    "        - Happy: 1772\n",
    "        - Neutral: 1228\n",
    "        - Sad: 1245\n",
    "        - Surprise: 829 "
   ]
  },
  {
   "cell_type": "markdown",
   "id": "745cd1bc",
   "metadata": {},
   "source": [
    "##### Import Libraries"
   ]
  },
  {
   "cell_type": "code",
   "execution_count": 1,
   "id": "c14c6f9c",
   "metadata": {},
   "outputs": [],
   "source": [
    "# Imports the necessary libraries to process, work with, classify the images,\n",
    "# and plot results.\n",
    "import tensorflow as tf\n",
    "from tensorflow.keras.preprocessing.image import ImageDataGenerator\n",
    "from tensorflow.keras.models import Sequential\n",
    "from tensorflow.keras.layers import Conv2D, MaxPooling2D, Flatten, Dense, Dropout, \\\n",
    "                                    BatchNormalization\n",
    "from tensorflow.keras.optimizers.legacy import Adam\n",
    "import numpy as np\n",
    "from sklearn.metrics import classification_report, confusion_matrix\n",
    "import matplotlib.pyplot as plt\n",
    "import seaborn as sns"
   ]
  },
  {
   "cell_type": "markdown",
   "id": "7adb089a",
   "metadata": {},
   "source": [
    "##### Running Models on the Original Dataset"
   ]
  },
  {
   "cell_type": "markdown",
   "id": "ad0a6b3a",
   "metadata": {},
   "source": [
    "###### Model 1"
   ]
  },
  {
   "cell_type": "markdown",
   "id": "3e32dbc7",
   "metadata": {},
   "source": [
    "In order to compare how cleaning the dataset impacts the results of the model, I have to run the models on the original, untouched dataset."
   ]
  },
  {
   "cell_type": "code",
   "execution_count": 2,
   "id": "837135da",
   "metadata": {},
   "outputs": [],
   "source": [
    "# Sets variables to the name of the folder the data is saved to.\n",
    "orig_training = 'train_original'\n",
    "orig_testing = 'test_original'"
   ]
  },
  {
   "cell_type": "code",
   "execution_count": 3,
   "id": "7509f0bc",
   "metadata": {},
   "outputs": [
    {
     "name": "stdout",
     "output_type": "stream",
     "text": [
      "Found 28709 images belonging to 7 classes.\n",
      "Found 7178 images belonging to 7 classes.\n"
     ]
    }
   ],
   "source": [
    "# Initializes the training image data generator and\n",
    "# rescales the images by dividing the pixels by 255.\n",
    "train_datagenerator = ImageDataGenerator(rescale = 1./255)\n",
    "\n",
    "# Initializes the testing image data generator, and also rescales the images\n",
    "# by dividing the pixels by 255, just like the training data.\n",
    "test_datagenerator = ImageDataGenerator(rescale = 1./255)\n",
    "\n",
    "# Initializes the training generator using the previously defined \n",
    "# 'train_datagenerator' variable to create batches of data from the\n",
    "# orig_training directory.\n",
    "train_generator = train_datagenerator.flow_from_directory(\n",
    "    orig_training,\n",
    "    target_size = (48, 48), # Defines the size of the photos in pixels.\n",
    "    batch_size = 32, # Defines the batch size (32 photos per batch).\n",
    "    color_mode = 'grayscale', # Defines the color of the photos (grayscale).\n",
    "    class_mode = 'categorical') # Defines the class mode as categorical since the\n",
    "                                # data will be classified into different emotions.\n",
    "\n",
    "# Initializes the testing generator using the previously defined\n",
    "# 'test_datagenerator' variable to create batches of data from the\n",
    "# orig_testing directory.\n",
    "test_generator = test_datagenerator.flow_from_directory(\n",
    "    orig_testing,\n",
    "    target_size = (48, 48), # Defines the size of the photos in pixels.\n",
    "    batch_size = 32, # Defines the batch size (32 photos per batch).\n",
    "    color_mode = 'grayscale', # Defines the color of the photos (grayscale).\n",
    "    class_mode = 'categorical') # Defines the class mode as categorical since the\n",
    "                                # data will be classified into different emotions."
   ]
  },
  {
   "cell_type": "code",
   "execution_count": 4,
   "id": "3bfacd89",
   "metadata": {},
   "outputs": [
    {
     "name": "stderr",
     "output_type": "stream",
     "text": [
      "2024-08-09 19:57:04.140901: I metal_plugin/src/device/metal_device.cc:1154] Metal device set to: Apple M2 Pro\n",
      "2024-08-09 19:57:04.140922: I metal_plugin/src/device/metal_device.cc:296] systemMemory: 16.00 GB\n",
      "2024-08-09 19:57:04.140927: I metal_plugin/src/device/metal_device.cc:313] maxCacheSize: 5.33 GB\n",
      "2024-08-09 19:57:04.140963: I tensorflow/core/common_runtime/pluggable_device/pluggable_device_factory.cc:306] Could not identify NUMA node of platform GPU ID 0, defaulting to 0. Your kernel may not have been built with NUMA support.\n",
      "2024-08-09 19:57:04.140979: I tensorflow/core/common_runtime/pluggable_device/pluggable_device_factory.cc:272] Created TensorFlow device (/job:localhost/replica:0/task:0/device:GPU:0 with 0 MB memory) -> physical PluggableDevice (device: 0, name: METAL, pci bus id: <undefined>)\n"
     ]
    }
   ],
   "source": [
    "# The CNN model of 'Sequential' allows for us to add layers to the model\n",
    "# one at a time. This initializes the model.\n",
    "cnn = Sequential()\n",
    "\n",
    "# Adds a 2D convolutional layer with 32 filters, all 3x3 pixels, sets the \n",
    "# activation method as ReLU to make all negative values zero, and defines\n",
    "# the input shape as 48x48 pixels.\n",
    "cnn.add(Conv2D(32, kernel_size = (3, 3), activation = 'relu', \n",
    "                 input_shape = (48, 48, 1)))\n",
    "# Adds a max pooling layer with a size of 2x2, which helps mitigate overfitting.\n",
    "cnn.add(MaxPooling2D(pool_size = (2, 2)))\n",
    "\n",
    "# Adds a convolutional layer with 64 filters, all 3x3 pixels again.\n",
    "cnn.add(Conv2D(64, kernel_size = (3, 3), activation = 'relu'))\n",
    "cnn.add(MaxPooling2D(pool_size = (2, 2)))\n",
    "\n",
    "# Adds a convolutional layer with 128 filters, all 3x3 pixels again.\n",
    "cnn.add(Conv2D(128, kernel_size = (3, 3), activation = 'relu'))\n",
    "cnn.add(MaxPooling2D(pool_size = (2, 2)))\n",
    "\n",
    "# Flattens the data into a 1D vector.\n",
    "cnn.add(Flatten())\n",
    "# Adds a fully connected layer with 128 neurons.\n",
    "cnn.add(Dense(128, activation = 'relu'))\n",
    "# Adds a dropout layer to prevent overfitting. 50% of the inputs are changed\n",
    "# to zero during this training.\n",
    "cnn.add(Dropout(0.5))\n",
    "# Adds an output layer with 7 neurons (1 for each class) and converts the output\n",
    "# into probabilities (softmax). \n",
    "cnn.add(Dense(7, activation = 'softmax'))"
   ]
  },
  {
   "cell_type": "code",
   "execution_count": 5,
   "id": "90a43be6",
   "metadata": {},
   "outputs": [],
   "source": [
    "# Gets the model ready for use with the photos, using the Adam optimizer (a good\n",
    "# optimizer to adjust the learning rate during training), categorical crossentropy\n",
    "# (good for multi-class classification problems), and the accuracy metric (to \n",
    "# evaluate how well the model does). \n",
    "cnn.compile(optimizer = Adam(), loss = 'categorical_crossentropy',\n",
    "              metrics = ['accuracy'])"
   ]
  },
  {
   "cell_type": "code",
   "execution_count": 6,
   "id": "5d926c14",
   "metadata": {},
   "outputs": [
    {
     "name": "stdout",
     "output_type": "stream",
     "text": [
      "Epoch 1/50\n",
      "  1/897 [..............................] - ETA: 6:13 - loss: 1.9528 - accuracy: 0.1875"
     ]
    },
    {
     "name": "stderr",
     "output_type": "stream",
     "text": [
      "2024-08-09 19:57:04.568480: I tensorflow/core/grappler/optimizers/custom_graph_optimizer_registry.cc:117] Plugin optimizer for device_type GPU is enabled.\n"
     ]
    },
    {
     "name": "stdout",
     "output_type": "stream",
     "text": [
      "897/897 [==============================] - 12s 13ms/step - loss: 1.7368 - accuracy: 0.2957 - val_loss: 1.5786 - val_accuracy: 0.3948\n",
      "Epoch 2/50\n",
      "897/897 [==============================] - 11s 12ms/step - loss: 1.5256 - accuracy: 0.4137 - val_loss: 1.4164 - val_accuracy: 0.4595\n",
      "Epoch 3/50\n",
      "897/897 [==============================] - 11s 12ms/step - loss: 1.4149 - accuracy: 0.4649 - val_loss: 1.3370 - val_accuracy: 0.4948\n",
      "Epoch 4/50\n",
      "897/897 [==============================] - 11s 12ms/step - loss: 1.3697 - accuracy: 0.4812 - val_loss: 1.3059 - val_accuracy: 0.5098\n",
      "Epoch 5/50\n",
      "897/897 [==============================] - 11s 12ms/step - loss: 1.3441 - accuracy: 0.4978 - val_loss: 1.2894 - val_accuracy: 0.5071\n",
      "Epoch 6/50\n",
      "897/897 [==============================] - 11s 12ms/step - loss: 1.3384 - accuracy: 0.4996 - val_loss: 1.3225 - val_accuracy: 0.4919\n",
      "Epoch 7/50\n",
      "897/897 [==============================] - 11s 12ms/step - loss: 1.3445 - accuracy: 0.5057 - val_loss: 1.2723 - val_accuracy: 0.5215\n",
      "Epoch 8/50\n",
      "897/897 [==============================] - 11s 13ms/step - loss: 1.3785 - accuracy: 0.4987 - val_loss: 1.3480 - val_accuracy: 0.4873\n",
      "Epoch 9/50\n",
      "897/897 [==============================] - 11s 12ms/step - loss: 1.4002 - accuracy: 0.4967 - val_loss: 1.4348 - val_accuracy: 0.4692\n",
      "Epoch 10/50\n",
      "897/897 [==============================] - 11s 13ms/step - loss: 1.4316 - accuracy: 0.4922 - val_loss: 1.3302 - val_accuracy: 0.5114\n",
      "Epoch 11/50\n",
      "897/897 [==============================] - 12s 13ms/step - loss: 1.4896 - accuracy: 0.4881 - val_loss: 1.3949 - val_accuracy: 0.4842\n",
      "Epoch 12/50\n",
      "897/897 [==============================] - 11s 13ms/step - loss: 1.5368 - accuracy: 0.4877 - val_loss: 1.4392 - val_accuracy: 0.5177\n",
      "Epoch 13/50\n",
      "897/897 [==============================] - 11s 13ms/step - loss: 1.6000 - accuracy: 0.4845 - val_loss: 1.4134 - val_accuracy: 0.4957\n",
      "Epoch 14/50\n",
      "897/897 [==============================] - 12s 13ms/step - loss: 1.7269 - accuracy: 0.4722 - val_loss: 1.8135 - val_accuracy: 0.4565\n",
      "Epoch 15/50\n",
      "897/897 [==============================] - 11s 13ms/step - loss: 1.8232 - accuracy: 0.4723 - val_loss: 2.1832 - val_accuracy: 0.4258\n",
      "Epoch 16/50\n",
      "897/897 [==============================] - 11s 12ms/step - loss: 2.0193 - accuracy: 0.4650 - val_loss: 1.7585 - val_accuracy: 0.4736\n",
      "Epoch 17/50\n",
      "897/897 [==============================] - 11s 12ms/step - loss: 2.1331 - accuracy: 0.4659 - val_loss: 1.5602 - val_accuracy: 0.4855\n",
      "Epoch 18/50\n",
      "897/897 [==============================] - 11s 12ms/step - loss: 2.2765 - accuracy: 0.4598 - val_loss: 2.0143 - val_accuracy: 0.4706\n",
      "Epoch 19/50\n",
      "897/897 [==============================] - 11s 12ms/step - loss: 2.5078 - accuracy: 0.4561 - val_loss: 3.1301 - val_accuracy: 0.3890\n",
      "Epoch 20/50\n",
      "897/897 [==============================] - 11s 12ms/step - loss: 2.7826 - accuracy: 0.4575 - val_loss: 2.9550 - val_accuracy: 0.4234\n",
      "Epoch 21/50\n",
      "897/897 [==============================] - 11s 13ms/step - loss: 3.2331 - accuracy: 0.4478 - val_loss: 2.7918 - val_accuracy: 0.4289\n",
      "Epoch 22/50\n",
      "897/897 [==============================] - 11s 12ms/step - loss: 3.5952 - accuracy: 0.4510 - val_loss: 2.7056 - val_accuracy: 0.4533\n",
      "Epoch 23/50\n",
      "897/897 [==============================] - 11s 12ms/step - loss: 4.0891 - accuracy: 0.4458 - val_loss: 4.3348 - val_accuracy: 0.4662\n",
      "Epoch 24/50\n",
      "897/897 [==============================] - 11s 13ms/step - loss: 4.7718 - accuracy: 0.4441 - val_loss: 3.8346 - val_accuracy: 0.4308\n",
      "Epoch 25/50\n",
      "897/897 [==============================] - 11s 13ms/step - loss: 5.1471 - accuracy: 0.4443 - val_loss: 3.3434 - val_accuracy: 0.4860\n",
      "Epoch 26/50\n",
      "897/897 [==============================] - 11s 13ms/step - loss: 6.0625 - accuracy: 0.4435 - val_loss: 3.3793 - val_accuracy: 0.5052\n",
      "Epoch 27/50\n",
      "897/897 [==============================] - 11s 12ms/step - loss: 6.7597 - accuracy: 0.4454 - val_loss: 5.3732 - val_accuracy: 0.4986\n",
      "Epoch 28/50\n",
      "897/897 [==============================] - 11s 13ms/step - loss: 7.5632 - accuracy: 0.4469 - val_loss: 9.1305 - val_accuracy: 0.3775\n",
      "Epoch 29/50\n",
      "897/897 [==============================] - 11s 13ms/step - loss: 8.5608 - accuracy: 0.4436 - val_loss: 5.2335 - val_accuracy: 0.5007\n",
      "Epoch 30/50\n",
      "897/897 [==============================] - 12s 13ms/step - loss: 10.1776 - accuracy: 0.4428 - val_loss: 7.1516 - val_accuracy: 0.4321\n",
      "Epoch 31/50\n",
      "897/897 [==============================] - 11s 12ms/step - loss: 11.0945 - accuracy: 0.4442 - val_loss: 8.4378 - val_accuracy: 0.4615\n",
      "Epoch 32/50\n",
      "897/897 [==============================] - 11s 12ms/step - loss: 12.8880 - accuracy: 0.4422 - val_loss: 8.2257 - val_accuracy: 0.4953\n",
      "Epoch 33/50\n",
      "897/897 [==============================] - 11s 12ms/step - loss: 14.2005 - accuracy: 0.4427 - val_loss: 19.9660 - val_accuracy: 0.3938\n",
      "Epoch 34/50\n",
      "897/897 [==============================] - 11s 12ms/step - loss: 16.2152 - accuracy: 0.4417 - val_loss: 13.4129 - val_accuracy: 0.4319\n",
      "Epoch 35/50\n",
      "897/897 [==============================] - 11s 12ms/step - loss: 19.2951 - accuracy: 0.4418 - val_loss: 13.2298 - val_accuracy: 0.4760\n",
      "Epoch 36/50\n",
      "897/897 [==============================] - 11s 12ms/step - loss: 20.2246 - accuracy: 0.4413 - val_loss: 16.6845 - val_accuracy: 0.3737\n",
      "Epoch 37/50\n",
      "897/897 [==============================] - 11s 12ms/step - loss: 21.7991 - accuracy: 0.4461 - val_loss: 19.5240 - val_accuracy: 0.4842\n",
      "Epoch 38/50\n",
      "897/897 [==============================] - 11s 12ms/step - loss: 25.2143 - accuracy: 0.4422 - val_loss: 22.6724 - val_accuracy: 0.4464\n",
      "Epoch 39/50\n",
      "897/897 [==============================] - 11s 12ms/step - loss: 27.5783 - accuracy: 0.4423 - val_loss: 21.6322 - val_accuracy: 0.4708\n",
      "Epoch 40/50\n",
      "897/897 [==============================] - 11s 12ms/step - loss: 30.4018 - accuracy: 0.4468 - val_loss: 25.2782 - val_accuracy: 0.4570\n",
      "Epoch 41/50\n",
      "897/897 [==============================] - 11s 13ms/step - loss: 32.2041 - accuracy: 0.4445 - val_loss: 29.9514 - val_accuracy: 0.4707\n",
      "Epoch 42/50\n",
      "897/897 [==============================] - 11s 13ms/step - loss: 36.6432 - accuracy: 0.4452 - val_loss: 35.6917 - val_accuracy: 0.4222\n",
      "Epoch 43/50\n",
      "897/897 [==============================] - 11s 13ms/step - loss: 41.4483 - accuracy: 0.4457 - val_loss: 32.1115 - val_accuracy: 0.4468\n",
      "Epoch 44/50\n",
      "897/897 [==============================] - 11s 12ms/step - loss: 43.9798 - accuracy: 0.4439 - val_loss: 33.4452 - val_accuracy: 0.3859\n",
      "Epoch 45/50\n",
      "897/897 [==============================] - 11s 12ms/step - loss: 46.2446 - accuracy: 0.4488 - val_loss: 46.9464 - val_accuracy: 0.4675\n",
      "Epoch 46/50\n",
      "897/897 [==============================] - 11s 12ms/step - loss: 52.2954 - accuracy: 0.4487 - val_loss: 56.1616 - val_accuracy: 0.4067\n",
      "Epoch 47/50\n",
      "897/897 [==============================] - 11s 12ms/step - loss: 55.7199 - accuracy: 0.4449 - val_loss: 55.3034 - val_accuracy: 0.4016\n",
      "Epoch 48/50\n",
      "897/897 [==============================] - 11s 12ms/step - loss: 59.0033 - accuracy: 0.4466 - val_loss: 40.1980 - val_accuracy: 0.4905\n",
      "Epoch 49/50\n",
      "897/897 [==============================] - 11s 13ms/step - loss: 63.7873 - accuracy: 0.4467 - val_loss: 41.9850 - val_accuracy: 0.4883\n",
      "Epoch 50/50\n",
      "897/897 [==============================] - 11s 13ms/step - loss: 73.4707 - accuracy: 0.4440 - val_loss: 59.7746 - val_accuracy: 0.4375\n"
     ]
    },
    {
     "data": {
      "text/plain": [
       "<keras.src.callbacks.History at 0x173d63490>"
      ]
     },
     "execution_count": 6,
     "metadata": {},
     "output_type": "execute_result"
    }
   ],
   "source": [
    "# Fits the model to the training and validation data, running through the epochs.\n",
    "cnn.fit(\n",
    "    train_generator,\n",
    "    # Tells the model to divide the number of samples by the batch size of the\n",
    "    # model to calculate how many batches of data will be processed for each epoch.\n",
    "    steps_per_epoch = train_generator.samples // train_generator.batch_size,\n",
    "    # Specifies the number of epochs the model will go through. We set it to\n",
    "    # 50, so the training dataset will go through the model 50 times.\n",
    "    epochs = 50,\n",
    "    # Initializes the validation data the model will use to test its efficiency.\n",
    "    validation_data = test_generator,\n",
    "    # Calculates how many batches of data will be processed for each validation\n",
    "    # epoch. \n",
    "    validation_steps = test_generator.samples // test_generator.batch_size)"
   ]
  },
  {
   "cell_type": "code",
   "execution_count": 7,
   "id": "fd8141b0",
   "metadata": {},
   "outputs": [
    {
     "name": "stdout",
     "output_type": "stream",
     "text": [
      "225/225 [==============================] - 1s 6ms/step - loss: 59.7490 - accuracy: 0.4377\n"
     ]
    },
    {
     "data": {
      "text/plain": [
       "[59.748992919921875, 0.43772637844085693]"
      ]
     },
     "execution_count": 7,
     "metadata": {},
     "output_type": "execute_result"
    }
   ],
   "source": [
    "# Evaluates the model on the test data.\n",
    "cnn.evaluate(test_generator)"
   ]
  },
  {
   "cell_type": "markdown",
   "id": "b072871e",
   "metadata": {},
   "source": [
    "It appears the default model (no extra parameters added) using the original dataset had an accuracy of 43.77% and a loss value of 59.75. Let's try changing up some parameters."
   ]
  },
  {
   "cell_type": "markdown",
   "id": "b139ad27",
   "metadata": {},
   "source": [
    "###### Model 2"
   ]
  },
  {
   "cell_type": "code",
   "execution_count": 8,
   "id": "e49e906c",
   "metadata": {},
   "outputs": [
    {
     "name": "stdout",
     "output_type": "stream",
     "text": [
      "Found 28709 images belonging to 7 classes.\n",
      "Found 7178 images belonging to 7 classes.\n"
     ]
    }
   ],
   "source": [
    "# Almost everything will be the same as the first model, except we will\n",
    "# add a parameter of 'shear_range' to the 'train_datagenerator' variable.\n",
    "\n",
    "# Initializes the training image data generator.\n",
    "train_datagenerator = ImageDataGenerator(\n",
    "    rescale = 1./255, # Rescales the images by dividing the pixels by 255.\n",
    "    shear_range = 0.2) # Applies a shear transformation to the images (slanting\n",
    "                       # the image by up to 20%).\n",
    "\n",
    "# Initializes the testing image data generator, and also rescales the images\n",
    "# by dividing the pixels by 255, just like the training data.\n",
    "test_datagenerator = ImageDataGenerator(rescale = 1./255)\n",
    "\n",
    "# Initializes the training generator using the previously defined \n",
    "# 'train_datagenerator' variable to create batches of data from the\n",
    "# orig_training directory.\n",
    "train_generator = train_datagenerator.flow_from_directory(\n",
    "    orig_training,\n",
    "    target_size = (48, 48), # Defines the size of the photos in pixels.\n",
    "    batch_size = 32, # Defines the batch size (32 photos per batch).\n",
    "    color_mode = 'grayscale', # Defines the color of the photos (grayscale).\n",
    "    class_mode = 'categorical') # Defines the class mode as categorical since the\n",
    "                                # data will be classified into different emotions.\n",
    "\n",
    "# Initializes the testing generator using the previously defined\n",
    "# 'test_datagenerator' variable to create batches of data from the\n",
    "# orig_testing directory.\n",
    "test_generator = test_datagenerator.flow_from_directory(\n",
    "    orig_testing,\n",
    "    target_size = (48, 48), # Defines the size of the photos in pixels.\n",
    "    batch_size = 32, # Defines the batch size (32 photos per batch).\n",
    "    color_mode = 'grayscale', # Defines the color of the photos (grayscale).\n",
    "    class_mode = 'categorical') # Defines the class mode as categorical since the\n",
    "                                # data will be classified into different emotions."
   ]
  },
  {
   "cell_type": "code",
   "execution_count": 9,
   "id": "195c0c9d",
   "metadata": {},
   "outputs": [],
   "source": [
    "# Initializes the Sequential model.\n",
    "cnn = Sequential()\n",
    "\n",
    "# Adds a 2D convolutional layer with 32 filters, all 3x3 pixels, sets the \n",
    "# activation method as ReLU to make all negative values zero, and defines\n",
    "# the input shape as 48x48 pixels.\n",
    "cnn.add(Conv2D(32, kernel_size = (3, 3), activation = 'relu', \n",
    "                 input_shape = (48, 48, 1)))\n",
    "# Adds a max pooling layer with a size of 2x2, which helps mitigate overfitting.\n",
    "cnn.add(MaxPooling2D(pool_size = (2, 2)))\n",
    "\n",
    "# Adds a convolutional layer with 64 filters, all 3x3 pixels again.\n",
    "cnn.add(Conv2D(64, kernel_size = (3, 3), activation = 'relu'))\n",
    "cnn.add(MaxPooling2D(pool_size = (2, 2)))\n",
    "\n",
    "# Adds a convolutional layer with 128 filters, all 3x3 pixels again.\n",
    "cnn.add(Conv2D(128, kernel_size = (3, 3), activation = 'relu'))\n",
    "cnn.add(MaxPooling2D(pool_size = (2, 2)))\n",
    "\n",
    "# Flattens the data into a 1D vector.\n",
    "cnn.add(Flatten())\n",
    "# Adds a fully connected layer with 128 neurons.\n",
    "cnn.add(Dense(128, activation = 'relu'))\n",
    "# Adds a dropout layer to prevent overfitting. 50% of the inputs are changed\n",
    "# to zero during this training.\n",
    "cnn.add(Dropout(0.5))\n",
    "# Adds an output layer with 7 neurons (1 for each class) and converts the output\n",
    "# into probabilities (softmax). \n",
    "cnn.add(Dense(7, activation = 'softmax'))"
   ]
  },
  {
   "cell_type": "code",
   "execution_count": 10,
   "id": "ab8acaa2",
   "metadata": {},
   "outputs": [],
   "source": [
    "# Gets the model ready for use with the photos, using the same parameters\n",
    "# as the model before. \n",
    "cnn.compile(optimizer = Adam(), loss = 'categorical_crossentropy',\n",
    "              metrics = ['accuracy'])"
   ]
  },
  {
   "cell_type": "code",
   "execution_count": 11,
   "id": "bc62af9a",
   "metadata": {},
   "outputs": [
    {
     "name": "stdout",
     "output_type": "stream",
     "text": [
      "Epoch 1/50\n",
      "897/897 [==============================] - 12s 13ms/step - loss: 1.7347 - accuracy: 0.3040 - val_loss: 1.5623 - val_accuracy: 0.4054\n",
      "Epoch 2/50\n",
      "897/897 [==============================] - 11s 13ms/step - loss: 1.5154 - accuracy: 0.4169 - val_loss: 1.4102 - val_accuracy: 0.4583\n",
      "Epoch 3/50\n",
      "897/897 [==============================] - 11s 13ms/step - loss: 1.4106 - accuracy: 0.4655 - val_loss: 1.3327 - val_accuracy: 0.4975\n",
      "Epoch 4/50\n",
      "897/897 [==============================] - 11s 13ms/step - loss: 1.3492 - accuracy: 0.4863 - val_loss: 1.2841 - val_accuracy: 0.5098\n",
      "Epoch 5/50\n",
      "897/897 [==============================] - 12s 13ms/step - loss: 1.3068 - accuracy: 0.5062 - val_loss: 1.3006 - val_accuracy: 0.5166\n",
      "Epoch 6/50\n",
      "897/897 [==============================] - 12s 13ms/step - loss: 1.2877 - accuracy: 0.5168 - val_loss: 1.2537 - val_accuracy: 0.5269\n",
      "Epoch 7/50\n",
      "897/897 [==============================] - 12s 13ms/step - loss: 1.2810 - accuracy: 0.5244 - val_loss: 1.2821 - val_accuracy: 0.5126\n",
      "Epoch 8/50\n",
      "897/897 [==============================] - 11s 13ms/step - loss: 1.2668 - accuracy: 0.5303 - val_loss: 1.2381 - val_accuracy: 0.5331\n",
      "Epoch 9/50\n",
      "897/897 [==============================] - 12s 13ms/step - loss: 1.2683 - accuracy: 0.5330 - val_loss: 1.3523 - val_accuracy: 0.5038\n",
      "Epoch 10/50\n",
      "897/897 [==============================] - 11s 12ms/step - loss: 1.2711 - accuracy: 0.5324 - val_loss: 1.2535 - val_accuracy: 0.5356\n",
      "Epoch 11/50\n",
      "897/897 [==============================] - 11s 12ms/step - loss: 1.2777 - accuracy: 0.5334 - val_loss: 1.3123 - val_accuracy: 0.5283\n",
      "Epoch 12/50\n",
      "897/897 [==============================] - 11s 12ms/step - loss: 1.2914 - accuracy: 0.5369 - val_loss: 1.3129 - val_accuracy: 0.5243\n",
      "Epoch 13/50\n",
      "897/897 [==============================] - 11s 12ms/step - loss: 1.3067 - accuracy: 0.5317 - val_loss: 1.3658 - val_accuracy: 0.5278\n",
      "Epoch 14/50\n",
      "897/897 [==============================] - 11s 12ms/step - loss: 1.3533 - accuracy: 0.5291 - val_loss: 1.3956 - val_accuracy: 0.5269\n",
      "Epoch 15/50\n",
      "897/897 [==============================] - 11s 12ms/step - loss: 1.3726 - accuracy: 0.5304 - val_loss: 1.2532 - val_accuracy: 0.5512\n",
      "Epoch 16/50\n",
      "897/897 [==============================] - 11s 12ms/step - loss: 1.4321 - accuracy: 0.5245 - val_loss: 1.3106 - val_accuracy: 0.5480\n",
      "Epoch 17/50\n",
      "897/897 [==============================] - 11s 13ms/step - loss: 1.4417 - accuracy: 0.5288 - val_loss: 1.5363 - val_accuracy: 0.4784\n",
      "Epoch 18/50\n",
      "897/897 [==============================] - 11s 13ms/step - loss: 1.5120 - accuracy: 0.5215 - val_loss: 1.4186 - val_accuracy: 0.5253\n",
      "Epoch 19/50\n",
      "897/897 [==============================] - 11s 13ms/step - loss: 1.5654 - accuracy: 0.5194 - val_loss: 1.7040 - val_accuracy: 0.5084\n",
      "Epoch 20/50\n",
      "897/897 [==============================] - 11s 13ms/step - loss: 1.5886 - accuracy: 0.5227 - val_loss: 1.8231 - val_accuracy: 0.4574\n",
      "Epoch 21/50\n",
      "897/897 [==============================] - 11s 13ms/step - loss: 1.6978 - accuracy: 0.5177 - val_loss: 1.7255 - val_accuracy: 0.5227\n",
      "Epoch 22/50\n",
      "897/897 [==============================] - 11s 12ms/step - loss: 1.7999 - accuracy: 0.5176 - val_loss: 1.6343 - val_accuracy: 0.5416\n",
      "Epoch 23/50\n",
      "897/897 [==============================] - 11s 13ms/step - loss: 1.8971 - accuracy: 0.5164 - val_loss: 1.7504 - val_accuracy: 0.5056\n",
      "Epoch 24/50\n",
      "897/897 [==============================] - 12s 13ms/step - loss: 2.0199 - accuracy: 0.5108 - val_loss: 2.3728 - val_accuracy: 0.4619\n",
      "Epoch 25/50\n",
      "897/897 [==============================] - 11s 13ms/step - loss: 2.1381 - accuracy: 0.5090 - val_loss: 2.6031 - val_accuracy: 0.4563\n",
      "Epoch 26/50\n",
      "897/897 [==============================] - 11s 12ms/step - loss: 2.2833 - accuracy: 0.5063 - val_loss: 1.9984 - val_accuracy: 0.5303\n",
      "Epoch 27/50\n",
      "897/897 [==============================] - 11s 13ms/step - loss: 2.4882 - accuracy: 0.5058 - val_loss: 2.1731 - val_accuracy: 0.5063\n",
      "Epoch 28/50\n",
      "897/897 [==============================] - 11s 13ms/step - loss: 2.7373 - accuracy: 0.5023 - val_loss: 2.2258 - val_accuracy: 0.5321\n",
      "Epoch 29/50\n",
      "897/897 [==============================] - 11s 13ms/step - loss: 2.9113 - accuracy: 0.5022 - val_loss: 2.8205 - val_accuracy: 0.4934\n",
      "Epoch 30/50\n",
      "897/897 [==============================] - 11s 13ms/step - loss: 2.9970 - accuracy: 0.5103 - val_loss: 3.4128 - val_accuracy: 0.5273\n",
      "Epoch 31/50\n",
      "897/897 [==============================] - 11s 13ms/step - loss: 3.4387 - accuracy: 0.5032 - val_loss: 2.7789 - val_accuracy: 0.5326\n",
      "Epoch 32/50\n",
      "897/897 [==============================] - 11s 13ms/step - loss: 3.6787 - accuracy: 0.5042 - val_loss: 3.5690 - val_accuracy: 0.4813\n",
      "Epoch 33/50\n",
      "897/897 [==============================] - 11s 13ms/step - loss: 3.9992 - accuracy: 0.5026 - val_loss: 5.4271 - val_accuracy: 0.4749\n",
      "Epoch 34/50\n",
      "897/897 [==============================] - 11s 12ms/step - loss: 4.3956 - accuracy: 0.4993 - val_loss: 3.4291 - val_accuracy: 0.5264\n",
      "Epoch 35/50\n",
      "897/897 [==============================] - 11s 12ms/step - loss: 4.8997 - accuracy: 0.5018 - val_loss: 4.8709 - val_accuracy: 0.4886\n",
      "Epoch 36/50\n",
      "897/897 [==============================] - 11s 13ms/step - loss: 5.5171 - accuracy: 0.4999 - val_loss: 4.6054 - val_accuracy: 0.4976\n",
      "Epoch 37/50\n",
      "897/897 [==============================] - 11s 12ms/step - loss: 5.3856 - accuracy: 0.5065 - val_loss: 3.8924 - val_accuracy: 0.5282\n",
      "Epoch 38/50\n",
      "897/897 [==============================] - 11s 12ms/step - loss: 6.1411 - accuracy: 0.5060 - val_loss: 5.1473 - val_accuracy: 0.5174\n",
      "Epoch 39/50\n",
      "897/897 [==============================] - 11s 12ms/step - loss: 6.3776 - accuracy: 0.5100 - val_loss: 6.6640 - val_accuracy: 0.4940\n",
      "Epoch 40/50\n",
      "897/897 [==============================] - 11s 12ms/step - loss: 7.7333 - accuracy: 0.5010 - val_loss: 9.9038 - val_accuracy: 0.5053\n",
      "Epoch 41/50\n",
      "897/897 [==============================] - 11s 13ms/step - loss: 7.9698 - accuracy: 0.5041 - val_loss: 6.3420 - val_accuracy: 0.5346\n",
      "Epoch 42/50\n",
      "897/897 [==============================] - 11s 13ms/step - loss: 8.7411 - accuracy: 0.5055 - val_loss: 6.9939 - val_accuracy: 0.5138\n",
      "Epoch 43/50\n",
      "897/897 [==============================] - 11s 12ms/step - loss: 9.4770 - accuracy: 0.5065 - val_loss: 12.6551 - val_accuracy: 0.4516\n",
      "Epoch 44/50\n",
      "897/897 [==============================] - 12s 13ms/step - loss: 10.5305 - accuracy: 0.5065 - val_loss: 8.3440 - val_accuracy: 0.5088\n",
      "Epoch 45/50\n",
      "897/897 [==============================] - 11s 12ms/step - loss: 11.2656 - accuracy: 0.5078 - val_loss: 11.4659 - val_accuracy: 0.5100\n",
      "Epoch 46/50\n",
      "897/897 [==============================] - 11s 12ms/step - loss: 11.7794 - accuracy: 0.5138 - val_loss: 11.1352 - val_accuracy: 0.4840\n",
      "Epoch 47/50\n",
      "897/897 [==============================] - 11s 12ms/step - loss: 13.3057 - accuracy: 0.5074 - val_loss: 12.3148 - val_accuracy: 0.4985\n",
      "Epoch 48/50\n",
      "897/897 [==============================] - 11s 12ms/step - loss: 14.0318 - accuracy: 0.5078 - val_loss: 12.8439 - val_accuracy: 0.4880\n",
      "Epoch 49/50\n",
      "897/897 [==============================] - 11s 12ms/step - loss: 14.9159 - accuracy: 0.5119 - val_loss: 12.1743 - val_accuracy: 0.5266\n",
      "Epoch 50/50\n",
      "897/897 [==============================] - 11s 12ms/step - loss: 16.5408 - accuracy: 0.5067 - val_loss: 19.5281 - val_accuracy: 0.4912\n"
     ]
    },
    {
     "data": {
      "text/plain": [
       "<keras.src.callbacks.History at 0x302b565d0>"
      ]
     },
     "execution_count": 11,
     "metadata": {},
     "output_type": "execute_result"
    }
   ],
   "source": [
    "# Fits the model to the training and validation data, running through the epochs.\n",
    "cnn.fit(\n",
    "    train_generator,\n",
    "    # Tells the model to divide the number of samples by the batch size of the\n",
    "    # model to calculate how many batches of data will be processed for each epoch.\n",
    "    steps_per_epoch = train_generator.samples // train_generator.batch_size,\n",
    "    # Specifies the number of epochs the model will go through. We set it to\n",
    "    # 50, so the training dataset will go through the model 50 times.\n",
    "    epochs = 50,\n",
    "    # Initializes the validation data the model will use to test its efficiency.\n",
    "    validation_data = test_generator,\n",
    "    # Calculates how many batches of data will be processed for each validation\n",
    "    # epoch. \n",
    "    validation_steps = test_generator.samples // test_generator.batch_size)"
   ]
  },
  {
   "cell_type": "code",
   "execution_count": 12,
   "id": "c574507b",
   "metadata": {},
   "outputs": [
    {
     "name": "stdout",
     "output_type": "stream",
     "text": [
      "225/225 [==============================] - 1s 6ms/step - loss: 19.5455 - accuracy: 0.4909\n"
     ]
    },
    {
     "data": {
      "text/plain": [
       "[19.54549789428711, 0.4909445643424988]"
      ]
     },
     "execution_count": 12,
     "metadata": {},
     "output_type": "execute_result"
    }
   ],
   "source": [
    "# Evaluates the model on the test data.\n",
    "cnn.evaluate(test_generator)"
   ]
  },
  {
   "cell_type": "markdown",
   "id": "97dc5d0a",
   "metadata": {},
   "source": [
    "Adding the parameter of 'shear_range' in this second model seemed to help a bit. The model's accuracy was 49.09%, and the loss value was 19.55. Let's try adding another parameter to see if it gets better."
   ]
  },
  {
   "cell_type": "markdown",
   "id": "520f8606",
   "metadata": {},
   "source": [
    "###### Model 3"
   ]
  },
  {
   "cell_type": "code",
   "execution_count": 13,
   "id": "844947bf",
   "metadata": {},
   "outputs": [
    {
     "name": "stdout",
     "output_type": "stream",
     "text": [
      "Found 28709 images belonging to 7 classes.\n",
      "Found 7178 images belonging to 7 classes.\n"
     ]
    }
   ],
   "source": [
    "# Almost everything will be the same as the second model, except we will\n",
    "# add a parameter of 'zoom_range' to the 'train_datagenerator' variable.\n",
    "\n",
    "# Initializes the training image data generator.\n",
    "train_datagenerator = ImageDataGenerator(\n",
    "    rescale = 1./255, # Rescales the images by dividing the pixels by 255.\n",
    "    shear_range = 0.2, # Slants the image by up to 20%.\n",
    "    zoom_range = 0.2)  # Zooms into our away from the image by up to 20%.\n",
    "\n",
    "# Initializes the testing image data generator, and also rescales the images\n",
    "# by dividing the pixels by 255, just like the training data.\n",
    "test_datagenerator = ImageDataGenerator(rescale = 1./255)\n",
    "\n",
    "# Initializes the training generator using the previously defined \n",
    "# 'train_datagenerator' variable to create batches of data from the\n",
    "# orig_training directory.\n",
    "train_generator = train_datagenerator.flow_from_directory(\n",
    "    orig_training,\n",
    "    target_size = (48, 48), # Defines the size of the photos in pixels.\n",
    "    batch_size = 32, # Defines the batch size (32 photos per batch).\n",
    "    color_mode = 'grayscale', # Defines the color of the photos (grayscale).\n",
    "    class_mode = 'categorical') # Defines the class mode as categorical since the\n",
    "                                # data will be classified into different emotions.\n",
    "\n",
    "# Initializes the testing generator using the previously defined\n",
    "# 'test_datagenerator' variable to create batches of data from the\n",
    "# orig_testing directory.\n",
    "test_generator = test_datagenerator.flow_from_directory(\n",
    "    orig_testing,\n",
    "    target_size = (48, 48), # Defines the size of the photos in pixels.\n",
    "    batch_size = 32, # Defines the batch size (32 photos per batch).\n",
    "    color_mode = 'grayscale', # Defines the color of the photos (grayscale).\n",
    "    class_mode = 'categorical') # Defines the class mode as categorical since the\n",
    "                                # data will be classified into different emotions."
   ]
  },
  {
   "cell_type": "code",
   "execution_count": 14,
   "id": "a0edb4a8",
   "metadata": {},
   "outputs": [],
   "source": [
    "# Initializes the Sequential model.\n",
    "cnn = Sequential()\n",
    "\n",
    "# Adds a 2D convolutional layer with 32 filters, all 3x3 pixels, sets the \n",
    "# activation method as ReLU to make all negative values zero, and defines\n",
    "# the input shape as 48x48 pixels.\n",
    "cnn.add(Conv2D(32, kernel_size = (3, 3), activation = 'relu', \n",
    "                 input_shape = (48, 48, 1)))\n",
    "# Adds a max pooling layer with a size of 2x2, which helps mitigate overfitting.\n",
    "cnn.add(MaxPooling2D(pool_size = (2, 2)))\n",
    "\n",
    "# Adds a convolutional layer with 64 filters, all 3x3 pixels again.\n",
    "cnn.add(Conv2D(64, kernel_size = (3, 3), activation = 'relu'))\n",
    "cnn.add(MaxPooling2D(pool_size = (2, 2)))\n",
    "\n",
    "# Adds a convolutional layer with 128 filters, all 3x3 pixels again.\n",
    "cnn.add(Conv2D(128, kernel_size = (3, 3), activation = 'relu'))\n",
    "cnn.add(MaxPooling2D(pool_size = (2, 2)))\n",
    "\n",
    "# Flattens the data into a 1D vector.\n",
    "cnn.add(Flatten())\n",
    "# Adds a fully connected layer with 128 neurons.\n",
    "cnn.add(Dense(128, activation = 'relu'))\n",
    "# Adds a dropout layer to prevent overfitting. 50% of the inputs are changed\n",
    "# to zero during this training.\n",
    "cnn.add(Dropout(0.5))\n",
    "# Adds an output layer with 7 neurons (1 for each class) and converts the output\n",
    "# into probabilities (softmax). \n",
    "cnn.add(Dense(7, activation = 'softmax'))"
   ]
  },
  {
   "cell_type": "code",
   "execution_count": 15,
   "id": "fd2e868a",
   "metadata": {},
   "outputs": [],
   "source": [
    "# Gets the model ready for use with the photos, using the same parameters\n",
    "# as the model before. \n",
    "cnn.compile(optimizer = Adam(), loss = 'categorical_crossentropy',\n",
    "              metrics = ['accuracy'])"
   ]
  },
  {
   "cell_type": "code",
   "execution_count": 16,
   "id": "6b4905ad",
   "metadata": {},
   "outputs": [
    {
     "name": "stdout",
     "output_type": "stream",
     "text": [
      "Epoch 1/50\n",
      "897/897 [==============================] - 12s 13ms/step - loss: 1.7759 - accuracy: 0.2703 - val_loss: 1.6570 - val_accuracy: 0.3376\n",
      "Epoch 2/50\n",
      "897/897 [==============================] - 11s 13ms/step - loss: 1.6271 - accuracy: 0.3648 - val_loss: 1.4547 - val_accuracy: 0.4453\n",
      "Epoch 3/50\n",
      "897/897 [==============================] - 11s 13ms/step - loss: 1.5214 - accuracy: 0.4148 - val_loss: 1.3903 - val_accuracy: 0.4618\n",
      "Epoch 4/50\n",
      "897/897 [==============================] - 11s 13ms/step - loss: 1.4731 - accuracy: 0.4410 - val_loss: 1.3449 - val_accuracy: 0.4824\n",
      "Epoch 5/50\n",
      "897/897 [==============================] - 11s 13ms/step - loss: 1.4378 - accuracy: 0.4527 - val_loss: 1.3779 - val_accuracy: 0.4674\n",
      "Epoch 6/50\n",
      "897/897 [==============================] - 11s 13ms/step - loss: 1.4189 - accuracy: 0.4606 - val_loss: 1.3014 - val_accuracy: 0.5089\n",
      "Epoch 7/50\n",
      "897/897 [==============================] - 12s 13ms/step - loss: 1.4075 - accuracy: 0.4636 - val_loss: 1.3088 - val_accuracy: 0.5003\n",
      "Epoch 8/50\n",
      "897/897 [==============================] - 11s 13ms/step - loss: 1.3954 - accuracy: 0.4753 - val_loss: 1.3136 - val_accuracy: 0.5032\n",
      "Epoch 9/50\n",
      "897/897 [==============================] - 11s 13ms/step - loss: 1.4045 - accuracy: 0.4739 - val_loss: 1.3054 - val_accuracy: 0.5039\n",
      "Epoch 10/50\n",
      "897/897 [==============================] - 11s 12ms/step - loss: 1.4111 - accuracy: 0.4718 - val_loss: 1.3143 - val_accuracy: 0.4932\n",
      "Epoch 11/50\n",
      "897/897 [==============================] - 11s 13ms/step - loss: 1.4254 - accuracy: 0.4700 - val_loss: 1.3632 - val_accuracy: 0.4923\n",
      "Epoch 12/50\n",
      "897/897 [==============================] - 11s 13ms/step - loss: 1.4299 - accuracy: 0.4711 - val_loss: 1.2664 - val_accuracy: 0.5239\n",
      "Epoch 13/50\n",
      "897/897 [==============================] - 11s 13ms/step - loss: 1.4354 - accuracy: 0.4713 - val_loss: 1.3673 - val_accuracy: 0.4999\n",
      "Epoch 14/50\n",
      "897/897 [==============================] - 11s 13ms/step - loss: 1.4470 - accuracy: 0.4753 - val_loss: 1.3966 - val_accuracy: 0.4897\n",
      "Epoch 15/50\n",
      "897/897 [==============================] - 11s 13ms/step - loss: 1.4733 - accuracy: 0.4642 - val_loss: 1.3369 - val_accuracy: 0.4954\n",
      "Epoch 16/50\n",
      "897/897 [==============================] - 11s 13ms/step - loss: 1.4660 - accuracy: 0.4752 - val_loss: 1.3307 - val_accuracy: 0.5074\n",
      "Epoch 17/50\n",
      "897/897 [==============================] - 11s 13ms/step - loss: 1.4902 - accuracy: 0.4701 - val_loss: 1.2902 - val_accuracy: 0.5229\n",
      "Epoch 18/50\n",
      "897/897 [==============================] - 11s 13ms/step - loss: 1.5278 - accuracy: 0.4663 - val_loss: 1.4311 - val_accuracy: 0.4795\n",
      "Epoch 19/50\n",
      "897/897 [==============================] - 11s 13ms/step - loss: 1.5884 - accuracy: 0.4589 - val_loss: 1.4078 - val_accuracy: 0.5218\n",
      "Epoch 20/50\n",
      "897/897 [==============================] - 11s 13ms/step - loss: 1.5909 - accuracy: 0.4574 - val_loss: 1.3667 - val_accuracy: 0.4919\n",
      "Epoch 21/50\n",
      "897/897 [==============================] - 11s 13ms/step - loss: 1.6533 - accuracy: 0.4548 - val_loss: 1.5349 - val_accuracy: 0.4855\n",
      "Epoch 22/50\n",
      "897/897 [==============================] - 11s 13ms/step - loss: 1.6570 - accuracy: 0.4582 - val_loss: 1.5073 - val_accuracy: 0.4683\n",
      "Epoch 23/50\n",
      "897/897 [==============================] - 11s 13ms/step - loss: 1.7417 - accuracy: 0.4539 - val_loss: 1.5452 - val_accuracy: 0.4902\n",
      "Epoch 24/50\n",
      "897/897 [==============================] - 11s 13ms/step - loss: 1.8212 - accuracy: 0.4439 - val_loss: 2.2889 - val_accuracy: 0.3269\n",
      "Epoch 25/50\n",
      "897/897 [==============================] - 11s 13ms/step - loss: 1.8746 - accuracy: 0.4436 - val_loss: 1.8844 - val_accuracy: 0.4516\n",
      "Epoch 26/50\n",
      "897/897 [==============================] - 11s 13ms/step - loss: 1.9726 - accuracy: 0.4380 - val_loss: 1.5893 - val_accuracy: 0.5102\n",
      "Epoch 27/50\n",
      "897/897 [==============================] - 12s 13ms/step - loss: 2.0276 - accuracy: 0.4372 - val_loss: 1.7128 - val_accuracy: 0.4785\n",
      "Epoch 28/50\n",
      "897/897 [==============================] - 11s 12ms/step - loss: 2.1030 - accuracy: 0.4321 - val_loss: 1.9806 - val_accuracy: 0.4396\n",
      "Epoch 29/50\n",
      "897/897 [==============================] - 11s 13ms/step - loss: 2.1405 - accuracy: 0.4347 - val_loss: 1.6692 - val_accuracy: 0.5151\n",
      "Epoch 30/50\n",
      "897/897 [==============================] - 11s 12ms/step - loss: 2.4025 - accuracy: 0.4302 - val_loss: 1.6814 - val_accuracy: 0.5033\n",
      "Epoch 31/50\n",
      "897/897 [==============================] - 11s 12ms/step - loss: 2.4862 - accuracy: 0.4254 - val_loss: 2.5024 - val_accuracy: 0.4195\n",
      "Epoch 32/50\n",
      "897/897 [==============================] - 11s 12ms/step - loss: 2.6470 - accuracy: 0.4246 - val_loss: 2.8916 - val_accuracy: 0.4353\n",
      "Epoch 33/50\n",
      "897/897 [==============================] - 11s 12ms/step - loss: 2.7420 - accuracy: 0.4168 - val_loss: 2.0091 - val_accuracy: 0.4752\n",
      "Epoch 34/50\n",
      "897/897 [==============================] - 11s 13ms/step - loss: 2.7505 - accuracy: 0.4251 - val_loss: 2.3005 - val_accuracy: 0.4706\n",
      "Epoch 35/50\n",
      "897/897 [==============================] - 11s 13ms/step - loss: 2.8790 - accuracy: 0.4169 - val_loss: 1.8309 - val_accuracy: 0.5091\n",
      "Epoch 36/50\n",
      "897/897 [==============================] - 11s 13ms/step - loss: 3.0695 - accuracy: 0.4250 - val_loss: 2.8626 - val_accuracy: 0.4287\n",
      "Epoch 37/50\n",
      "897/897 [==============================] - 11s 13ms/step - loss: 3.2220 - accuracy: 0.4182 - val_loss: 2.1265 - val_accuracy: 0.5114\n",
      "Epoch 38/50\n",
      "897/897 [==============================] - 11s 13ms/step - loss: 3.4197 - accuracy: 0.4175 - val_loss: 2.2732 - val_accuracy: 0.4936\n",
      "Epoch 39/50\n",
      "897/897 [==============================] - 11s 13ms/step - loss: 3.6575 - accuracy: 0.4179 - val_loss: 3.1278 - val_accuracy: 0.4992\n",
      "Epoch 40/50\n",
      "897/897 [==============================] - 11s 13ms/step - loss: 4.2174 - accuracy: 0.4134 - val_loss: 2.4350 - val_accuracy: 0.5081\n",
      "Epoch 41/50\n",
      "897/897 [==============================] - 11s 13ms/step - loss: 4.2184 - accuracy: 0.4150 - val_loss: 3.0029 - val_accuracy: 0.4763\n",
      "Epoch 42/50\n",
      "897/897 [==============================] - 11s 13ms/step - loss: 4.5683 - accuracy: 0.4132 - val_loss: 2.8806 - val_accuracy: 0.4986\n",
      "Epoch 43/50\n",
      "897/897 [==============================] - 11s 13ms/step - loss: 4.6688 - accuracy: 0.4143 - val_loss: 3.1952 - val_accuracy: 0.4595\n",
      "Epoch 44/50\n",
      "897/897 [==============================] - 11s 13ms/step - loss: 5.2512 - accuracy: 0.4116 - val_loss: 3.6832 - val_accuracy: 0.4752\n",
      "Epoch 45/50\n",
      "897/897 [==============================] - 11s 13ms/step - loss: 5.3021 - accuracy: 0.4113 - val_loss: 5.6849 - val_accuracy: 0.3870\n",
      "Epoch 46/50\n",
      "897/897 [==============================] - 11s 13ms/step - loss: 6.1533 - accuracy: 0.4109 - val_loss: 3.8580 - val_accuracy: 0.4860\n",
      "Epoch 47/50\n",
      "897/897 [==============================] - 11s 13ms/step - loss: 6.8779 - accuracy: 0.4074 - val_loss: 7.0468 - val_accuracy: 0.4381\n",
      "Epoch 48/50\n",
      "897/897 [==============================] - 11s 12ms/step - loss: 6.9095 - accuracy: 0.4149 - val_loss: 4.6770 - val_accuracy: 0.4908\n",
      "Epoch 49/50\n",
      "897/897 [==============================] - 11s 12ms/step - loss: 7.4640 - accuracy: 0.4142 - val_loss: 6.8445 - val_accuracy: 0.4858\n",
      "Epoch 50/50\n",
      "897/897 [==============================] - 11s 13ms/step - loss: 7.6966 - accuracy: 0.4086 - val_loss: 6.9517 - val_accuracy: 0.4819\n"
     ]
    },
    {
     "data": {
      "text/plain": [
       "<keras.src.callbacks.History at 0x3212f88d0>"
      ]
     },
     "execution_count": 16,
     "metadata": {},
     "output_type": "execute_result"
    }
   ],
   "source": [
    "# Fits the model to the training and validation data, running through the epochs.\n",
    "cnn.fit(\n",
    "    train_generator,\n",
    "    # Tells the model to divide the number of samples by the batch size of the\n",
    "    # model to calculate how many batches of data will be processed for each epoch.\n",
    "    steps_per_epoch = train_generator.samples // train_generator.batch_size,\n",
    "    # Specifies the number of epochs the model will go through. We set it to\n",
    "    # 50, so the training dataset will go through the model 50 times.\n",
    "    epochs = 50,\n",
    "    # Initializes the validation data the model will use to test its efficiency.\n",
    "    validation_data = test_generator,\n",
    "    # Calculates how many batches of data will be processed for each validation\n",
    "    # epoch. \n",
    "    validation_steps = test_generator.samples // test_generator.batch_size)"
   ]
  },
  {
   "cell_type": "code",
   "execution_count": 17,
   "id": "4d23a01e",
   "metadata": {},
   "outputs": [
    {
     "name": "stdout",
     "output_type": "stream",
     "text": [
      "225/225 [==============================] - 1s 7ms/step - loss: 6.9536 - accuracy: 0.4819\n"
     ]
    },
    {
     "data": {
      "text/plain": [
       "[6.953614711761475, 0.48188909888267517]"
      ]
     },
     "execution_count": 17,
     "metadata": {},
     "output_type": "execute_result"
    }
   ],
   "source": [
    "# Evaluates the model on the test data.\n",
    "cnn.evaluate(test_generator)"
   ]
  },
  {
   "cell_type": "markdown",
   "id": "32f9e580",
   "metadata": {},
   "source": [
    "Adding the parameter of 'zoom_range' in this third model didn't seem to help much. The model's accuracy was 48.19%, and the loss value was 6.95. Let's try adding another parameter to see if it gets better."
   ]
  },
  {
   "cell_type": "markdown",
   "id": "44eb812d",
   "metadata": {},
   "source": [
    "###### Model 4"
   ]
  },
  {
   "cell_type": "code",
   "execution_count": 18,
   "id": "e1e90d6f",
   "metadata": {},
   "outputs": [
    {
     "name": "stdout",
     "output_type": "stream",
     "text": [
      "Found 28709 images belonging to 7 classes.\n",
      "Found 7178 images belonging to 7 classes.\n"
     ]
    }
   ],
   "source": [
    "# Almost everything will be the same as the third model, except we will\n",
    "# add a parameter of 'horizontal_flip' to the 'train_datagenerator' variable.\n",
    "\n",
    "# Initializes the training image data generator.\n",
    "train_datagenerator = ImageDataGenerator(\n",
    "    rescale = 1./255, # Rescales the images by dividing the pixels by 255.\n",
    "    shear_range = 0.2, # Slants the image by up to 20%.\n",
    "    zoom_range = 0.2,  # Zooms into our away from the image by up to 20%.\n",
    "    horizontal_flip = True) # Flips random pictures horizontally.\n",
    "\n",
    "# Initializes the testing image data generator, and also rescales the images\n",
    "# by dividing the pixels by 255, just like the training data.\n",
    "test_datagenerator = ImageDataGenerator(rescale = 1./255)\n",
    "\n",
    "# Initializes the training generator using the previously defined \n",
    "# 'train_datagenerator' variable to create batches of data from the\n",
    "# orig_training directory.\n",
    "train_generator = train_datagenerator.flow_from_directory(\n",
    "    orig_training,\n",
    "    target_size = (48, 48), # Defines the size of the photos in pixels.\n",
    "    batch_size = 32, # Defines the batch size (32 photos per batch).\n",
    "    color_mode = 'grayscale', # Defines the color of the photos (grayscale).\n",
    "    class_mode = 'categorical') # Defines the class mode as categorical since the\n",
    "                                # data will be classified into different emotions.\n",
    "\n",
    "# Initializes the testing generator using the previously defined\n",
    "# 'test_datagenerator' variable to create batches of data from the\n",
    "# orig_testing directory.\n",
    "test_generator = test_datagenerator.flow_from_directory(\n",
    "    orig_testing,\n",
    "    target_size = (48, 48), # Defines the size of the photos in pixels.\n",
    "    batch_size = 32, # Defines the batch size (32 photos per batch).\n",
    "    color_mode = 'grayscale', # Defines the color of the photos (grayscale).\n",
    "    class_mode = 'categorical') # Defines the class mode as categorical since the\n",
    "                                # data will be classified into different emotions."
   ]
  },
  {
   "cell_type": "code",
   "execution_count": 19,
   "id": "5989a9e6",
   "metadata": {},
   "outputs": [],
   "source": [
    "# Initializes the Sequential model.\n",
    "cnn = Sequential()\n",
    "\n",
    "# Adds a 2D convolutional layer with 32 filters, all 3x3 pixels, sets the \n",
    "# activation method as ReLU to make all negative values zero, and defines\n",
    "# the input shape as 48x48 pixels.\n",
    "cnn.add(Conv2D(32, kernel_size = (3, 3), activation = 'relu', \n",
    "                 input_shape = (48, 48, 1)))\n",
    "# Adds a max pooling layer with a size of 2x2, which helps mitigate overfitting.\n",
    "cnn.add(MaxPooling2D(pool_size = (2, 2)))\n",
    "\n",
    "# Adds a convolutional layer with 64 filters, all 3x3 pixels again.\n",
    "cnn.add(Conv2D(64, kernel_size = (3, 3), activation = 'relu'))\n",
    "cnn.add(MaxPooling2D(pool_size = (2, 2)))\n",
    "\n",
    "# Adds a convolutional layer with 128 filters, all 3x3 pixels again.\n",
    "cnn.add(Conv2D(128, kernel_size = (3, 3), activation = 'relu'))\n",
    "cnn.add(MaxPooling2D(pool_size = (2, 2)))\n",
    "\n",
    "# Flattens the data into a 1D vector.\n",
    "cnn.add(Flatten())\n",
    "# Adds a fully connected layer with 128 neurons.\n",
    "cnn.add(Dense(128, activation = 'relu'))\n",
    "# Adds a dropout layer to prevent overfitting. 50% of the inputs are changed\n",
    "# to zero during this training.\n",
    "cnn.add(Dropout(0.5))\n",
    "# Adds an output layer with 7 neurons (1 for each class) and converts the output\n",
    "# into probabilities (softmax). \n",
    "cnn.add(Dense(7, activation = 'softmax'))"
   ]
  },
  {
   "cell_type": "code",
   "execution_count": 20,
   "id": "8c1260a7",
   "metadata": {},
   "outputs": [],
   "source": [
    "# Gets the model ready for use with the photos, using the same parameters\n",
    "# as the model before. \n",
    "cnn.compile(optimizer = Adam(), loss = 'categorical_crossentropy',\n",
    "              metrics = ['accuracy'])"
   ]
  },
  {
   "cell_type": "code",
   "execution_count": 21,
   "id": "431084fd",
   "metadata": {},
   "outputs": [
    {
     "name": "stdout",
     "output_type": "stream",
     "text": [
      "Epoch 1/50\n",
      "897/897 [==============================] - 11s 12ms/step - loss: 1.7714 - accuracy: 0.2739 - val_loss: 1.6325 - val_accuracy: 0.3602\n",
      "Epoch 2/50\n",
      "897/897 [==============================] - 11s 12ms/step - loss: 1.6160 - accuracy: 0.3725 - val_loss: 1.4720 - val_accuracy: 0.4304\n",
      "Epoch 3/50\n",
      "897/897 [==============================] - 11s 12ms/step - loss: 1.5140 - accuracy: 0.4189 - val_loss: 1.3858 - val_accuracy: 0.4679\n",
      "Epoch 4/50\n",
      "897/897 [==============================] - 11s 12ms/step - loss: 1.4760 - accuracy: 0.4331 - val_loss: 1.3936 - val_accuracy: 0.4674\n",
      "Epoch 5/50\n",
      "897/897 [==============================] - 11s 13ms/step - loss: 1.4554 - accuracy: 0.4442 - val_loss: 1.4510 - val_accuracy: 0.4551\n",
      "Epoch 6/50\n",
      "897/897 [==============================] - 11s 13ms/step - loss: 1.4361 - accuracy: 0.4536 - val_loss: 1.4276 - val_accuracy: 0.4614\n",
      "Epoch 7/50\n",
      "897/897 [==============================] - 11s 13ms/step - loss: 1.4349 - accuracy: 0.4552 - val_loss: 1.3120 - val_accuracy: 0.4909\n",
      "Epoch 8/50\n",
      "897/897 [==============================] - 11s 13ms/step - loss: 1.4457 - accuracy: 0.4566 - val_loss: 1.4745 - val_accuracy: 0.4537\n",
      "Epoch 9/50\n",
      "897/897 [==============================] - 11s 13ms/step - loss: 1.4580 - accuracy: 0.4568 - val_loss: 1.4310 - val_accuracy: 0.4746\n",
      "Epoch 10/50\n",
      "897/897 [==============================] - 11s 13ms/step - loss: 1.4735 - accuracy: 0.4565 - val_loss: 1.4512 - val_accuracy: 0.4510\n",
      "Epoch 11/50\n",
      "897/897 [==============================] - 11s 13ms/step - loss: 1.4775 - accuracy: 0.4543 - val_loss: 1.4310 - val_accuracy: 0.4570\n",
      "Epoch 12/50\n",
      "897/897 [==============================] - 11s 12ms/step - loss: 1.4921 - accuracy: 0.4543 - val_loss: 1.3060 - val_accuracy: 0.5141\n",
      "Epoch 13/50\n",
      "897/897 [==============================] - 11s 13ms/step - loss: 1.5088 - accuracy: 0.4532 - val_loss: 1.4128 - val_accuracy: 0.4674\n",
      "Epoch 14/50\n",
      "897/897 [==============================] - 11s 13ms/step - loss: 1.4900 - accuracy: 0.4556 - val_loss: 1.4674 - val_accuracy: 0.4887\n",
      "Epoch 15/50\n",
      "897/897 [==============================] - 11s 13ms/step - loss: 1.5311 - accuracy: 0.4511 - val_loss: 1.6479 - val_accuracy: 0.4403\n",
      "Epoch 16/50\n",
      "897/897 [==============================] - 11s 13ms/step - loss: 1.5546 - accuracy: 0.4491 - val_loss: 1.5167 - val_accuracy: 0.4720\n",
      "Epoch 17/50\n",
      "897/897 [==============================] - 11s 13ms/step - loss: 1.5789 - accuracy: 0.4477 - val_loss: 1.3692 - val_accuracy: 0.4987\n",
      "Epoch 18/50\n",
      "897/897 [==============================] - 12s 13ms/step - loss: 1.5739 - accuracy: 0.4525 - val_loss: 1.4509 - val_accuracy: 0.4732\n",
      "Epoch 19/50\n",
      "897/897 [==============================] - 11s 13ms/step - loss: 1.6200 - accuracy: 0.4413 - val_loss: 1.4458 - val_accuracy: 0.4907\n",
      "Epoch 20/50\n",
      "897/897 [==============================] - 11s 13ms/step - loss: 1.6216 - accuracy: 0.4436 - val_loss: 1.5236 - val_accuracy: 0.4996\n",
      "Epoch 21/50\n",
      "897/897 [==============================] - 11s 13ms/step - loss: 1.6679 - accuracy: 0.4438 - val_loss: 1.7550 - val_accuracy: 0.4671\n",
      "Epoch 22/50\n",
      "897/897 [==============================] - 11s 13ms/step - loss: 1.7320 - accuracy: 0.4363 - val_loss: 1.5108 - val_accuracy: 0.4801\n",
      "Epoch 23/50\n",
      "897/897 [==============================] - 11s 13ms/step - loss: 1.7146 - accuracy: 0.4378 - val_loss: 1.7300 - val_accuracy: 0.4763\n",
      "Epoch 24/50\n",
      "897/897 [==============================] - 12s 13ms/step - loss: 1.7775 - accuracy: 0.4361 - val_loss: 1.5862 - val_accuracy: 0.4835\n",
      "Epoch 25/50\n",
      "897/897 [==============================] - 11s 13ms/step - loss: 1.8093 - accuracy: 0.4369 - val_loss: 1.5211 - val_accuracy: 0.4936\n",
      "Epoch 26/50\n",
      "897/897 [==============================] - 11s 13ms/step - loss: 1.7989 - accuracy: 0.4363 - val_loss: 1.5437 - val_accuracy: 0.5011\n",
      "Epoch 27/50\n",
      "897/897 [==============================] - 11s 12ms/step - loss: 1.9395 - accuracy: 0.4304 - val_loss: 1.5924 - val_accuracy: 0.4833\n",
      "Epoch 28/50\n",
      "897/897 [==============================] - 12s 13ms/step - loss: 1.9417 - accuracy: 0.4311 - val_loss: 1.3706 - val_accuracy: 0.5134\n",
      "Epoch 29/50\n",
      "897/897 [==============================] - 11s 13ms/step - loss: 1.9778 - accuracy: 0.4305 - val_loss: 1.8439 - val_accuracy: 0.4743\n",
      "Epoch 30/50\n",
      "897/897 [==============================] - 11s 13ms/step - loss: 2.0775 - accuracy: 0.4245 - val_loss: 1.7120 - val_accuracy: 0.4967\n",
      "Epoch 31/50\n",
      "897/897 [==============================] - 11s 13ms/step - loss: 2.1032 - accuracy: 0.4295 - val_loss: 1.9506 - val_accuracy: 0.4637\n",
      "Epoch 32/50\n",
      "897/897 [==============================] - 11s 13ms/step - loss: 2.1693 - accuracy: 0.4234 - val_loss: 2.1101 - val_accuracy: 0.4021\n",
      "Epoch 33/50\n",
      "897/897 [==============================] - 12s 13ms/step - loss: 2.1596 - accuracy: 0.4231 - val_loss: 1.4485 - val_accuracy: 0.5092\n",
      "Epoch 34/50\n",
      "897/897 [==============================] - 11s 13ms/step - loss: 2.4263 - accuracy: 0.4190 - val_loss: 2.3526 - val_accuracy: 0.4083\n",
      "Epoch 35/50\n",
      "897/897 [==============================] - 11s 13ms/step - loss: 2.3735 - accuracy: 0.4197 - val_loss: 1.7967 - val_accuracy: 0.4859\n",
      "Epoch 36/50\n",
      "897/897 [==============================] - 11s 13ms/step - loss: 2.6198 - accuracy: 0.4149 - val_loss: 2.1511 - val_accuracy: 0.4781\n",
      "Epoch 37/50\n",
      "897/897 [==============================] - 12s 13ms/step - loss: 2.4496 - accuracy: 0.4197 - val_loss: 1.6739 - val_accuracy: 0.4877\n",
      "Epoch 38/50\n",
      "897/897 [==============================] - 12s 13ms/step - loss: 2.5615 - accuracy: 0.4193 - val_loss: 2.1119 - val_accuracy: 0.4653\n",
      "Epoch 39/50\n",
      "897/897 [==============================] - 12s 13ms/step - loss: 2.5652 - accuracy: 0.4212 - val_loss: 2.4479 - val_accuracy: 0.4810\n",
      "Epoch 40/50\n",
      "897/897 [==============================] - 11s 13ms/step - loss: 2.9059 - accuracy: 0.4122 - val_loss: 2.2773 - val_accuracy: 0.4780\n",
      "Epoch 41/50\n",
      "897/897 [==============================] - 12s 13ms/step - loss: 2.9810 - accuracy: 0.4092 - val_loss: 2.1013 - val_accuracy: 0.4862\n",
      "Epoch 42/50\n",
      "897/897 [==============================] - 12s 13ms/step - loss: 3.2536 - accuracy: 0.4086 - val_loss: 2.4805 - val_accuracy: 0.4957\n",
      "Epoch 43/50\n",
      "897/897 [==============================] - 12s 13ms/step - loss: 3.2600 - accuracy: 0.4093 - val_loss: 2.6526 - val_accuracy: 0.4612\n",
      "Epoch 44/50\n",
      "897/897 [==============================] - 12s 13ms/step - loss: 3.3428 - accuracy: 0.4130 - val_loss: 1.9909 - val_accuracy: 0.5093\n",
      "Epoch 45/50\n",
      "897/897 [==============================] - 12s 13ms/step - loss: 3.4163 - accuracy: 0.4083 - val_loss: 2.5115 - val_accuracy: 0.4771\n",
      "Epoch 46/50\n",
      "897/897 [==============================] - 11s 13ms/step - loss: 3.8170 - accuracy: 0.4047 - val_loss: 3.0911 - val_accuracy: 0.4577\n",
      "Epoch 47/50\n",
      "897/897 [==============================] - 11s 13ms/step - loss: 3.7955 - accuracy: 0.4090 - val_loss: 2.5056 - val_accuracy: 0.4770\n",
      "Epoch 48/50\n",
      "897/897 [==============================] - 11s 13ms/step - loss: 4.1193 - accuracy: 0.4074 - val_loss: 3.3916 - val_accuracy: 0.4538\n",
      "Epoch 49/50\n",
      "897/897 [==============================] - 11s 13ms/step - loss: 4.2490 - accuracy: 0.4112 - val_loss: 3.3956 - val_accuracy: 0.4602\n",
      "Epoch 50/50\n",
      "897/897 [==============================] - 12s 13ms/step - loss: 4.1879 - accuracy: 0.4083 - val_loss: 2.5473 - val_accuracy: 0.4901\n"
     ]
    },
    {
     "data": {
      "text/plain": [
       "<keras.src.callbacks.History at 0x3475dda10>"
      ]
     },
     "execution_count": 21,
     "metadata": {},
     "output_type": "execute_result"
    }
   ],
   "source": [
    "# Fits the model to the training and validation data, running through the epochs.\n",
    "cnn.fit(\n",
    "    train_generator,\n",
    "    # Tells the model to divide the number of samples by the batch size of the\n",
    "    # model to calculate how many batches of data will be processed for each epoch.\n",
    "    steps_per_epoch = train_generator.samples // train_generator.batch_size,\n",
    "    # Specifies the number of epochs the model will go through. We set it to\n",
    "    # 50, so the training dataset will go through the model 50 times.\n",
    "    epochs = 50,\n",
    "    # Initializes the validation data the model will use to test its efficiency.\n",
    "    validation_data = test_generator,\n",
    "    # Calculates how many batches of data will be processed for each validation\n",
    "    # epoch. \n",
    "    validation_steps = test_generator.samples // test_generator.batch_size)"
   ]
  },
  {
   "cell_type": "code",
   "execution_count": 22,
   "id": "ea865e85",
   "metadata": {},
   "outputs": [
    {
     "name": "stdout",
     "output_type": "stream",
     "text": [
      "225/225 [==============================] - 1s 6ms/step - loss: 2.5491 - accuracy: 0.4900\n"
     ]
    },
    {
     "data": {
      "text/plain": [
       "[2.549060106277466, 0.4899693429470062]"
      ]
     },
     "execution_count": 22,
     "metadata": {},
     "output_type": "execute_result"
    }
   ],
   "source": [
    "# Evaluates the model on the test data.\n",
    "cnn.evaluate(test_generator)"
   ]
  },
  {
   "cell_type": "markdown",
   "id": "4ce4257b",
   "metadata": {},
   "source": [
    "Adding the parameter of 'horizontal_flip' in this fourth model seemed to help a little. The model's accuracy was 49.00%, and the loss value was 2.55. Let's try a bigger batch size to see if it improves."
   ]
  },
  {
   "cell_type": "markdown",
   "id": "e15d788d",
   "metadata": {},
   "source": [
    "###### Model 5"
   ]
  },
  {
   "cell_type": "code",
   "execution_count": 23,
   "id": "dd80a510",
   "metadata": {},
   "outputs": [
    {
     "name": "stdout",
     "output_type": "stream",
     "text": [
      "Found 28709 images belonging to 7 classes.\n",
      "Found 7178 images belonging to 7 classes.\n"
     ]
    }
   ],
   "source": [
    "# Almost everything will be the same as the fourth model, except we will\n",
    "# make the batch size bigger for the train and test generators.\n",
    "\n",
    "# Initializes the training image data generator.\n",
    "train_datagenerator = ImageDataGenerator(\n",
    "    rescale = 1./255, # Rescales the images by dividing the pixels by 255.\n",
    "    shear_range = 0.2, # Slants the image by up to 20%.\n",
    "    zoom_range = 0.2,  # Zooms into our away from the image by up to 20%.\n",
    "    horizontal_flip = True) # Flips random pictures horizontally.\n",
    "\n",
    "# Initializes the testing image data generator, and also rescales the images\n",
    "# by dividing the pixels by 255, just like the training data.\n",
    "test_datagenerator = ImageDataGenerator(rescale = 1./255)\n",
    "\n",
    "# Initializes the training generator using the previously defined \n",
    "# 'train_datagenerator' variable to create batches of data from the\n",
    "# orig_training directory.\n",
    "train_generator = train_datagenerator.flow_from_directory(\n",
    "    orig_training,\n",
    "    target_size = (48, 48), # Defines the size of the photos in pixels.\n",
    "    batch_size = 64, # Defines the batch size (64 photos per batch).\n",
    "    color_mode = 'grayscale', # Defines the color of the photos (grayscale).\n",
    "    class_mode = 'categorical') # Defines the class mode as categorical since the\n",
    "                                # data will be classified into different emotions.\n",
    "\n",
    "# Initializes the testing generator using the previously defined\n",
    "# 'test_datagenerator' variable to create batches of data from the\n",
    "# orig_testing directory.\n",
    "test_generator = test_datagenerator.flow_from_directory(\n",
    "    orig_testing,\n",
    "    target_size = (48, 48), # Defines the size of the photos in pixels.\n",
    "    batch_size = 64, # Defines the batch size (64 photos per batch).\n",
    "    color_mode = 'grayscale', # Defines the color of the photos (grayscale).\n",
    "    class_mode = 'categorical') # Defines the class mode as categorical since the\n",
    "                                # data will be classified into different emotions."
   ]
  },
  {
   "cell_type": "code",
   "execution_count": 24,
   "id": "9432942b",
   "metadata": {},
   "outputs": [],
   "source": [
    "# Initializes the Sequential model.\n",
    "cnn = Sequential()\n",
    "\n",
    "# Adds a 2D convolutional layer with 32 filters, all 3x3 pixels, sets the \n",
    "# activation method as ReLU to make all negative values zero, and defines\n",
    "# the input shape as 48x48 pixels.\n",
    "cnn.add(Conv2D(32, kernel_size = (3, 3), activation = 'relu', \n",
    "                 input_shape = (48, 48, 1)))\n",
    "# Adds a max pooling layer with a size of 2x2, which helps mitigate overfitting.\n",
    "cnn.add(MaxPooling2D(pool_size = (2, 2)))\n",
    "\n",
    "# Adds a convolutional layer with 64 filters, all 3x3 pixels again.\n",
    "cnn.add(Conv2D(64, kernel_size = (3, 3), activation = 'relu'))\n",
    "cnn.add(MaxPooling2D(pool_size = (2, 2)))\n",
    "\n",
    "# Adds a convolutional layer with 128 filters, all 3x3 pixels again.\n",
    "cnn.add(Conv2D(128, kernel_size = (3, 3), activation = 'relu'))\n",
    "cnn.add(MaxPooling2D(pool_size = (2, 2)))\n",
    "\n",
    "# Flattens the data into a 1D vector.\n",
    "cnn.add(Flatten())\n",
    "# Adds a fully connected layer with 128 neurons.\n",
    "cnn.add(Dense(128, activation = 'relu'))\n",
    "# Adds a dropout layer to prevent overfitting. 50% of the inputs are changed\n",
    "# to zero during this training.\n",
    "cnn.add(Dropout(0.5))\n",
    "# Adds an output layer with 7 neurons (1 for each class) and converts the output\n",
    "# into probabilities (softmax). \n",
    "cnn.add(Dense(7, activation = 'softmax'))"
   ]
  },
  {
   "cell_type": "code",
   "execution_count": 25,
   "id": "5c75ac21",
   "metadata": {},
   "outputs": [],
   "source": [
    "# Gets the model ready for use with the photos, using the same parameters\n",
    "# as the model before. \n",
    "cnn.compile(optimizer = Adam(), loss = 'categorical_crossentropy',\n",
    "              metrics = ['accuracy'])"
   ]
  },
  {
   "cell_type": "code",
   "execution_count": 26,
   "id": "56315e2b",
   "metadata": {},
   "outputs": [
    {
     "name": "stdout",
     "output_type": "stream",
     "text": [
      "Epoch 1/50\n",
      "448/448 [==============================] - 8s 16ms/step - loss: 1.7691 - accuracy: 0.2745 - val_loss: 1.6293 - val_accuracy: 0.3637\n",
      "Epoch 2/50\n",
      "448/448 [==============================] - 7s 16ms/step - loss: 1.6231 - accuracy: 0.3722 - val_loss: 1.4935 - val_accuracy: 0.4308\n",
      "Epoch 3/50\n",
      "448/448 [==============================] - 7s 17ms/step - loss: 1.5355 - accuracy: 0.4138 - val_loss: 1.4212 - val_accuracy: 0.4561\n",
      "Epoch 4/50\n",
      "448/448 [==============================] - 7s 16ms/step - loss: 1.4946 - accuracy: 0.4329 - val_loss: 1.3821 - val_accuracy: 0.4689\n",
      "Epoch 5/50\n",
      "448/448 [==============================] - 7s 16ms/step - loss: 1.4690 - accuracy: 0.4416 - val_loss: 1.3458 - val_accuracy: 0.4927\n",
      "Epoch 6/50\n",
      "448/448 [==============================] - 7s 16ms/step - loss: 1.4471 - accuracy: 0.4518 - val_loss: 1.3333 - val_accuracy: 0.4831\n",
      "Epoch 7/50\n",
      "448/448 [==============================] - 7s 16ms/step - loss: 1.4536 - accuracy: 0.4514 - val_loss: 1.3322 - val_accuracy: 0.5024\n",
      "Epoch 8/50\n",
      "448/448 [==============================] - 7s 16ms/step - loss: 1.4502 - accuracy: 0.4575 - val_loss: 1.2863 - val_accuracy: 0.5144\n",
      "Epoch 9/50\n",
      "448/448 [==============================] - 7s 16ms/step - loss: 1.4560 - accuracy: 0.4585 - val_loss: 1.3222 - val_accuracy: 0.4941\n",
      "Epoch 10/50\n",
      "448/448 [==============================] - 7s 16ms/step - loss: 1.4542 - accuracy: 0.4566 - val_loss: 1.3064 - val_accuracy: 0.5049\n",
      "Epoch 11/50\n",
      "448/448 [==============================] - 7s 16ms/step - loss: 1.4581 - accuracy: 0.4581 - val_loss: 1.3735 - val_accuracy: 0.4827\n",
      "Epoch 12/50\n",
      "448/448 [==============================] - 7s 16ms/step - loss: 1.4571 - accuracy: 0.4623 - val_loss: 1.3309 - val_accuracy: 0.4975\n",
      "Epoch 13/50\n",
      "448/448 [==============================] - 7s 16ms/step - loss: 1.4656 - accuracy: 0.4612 - val_loss: 1.2948 - val_accuracy: 0.5080\n",
      "Epoch 14/50\n",
      "448/448 [==============================] - 7s 16ms/step - loss: 1.4709 - accuracy: 0.4632 - val_loss: 1.3503 - val_accuracy: 0.4999\n",
      "Epoch 15/50\n",
      "448/448 [==============================] - 7s 16ms/step - loss: 1.4814 - accuracy: 0.4628 - val_loss: 1.3812 - val_accuracy: 0.4834\n",
      "Epoch 16/50\n",
      "448/448 [==============================] - 7s 16ms/step - loss: 1.4953 - accuracy: 0.4589 - val_loss: 1.3379 - val_accuracy: 0.5038\n",
      "Epoch 17/50\n",
      "448/448 [==============================] - 7s 16ms/step - loss: 1.5285 - accuracy: 0.4562 - val_loss: 1.3060 - val_accuracy: 0.5098\n",
      "Epoch 18/50\n",
      "448/448 [==============================] - 7s 17ms/step - loss: 1.5233 - accuracy: 0.4560 - val_loss: 1.5580 - val_accuracy: 0.4647\n",
      "Epoch 19/50\n",
      "448/448 [==============================] - 7s 17ms/step - loss: 1.5498 - accuracy: 0.4577 - val_loss: 1.5876 - val_accuracy: 0.4336\n",
      "Epoch 20/50\n",
      "448/448 [==============================] - 7s 16ms/step - loss: 1.5579 - accuracy: 0.4589 - val_loss: 1.5588 - val_accuracy: 0.4640\n",
      "Epoch 21/50\n",
      "448/448 [==============================] - 7s 16ms/step - loss: 1.5799 - accuracy: 0.4552 - val_loss: 1.5064 - val_accuracy: 0.4965\n",
      "Epoch 22/50\n",
      "448/448 [==============================] - 7s 17ms/step - loss: 1.6187 - accuracy: 0.4481 - val_loss: 1.4348 - val_accuracy: 0.4987\n",
      "Epoch 23/50\n",
      "448/448 [==============================] - 7s 16ms/step - loss: 1.6280 - accuracy: 0.4502 - val_loss: 1.3937 - val_accuracy: 0.5027\n",
      "Epoch 24/50\n",
      "448/448 [==============================] - 7s 16ms/step - loss: 1.6355 - accuracy: 0.4543 - val_loss: 1.4678 - val_accuracy: 0.5098\n",
      "Epoch 25/50\n",
      "448/448 [==============================] - 7s 16ms/step - loss: 1.6752 - accuracy: 0.4490 - val_loss: 1.5268 - val_accuracy: 0.5102\n",
      "Epoch 26/50\n",
      "448/448 [==============================] - 7s 16ms/step - loss: 1.7139 - accuracy: 0.4450 - val_loss: 1.4668 - val_accuracy: 0.4958\n",
      "Epoch 27/50\n",
      "448/448 [==============================] - 7s 16ms/step - loss: 1.7281 - accuracy: 0.4486 - val_loss: 1.4070 - val_accuracy: 0.5073\n",
      "Epoch 28/50\n",
      "448/448 [==============================] - 7s 16ms/step - loss: 1.8025 - accuracy: 0.4407 - val_loss: 1.8455 - val_accuracy: 0.4348\n",
      "Epoch 29/50\n",
      "448/448 [==============================] - 7s 16ms/step - loss: 1.8184 - accuracy: 0.4383 - val_loss: 1.4455 - val_accuracy: 0.5025\n",
      "Epoch 30/50\n",
      "448/448 [==============================] - 7s 16ms/step - loss: 1.8729 - accuracy: 0.4367 - val_loss: 1.5219 - val_accuracy: 0.5027\n",
      "Epoch 31/50\n",
      "448/448 [==============================] - 7s 16ms/step - loss: 1.8557 - accuracy: 0.4429 - val_loss: 1.7635 - val_accuracy: 0.4859\n",
      "Epoch 32/50\n",
      "448/448 [==============================] - 7s 16ms/step - loss: 1.9217 - accuracy: 0.4413 - val_loss: 1.4704 - val_accuracy: 0.4922\n",
      "Epoch 33/50\n",
      "448/448 [==============================] - 7s 16ms/step - loss: 1.9516 - accuracy: 0.4383 - val_loss: 1.7389 - val_accuracy: 0.4823\n",
      "Epoch 34/50\n",
      "448/448 [==============================] - 7s 16ms/step - loss: 1.9764 - accuracy: 0.4378 - val_loss: 2.2566 - val_accuracy: 0.4761\n",
      "Epoch 35/50\n",
      "448/448 [==============================] - 7s 16ms/step - loss: 2.0670 - accuracy: 0.4338 - val_loss: 1.7917 - val_accuracy: 0.4357\n",
      "Epoch 36/50\n",
      "448/448 [==============================] - 7s 16ms/step - loss: 2.0040 - accuracy: 0.4325 - val_loss: 1.9855 - val_accuracy: 0.4814\n",
      "Epoch 37/50\n",
      "448/448 [==============================] - 7s 16ms/step - loss: 2.0599 - accuracy: 0.4354 - val_loss: 1.7084 - val_accuracy: 0.4681\n",
      "Epoch 38/50\n",
      "448/448 [==============================] - 7s 16ms/step - loss: 2.2751 - accuracy: 0.4286 - val_loss: 1.9067 - val_accuracy: 0.5105\n",
      "Epoch 39/50\n",
      "448/448 [==============================] - 7s 17ms/step - loss: 2.1356 - accuracy: 0.4395 - val_loss: 1.8723 - val_accuracy: 0.4746\n",
      "Epoch 40/50\n",
      "448/448 [==============================] - 7s 16ms/step - loss: 2.2103 - accuracy: 0.4311 - val_loss: 1.6725 - val_accuracy: 0.5247\n",
      "Epoch 41/50\n",
      "448/448 [==============================] - 7s 16ms/step - loss: 2.3662 - accuracy: 0.4254 - val_loss: 2.3303 - val_accuracy: 0.4492\n",
      "Epoch 42/50\n",
      "448/448 [==============================] - 7s 16ms/step - loss: 2.3311 - accuracy: 0.4284 - val_loss: 1.7795 - val_accuracy: 0.4891\n",
      "Epoch 43/50\n",
      "448/448 [==============================] - 7s 16ms/step - loss: 2.3957 - accuracy: 0.4257 - val_loss: 1.8836 - val_accuracy: 0.4812\n",
      "Epoch 44/50\n",
      "448/448 [==============================] - 7s 16ms/step - loss: 2.5125 - accuracy: 0.4254 - val_loss: 1.8395 - val_accuracy: 0.5089\n",
      "Epoch 45/50\n",
      "448/448 [==============================] - 7s 16ms/step - loss: 2.4449 - accuracy: 0.4234 - val_loss: 2.1957 - val_accuracy: 0.4704\n",
      "Epoch 46/50\n",
      "448/448 [==============================] - 7s 17ms/step - loss: 2.8049 - accuracy: 0.4199 - val_loss: 2.2171 - val_accuracy: 0.4729\n",
      "Epoch 47/50\n",
      "448/448 [==============================] - 7s 16ms/step - loss: 2.7498 - accuracy: 0.4235 - val_loss: 2.8566 - val_accuracy: 0.4633\n",
      "Epoch 48/50\n",
      "448/448 [==============================] - 7s 16ms/step - loss: 2.5764 - accuracy: 0.4278 - val_loss: 2.7988 - val_accuracy: 0.3873\n",
      "Epoch 49/50\n",
      "448/448 [==============================] - 7s 16ms/step - loss: 2.7975 - accuracy: 0.4237 - val_loss: 1.8683 - val_accuracy: 0.4954\n",
      "Epoch 50/50\n",
      "448/448 [==============================] - 7s 16ms/step - loss: 2.9373 - accuracy: 0.4231 - val_loss: 2.8203 - val_accuracy: 0.4668\n"
     ]
    },
    {
     "data": {
      "text/plain": [
       "<keras.src.callbacks.History at 0x320e22d90>"
      ]
     },
     "execution_count": 26,
     "metadata": {},
     "output_type": "execute_result"
    }
   ],
   "source": [
    "# Fits the model to the training and validation data, running through the epochs.\n",
    "cnn.fit(\n",
    "    train_generator,\n",
    "    # Tells the model to divide the number of samples by the batch size of the\n",
    "    # model to calculate how many batches of data will be processed for each epoch.\n",
    "    steps_per_epoch = train_generator.samples // train_generator.batch_size,\n",
    "    # Specifies the number of epochs the model will go through. We set it to\n",
    "    # 50, so the training dataset will go through the model 50 times.\n",
    "    epochs = 50,\n",
    "    # Initializes the validation data the model will use to test its efficiency.\n",
    "    validation_data = test_generator,\n",
    "    # Calculates how many batches of data will be processed for each validation\n",
    "    # epoch. \n",
    "    validation_steps = test_generator.samples // test_generator.batch_size)"
   ]
  },
  {
   "cell_type": "code",
   "execution_count": 27,
   "id": "2de734ff",
   "metadata": {},
   "outputs": [
    {
     "name": "stdout",
     "output_type": "stream",
     "text": [
      "113/113 [==============================] - 1s 7ms/step - loss: 2.8223 - accuracy: 0.4667\n"
     ]
    },
    {
     "data": {
      "text/plain": [
       "[2.8223371505737305, 0.4667038023471832]"
      ]
     },
     "execution_count": 27,
     "metadata": {},
     "output_type": "execute_result"
    }
   ],
   "source": [
    "# Evaluates the model on the test data.\n",
    "cnn.evaluate(test_generator)"
   ]
  },
  {
   "cell_type": "markdown",
   "id": "44edd3b8",
   "metadata": {},
   "source": [
    "Changing the batch size in this fifth model seemed to not help. The model's accuracy was 46.67%, and the loss value was 2.82. Let's try adding a batch normalization function in the model set-up to see if it improves."
   ]
  },
  {
   "cell_type": "markdown",
   "id": "74cfdd8c",
   "metadata": {},
   "source": [
    "###### Model 6"
   ]
  },
  {
   "cell_type": "code",
   "execution_count": 28,
   "id": "6a193522",
   "metadata": {},
   "outputs": [
    {
     "name": "stdout",
     "output_type": "stream",
     "text": [
      "Found 28709 images belonging to 7 classes.\n",
      "Found 7178 images belonging to 7 classes.\n"
     ]
    }
   ],
   "source": [
    "# Everything here will be the same as the fifth model.\n",
    "\n",
    "# Initializes the training image data generator.\n",
    "train_datagenerator = ImageDataGenerator(\n",
    "    rescale = 1./255, # Rescales the images by dividing the pixels by 255.\n",
    "    shear_range = 0.2, # Slants the image by up to 20%.\n",
    "    zoom_range = 0.2,  # Zooms into our away from the image by up to 20%.\n",
    "    horizontal_flip = True) # Flips random pictures horizontally.\n",
    "\n",
    "# Initializes the testing image data generator, and also rescales the images\n",
    "# by dividing the pixels by 255, just like the training data.\n",
    "test_datagenerator = ImageDataGenerator(rescale = 1./255)\n",
    "\n",
    "# Initializes the training generator using the previously defined \n",
    "# 'train_datagenerator' variable to create batches of data from the\n",
    "# orig_training directory.\n",
    "train_generator = train_datagenerator.flow_from_directory(\n",
    "    orig_training,\n",
    "    target_size = (48, 48), # Defines the size of the photos in pixels.\n",
    "    batch_size = 64, # Defines the batch size (64 photos per batch).\n",
    "    color_mode = 'grayscale', # Defines the color of the photos (grayscale).\n",
    "    class_mode = 'categorical') # Defines the class mode as categorical since the\n",
    "                                # data will be classified into different emotions.\n",
    "\n",
    "# Initializes the testing generator using the previously defined\n",
    "# 'test_datagenerator' variable to create batches of data from the\n",
    "# orig_testing directory.\n",
    "test_generator = test_datagenerator.flow_from_directory(\n",
    "    orig_testing,\n",
    "    target_size = (48, 48), # Defines the size of the photos in pixels.\n",
    "    batch_size = 64, # Defines the batch size (64 photos per batch).\n",
    "    color_mode = 'grayscale', # Defines the color of the photos (grayscale).\n",
    "    class_mode = 'categorical') # Defines the class mode as categorical since the\n",
    "                                # data will be classified into different emotions."
   ]
  },
  {
   "cell_type": "code",
   "execution_count": 29,
   "id": "1846e773",
   "metadata": {},
   "outputs": [],
   "source": [
    "# We will add Batch Normalization here to see how it impacts the model.\n",
    "\n",
    "# Initializes the Sequential model.\n",
    "cnn = Sequential()\n",
    "\n",
    "# Adds a 2D convolutional layer with 32 filters, all 3x3 pixels, sets the \n",
    "# activation method as ReLU to make all negative values zero, and defines\n",
    "# the input shape as 48x48 pixels.\n",
    "cnn.add(Conv2D(32, kernel_size = (3, 3), activation = 'relu', \n",
    "                 input_shape = (48, 48, 1)))\n",
    "cnn.add(BatchNormalization()) # Adds Batch Normalization to the model.\n",
    "# Adds a max pooling layer with a size of 2x2, which helps mitigate overfitting.\n",
    "cnn.add(MaxPooling2D(pool_size = (2, 2)))\n",
    "\n",
    "# Adds a convolutional layer with 64 filters, all 3x3 pixels again.\n",
    "cnn.add(Conv2D(64, kernel_size = (3, 3), activation = 'relu'))\n",
    "cnn.add(BatchNormalization()) # Adds Batch Normalization to the model.\n",
    "cnn.add(MaxPooling2D(pool_size = (2, 2)))\n",
    "\n",
    "# Adds a convolutional layer with 128 filters, all 3x3 pixels again.\n",
    "cnn.add(Conv2D(128, kernel_size = (3, 3), activation = 'relu'))\n",
    "cnn.add(BatchNormalization()) # Adds Batch Normalization to the model.\n",
    "cnn.add(MaxPooling2D(pool_size = (2, 2)))\n",
    "\n",
    "# Flattens the data into a 1D vector.\n",
    "cnn.add(Flatten())\n",
    "# Adds a fully connected layer with 128 neurons.\n",
    "cnn.add(Dense(128, activation = 'relu'))\n",
    "# Adds a dropout layer to prevent overfitting. 50% of the inputs are changed\n",
    "# to zero during this training.\n",
    "cnn.add(Dropout(0.5))\n",
    "cnn.add(BatchNormalization()) # Adds Batch Normalization to the model.\n",
    "# Adds an output layer with 7 neurons (1 for each class) and converts the output\n",
    "# into probabilities (softmax). \n",
    "cnn.add(Dense(7, activation = 'softmax'))"
   ]
  },
  {
   "cell_type": "code",
   "execution_count": 30,
   "id": "b85b6148",
   "metadata": {},
   "outputs": [],
   "source": [
    "# Gets the model ready for use with the photos, using the same parameters\n",
    "# as before. \n",
    "cnn.compile(optimizer = Adam(), loss = 'categorical_crossentropy',\n",
    "              metrics = ['accuracy'])"
   ]
  },
  {
   "cell_type": "code",
   "execution_count": 31,
   "id": "e3d5d38f",
   "metadata": {},
   "outputs": [
    {
     "name": "stdout",
     "output_type": "stream",
     "text": [
      "Epoch 1/50\n",
      "448/448 [==============================] - 9s 20ms/step - loss: 1.7440 - accuracy: 0.3486 - val_loss: 1.6753 - val_accuracy: 0.3612\n",
      "Epoch 2/50\n",
      "448/448 [==============================] - 9s 20ms/step - loss: 1.4300 - accuracy: 0.4553 - val_loss: 1.3882 - val_accuracy: 0.4616\n",
      "Epoch 3/50\n",
      "448/448 [==============================] - 9s 19ms/step - loss: 1.3200 - accuracy: 0.5002 - val_loss: 1.3542 - val_accuracy: 0.4724\n",
      "Epoch 4/50\n",
      "448/448 [==============================] - 9s 19ms/step - loss: 1.2673 - accuracy: 0.5204 - val_loss: 1.2433 - val_accuracy: 0.5331\n",
      "Epoch 5/50\n",
      "448/448 [==============================] - 9s 20ms/step - loss: 1.2255 - accuracy: 0.5387 - val_loss: 1.2534 - val_accuracy: 0.5215\n",
      "Epoch 6/50\n",
      "448/448 [==============================] - 9s 19ms/step - loss: 1.1977 - accuracy: 0.5511 - val_loss: 1.2081 - val_accuracy: 0.5407\n",
      "Epoch 7/50\n",
      "448/448 [==============================] - 9s 20ms/step - loss: 1.1761 - accuracy: 0.5585 - val_loss: 1.2309 - val_accuracy: 0.5402\n",
      "Epoch 8/50\n",
      "448/448 [==============================] - 9s 19ms/step - loss: 1.1505 - accuracy: 0.5650 - val_loss: 1.2411 - val_accuracy: 0.5294\n",
      "Epoch 9/50\n",
      "448/448 [==============================] - 9s 19ms/step - loss: 1.1365 - accuracy: 0.5720 - val_loss: 1.1162 - val_accuracy: 0.5837\n",
      "Epoch 10/50\n",
      "448/448 [==============================] - 9s 20ms/step - loss: 1.1190 - accuracy: 0.5806 - val_loss: 1.1160 - val_accuracy: 0.5806\n",
      "Epoch 11/50\n",
      "448/448 [==============================] - 8s 19ms/step - loss: 1.1113 - accuracy: 0.5817 - val_loss: 1.2050 - val_accuracy: 0.5488\n",
      "Epoch 12/50\n",
      "448/448 [==============================] - 9s 19ms/step - loss: 1.0968 - accuracy: 0.5878 - val_loss: 1.2036 - val_accuracy: 0.5413\n",
      "Epoch 13/50\n",
      "448/448 [==============================] - 9s 20ms/step - loss: 1.0827 - accuracy: 0.5956 - val_loss: 1.3113 - val_accuracy: 0.5187\n",
      "Epoch 14/50\n",
      "448/448 [==============================] - 9s 20ms/step - loss: 1.0689 - accuracy: 0.6008 - val_loss: 1.1975 - val_accuracy: 0.5573\n",
      "Epoch 15/50\n",
      "448/448 [==============================] - 9s 20ms/step - loss: 1.0575 - accuracy: 0.6096 - val_loss: 1.0737 - val_accuracy: 0.6003\n",
      "Epoch 16/50\n",
      "448/448 [==============================] - 9s 20ms/step - loss: 1.0462 - accuracy: 0.6104 - val_loss: 1.0763 - val_accuracy: 0.5965\n",
      "Epoch 17/50\n",
      "448/448 [==============================] - 9s 20ms/step - loss: 1.0420 - accuracy: 0.6128 - val_loss: 1.0940 - val_accuracy: 0.5886\n",
      "Epoch 18/50\n",
      "448/448 [==============================] - 9s 21ms/step - loss: 1.0314 - accuracy: 0.6165 - val_loss: 1.2151 - val_accuracy: 0.5525\n",
      "Epoch 19/50\n",
      "448/448 [==============================] - 9s 20ms/step - loss: 1.0310 - accuracy: 0.6187 - val_loss: 1.0939 - val_accuracy: 0.5965\n",
      "Epoch 20/50\n",
      "448/448 [==============================] - 8s 19ms/step - loss: 1.0259 - accuracy: 0.6210 - val_loss: 1.0777 - val_accuracy: 0.6007\n",
      "Epoch 21/50\n",
      "448/448 [==============================] - 9s 20ms/step - loss: 1.0108 - accuracy: 0.6278 - val_loss: 1.1606 - val_accuracy: 0.5685\n",
      "Epoch 22/50\n",
      "448/448 [==============================] - 9s 19ms/step - loss: 0.9987 - accuracy: 0.6302 - val_loss: 1.0991 - val_accuracy: 0.5947\n",
      "Epoch 23/50\n",
      "448/448 [==============================] - 9s 20ms/step - loss: 0.9937 - accuracy: 0.6339 - val_loss: 1.1917 - val_accuracy: 0.5590\n",
      "Epoch 24/50\n",
      "448/448 [==============================] - 9s 19ms/step - loss: 0.9905 - accuracy: 0.6337 - val_loss: 1.0540 - val_accuracy: 0.6025\n",
      "Epoch 25/50\n",
      "448/448 [==============================] - 9s 20ms/step - loss: 0.9832 - accuracy: 0.6364 - val_loss: 1.0634 - val_accuracy: 0.5997\n",
      "Epoch 26/50\n",
      "448/448 [==============================] - 9s 20ms/step - loss: 0.9814 - accuracy: 0.6355 - val_loss: 1.0663 - val_accuracy: 0.6028\n",
      "Epoch 27/50\n",
      "448/448 [==============================] - 9s 20ms/step - loss: 0.9713 - accuracy: 0.6454 - val_loss: 1.1004 - val_accuracy: 0.5858\n",
      "Epoch 28/50\n",
      "448/448 [==============================] - 9s 19ms/step - loss: 0.9649 - accuracy: 0.6451 - val_loss: 1.0668 - val_accuracy: 0.5984\n",
      "Epoch 29/50\n",
      "448/448 [==============================] - 9s 20ms/step - loss: 0.9648 - accuracy: 0.6431 - val_loss: 1.0783 - val_accuracy: 0.6000\n",
      "Epoch 30/50\n",
      "448/448 [==============================] - 9s 19ms/step - loss: 0.9581 - accuracy: 0.6468 - val_loss: 1.2020 - val_accuracy: 0.5600\n",
      "Epoch 31/50\n",
      "448/448 [==============================] - 9s 19ms/step - loss: 0.9549 - accuracy: 0.6470 - val_loss: 1.0615 - val_accuracy: 0.6084\n",
      "Epoch 32/50\n",
      "448/448 [==============================] - 9s 20ms/step - loss: 0.9533 - accuracy: 0.6487 - val_loss: 1.1668 - val_accuracy: 0.5681\n",
      "Epoch 33/50\n",
      "448/448 [==============================] - 9s 20ms/step - loss: 0.9417 - accuracy: 0.6526 - val_loss: 1.0936 - val_accuracy: 0.5972\n",
      "Epoch 34/50\n",
      "448/448 [==============================] - 9s 19ms/step - loss: 0.9415 - accuracy: 0.6550 - val_loss: 1.1014 - val_accuracy: 0.6046\n",
      "Epoch 35/50\n",
      "448/448 [==============================] - 9s 19ms/step - loss: 0.9366 - accuracy: 0.6538 - val_loss: 1.0697 - val_accuracy: 0.5992\n",
      "Epoch 36/50\n",
      "448/448 [==============================] - 9s 19ms/step - loss: 0.9247 - accuracy: 0.6571 - val_loss: 1.0638 - val_accuracy: 0.5991\n",
      "Epoch 37/50\n",
      "448/448 [==============================] - 9s 20ms/step - loss: 0.9246 - accuracy: 0.6573 - val_loss: 1.1119 - val_accuracy: 0.5893\n",
      "Epoch 38/50\n",
      "448/448 [==============================] - 9s 20ms/step - loss: 0.9212 - accuracy: 0.6603 - val_loss: 1.0928 - val_accuracy: 0.5974\n",
      "Epoch 39/50\n",
      "448/448 [==============================] - 9s 20ms/step - loss: 0.9186 - accuracy: 0.6598 - val_loss: 1.0906 - val_accuracy: 0.5996\n",
      "Epoch 40/50\n",
      "448/448 [==============================] - 9s 20ms/step - loss: 0.9182 - accuracy: 0.6633 - val_loss: 1.0552 - val_accuracy: 0.6076\n",
      "Epoch 41/50\n",
      "448/448 [==============================] - 9s 20ms/step - loss: 0.9215 - accuracy: 0.6641 - val_loss: 1.1630 - val_accuracy: 0.5780\n",
      "Epoch 42/50\n",
      "448/448 [==============================] - 9s 19ms/step - loss: 0.9096 - accuracy: 0.6627 - val_loss: 1.0795 - val_accuracy: 0.6032\n",
      "Epoch 43/50\n",
      "448/448 [==============================] - 9s 19ms/step - loss: 0.9091 - accuracy: 0.6657 - val_loss: 1.0862 - val_accuracy: 0.6083\n",
      "Epoch 44/50\n",
      "448/448 [==============================] - 9s 19ms/step - loss: 0.9067 - accuracy: 0.6674 - val_loss: 1.0832 - val_accuracy: 0.6009\n",
      "Epoch 45/50\n",
      "448/448 [==============================] - 9s 19ms/step - loss: 0.9051 - accuracy: 0.6701 - val_loss: 1.1055 - val_accuracy: 0.5917\n",
      "Epoch 46/50\n",
      "448/448 [==============================] - 9s 20ms/step - loss: 0.8893 - accuracy: 0.6747 - val_loss: 1.0681 - val_accuracy: 0.6052\n",
      "Epoch 47/50\n",
      "448/448 [==============================] - 9s 20ms/step - loss: 0.8967 - accuracy: 0.6717 - val_loss: 1.0886 - val_accuracy: 0.6053\n",
      "Epoch 48/50\n",
      "448/448 [==============================] - 9s 19ms/step - loss: 0.8909 - accuracy: 0.6765 - val_loss: 1.0950 - val_accuracy: 0.6006\n",
      "Epoch 49/50\n",
      "448/448 [==============================] - 8s 19ms/step - loss: 0.8883 - accuracy: 0.6738 - val_loss: 1.0948 - val_accuracy: 0.5957\n",
      "Epoch 50/50\n",
      "448/448 [==============================] - 9s 19ms/step - loss: 0.8826 - accuracy: 0.6765 - val_loss: 1.1718 - val_accuracy: 0.5791\n"
     ]
    },
    {
     "data": {
      "text/plain": [
       "<keras.src.callbacks.History at 0x359542d90>"
      ]
     },
     "execution_count": 31,
     "metadata": {},
     "output_type": "execute_result"
    }
   ],
   "source": [
    "# Fits the model to the training and validation data, running through the epochs.\n",
    "cnn.fit(\n",
    "    train_generator,\n",
    "    # Tells the model to divide the number of samples by the batch size of the\n",
    "    # model to calculate how many batches of data will be processed for each epoch.\n",
    "    steps_per_epoch = train_generator.samples // train_generator.batch_size,\n",
    "    # Specifies the number of epochs the model will go through. We set it to\n",
    "    # 50, so the training dataset will go through the model 50 times.\n",
    "    epochs = 50,\n",
    "    # Initializes the validation data the model will use to test its efficiency.\n",
    "    validation_data = test_generator,\n",
    "    # Calculates how many batches of data will be processed for each validation\n",
    "    # epoch. \n",
    "    validation_steps = test_generator.samples // test_generator.batch_size)"
   ]
  },
  {
   "cell_type": "code",
   "execution_count": 32,
   "id": "723c558f",
   "metadata": {},
   "outputs": [
    {
     "name": "stdout",
     "output_type": "stream",
     "text": [
      "113/113 [==============================] - 1s 8ms/step - loss: 1.1719 - accuracy: 0.5791\n"
     ]
    },
    {
     "data": {
      "text/plain": [
       "[1.1719416379928589, 0.5791306495666504]"
      ]
     },
     "execution_count": 32,
     "metadata": {},
     "output_type": "execute_result"
    }
   ],
   "source": [
    "# Evaluates the model on the test data.\n",
    "cnn.evaluate(test_generator)"
   ]
  },
  {
   "cell_type": "markdown",
   "id": "5f5dc867",
   "metadata": {},
   "source": [
    "Adding a batch normalization function in this sixth model seemed to help a lot. The model's accuracy was 57.91%, and the loss value was 1.17. Let's try adding a batch normalization function in the model set-up to see if it improves."
   ]
  },
  {
   "cell_type": "markdown",
   "id": "21a61887",
   "metadata": {},
   "source": [
    "##### Running Models on the Cleaned Dataset"
   ]
  },
  {
   "cell_type": "markdown",
   "id": "59614464",
   "metadata": {},
   "source": [
    "###### Model 7"
   ]
  },
  {
   "cell_type": "markdown",
   "id": "e4d2d7b8",
   "metadata": {},
   "source": [
    "The dataset originally included photos that were not of facial expressions (e.g., some where just black squares, some were only hands, and some where just a person's torso). In order to make sure the data only included facial expressions, we manually went through all of the photos and deleted any non-facial expression photos. \n",
    "\n",
    "Now, let's try running the same models on the cleaned data to see if they work better with a cleaned dataset."
   ]
  },
  {
   "cell_type": "code",
   "execution_count": 33,
   "id": "f2c2abd7",
   "metadata": {},
   "outputs": [],
   "source": [
    "# Sets variables to the name of the folder the clean data is saved in.\n",
    "training = 'train'\n",
    "testing = 'test'"
   ]
  },
  {
   "cell_type": "code",
   "execution_count": 34,
   "id": "0b45cfce",
   "metadata": {},
   "outputs": [
    {
     "name": "stdout",
     "output_type": "stream",
     "text": [
      "Found 28645 images belonging to 7 classes.\n",
      "Found 7164 images belonging to 7 classes.\n"
     ]
    }
   ],
   "source": [
    "# Initializes the training image data generator and\n",
    "# rescales the images by dividing the pixels by 255.\n",
    "train_datagenerator = ImageDataGenerator(rescale = 1./255)\n",
    "\n",
    "# Initializes the testing image data generator, and also rescales the images\n",
    "# by dividing the pixels by 255, just like the training data.\n",
    "test_datagenerator = ImageDataGenerator(rescale = 1./255)\n",
    "\n",
    "# Initializes the training generator using the previously defined \n",
    "# 'train_datagenerator' variable to create batches of data from the\n",
    "# training directory.\n",
    "train_generator = train_datagenerator.flow_from_directory(\n",
    "    training,\n",
    "    target_size = (48, 48), # Defines the size of the photos in pixels.\n",
    "    batch_size = 32, # Defines the batch size (32 photos per batch).\n",
    "    color_mode = 'grayscale', # Defines the color of the photos (grayscale).\n",
    "    class_mode = 'categorical') # Defines the class mode as categorical since the\n",
    "                                # data will be classified into different emotions.\n",
    "\n",
    "# Initializes the testing generator using the previously defined\n",
    "# 'test_datagenerator' variable to create batches of data from the\n",
    "# testing directory.\n",
    "test_generator = test_datagenerator.flow_from_directory(\n",
    "    testing,\n",
    "    target_size = (48, 48), # Defines the size of the photos in pixels.\n",
    "    batch_size = 32, # Defines the batch size (32 photos per batch).\n",
    "    color_mode = 'grayscale', # Defines the color of the photos (grayscale).\n",
    "    class_mode = 'categorical') # Defines the class mode as categorical since the\n",
    "                                # data will be classified into different emotions."
   ]
  },
  {
   "cell_type": "code",
   "execution_count": 35,
   "id": "85924293",
   "metadata": {},
   "outputs": [],
   "source": [
    "# The CNN model of 'Sequential' allows for us to add layers to the model\n",
    "# one at a time. This initializes the model.\n",
    "cnn = Sequential()\n",
    "\n",
    "# Adds a 2D convolutional layer with 32 filters, all 3x3 pixels, sets the \n",
    "# activation method as ReLU to make all negative values zero, and defines\n",
    "# the input shape as 48x48 pixels.\n",
    "cnn.add(Conv2D(32, kernel_size = (3, 3), activation = 'relu', \n",
    "                 input_shape = (48, 48, 1)))\n",
    "# Adds a max pooling layer with a size of 2x2, which helps mitigate overfitting.\n",
    "cnn.add(MaxPooling2D(pool_size = (2, 2)))\n",
    "\n",
    "# Adds a convolutional layer with 64 filters, all 3x3 pixels again.\n",
    "cnn.add(Conv2D(64, kernel_size = (3, 3), activation = 'relu'))\n",
    "cnn.add(MaxPooling2D(pool_size = (2, 2)))\n",
    "\n",
    "# Adds a convolutional layer with 128 filters, all 3x3 pixels again.\n",
    "cnn.add(Conv2D(128, kernel_size = (3, 3), activation = 'relu'))\n",
    "cnn.add(MaxPooling2D(pool_size = (2, 2)))\n",
    "\n",
    "# Flattens the data into a 1D vector.\n",
    "cnn.add(Flatten())\n",
    "# Adds a fully connected layer with 128 neurons.\n",
    "cnn.add(Dense(128, activation = 'relu'))\n",
    "# Adds a dropout layer to prevent overfitting. 50% of the inputs are changed\n",
    "# to zero during this training.\n",
    "cnn.add(Dropout(0.5))\n",
    "# Adds an output layer with 7 neurons (1 for each class) and converts the output\n",
    "# into probabilities (softmax). \n",
    "cnn.add(Dense(7, activation = 'softmax'))"
   ]
  },
  {
   "cell_type": "code",
   "execution_count": 36,
   "id": "44d94732",
   "metadata": {},
   "outputs": [],
   "source": [
    "# Gets the model ready for use with the photos, using the same parameters\n",
    "# as before. \n",
    "cnn.compile(optimizer = Adam(), loss = 'categorical_crossentropy',\n",
    "              metrics = ['accuracy'])"
   ]
  },
  {
   "cell_type": "code",
   "execution_count": 37,
   "id": "83aacec2",
   "metadata": {},
   "outputs": [
    {
     "name": "stdout",
     "output_type": "stream",
     "text": [
      "Epoch 1/50\n",
      "895/895 [==============================] - 12s 13ms/step - loss: 1.7657 - accuracy: 0.2823 - val_loss: 1.6276 - val_accuracy: 0.3793\n",
      "Epoch 2/50\n",
      "895/895 [==============================] - 11s 13ms/step - loss: 1.5859 - accuracy: 0.3858 - val_loss: 1.4534 - val_accuracy: 0.4460\n",
      "Epoch 3/50\n",
      "895/895 [==============================] - 11s 13ms/step - loss: 1.4825 - accuracy: 0.4304 - val_loss: 1.4017 - val_accuracy: 0.4619\n",
      "Epoch 4/50\n",
      "895/895 [==============================] - 12s 13ms/step - loss: 1.4286 - accuracy: 0.4540 - val_loss: 1.3519 - val_accuracy: 0.4851\n",
      "Epoch 5/50\n",
      "895/895 [==============================] - 11s 13ms/step - loss: 1.4073 - accuracy: 0.4660 - val_loss: 1.3627 - val_accuracy: 0.4814\n",
      "Epoch 6/50\n",
      "895/895 [==============================] - 12s 13ms/step - loss: 1.3914 - accuracy: 0.4730 - val_loss: 1.3257 - val_accuracy: 0.4929\n",
      "Epoch 7/50\n",
      "895/895 [==============================] - 12s 13ms/step - loss: 1.3953 - accuracy: 0.4734 - val_loss: 1.3507 - val_accuracy: 0.4903\n",
      "Epoch 8/50\n",
      "895/895 [==============================] - 12s 13ms/step - loss: 1.3957 - accuracy: 0.4772 - val_loss: 1.4607 - val_accuracy: 0.4508\n",
      "Epoch 9/50\n",
      "895/895 [==============================] - 12s 13ms/step - loss: 1.4065 - accuracy: 0.4767 - val_loss: 1.3402 - val_accuracy: 0.4931\n",
      "Epoch 10/50\n",
      "895/895 [==============================] - 12s 13ms/step - loss: 1.4150 - accuracy: 0.4787 - val_loss: 1.4258 - val_accuracy: 0.4612\n",
      "Epoch 11/50\n",
      "895/895 [==============================] - 12s 13ms/step - loss: 1.4177 - accuracy: 0.4848 - val_loss: 1.3122 - val_accuracy: 0.5059\n",
      "Epoch 12/50\n",
      "895/895 [==============================] - 12s 13ms/step - loss: 1.4601 - accuracy: 0.4785 - val_loss: 1.4402 - val_accuracy: 0.4741\n",
      "Epoch 13/50\n",
      "895/895 [==============================] - 13s 14ms/step - loss: 1.4734 - accuracy: 0.4778 - val_loss: 1.3254 - val_accuracy: 0.5004\n",
      "Epoch 14/50\n",
      "895/895 [==============================] - 12s 13ms/step - loss: 1.4833 - accuracy: 0.4821 - val_loss: 1.5169 - val_accuracy: 0.4613\n",
      "Epoch 15/50\n",
      "895/895 [==============================] - 12s 13ms/step - loss: 1.5293 - accuracy: 0.4769 - val_loss: 1.6711 - val_accuracy: 0.4404\n",
      "Epoch 16/50\n",
      "895/895 [==============================] - 12s 13ms/step - loss: 1.5422 - accuracy: 0.4779 - val_loss: 1.4266 - val_accuracy: 0.4968\n",
      "Epoch 17/50\n",
      "895/895 [==============================] - 190s 213ms/step - loss: 1.5889 - accuracy: 0.4743 - val_loss: 1.4377 - val_accuracy: 0.4864\n",
      "Epoch 18/50\n",
      "895/895 [==============================] - 11s 13ms/step - loss: 1.6324 - accuracy: 0.4708 - val_loss: 1.6423 - val_accuracy: 0.4623\n",
      "Epoch 19/50\n",
      "895/895 [==============================] - 12s 13ms/step - loss: 1.6933 - accuracy: 0.4692 - val_loss: 1.5543 - val_accuracy: 0.4521\n",
      "Epoch 20/50\n",
      "895/895 [==============================] - 12s 13ms/step - loss: 1.7188 - accuracy: 0.4683 - val_loss: 1.4678 - val_accuracy: 0.4776\n",
      "Epoch 21/50\n",
      "895/895 [==============================] - 912s 1s/step - loss: 1.8053 - accuracy: 0.4687 - val_loss: 1.3842 - val_accuracy: 0.4793\n",
      "Epoch 22/50\n",
      "895/895 [==============================] - 11s 13ms/step - loss: 1.8685 - accuracy: 0.4650 - val_loss: 1.6590 - val_accuracy: 0.4891\n",
      "Epoch 23/50\n",
      "895/895 [==============================] - 11s 13ms/step - loss: 1.9190 - accuracy: 0.4660 - val_loss: 1.8840 - val_accuracy: 0.4368\n",
      "Epoch 24/50\n",
      "895/895 [==============================] - 11s 13ms/step - loss: 2.0155 - accuracy: 0.4634 - val_loss: 1.6036 - val_accuracy: 0.4999\n",
      "Epoch 25/50\n",
      "895/895 [==============================] - 11s 13ms/step - loss: 2.1007 - accuracy: 0.4600 - val_loss: 2.3314 - val_accuracy: 0.3649\n",
      "Epoch 26/50\n",
      "895/895 [==============================] - 11s 13ms/step - loss: 2.2227 - accuracy: 0.4552 - val_loss: 1.5033 - val_accuracy: 0.5254\n",
      "Epoch 27/50\n",
      "895/895 [==============================] - 12s 13ms/step - loss: 2.2625 - accuracy: 0.4592 - val_loss: 1.9272 - val_accuracy: 0.4849\n",
      "Epoch 28/50\n",
      "895/895 [==============================] - 12s 13ms/step - loss: 2.3498 - accuracy: 0.4546 - val_loss: 2.4459 - val_accuracy: 0.4260\n",
      "Epoch 29/50\n",
      "895/895 [==============================] - 11s 13ms/step - loss: 2.6020 - accuracy: 0.4480 - val_loss: 1.9166 - val_accuracy: 0.4961\n",
      "Epoch 30/50\n",
      "895/895 [==============================] - 11s 13ms/step - loss: 2.5703 - accuracy: 0.4576 - val_loss: 2.5015 - val_accuracy: 0.3935\n",
      "Epoch 31/50\n",
      "895/895 [==============================] - 11s 13ms/step - loss: 2.8264 - accuracy: 0.4478 - val_loss: 1.8902 - val_accuracy: 0.4805\n",
      "Epoch 32/50\n",
      "895/895 [==============================] - 11s 13ms/step - loss: 3.0739 - accuracy: 0.4519 - val_loss: 2.2077 - val_accuracy: 0.4858\n",
      "Epoch 33/50\n",
      "895/895 [==============================] - 11s 13ms/step - loss: 3.1090 - accuracy: 0.4550 - val_loss: 2.6834 - val_accuracy: 0.4595\n",
      "Epoch 34/50\n",
      "895/895 [==============================] - 12s 13ms/step - loss: 3.3655 - accuracy: 0.4477 - val_loss: 2.4644 - val_accuracy: 0.4617\n",
      "Epoch 35/50\n",
      "895/895 [==============================] - 356s 399ms/step - loss: 3.5437 - accuracy: 0.4481 - val_loss: 3.3234 - val_accuracy: 0.4566\n",
      "Epoch 36/50\n",
      "895/895 [==============================] - 11s 13ms/step - loss: 4.0017 - accuracy: 0.4473 - val_loss: 3.1406 - val_accuracy: 0.4617\n",
      "Epoch 37/50\n",
      "895/895 [==============================] - 11s 13ms/step - loss: 3.8233 - accuracy: 0.4515 - val_loss: 3.3834 - val_accuracy: 0.4126\n",
      "Epoch 38/50\n",
      "895/895 [==============================] - 11s 13ms/step - loss: 4.1240 - accuracy: 0.4470 - val_loss: 2.9532 - val_accuracy: 0.4805\n",
      "Epoch 39/50\n",
      "895/895 [==============================] - 916s 1s/step - loss: 4.2465 - accuracy: 0.4486 - val_loss: 5.3899 - val_accuracy: 0.4274\n",
      "Epoch 40/50\n",
      "895/895 [==============================] - 11s 13ms/step - loss: 4.7543 - accuracy: 0.4516 - val_loss: 4.0633 - val_accuracy: 0.4190\n",
      "Epoch 41/50\n",
      "895/895 [==============================] - 11s 13ms/step - loss: 5.0160 - accuracy: 0.4474 - val_loss: 4.0556 - val_accuracy: 0.4728\n",
      "Epoch 42/50\n",
      "895/895 [==============================] - 11s 13ms/step - loss: 5.5008 - accuracy: 0.4478 - val_loss: 4.6774 - val_accuracy: 0.4990\n",
      "Epoch 43/50\n",
      "895/895 [==============================] - 11s 13ms/step - loss: 5.7687 - accuracy: 0.4462 - val_loss: 4.7160 - val_accuracy: 0.4951\n",
      "Epoch 44/50\n",
      "895/895 [==============================] - 216s 241ms/step - loss: 5.9318 - accuracy: 0.4506 - val_loss: 6.9757 - val_accuracy: 0.3751\n",
      "Epoch 45/50\n",
      "895/895 [==============================] - 12s 13ms/step - loss: 6.4939 - accuracy: 0.4482 - val_loss: 5.6326 - val_accuracy: 0.4575\n",
      "Epoch 46/50\n",
      "895/895 [==============================] - 11s 12ms/step - loss: 6.7798 - accuracy: 0.4462 - val_loss: 5.5411 - val_accuracy: 0.4847\n",
      "Epoch 47/50\n",
      "895/895 [==============================] - 11s 13ms/step - loss: 7.1801 - accuracy: 0.4508 - val_loss: 5.0195 - val_accuracy: 0.4874\n",
      "Epoch 48/50\n",
      "895/895 [==============================] - 73s 81ms/step - loss: 7.4502 - accuracy: 0.4471 - val_loss: 6.3388 - val_accuracy: 0.4779\n",
      "Epoch 49/50\n",
      "895/895 [==============================] - 12s 13ms/step - loss: 8.3002 - accuracy: 0.4548 - val_loss: 13.3724 - val_accuracy: 0.4074\n",
      "Epoch 50/50\n",
      "895/895 [==============================] - 12s 13ms/step - loss: 8.6484 - accuracy: 0.4442 - val_loss: 8.4846 - val_accuracy: 0.4727\n"
     ]
    },
    {
     "data": {
      "text/plain": [
       "<keras.src.callbacks.History at 0x36f8f01d0>"
      ]
     },
     "execution_count": 37,
     "metadata": {},
     "output_type": "execute_result"
    }
   ],
   "source": [
    "# Fits the model to the training and validation data, running through the epochs.\n",
    "cnn.fit(\n",
    "    train_generator,\n",
    "    # Tells the model to divide the number of samples by the batch size of the\n",
    "    # model to calculate how many batches of data will be processed for each epoch.\n",
    "    steps_per_epoch = train_generator.samples // train_generator.batch_size,\n",
    "    # Specifies the number of epochs the model will go through. We set it to\n",
    "    # 50, so the training dataset will go through the model 50 times.\n",
    "    epochs = 50,\n",
    "    # Initializes the validation data the model will use to test its efficiency.\n",
    "    validation_data = test_generator,\n",
    "    # Calculates how many batches of data will be processed for each validation\n",
    "    # epoch. \n",
    "    validation_steps = test_generator.samples // test_generator.batch_size)"
   ]
  },
  {
   "cell_type": "code",
   "execution_count": 38,
   "id": "23093f74",
   "metadata": {},
   "outputs": [
    {
     "name": "stdout",
     "output_type": "stream",
     "text": [
      "224/224 [==============================] - 2s 7ms/step - loss: 8.4651 - accuracy: 0.4731\n"
     ]
    },
    {
     "data": {
      "text/plain": [
       "[8.465080261230469, 0.473059743642807]"
      ]
     },
     "execution_count": 38,
     "metadata": {},
     "output_type": "execute_result"
    }
   ],
   "source": [
    "# Evaluates the model on the test data.\n",
    "cnn.evaluate(test_generator)"
   ]
  },
  {
   "cell_type": "markdown",
   "id": "16b523e4",
   "metadata": {},
   "source": [
    "Using clean data in this seventh model seemed to help when compared to the first model using the original data. The model's accuracy was 47.31%, and the loss value was 8.47. Now, let's try adding the same parameters as in the original models."
   ]
  },
  {
   "cell_type": "markdown",
   "id": "9a33d503",
   "metadata": {},
   "source": [
    "###### Model 8"
   ]
  },
  {
   "cell_type": "code",
   "execution_count": 39,
   "id": "a77e91a6",
   "metadata": {},
   "outputs": [
    {
     "name": "stdout",
     "output_type": "stream",
     "text": [
      "Found 28645 images belonging to 7 classes.\n",
      "Found 7164 images belonging to 7 classes.\n"
     ]
    }
   ],
   "source": [
    "# Almost everything will be the same as the seventh model, except we will\n",
    "# add a parameter of 'shear_range' to the 'train_datagenerator' variable.\n",
    "\n",
    "# Initializes the training image data generator.\n",
    "train_datagenerator = ImageDataGenerator(\n",
    "    rescale = 1./255, # Rescales the images by dividing the pixels by 255.\n",
    "    shear_range = 0.2) # Applies a shear transformation to the images (slanting\n",
    "                       # the image by up to 20%).\n",
    "\n",
    "# Initializes the testing image data generator, and also rescales the images\n",
    "# by dividing the pixels by 255, just like the training data.\n",
    "test_datagenerator = ImageDataGenerator(rescale = 1./255)\n",
    "\n",
    "# Initializes the training generator using the previously defined \n",
    "# 'train_datagenerator' variable to create batches of data from the\n",
    "# training directory.\n",
    "train_generator = train_datagenerator.flow_from_directory(\n",
    "    training,\n",
    "    target_size = (48, 48), # Defines the size of the photos in pixels.\n",
    "    batch_size = 32, # Defines the batch size (32 photos per batch).\n",
    "    color_mode = 'grayscale', # Defines the color of the photos (grayscale).\n",
    "    class_mode = 'categorical') # Defines the class mode as categorical since the\n",
    "                                # data will be classified into different emotions.\n",
    "\n",
    "# Initializes the testing generator using the previously defined\n",
    "# 'test_datagenerator' variable to create batches of data from the\n",
    "# testing directory.\n",
    "test_generator = test_datagenerator.flow_from_directory(\n",
    "    testing,\n",
    "    target_size = (48, 48), # Defines the size of the photos in pixels.\n",
    "    batch_size = 32, # Defines the batch size (32 photos per batch).\n",
    "    color_mode = 'grayscale', # Defines the color of the photos (grayscale).\n",
    "    class_mode = 'categorical') # Defines the class mode as categorical since the\n",
    "                                # data will be classified into different emotions."
   ]
  },
  {
   "cell_type": "code",
   "execution_count": 40,
   "id": "e5623de1",
   "metadata": {},
   "outputs": [],
   "source": [
    "# Initializes the Sequential model.\n",
    "cnn = Sequential()\n",
    "\n",
    "# Adds a 2D convolutional layer with 32 filters, all 3x3 pixels, sets the \n",
    "# activation method as ReLU to make all negative values zero, and defines\n",
    "# the input shape as 48x48 pixels.\n",
    "cnn.add(Conv2D(32, kernel_size = (3, 3), activation = 'relu', \n",
    "                 input_shape = (48, 48, 1)))\n",
    "# Adds a max pooling layer with a size of 2x2, which helps mitigate overfitting.\n",
    "cnn.add(MaxPooling2D(pool_size = (2, 2)))\n",
    "\n",
    "# Adds a convolutional layer with 64 filters, all 3x3 pixels again.\n",
    "cnn.add(Conv2D(64, kernel_size = (3, 3), activation = 'relu'))\n",
    "cnn.add(MaxPooling2D(pool_size = (2, 2)))\n",
    "\n",
    "# Adds a convolutional layer with 128 filters, all 3x3 pixels again.\n",
    "cnn.add(Conv2D(128, kernel_size = (3, 3), activation = 'relu'))\n",
    "cnn.add(MaxPooling2D(pool_size = (2, 2)))\n",
    "\n",
    "# Flattens the data into a 1D vector.\n",
    "cnn.add(Flatten())\n",
    "# Adds a fully connected layer with 128 neurons.\n",
    "cnn.add(Dense(128, activation = 'relu'))\n",
    "# Adds a dropout layer to prevent overfitting. 50% of the inputs are changed\n",
    "# to zero during this training.\n",
    "cnn.add(Dropout(0.5))\n",
    "# Adds an output layer with 7 neurons (1 for each class) and converts the output\n",
    "# into probabilities (softmax). \n",
    "cnn.add(Dense(7, activation = 'softmax'))"
   ]
  },
  {
   "cell_type": "code",
   "execution_count": 41,
   "id": "4b8464c9",
   "metadata": {},
   "outputs": [],
   "source": [
    "# Gets the model ready for use with the photos, using the same parameters\n",
    "# as before. \n",
    "cnn.compile(optimizer = Adam(), loss = 'categorical_crossentropy',\n",
    "              metrics = ['accuracy'])"
   ]
  },
  {
   "cell_type": "code",
   "execution_count": 42,
   "id": "b27f4e54",
   "metadata": {},
   "outputs": [
    {
     "name": "stdout",
     "output_type": "stream",
     "text": [
      "Epoch 1/50\n",
      "895/895 [==============================] - 13s 14ms/step - loss: 1.7432 - accuracy: 0.2943 - val_loss: 1.5916 - val_accuracy: 0.3681\n",
      "Epoch 2/50\n",
      "895/895 [==============================] - 12s 13ms/step - loss: 1.5425 - accuracy: 0.4050 - val_loss: 1.4242 - val_accuracy: 0.4367\n",
      "Epoch 3/50\n",
      "895/895 [==============================] - 12s 13ms/step - loss: 1.4644 - accuracy: 0.4434 - val_loss: 1.3606 - val_accuracy: 0.4769\n",
      "Epoch 4/50\n",
      "895/895 [==============================] - 12s 13ms/step - loss: 1.4386 - accuracy: 0.4605 - val_loss: 1.3977 - val_accuracy: 0.4710\n",
      "Epoch 5/50\n",
      "895/895 [==============================] - 12s 13ms/step - loss: 1.4364 - accuracy: 0.4634 - val_loss: 1.3668 - val_accuracy: 0.4716\n",
      "Epoch 6/50\n",
      "895/895 [==============================] - 12s 13ms/step - loss: 1.4444 - accuracy: 0.4684 - val_loss: 1.4180 - val_accuracy: 0.4563\n",
      "Epoch 7/50\n",
      "895/895 [==============================] - 12s 13ms/step - loss: 1.4913 - accuracy: 0.4640 - val_loss: 1.4310 - val_accuracy: 0.4610\n",
      "Epoch 8/50\n",
      "895/895 [==============================] - 12s 13ms/step - loss: 1.5252 - accuracy: 0.4606 - val_loss: 1.4531 - val_accuracy: 0.4521\n",
      "Epoch 9/50\n",
      "895/895 [==============================] - 12s 13ms/step - loss: 1.5728 - accuracy: 0.4587 - val_loss: 1.6710 - val_accuracy: 0.4438\n",
      "Epoch 10/50\n",
      "895/895 [==============================] - 12s 13ms/step - loss: 1.6262 - accuracy: 0.4596 - val_loss: 1.6589 - val_accuracy: 0.4427\n",
      "Epoch 11/50\n",
      "895/895 [==============================] - 12s 13ms/step - loss: 1.6895 - accuracy: 0.4572 - val_loss: 1.5211 - val_accuracy: 0.4647\n",
      "Epoch 12/50\n",
      "895/895 [==============================] - 12s 13ms/step - loss: 1.7671 - accuracy: 0.4591 - val_loss: 1.8133 - val_accuracy: 0.4360\n",
      "Epoch 13/50\n",
      "895/895 [==============================] - 12s 13ms/step - loss: 1.8740 - accuracy: 0.4511 - val_loss: 1.8958 - val_accuracy: 0.4305\n",
      "Epoch 14/50\n",
      "895/895 [==============================] - 12s 13ms/step - loss: 2.0013 - accuracy: 0.4497 - val_loss: 2.0607 - val_accuracy: 0.4259\n",
      "Epoch 15/50\n",
      "895/895 [==============================] - 12s 13ms/step - loss: 2.1403 - accuracy: 0.4457 - val_loss: 2.2545 - val_accuracy: 0.4340\n",
      "Epoch 16/50\n",
      "895/895 [==============================] - 12s 13ms/step - loss: 2.2665 - accuracy: 0.4444 - val_loss: 1.7593 - val_accuracy: 0.4561\n",
      "Epoch 17/50\n",
      "895/895 [==============================] - 12s 13ms/step - loss: 2.4210 - accuracy: 0.4426 - val_loss: 2.5061 - val_accuracy: 0.4016\n",
      "Epoch 18/50\n",
      "895/895 [==============================] - 12s 13ms/step - loss: 2.6439 - accuracy: 0.4385 - val_loss: 1.9112 - val_accuracy: 0.4986\n",
      "Epoch 19/50\n",
      "895/895 [==============================] - 12s 13ms/step - loss: 2.8945 - accuracy: 0.4416 - val_loss: 1.9895 - val_accuracy: 0.4825\n",
      "Epoch 20/50\n",
      "895/895 [==============================] - 12s 13ms/step - loss: 3.2843 - accuracy: 0.4334 - val_loss: 2.8981 - val_accuracy: 0.4672\n",
      "Epoch 21/50\n",
      "895/895 [==============================] - 12s 13ms/step - loss: 3.4683 - accuracy: 0.4387 - val_loss: 2.7138 - val_accuracy: 0.4442\n",
      "Epoch 22/50\n",
      "895/895 [==============================] - 12s 13ms/step - loss: 3.6464 - accuracy: 0.4377 - val_loss: 2.2813 - val_accuracy: 0.4945\n",
      "Epoch 23/50\n",
      "895/895 [==============================] - 12s 13ms/step - loss: 4.3647 - accuracy: 0.4315 - val_loss: 2.9016 - val_accuracy: 0.4821\n",
      "Epoch 24/50\n",
      "895/895 [==============================] - 12s 13ms/step - loss: 4.7022 - accuracy: 0.4340 - val_loss: 3.6075 - val_accuracy: 0.4123\n",
      "Epoch 25/50\n",
      "895/895 [==============================] - 12s 14ms/step - loss: 5.4489 - accuracy: 0.4338 - val_loss: 3.9115 - val_accuracy: 0.4697\n",
      "Epoch 26/50\n",
      "895/895 [==============================] - 12s 14ms/step - loss: 5.8372 - accuracy: 0.4331 - val_loss: 6.6790 - val_accuracy: 0.4098\n",
      "Epoch 27/50\n",
      "895/895 [==============================] - 12s 13ms/step - loss: 6.6306 - accuracy: 0.4349 - val_loss: 4.4227 - val_accuracy: 0.4536\n",
      "Epoch 28/50\n",
      "895/895 [==============================] - 12s 13ms/step - loss: 6.8396 - accuracy: 0.4400 - val_loss: 5.3806 - val_accuracy: 0.4409\n",
      "Epoch 29/50\n",
      "895/895 [==============================] - 12s 13ms/step - loss: 7.8823 - accuracy: 0.4333 - val_loss: 12.9623 - val_accuracy: 0.3758\n",
      "Epoch 30/50\n",
      "895/895 [==============================] - 12s 13ms/step - loss: 8.6030 - accuracy: 0.4378 - val_loss: 8.3196 - val_accuracy: 0.4148\n",
      "Epoch 31/50\n",
      "895/895 [==============================] - 12s 13ms/step - loss: 10.1982 - accuracy: 0.4316 - val_loss: 11.4127 - val_accuracy: 0.4483\n",
      "Epoch 32/50\n",
      "895/895 [==============================] - 12s 13ms/step - loss: 10.4680 - accuracy: 0.4399 - val_loss: 9.6752 - val_accuracy: 0.4250\n",
      "Epoch 33/50\n",
      "895/895 [==============================] - 12s 13ms/step - loss: 10.9561 - accuracy: 0.4347 - val_loss: 10.2310 - val_accuracy: 0.4494\n",
      "Epoch 34/50\n",
      "895/895 [==============================] - 12s 13ms/step - loss: 12.7926 - accuracy: 0.4335 - val_loss: 8.2038 - val_accuracy: 0.4697\n",
      "Epoch 35/50\n",
      "895/895 [==============================] - 12s 13ms/step - loss: 12.9756 - accuracy: 0.4435 - val_loss: 14.2869 - val_accuracy: 0.4727\n",
      "Epoch 36/50\n",
      "895/895 [==============================] - 12s 13ms/step - loss: 14.9579 - accuracy: 0.4370 - val_loss: 9.6856 - val_accuracy: 0.4959\n",
      "Epoch 37/50\n",
      "895/895 [==============================] - 12s 14ms/step - loss: 16.0152 - accuracy: 0.4360 - val_loss: 10.4318 - val_accuracy: 0.4753\n",
      "Epoch 38/50\n",
      "895/895 [==============================] - 15s 16ms/step - loss: 17.2860 - accuracy: 0.4398 - val_loss: 19.3486 - val_accuracy: 0.3971\n",
      "Epoch 39/50\n",
      "895/895 [==============================] - 12s 13ms/step - loss: 20.4805 - accuracy: 0.4367 - val_loss: 11.1186 - val_accuracy: 0.5098\n",
      "Epoch 40/50\n",
      "895/895 [==============================] - 12s 13ms/step - loss: 22.7810 - accuracy: 0.4376 - val_loss: 24.0496 - val_accuracy: 0.4040\n",
      "Epoch 41/50\n",
      "895/895 [==============================] - 12s 13ms/step - loss: 23.9530 - accuracy: 0.4398 - val_loss: 20.1296 - val_accuracy: 0.4308\n",
      "Epoch 42/50\n",
      "895/895 [==============================] - 13s 14ms/step - loss: 25.8910 - accuracy: 0.4410 - val_loss: 20.7397 - val_accuracy: 0.4444\n",
      "Epoch 43/50\n",
      "895/895 [==============================] - 13s 14ms/step - loss: 28.7427 - accuracy: 0.4413 - val_loss: 28.2511 - val_accuracy: 0.4009\n",
      "Epoch 44/50\n",
      "895/895 [==============================] - 12s 13ms/step - loss: 31.5310 - accuracy: 0.4392 - val_loss: 23.0762 - val_accuracy: 0.4711\n",
      "Epoch 45/50\n",
      "895/895 [==============================] - 12s 13ms/step - loss: 32.3612 - accuracy: 0.4423 - val_loss: 29.5802 - val_accuracy: 0.4659\n",
      "Epoch 46/50\n",
      "895/895 [==============================] - 12s 14ms/step - loss: 34.1628 - accuracy: 0.4457 - val_loss: 51.3484 - val_accuracy: 0.3608\n",
      "Epoch 47/50\n",
      "895/895 [==============================] - 12s 13ms/step - loss: 38.0999 - accuracy: 0.4370 - val_loss: 36.8343 - val_accuracy: 0.4351\n",
      "Epoch 48/50\n",
      "895/895 [==============================] - 12s 13ms/step - loss: 41.4095 - accuracy: 0.4424 - val_loss: 32.4016 - val_accuracy: 0.4522\n",
      "Epoch 49/50\n",
      "895/895 [==============================] - 12s 13ms/step - loss: 43.7983 - accuracy: 0.4416 - val_loss: 40.7982 - val_accuracy: 0.4877\n",
      "Epoch 50/50\n",
      "895/895 [==============================] - 12s 14ms/step - loss: 46.6046 - accuracy: 0.4439 - val_loss: 44.5217 - val_accuracy: 0.4298\n"
     ]
    },
    {
     "data": {
      "text/plain": [
       "<keras.src.callbacks.History at 0x377e22d90>"
      ]
     },
     "execution_count": 42,
     "metadata": {},
     "output_type": "execute_result"
    }
   ],
   "source": [
    "# Fits the model to the training and validation data, running through the epochs.\n",
    "cnn.fit(\n",
    "    train_generator,\n",
    "    # Tells the model to divide the number of samples by the batch size of the\n",
    "    # model to calculate how many batches of data will be processed for each epoch.\n",
    "    steps_per_epoch = train_generator.samples // train_generator.batch_size,\n",
    "    # Specifies the number of epochs the model will go through. We set it to\n",
    "    # 50, so the training dataset will go through the model 50 times.\n",
    "    epochs = 50,\n",
    "    # Initializes the validation data the model will use to test its efficiency.\n",
    "    validation_data = test_generator,\n",
    "    # Calculates how many batches of data will be processed for each validation\n",
    "    # epoch. \n",
    "    validation_steps = test_generator.samples // test_generator.batch_size)"
   ]
  },
  {
   "cell_type": "code",
   "execution_count": 43,
   "id": "b987df3e",
   "metadata": {},
   "outputs": [
    {
     "name": "stdout",
     "output_type": "stream",
     "text": [
      "224/224 [==============================] - 2s 7ms/step - loss: 44.4317 - accuracy: 0.4308\n"
     ]
    },
    {
     "data": {
      "text/plain": [
       "[44.43173599243164, 0.43076494336128235]"
      ]
     },
     "execution_count": 43,
     "metadata": {},
     "output_type": "execute_result"
    }
   ],
   "source": [
    "# Evaluates the model on the test data.\n",
    "cnn.evaluate(test_generator)"
   ]
  },
  {
   "cell_type": "markdown",
   "id": "3d10c74f",
   "metadata": {},
   "source": [
    "Adding the parameter of 'shear_range' in this second model seemed to not help. The model's accuracy was 43.08%, and the loss value was 44.43. Let's try adding another parameter to see if it gets better."
   ]
  },
  {
   "cell_type": "markdown",
   "id": "69496a98",
   "metadata": {},
   "source": [
    "###### Model 9"
   ]
  },
  {
   "cell_type": "code",
   "execution_count": 44,
   "id": "b900b8b1",
   "metadata": {},
   "outputs": [
    {
     "name": "stdout",
     "output_type": "stream",
     "text": [
      "Found 28645 images belonging to 7 classes.\n",
      "Found 7164 images belonging to 7 classes.\n"
     ]
    }
   ],
   "source": [
    "# Almost everything will be the same as the previous model, except we will\n",
    "# add a parameter of 'zoom_range' to the 'train_datagenerator' variable.\n",
    "\n",
    "# Initializes the training image data generator.\n",
    "train_datagenerator = ImageDataGenerator(\n",
    "    rescale = 1./255, # Rescales the images by dividing the pixels by 255.\n",
    "    shear_range = 0.2, # Slants the image by up to 20%.\n",
    "    zoom_range = 0.2)  # Zooms into our away from the image by up to 20%.\n",
    "\n",
    "# Initializes the testing image data generator, and also rescales the images\n",
    "# by dividing the pixels by 255, just like the training data.\n",
    "test_datagenerator = ImageDataGenerator(rescale = 1./255)\n",
    "\n",
    "# Initializes the training generator using the previously defined \n",
    "# 'train_datagenerator' variable to create batches of data from the\n",
    "# training directory.\n",
    "train_generator = train_datagenerator.flow_from_directory(\n",
    "    training,\n",
    "    target_size = (48, 48), # Defines the size of the photos in pixels.\n",
    "    batch_size = 32, # Defines the batch size (32 photos per batch).\n",
    "    color_mode = 'grayscale', # Defines the color of the photos (grayscale).\n",
    "    class_mode = 'categorical') # Defines the class mode as categorical since the\n",
    "                                # data will be classified into different emotions.\n",
    "\n",
    "# Initializes the testing generator using the previously defined\n",
    "# 'test_datagenerator' variable to create batches of data from the\n",
    "# testing directory.\n",
    "test_generator = test_datagenerator.flow_from_directory(\n",
    "    testing,\n",
    "    target_size = (48, 48), # Defines the size of the photos in pixels.\n",
    "    batch_size = 32, # Defines the batch size (32 photos per batch).\n",
    "    color_mode = 'grayscale', # Defines the color of the photos (grayscale).\n",
    "    class_mode = 'categorical') # Defines the class mode as categorical since the\n",
    "                                # data will be classified into different emotions."
   ]
  },
  {
   "cell_type": "code",
   "execution_count": 45,
   "id": "60d92df6",
   "metadata": {},
   "outputs": [],
   "source": [
    "# Initializes the Sequential model.\n",
    "cnn = Sequential()\n",
    "\n",
    "# Adds a 2D convolutional layer with 32 filters, all 3x3 pixels, sets the \n",
    "# activation method as ReLU to make all negative values zero, and defines\n",
    "# the input shape as 48x48 pixels.\n",
    "cnn.add(Conv2D(32, kernel_size = (3, 3), activation = 'relu', \n",
    "                 input_shape = (48, 48, 1)))\n",
    "# Adds a max pooling layer with a size of 2x2, which helps mitigate overfitting.\n",
    "cnn.add(MaxPooling2D(pool_size = (2, 2)))\n",
    "\n",
    "# Adds a convolutional layer with 64 filters, all 3x3 pixels again.\n",
    "cnn.add(Conv2D(64, kernel_size = (3, 3), activation = 'relu'))\n",
    "cnn.add(MaxPooling2D(pool_size = (2, 2)))\n",
    "\n",
    "# Adds a convolutional layer with 128 filters, all 3x3 pixels again.\n",
    "cnn.add(Conv2D(128, kernel_size = (3, 3), activation = 'relu'))\n",
    "cnn.add(MaxPooling2D(pool_size = (2, 2)))\n",
    "\n",
    "# Flattens the data into a 1D vector.\n",
    "cnn.add(Flatten())\n",
    "# Adds a fully connected layer with 128 neurons.\n",
    "cnn.add(Dense(128, activation = 'relu'))\n",
    "# Adds a dropout layer to prevent overfitting. 50% of the inputs are changed\n",
    "# to zero during this training.\n",
    "cnn.add(Dropout(0.5))\n",
    "# Adds an output layer with 7 neurons (1 for each class) and converts the output\n",
    "# into probabilities (softmax). \n",
    "cnn.add(Dense(7, activation = 'softmax'))"
   ]
  },
  {
   "cell_type": "code",
   "execution_count": 46,
   "id": "846ad271",
   "metadata": {},
   "outputs": [],
   "source": [
    "# Gets the model ready for use with the photos, using the same parameters\n",
    "# as before. \n",
    "cnn.compile(optimizer = Adam(), loss = 'categorical_crossentropy',\n",
    "              metrics = ['accuracy'])"
   ]
  },
  {
   "cell_type": "code",
   "execution_count": 47,
   "id": "902805dd",
   "metadata": {},
   "outputs": [
    {
     "name": "stdout",
     "output_type": "stream",
     "text": [
      "Epoch 1/50\n",
      "895/895 [==============================] - 12s 13ms/step - loss: 1.7594 - accuracy: 0.2797 - val_loss: 1.5882 - val_accuracy: 0.3910\n",
      "Epoch 2/50\n",
      "895/895 [==============================] - 12s 14ms/step - loss: 1.5956 - accuracy: 0.3790 - val_loss: 1.4661 - val_accuracy: 0.4341\n",
      "Epoch 3/50\n",
      "895/895 [==============================] - 12s 14ms/step - loss: 1.5176 - accuracy: 0.4160 - val_loss: 1.4176 - val_accuracy: 0.4463\n",
      "Epoch 4/50\n",
      "895/895 [==============================] - 12s 13ms/step - loss: 1.4839 - accuracy: 0.4283 - val_loss: 1.3614 - val_accuracy: 0.4822\n",
      "Epoch 5/50\n",
      "895/895 [==============================] - 12s 13ms/step - loss: 1.4588 - accuracy: 0.4436 - val_loss: 1.3550 - val_accuracy: 0.4749\n",
      "Epoch 6/50\n",
      "895/895 [==============================] - 12s 13ms/step - loss: 1.4343 - accuracy: 0.4544 - val_loss: 1.3766 - val_accuracy: 0.4609\n",
      "Epoch 7/50\n",
      "895/895 [==============================] - 12s 13ms/step - loss: 1.4432 - accuracy: 0.4563 - val_loss: 1.3180 - val_accuracy: 0.5031\n",
      "Epoch 8/50\n",
      "895/895 [==============================] - 12s 13ms/step - loss: 1.4654 - accuracy: 0.4551 - val_loss: 1.3930 - val_accuracy: 0.4865\n",
      "Epoch 9/50\n",
      "895/895 [==============================] - 12s 13ms/step - loss: 1.4782 - accuracy: 0.4536 - val_loss: 1.3172 - val_accuracy: 0.5067\n",
      "Epoch 10/50\n",
      "895/895 [==============================] - 12s 13ms/step - loss: 1.5001 - accuracy: 0.4470 - val_loss: 1.5222 - val_accuracy: 0.4501\n",
      "Epoch 11/50\n",
      "895/895 [==============================] - 12s 13ms/step - loss: 1.4882 - accuracy: 0.4568 - val_loss: 1.2891 - val_accuracy: 0.5286\n",
      "Epoch 12/50\n",
      "895/895 [==============================] - 12s 13ms/step - loss: 1.5216 - accuracy: 0.4522 - val_loss: 1.3443 - val_accuracy: 0.5136\n",
      "Epoch 13/50\n",
      "895/895 [==============================] - 12s 13ms/step - loss: 1.5907 - accuracy: 0.4461 - val_loss: 1.5195 - val_accuracy: 0.4767\n",
      "Epoch 14/50\n",
      "895/895 [==============================] - 12s 13ms/step - loss: 1.5962 - accuracy: 0.4491 - val_loss: 1.5338 - val_accuracy: 0.4626\n",
      "Epoch 15/50\n",
      "895/895 [==============================] - 12s 13ms/step - loss: 1.6409 - accuracy: 0.4453 - val_loss: 1.5795 - val_accuracy: 0.4842\n",
      "Epoch 16/50\n",
      "895/895 [==============================] - 12s 13ms/step - loss: 1.7098 - accuracy: 0.4371 - val_loss: 1.5852 - val_accuracy: 0.4636\n",
      "Epoch 17/50\n",
      "895/895 [==============================] - 12s 13ms/step - loss: 1.7502 - accuracy: 0.4351 - val_loss: 1.5085 - val_accuracy: 0.5032\n",
      "Epoch 18/50\n",
      "895/895 [==============================] - 12s 13ms/step - loss: 1.8208 - accuracy: 0.4293 - val_loss: 1.5267 - val_accuracy: 0.4763\n",
      "Epoch 19/50\n",
      "895/895 [==============================] - 12s 13ms/step - loss: 1.9785 - accuracy: 0.4227 - val_loss: 1.6926 - val_accuracy: 0.4374\n",
      "Epoch 20/50\n",
      "895/895 [==============================] - 12s 13ms/step - loss: 2.0427 - accuracy: 0.4212 - val_loss: 1.5415 - val_accuracy: 0.4721\n",
      "Epoch 21/50\n",
      "895/895 [==============================] - 12s 13ms/step - loss: 2.0934 - accuracy: 0.4199 - val_loss: 2.0638 - val_accuracy: 0.4060\n",
      "Epoch 22/50\n",
      "895/895 [==============================] - 12s 13ms/step - loss: 2.1452 - accuracy: 0.4186 - val_loss: 1.7215 - val_accuracy: 0.4812\n",
      "Epoch 23/50\n",
      "895/895 [==============================] - 12s 14ms/step - loss: 2.3595 - accuracy: 0.4166 - val_loss: 2.9374 - val_accuracy: 0.4409\n",
      "Epoch 24/50\n",
      "895/895 [==============================] - 12s 13ms/step - loss: 2.5694 - accuracy: 0.4044 - val_loss: 2.3087 - val_accuracy: 0.4833\n",
      "Epoch 25/50\n",
      "895/895 [==============================] - 12s 13ms/step - loss: 2.7258 - accuracy: 0.4021 - val_loss: 1.9946 - val_accuracy: 0.4738\n",
      "Epoch 26/50\n",
      "895/895 [==============================] - 12s 13ms/step - loss: 2.8822 - accuracy: 0.4022 - val_loss: 3.7565 - val_accuracy: 0.4156\n",
      "Epoch 27/50\n",
      "895/895 [==============================] - 12s 13ms/step - loss: 2.9423 - accuracy: 0.4054 - val_loss: 2.0128 - val_accuracy: 0.4529\n",
      "Epoch 28/50\n",
      "895/895 [==============================] - 12s 13ms/step - loss: 3.2722 - accuracy: 0.3970 - val_loss: 3.2414 - val_accuracy: 0.4016\n",
      "Epoch 29/50\n",
      "895/895 [==============================] - 12s 13ms/step - loss: 3.7575 - accuracy: 0.3959 - val_loss: 2.6246 - val_accuracy: 0.4634\n",
      "Epoch 30/50\n",
      "895/895 [==============================] - 12s 13ms/step - loss: 3.8339 - accuracy: 0.3989 - val_loss: 4.0095 - val_accuracy: 0.3991\n",
      "Epoch 31/50\n",
      "895/895 [==============================] - 12s 13ms/step - loss: 4.3903 - accuracy: 0.3949 - val_loss: 3.2956 - val_accuracy: 0.4512\n",
      "Epoch 32/50\n",
      "895/895 [==============================] - 12s 14ms/step - loss: 4.4545 - accuracy: 0.3935 - val_loss: 3.5923 - val_accuracy: 0.4120\n",
      "Epoch 33/50\n",
      "895/895 [==============================] - 12s 14ms/step - loss: 5.4107 - accuracy: 0.3928 - val_loss: 4.4295 - val_accuracy: 0.4522\n",
      "Epoch 34/50\n",
      "895/895 [==============================] - 12s 14ms/step - loss: 6.4753 - accuracy: 0.3870 - val_loss: 8.0922 - val_accuracy: 0.4127\n",
      "Epoch 35/50\n",
      "895/895 [==============================] - 12s 13ms/step - loss: 7.7243 - accuracy: 0.3895 - val_loss: 7.8019 - val_accuracy: 0.3810\n",
      "Epoch 36/50\n",
      "895/895 [==============================] - 12s 13ms/step - loss: 7.2292 - accuracy: 0.3895 - val_loss: 6.1277 - val_accuracy: 0.3992\n",
      "Epoch 37/50\n",
      "895/895 [==============================] - 12s 13ms/step - loss: 8.6719 - accuracy: 0.3895 - val_loss: 6.0209 - val_accuracy: 0.4795\n",
      "Epoch 38/50\n",
      "895/895 [==============================] - 12s 13ms/step - loss: 10.0728 - accuracy: 0.3829 - val_loss: 6.9995 - val_accuracy: 0.4507\n",
      "Epoch 39/50\n",
      "895/895 [==============================] - 12s 13ms/step - loss: 11.1941 - accuracy: 0.3874 - val_loss: 10.9804 - val_accuracy: 0.3655\n",
      "Epoch 40/50\n",
      "895/895 [==============================] - 12s 13ms/step - loss: 10.8785 - accuracy: 0.3885 - val_loss: 10.8188 - val_accuracy: 0.4406\n",
      "Epoch 41/50\n",
      "895/895 [==============================] - 11s 13ms/step - loss: 11.4750 - accuracy: 0.3936 - val_loss: 8.8512 - val_accuracy: 0.4776\n",
      "Epoch 42/50\n",
      "895/895 [==============================] - 12s 13ms/step - loss: 14.7932 - accuracy: 0.3872 - val_loss: 11.3423 - val_accuracy: 0.4556\n",
      "Epoch 43/50\n",
      "895/895 [==============================] - 12s 13ms/step - loss: 16.0720 - accuracy: 0.3860 - val_loss: 10.1130 - val_accuracy: 0.4458\n",
      "Epoch 44/50\n",
      "895/895 [==============================] - 12s 13ms/step - loss: 16.8336 - accuracy: 0.3876 - val_loss: 14.0630 - val_accuracy: 0.3880\n",
      "Epoch 45/50\n",
      "895/895 [==============================] - 12s 13ms/step - loss: 18.9818 - accuracy: 0.3898 - val_loss: 11.8247 - val_accuracy: 0.4644\n",
      "Epoch 46/50\n",
      "895/895 [==============================] - 12s 13ms/step - loss: 21.4654 - accuracy: 0.3819 - val_loss: 20.1651 - val_accuracy: 0.4032\n",
      "Epoch 47/50\n",
      "895/895 [==============================] - 12s 13ms/step - loss: 23.4471 - accuracy: 0.3827 - val_loss: 21.2790 - val_accuracy: 0.3778\n",
      "Epoch 48/50\n",
      "895/895 [==============================] - 12s 13ms/step - loss: 25.3507 - accuracy: 0.3821 - val_loss: 16.3288 - val_accuracy: 0.4756\n",
      "Epoch 49/50\n",
      "895/895 [==============================] - 12s 13ms/step - loss: 27.6053 - accuracy: 0.3809 - val_loss: 19.9383 - val_accuracy: 0.4872\n",
      "Epoch 50/50\n",
      "895/895 [==============================] - 12s 13ms/step - loss: 30.9366 - accuracy: 0.3805 - val_loss: 16.8105 - val_accuracy: 0.4741\n"
     ]
    },
    {
     "data": {
      "text/plain": [
       "<keras.src.callbacks.History at 0x379992dd0>"
      ]
     },
     "execution_count": 47,
     "metadata": {},
     "output_type": "execute_result"
    }
   ],
   "source": [
    "# Fits the model to the training and validation data, running through the epochs.\n",
    "cnn.fit(\n",
    "    train_generator,\n",
    "    # Tells the model to divide the number of samples by the batch size of the\n",
    "    # model to calculate how many batches of data will be processed for each epoch.\n",
    "    steps_per_epoch = train_generator.samples // train_generator.batch_size,\n",
    "    # Specifies the number of epochs the model will go through. We set it to\n",
    "    # 50, so the training dataset will go through the model 50 times.\n",
    "    epochs = 50,\n",
    "    # Initializes the validation data the model will use to test its efficiency.\n",
    "    validation_data = test_generator,\n",
    "    # Calculates how many batches of data will be processed for each validation\n",
    "    # epoch. \n",
    "    validation_steps = test_generator.samples // test_generator.batch_size)"
   ]
  },
  {
   "cell_type": "code",
   "execution_count": 48,
   "id": "daddbad6",
   "metadata": {},
   "outputs": [
    {
     "name": "stdout",
     "output_type": "stream",
     "text": [
      "224/224 [==============================] - 2s 7ms/step - loss: 16.7901 - accuracy: 0.4739\n"
     ]
    },
    {
     "data": {
      "text/plain": [
       "[16.790090560913086, 0.4738972783088684]"
      ]
     },
     "execution_count": 48,
     "metadata": {},
     "output_type": "execute_result"
    }
   ],
   "source": [
    "# Evaluates the model on the test data.\n",
    "cnn.evaluate(test_generator)"
   ]
  },
  {
   "cell_type": "markdown",
   "id": "9a9b5b45",
   "metadata": {},
   "source": [
    "Adding the parameter of 'zoom_range' in this ninth model seemed to help a bit. The model's accuracy was 47.39%, and the loss value was 16.79. Let's try adding another parameter to see if it gets better."
   ]
  },
  {
   "cell_type": "markdown",
   "id": "ead4c58e",
   "metadata": {},
   "source": [
    "###### Model 10"
   ]
  },
  {
   "cell_type": "code",
   "execution_count": 49,
   "id": "4668b4cf",
   "metadata": {},
   "outputs": [
    {
     "name": "stdout",
     "output_type": "stream",
     "text": [
      "Found 28645 images belonging to 7 classes.\n",
      "Found 7164 images belonging to 7 classes.\n"
     ]
    }
   ],
   "source": [
    "# Almost everything will be the same as the previous model, except we will\n",
    "# add a parameter of 'horizontal_flip' to the 'train_datagenerator' variable.\n",
    "\n",
    "# Initializes the training image data generator.\n",
    "train_datagenerator = ImageDataGenerator(\n",
    "    rescale = 1./255, # Rescales the images by dividing the pixels by 255.\n",
    "    shear_range = 0.2, # Slants the image by up to 20%.\n",
    "    zoom_range = 0.2,  # Zooms into our away from the image by up to 20%.\n",
    "    horizontal_flip = True) # Flips random pictures horizontally.\n",
    "\n",
    "# Initializes the testing image data generator, and also rescales the images\n",
    "# by dividing the pixels by 255, just like the training data.\n",
    "test_datagenerator = ImageDataGenerator(rescale = 1./255)\n",
    "\n",
    "# Initializes the training generator using the previously defined \n",
    "# 'train_datagenerator' variable to create batches of data from the\n",
    "# training directory.\n",
    "train_generator = train_datagenerator.flow_from_directory(\n",
    "    training,\n",
    "    target_size = (48, 48), # Defines the size of the photos in pixels.\n",
    "    batch_size = 32, # Defines the batch size (32 photos per batch).\n",
    "    color_mode = 'grayscale', # Defines the color of the photos (grayscale).\n",
    "    class_mode = 'categorical') # Defines the class mode as categorical since the\n",
    "                                # data will be classified into different emotions.\n",
    "\n",
    "# Initializes the testing generator using the previously defined\n",
    "# 'test_datagenerator' variable to create batches of data from the\n",
    "# testing directory.\n",
    "test_generator = test_datagenerator.flow_from_directory(\n",
    "    testing,\n",
    "    target_size = (48, 48), # Defines the size of the photos in pixels.\n",
    "    batch_size = 32, # Defines the batch size (32 photos per batch).\n",
    "    color_mode = 'grayscale', # Defines the color of the photos (grayscale).\n",
    "    class_mode = 'categorical') # Defines the class mode as categorical since the\n",
    "                                # data will be classified into different emotions."
   ]
  },
  {
   "cell_type": "code",
   "execution_count": 50,
   "id": "75249340",
   "metadata": {},
   "outputs": [],
   "source": [
    "# Initializes the Sequential model.\n",
    "cnn = Sequential()\n",
    "\n",
    "# Adds a 2D convolutional layer with 32 filters, all 3x3 pixels, sets the \n",
    "# activation method as ReLU to make all negative values zero, and defines\n",
    "# the input shape as 48x48 pixels.\n",
    "cnn.add(Conv2D(32, kernel_size = (3, 3), activation = 'relu', \n",
    "                 input_shape = (48, 48, 1)))\n",
    "# Adds a max pooling layer with a size of 2x2, which helps mitigate overfitting.\n",
    "cnn.add(MaxPooling2D(pool_size = (2, 2)))\n",
    "\n",
    "# Adds a convolutional layer with 64 filters, all 3x3 pixels again.\n",
    "cnn.add(Conv2D(64, kernel_size = (3, 3), activation = 'relu'))\n",
    "cnn.add(MaxPooling2D(pool_size = (2, 2)))\n",
    "\n",
    "# Adds a convolutional layer with 128 filters, all 3x3 pixels again.\n",
    "cnn.add(Conv2D(128, kernel_size = (3, 3), activation = 'relu'))\n",
    "cnn.add(MaxPooling2D(pool_size = (2, 2)))\n",
    "\n",
    "# Flattens the data into a 1D vector.\n",
    "cnn.add(Flatten())\n",
    "# Adds a fully connected layer with 128 neurons.\n",
    "cnn.add(Dense(128, activation = 'relu'))\n",
    "# Adds a dropout layer to prevent overfitting. 50% of the inputs are changed\n",
    "# to zero during this training.\n",
    "cnn.add(Dropout(0.5))\n",
    "# Adds an output layer with 7 neurons (1 for each class) and converts the output\n",
    "# into probabilities (softmax). \n",
    "cnn.add(Dense(7, activation = 'softmax'))"
   ]
  },
  {
   "cell_type": "code",
   "execution_count": 51,
   "id": "af84d5d1",
   "metadata": {},
   "outputs": [],
   "source": [
    "# Gets the model ready for use with the photos, using the same parameters\n",
    "# as before. \n",
    "cnn.compile(optimizer = Adam(), loss = 'categorical_crossentropy',\n",
    "              metrics = ['accuracy'])"
   ]
  },
  {
   "cell_type": "code",
   "execution_count": 52,
   "id": "973c106d",
   "metadata": {},
   "outputs": [
    {
     "name": "stdout",
     "output_type": "stream",
     "text": [
      "Epoch 1/50\n",
      "895/895 [==============================] - 12s 13ms/step - loss: 1.7572 - accuracy: 0.2846 - val_loss: 1.5647 - val_accuracy: 0.3869\n",
      "Epoch 2/50\n",
      "895/895 [==============================] - 13s 14ms/step - loss: 1.5715 - accuracy: 0.3901 - val_loss: 1.4246 - val_accuracy: 0.4512\n",
      "Epoch 3/50\n",
      "895/895 [==============================] - 12s 13ms/step - loss: 1.4756 - accuracy: 0.4348 - val_loss: 1.3553 - val_accuracy: 0.4709\n",
      "Epoch 4/50\n",
      "895/895 [==============================] - 12s 13ms/step - loss: 1.4221 - accuracy: 0.4569 - val_loss: 1.3327 - val_accuracy: 0.4922\n",
      "Epoch 5/50\n",
      "895/895 [==============================] - 12s 13ms/step - loss: 1.3862 - accuracy: 0.4748 - val_loss: 1.3021 - val_accuracy: 0.5102\n",
      "Epoch 6/50\n",
      "895/895 [==============================] - 12s 13ms/step - loss: 1.3718 - accuracy: 0.4772 - val_loss: 1.2813 - val_accuracy: 0.5041\n",
      "Epoch 7/50\n",
      "895/895 [==============================] - 13s 14ms/step - loss: 1.3573 - accuracy: 0.4844 - val_loss: 1.2950 - val_accuracy: 0.5150\n",
      "Epoch 8/50\n",
      "895/895 [==============================] - 12s 13ms/step - loss: 1.3444 - accuracy: 0.4940 - val_loss: 1.2639 - val_accuracy: 0.5237\n",
      "Epoch 9/50\n",
      "895/895 [==============================] - 12s 13ms/step - loss: 1.3482 - accuracy: 0.4880 - val_loss: 1.2567 - val_accuracy: 0.5282\n",
      "Epoch 10/50\n",
      "895/895 [==============================] - 12s 13ms/step - loss: 1.3429 - accuracy: 0.4935 - val_loss: 1.2569 - val_accuracy: 0.5265\n",
      "Epoch 11/50\n",
      "895/895 [==============================] - 12s 13ms/step - loss: 1.3351 - accuracy: 0.4975 - val_loss: 1.2547 - val_accuracy: 0.5233\n",
      "Epoch 12/50\n",
      "895/895 [==============================] - 12s 13ms/step - loss: 1.3498 - accuracy: 0.4963 - val_loss: 1.2556 - val_accuracy: 0.5301\n",
      "Epoch 13/50\n",
      "895/895 [==============================] - 12s 13ms/step - loss: 1.3606 - accuracy: 0.4902 - val_loss: 1.2460 - val_accuracy: 0.5406\n",
      "Epoch 14/50\n",
      "895/895 [==============================] - 12s 13ms/step - loss: 1.3691 - accuracy: 0.4909 - val_loss: 1.2860 - val_accuracy: 0.5164\n",
      "Epoch 15/50\n",
      "895/895 [==============================] - 12s 13ms/step - loss: 1.3634 - accuracy: 0.4927 - val_loss: 1.2664 - val_accuracy: 0.5198\n",
      "Epoch 16/50\n",
      "895/895 [==============================] - 12s 13ms/step - loss: 1.3732 - accuracy: 0.4888 - val_loss: 1.2324 - val_accuracy: 0.5335\n",
      "Epoch 17/50\n",
      "895/895 [==============================] - 12s 14ms/step - loss: 1.3861 - accuracy: 0.4890 - val_loss: 1.3229 - val_accuracy: 0.5249\n",
      "Epoch 18/50\n",
      "895/895 [==============================] - 12s 13ms/step - loss: 1.4078 - accuracy: 0.4875 - val_loss: 1.2751 - val_accuracy: 0.5220\n",
      "Epoch 19/50\n",
      "895/895 [==============================] - 12s 13ms/step - loss: 1.3987 - accuracy: 0.4901 - val_loss: 1.3321 - val_accuracy: 0.4997\n",
      "Epoch 20/50\n",
      "895/895 [==============================] - 12s 13ms/step - loss: 1.4068 - accuracy: 0.4901 - val_loss: 1.3261 - val_accuracy: 0.5343\n",
      "Epoch 21/50\n",
      "895/895 [==============================] - 12s 13ms/step - loss: 1.4383 - accuracy: 0.4792 - val_loss: 1.2943 - val_accuracy: 0.5146\n",
      "Epoch 22/50\n",
      "895/895 [==============================] - 12s 13ms/step - loss: 1.4433 - accuracy: 0.4826 - val_loss: 1.3360 - val_accuracy: 0.5109\n",
      "Epoch 23/50\n",
      "895/895 [==============================] - 12s 13ms/step - loss: 1.4488 - accuracy: 0.4826 - val_loss: 1.3466 - val_accuracy: 0.5140\n",
      "Epoch 24/50\n",
      "895/895 [==============================] - 12s 14ms/step - loss: 1.4653 - accuracy: 0.4797 - val_loss: 1.4300 - val_accuracy: 0.5025\n",
      "Epoch 25/50\n",
      "895/895 [==============================] - 14s 16ms/step - loss: 1.4644 - accuracy: 0.4809 - val_loss: 1.4219 - val_accuracy: 0.5006\n",
      "Epoch 26/50\n",
      "895/895 [==============================] - 12s 14ms/step - loss: 1.5058 - accuracy: 0.4757 - val_loss: 1.4608 - val_accuracy: 0.4917\n",
      "Epoch 27/50\n",
      "895/895 [==============================] - 12s 13ms/step - loss: 1.5509 - accuracy: 0.4732 - val_loss: 1.2354 - val_accuracy: 0.5411\n",
      "Epoch 28/50\n",
      "895/895 [==============================] - 14s 15ms/step - loss: 1.5535 - accuracy: 0.4722 - val_loss: 1.8422 - val_accuracy: 0.4008\n",
      "Epoch 29/50\n",
      "895/895 [==============================] - 13s 15ms/step - loss: 1.5803 - accuracy: 0.4674 - val_loss: 1.6524 - val_accuracy: 0.4793\n",
      "Epoch 30/50\n",
      "895/895 [==============================] - 13s 15ms/step - loss: 1.5699 - accuracy: 0.4733 - val_loss: 1.5311 - val_accuracy: 0.4683\n",
      "Epoch 31/50\n",
      "895/895 [==============================] - 14s 16ms/step - loss: 1.5921 - accuracy: 0.4714 - val_loss: 1.4744 - val_accuracy: 0.4851\n",
      "Epoch 32/50\n",
      "895/895 [==============================] - 14s 16ms/step - loss: 1.6762 - accuracy: 0.4630 - val_loss: 1.6350 - val_accuracy: 0.4563\n",
      "Epoch 33/50\n",
      "895/895 [==============================] - 16s 17ms/step - loss: 1.6743 - accuracy: 0.4680 - val_loss: 1.4466 - val_accuracy: 0.5142\n",
      "Epoch 34/50\n",
      "895/895 [==============================] - 15s 17ms/step - loss: 1.6797 - accuracy: 0.4611 - val_loss: 1.5277 - val_accuracy: 0.5146\n",
      "Epoch 35/50\n",
      "895/895 [==============================] - 15s 16ms/step - loss: 1.7090 - accuracy: 0.4639 - val_loss: 1.2870 - val_accuracy: 0.5411\n",
      "Epoch 36/50\n",
      "895/895 [==============================] - 15s 16ms/step - loss: 1.6845 - accuracy: 0.4649 - val_loss: 1.3670 - val_accuracy: 0.4902\n",
      "Epoch 37/50\n",
      "895/895 [==============================] - 14s 16ms/step - loss: 1.7389 - accuracy: 0.4602 - val_loss: 1.5216 - val_accuracy: 0.5102\n",
      "Epoch 38/50\n",
      "895/895 [==============================] - 14s 16ms/step - loss: 1.8713 - accuracy: 0.4541 - val_loss: 1.5022 - val_accuracy: 0.4875\n",
      "Epoch 39/50\n",
      "895/895 [==============================] - 15s 16ms/step - loss: 1.8606 - accuracy: 0.4567 - val_loss: 1.4942 - val_accuracy: 0.5022\n",
      "Epoch 40/50\n",
      "895/895 [==============================] - 14s 16ms/step - loss: 1.9486 - accuracy: 0.4523 - val_loss: 1.6758 - val_accuracy: 0.5094\n",
      "Epoch 41/50\n",
      "895/895 [==============================] - 14s 15ms/step - loss: 2.0133 - accuracy: 0.4524 - val_loss: 1.6458 - val_accuracy: 0.5198\n",
      "Epoch 42/50\n",
      "895/895 [==============================] - 14s 15ms/step - loss: 2.0520 - accuracy: 0.4507 - val_loss: 1.4228 - val_accuracy: 0.5315\n",
      "Epoch 43/50\n",
      "895/895 [==============================] - 13s 14ms/step - loss: 2.0554 - accuracy: 0.4508 - val_loss: 1.8211 - val_accuracy: 0.4818\n",
      "Epoch 44/50\n",
      "895/895 [==============================] - 13s 14ms/step - loss: 2.1699 - accuracy: 0.4462 - val_loss: 2.0196 - val_accuracy: 0.4898\n",
      "Epoch 45/50\n",
      "895/895 [==============================] - 13s 14ms/step - loss: 2.2492 - accuracy: 0.4421 - val_loss: 2.3343 - val_accuracy: 0.4065\n",
      "Epoch 46/50\n",
      "895/895 [==============================] - 12s 13ms/step - loss: 2.2580 - accuracy: 0.4493 - val_loss: 2.5632 - val_accuracy: 0.4889\n",
      "Epoch 47/50\n",
      "895/895 [==============================] - 13s 14ms/step - loss: 2.4734 - accuracy: 0.4433 - val_loss: 1.8324 - val_accuracy: 0.4871\n",
      "Epoch 48/50\n",
      "895/895 [==============================] - 12s 14ms/step - loss: 2.2772 - accuracy: 0.4442 - val_loss: 1.8627 - val_accuracy: 0.4811\n",
      "Epoch 49/50\n",
      "895/895 [==============================] - 12s 14ms/step - loss: 2.7648 - accuracy: 0.4341 - val_loss: 2.0044 - val_accuracy: 0.5007\n",
      "Epoch 50/50\n",
      "895/895 [==============================] - 12s 14ms/step - loss: 2.5512 - accuracy: 0.4410 - val_loss: 1.7361 - val_accuracy: 0.5121\n"
     ]
    },
    {
     "data": {
      "text/plain": [
       "<keras.src.callbacks.History at 0x379992d90>"
      ]
     },
     "execution_count": 52,
     "metadata": {},
     "output_type": "execute_result"
    }
   ],
   "source": [
    "# Fits the model to the training and validation data, running through the epochs.\n",
    "cnn.fit(\n",
    "    train_generator,\n",
    "    # Tells the model to divide the number of samples by the batch size of the\n",
    "    # model to calculate how many batches of data will be processed for each epoch.\n",
    "    steps_per_epoch = train_generator.samples // train_generator.batch_size,\n",
    "    # Specifies the number of epochs the model will go through. We set it to\n",
    "    # 50, so the training dataset will go through the model 50 times.\n",
    "    epochs = 50,\n",
    "    # Initializes the validation data the model will use to test its efficiency.\n",
    "    validation_data = test_generator,\n",
    "    # Calculates how many batches of data will be processed for each validation\n",
    "    # epoch. \n",
    "    validation_steps = test_generator.samples // test_generator.batch_size)"
   ]
  },
  {
   "cell_type": "code",
   "execution_count": 53,
   "id": "ad5bb246",
   "metadata": {},
   "outputs": [
    {
     "name": "stdout",
     "output_type": "stream",
     "text": [
      "224/224 [==============================] - 2s 7ms/step - loss: 1.7359 - accuracy: 0.5113\n"
     ]
    },
    {
     "data": {
      "text/plain": [
       "[1.7359355688095093, 0.5113065242767334]"
      ]
     },
     "execution_count": 53,
     "metadata": {},
     "output_type": "execute_result"
    }
   ],
   "source": [
    "# Evaluates the model on the test data.\n",
    "cnn.evaluate(test_generator)"
   ]
  },
  {
   "cell_type": "markdown",
   "id": "5c44d943",
   "metadata": {},
   "source": [
    "Adding the parameter of 'horizontal_flip' in this tenth model seemed to help quite a bit. The model's accuracy was 51.13%, and the loss value was 1.74. Let's try adding another parameter to see if it gets better."
   ]
  },
  {
   "cell_type": "markdown",
   "id": "38a3b7fd",
   "metadata": {},
   "source": [
    "###### Model 11"
   ]
  },
  {
   "cell_type": "code",
   "execution_count": 54,
   "id": "6ea4db8a",
   "metadata": {},
   "outputs": [
    {
     "name": "stdout",
     "output_type": "stream",
     "text": [
      "Found 28645 images belonging to 7 classes.\n",
      "Found 7164 images belonging to 7 classes.\n"
     ]
    }
   ],
   "source": [
    "# Almost everything will be the same as the fourth model, except we will\n",
    "# make the batch size bigger for the train and test generators.\n",
    "\n",
    "# Initializes the training image data generator.\n",
    "train_datagenerator = ImageDataGenerator(\n",
    "    rescale = 1./255, # Rescales the images by dividing the pixels by 255.\n",
    "    shear_range = 0.2, # Slants the image by up to 20%.\n",
    "    zoom_range = 0.2,  # Zooms into our away from the image by up to 20%.\n",
    "    horizontal_flip = True) # Flips random pictures horizontally.\n",
    "\n",
    "# Initializes the testing image data generator, and also rescales the images\n",
    "# by dividing the pixels by 255, just like the training data.\n",
    "test_datagenerator = ImageDataGenerator(rescale = 1./255)\n",
    "\n",
    "# Initializes the training generator using the previously defined \n",
    "# 'train_datagenerator' variable to create batches of data from the\n",
    "# training directory.\n",
    "train_generator = train_datagenerator.flow_from_directory(\n",
    "    training,\n",
    "    target_size = (48, 48), # Defines the size of the photos in pixels.\n",
    "    batch_size = 64, # Defines the batch size (64 photos per batch).\n",
    "    color_mode = 'grayscale', # Defines the color of the photos (grayscale).\n",
    "    class_mode = 'categorical') # Defines the class mode as categorical since the\n",
    "                                # data will be classified into different emotions.\n",
    "\n",
    "# Initializes the testing generator using the previously defined\n",
    "# 'test_datagenerator' variable to create batches of data from the\n",
    "# testing directory.\n",
    "test_generator = test_datagenerator.flow_from_directory(\n",
    "    testing,\n",
    "    target_size = (48, 48), # Defines the size of the photos in pixels.\n",
    "    batch_size = 64, # Defines the batch size (64 photos per batch).\n",
    "    color_mode = 'grayscale', # Defines the color of the photos (grayscale).\n",
    "    class_mode = 'categorical') # Defines the class mode as categorical since the\n",
    "                                # data will be classified into different emotions."
   ]
  },
  {
   "cell_type": "code",
   "execution_count": 55,
   "id": "fc3a452a",
   "metadata": {},
   "outputs": [],
   "source": [
    "# Initializes the Sequential model.\n",
    "cnn = Sequential()\n",
    "\n",
    "# Adds a 2D convolutional layer with 32 filters, all 3x3 pixels, sets the \n",
    "# activation method as ReLU to make all negative values zero, and defines\n",
    "# the input shape as 48x48 pixels.\n",
    "cnn.add(Conv2D(32, kernel_size = (3, 3), activation = 'relu', \n",
    "                 input_shape = (48, 48, 1)))\n",
    "# Adds a max pooling layer with a size of 2x2, which helps mitigate overfitting.\n",
    "cnn.add(MaxPooling2D(pool_size = (2, 2)))\n",
    "\n",
    "# Adds a convolutional layer with 64 filters, all 3x3 pixels again.\n",
    "cnn.add(Conv2D(64, kernel_size = (3, 3), activation = 'relu'))\n",
    "cnn.add(MaxPooling2D(pool_size = (2, 2)))\n",
    "\n",
    "# Adds a convolutional layer with 128 filters, all 3x3 pixels again.\n",
    "cnn.add(Conv2D(128, kernel_size = (3, 3), activation = 'relu'))\n",
    "cnn.add(MaxPooling2D(pool_size = (2, 2)))\n",
    "\n",
    "# Flattens the data into a 1D vector.\n",
    "cnn.add(Flatten())\n",
    "# Adds a fully connected layer with 128 neurons.\n",
    "cnn.add(Dense(128, activation = 'relu'))\n",
    "# Adds a dropout layer to prevent overfitting. 50% of the inputs are changed\n",
    "# to zero during this training.\n",
    "cnn.add(Dropout(0.5))\n",
    "# Adds an output layer with 7 neurons (1 for each class) and converts the output\n",
    "# into probabilities (softmax). \n",
    "cnn.add(Dense(7, activation = 'softmax'))"
   ]
  },
  {
   "cell_type": "code",
   "execution_count": 56,
   "id": "77051181",
   "metadata": {},
   "outputs": [],
   "source": [
    "# Gets the model ready for use with the photos, using the same parameters\n",
    "# as before. \n",
    "cnn.compile(optimizer = Adam(), loss = 'categorical_crossentropy',\n",
    "              metrics = ['accuracy'])"
   ]
  },
  {
   "cell_type": "code",
   "execution_count": 57,
   "id": "c78b5e0a",
   "metadata": {},
   "outputs": [
    {
     "name": "stdout",
     "output_type": "stream",
     "text": [
      "Epoch 1/50\n",
      "447/447 [==============================] - 10s 22ms/step - loss: 1.7844 - accuracy: 0.2708 - val_loss: 1.6111 - val_accuracy: 0.3774\n",
      "Epoch 2/50\n",
      "447/447 [==============================] - 11s 24ms/step - loss: 1.6235 - accuracy: 0.3698 - val_loss: 1.4673 - val_accuracy: 0.4416\n",
      "Epoch 3/50\n",
      "447/447 [==============================] - 10s 23ms/step - loss: 1.5355 - accuracy: 0.4102 - val_loss: 1.4011 - val_accuracy: 0.4631\n",
      "Epoch 4/50\n",
      "447/447 [==============================] - 10s 23ms/step - loss: 1.4782 - accuracy: 0.4348 - val_loss: 1.3631 - val_accuracy: 0.4803\n",
      "Epoch 5/50\n",
      "447/447 [==============================] - 10s 23ms/step - loss: 1.4532 - accuracy: 0.4459 - val_loss: 1.3240 - val_accuracy: 0.4955\n",
      "Epoch 6/50\n",
      "447/447 [==============================] - 10s 23ms/step - loss: 1.4238 - accuracy: 0.4551 - val_loss: 1.3261 - val_accuracy: 0.5010\n",
      "Epoch 7/50\n",
      "447/447 [==============================] - 10s 23ms/step - loss: 1.4040 - accuracy: 0.4640 - val_loss: 1.2832 - val_accuracy: 0.5030\n",
      "Epoch 8/50\n",
      "447/447 [==============================] - 10s 21ms/step - loss: 1.3997 - accuracy: 0.4630 - val_loss: 1.2686 - val_accuracy: 0.5103\n",
      "Epoch 9/50\n",
      "447/447 [==============================] - 10s 22ms/step - loss: 1.3887 - accuracy: 0.4734 - val_loss: 1.2980 - val_accuracy: 0.5108\n",
      "Epoch 10/50\n",
      "447/447 [==============================] - 10s 22ms/step - loss: 1.3816 - accuracy: 0.4768 - val_loss: 1.2656 - val_accuracy: 0.5176\n",
      "Epoch 11/50\n",
      "447/447 [==============================] - 11s 24ms/step - loss: 1.3800 - accuracy: 0.4783 - val_loss: 1.2892 - val_accuracy: 0.5065\n",
      "Epoch 12/50\n",
      "447/447 [==============================] - 10s 22ms/step - loss: 1.3712 - accuracy: 0.4824 - val_loss: 1.2570 - val_accuracy: 0.5193\n",
      "Epoch 13/50\n",
      "447/447 [==============================] - 10s 22ms/step - loss: 1.3714 - accuracy: 0.4800 - val_loss: 1.2495 - val_accuracy: 0.5286\n",
      "Epoch 14/50\n",
      "447/447 [==============================] - 12s 26ms/step - loss: 1.3640 - accuracy: 0.4853 - val_loss: 1.2822 - val_accuracy: 0.5076\n",
      "Epoch 15/50\n",
      "447/447 [==============================] - 10s 23ms/step - loss: 1.3790 - accuracy: 0.4821 - val_loss: 1.2579 - val_accuracy: 0.5258\n",
      "Epoch 16/50\n",
      "447/447 [==============================] - 10s 22ms/step - loss: 1.3830 - accuracy: 0.4800 - val_loss: 1.3180 - val_accuracy: 0.4931\n",
      "Epoch 17/50\n",
      "447/447 [==============================] - 10s 22ms/step - loss: 1.3753 - accuracy: 0.4841 - val_loss: 1.3037 - val_accuracy: 0.5031\n",
      "Epoch 18/50\n",
      "447/447 [==============================] - 9s 20ms/step - loss: 1.3797 - accuracy: 0.4839 - val_loss: 1.2696 - val_accuracy: 0.5145\n",
      "Epoch 19/50\n",
      "447/447 [==============================] - 11s 24ms/step - loss: 1.3870 - accuracy: 0.4841 - val_loss: 1.2298 - val_accuracy: 0.5277\n",
      "Epoch 20/50\n",
      "447/447 [==============================] - 10s 22ms/step - loss: 1.3755 - accuracy: 0.4876 - val_loss: 1.2512 - val_accuracy: 0.5189\n",
      "Epoch 21/50\n",
      "447/447 [==============================] - 9s 21ms/step - loss: 1.3778 - accuracy: 0.4874 - val_loss: 1.2784 - val_accuracy: 0.5183\n",
      "Epoch 22/50\n",
      "447/447 [==============================] - 9s 21ms/step - loss: 1.3985 - accuracy: 0.4832 - val_loss: 1.2900 - val_accuracy: 0.5117\n",
      "Epoch 23/50\n",
      "447/447 [==============================] - 9s 21ms/step - loss: 1.3856 - accuracy: 0.4877 - val_loss: 1.3015 - val_accuracy: 0.5138\n",
      "Epoch 24/50\n",
      "447/447 [==============================] - 9s 19ms/step - loss: 1.4034 - accuracy: 0.4842 - val_loss: 1.2787 - val_accuracy: 0.5239\n",
      "Epoch 25/50\n",
      "447/447 [==============================] - 8s 19ms/step - loss: 1.4026 - accuracy: 0.4859 - val_loss: 1.3170 - val_accuracy: 0.5234\n",
      "Epoch 26/50\n",
      "447/447 [==============================] - 8s 19ms/step - loss: 1.4241 - accuracy: 0.4796 - val_loss: 1.2864 - val_accuracy: 0.5131\n",
      "Epoch 27/50\n",
      "447/447 [==============================] - 8s 19ms/step - loss: 1.4328 - accuracy: 0.4818 - val_loss: 1.2184 - val_accuracy: 0.5443\n",
      "Epoch 28/50\n",
      "447/447 [==============================] - 8s 18ms/step - loss: 1.4177 - accuracy: 0.4828 - val_loss: 1.2876 - val_accuracy: 0.5193\n",
      "Epoch 29/50\n",
      "447/447 [==============================] - 8s 18ms/step - loss: 1.4442 - accuracy: 0.4781 - val_loss: 1.2817 - val_accuracy: 0.5198\n",
      "Epoch 30/50\n",
      "447/447 [==============================] - 8s 17ms/step - loss: 1.4541 - accuracy: 0.4768 - val_loss: 1.2980 - val_accuracy: 0.5177\n",
      "Epoch 31/50\n",
      "447/447 [==============================] - 8s 17ms/step - loss: 1.4448 - accuracy: 0.4816 - val_loss: 1.2535 - val_accuracy: 0.5366\n",
      "Epoch 32/50\n",
      "447/447 [==============================] - 8s 17ms/step - loss: 1.4559 - accuracy: 0.4776 - val_loss: 1.2189 - val_accuracy: 0.5436\n",
      "Epoch 33/50\n",
      "447/447 [==============================] - 8s 17ms/step - loss: 1.4789 - accuracy: 0.4736 - val_loss: 1.2579 - val_accuracy: 0.5390\n",
      "Epoch 34/50\n",
      "447/447 [==============================] - 8s 17ms/step - loss: 1.4845 - accuracy: 0.4737 - val_loss: 1.4731 - val_accuracy: 0.4744\n",
      "Epoch 35/50\n",
      "447/447 [==============================] - 8s 17ms/step - loss: 1.4914 - accuracy: 0.4716 - val_loss: 1.3042 - val_accuracy: 0.5204\n",
      "Epoch 36/50\n",
      "447/447 [==============================] - 8s 17ms/step - loss: 1.5166 - accuracy: 0.4723 - val_loss: 1.3470 - val_accuracy: 0.5056\n",
      "Epoch 37/50\n",
      "447/447 [==============================] - 8s 17ms/step - loss: 1.5122 - accuracy: 0.4764 - val_loss: 1.4102 - val_accuracy: 0.4934\n",
      "Epoch 38/50\n",
      "447/447 [==============================] - 8s 17ms/step - loss: 1.5390 - accuracy: 0.4728 - val_loss: 1.3451 - val_accuracy: 0.5315\n",
      "Epoch 39/50\n",
      "447/447 [==============================] - 8s 17ms/step - loss: 1.5473 - accuracy: 0.4738 - val_loss: 1.4336 - val_accuracy: 0.4963\n",
      "Epoch 40/50\n",
      "447/447 [==============================] - 8s 17ms/step - loss: 1.5767 - accuracy: 0.4689 - val_loss: 1.5910 - val_accuracy: 0.5042\n",
      "Epoch 41/50\n",
      "447/447 [==============================] - 8s 17ms/step - loss: 1.5722 - accuracy: 0.4671 - val_loss: 1.6476 - val_accuracy: 0.4476\n",
      "Epoch 42/50\n",
      "447/447 [==============================] - 8s 17ms/step - loss: 1.6185 - accuracy: 0.4633 - val_loss: 1.5339 - val_accuracy: 0.4790\n",
      "Epoch 43/50\n",
      "447/447 [==============================] - 8s 17ms/step - loss: 1.6447 - accuracy: 0.4625 - val_loss: 1.2636 - val_accuracy: 0.5501\n",
      "Epoch 44/50\n",
      "447/447 [==============================] - 8s 17ms/step - loss: 1.6235 - accuracy: 0.4661 - val_loss: 1.3868 - val_accuracy: 0.5220\n",
      "Epoch 45/50\n",
      "447/447 [==============================] - 8s 17ms/step - loss: 1.6465 - accuracy: 0.4583 - val_loss: 1.4090 - val_accuracy: 0.5096\n",
      "Epoch 46/50\n",
      "447/447 [==============================] - 8s 17ms/step - loss: 1.6542 - accuracy: 0.4651 - val_loss: 1.4338 - val_accuracy: 0.5101\n",
      "Epoch 47/50\n",
      "447/447 [==============================] - 8s 17ms/step - loss: 1.6200 - accuracy: 0.4676 - val_loss: 1.6083 - val_accuracy: 0.4668\n",
      "Epoch 48/50\n",
      "447/447 [==============================] - 8s 17ms/step - loss: 1.6862 - accuracy: 0.4575 - val_loss: 1.3494 - val_accuracy: 0.5120\n",
      "Epoch 49/50\n",
      "447/447 [==============================] - 8s 17ms/step - loss: 1.7066 - accuracy: 0.4618 - val_loss: 1.2843 - val_accuracy: 0.5404\n",
      "Epoch 50/50\n",
      "447/447 [==============================] - 8s 17ms/step - loss: 1.6994 - accuracy: 0.4638 - val_loss: 1.3029 - val_accuracy: 0.5522\n"
     ]
    },
    {
     "data": {
      "text/plain": [
       "<keras.src.callbacks.History at 0x37fd919d0>"
      ]
     },
     "execution_count": 57,
     "metadata": {},
     "output_type": "execute_result"
    }
   ],
   "source": [
    "# Fits the model to the training and validation data, running through the epochs.\n",
    "cnn.fit(\n",
    "    train_generator,\n",
    "    # Tells the model to divide the number of samples by the batch size of the\n",
    "    # model to calculate how many batches of data will be processed for each epoch.\n",
    "    steps_per_epoch = train_generator.samples // train_generator.batch_size,\n",
    "    # Specifies the number of epochs the model will go through. We set it to\n",
    "    # 50, so the training dataset will go through the model 50 times.\n",
    "    epochs = 50,\n",
    "    # Initializes the validation data the model will use to test its efficiency.\n",
    "    validation_data = test_generator,\n",
    "    # Calculates how many batches of data will be processed for each validation\n",
    "    # epoch. \n",
    "    validation_steps = test_generator.samples // test_generator.batch_size)"
   ]
  },
  {
   "cell_type": "code",
   "execution_count": 58,
   "id": "86956494",
   "metadata": {},
   "outputs": [
    {
     "name": "stdout",
     "output_type": "stream",
     "text": [
      "112/112 [==============================] - 1s 8ms/step - loss: 1.3033 - accuracy: 0.5518\n"
     ]
    },
    {
     "data": {
      "text/plain": [
       "[1.303282618522644, 0.5517867207527161]"
      ]
     },
     "execution_count": 58,
     "metadata": {},
     "output_type": "execute_result"
    }
   ],
   "source": [
    "# Evaluates the model on the test data.\n",
    "cnn.evaluate(test_generator)"
   ]
  },
  {
   "cell_type": "markdown",
   "id": "e09cce82",
   "metadata": {},
   "source": [
    "Including a larger batch size in this eleventh model seemed to help even more. The model's accuracy was 55.18%, and the loss value was 1.30. Let's try adding a batch normalization function in the model set-up to see if it gets even better."
   ]
  },
  {
   "cell_type": "markdown",
   "id": "fad40f00",
   "metadata": {},
   "source": [
    "###### Model 12"
   ]
  },
  {
   "cell_type": "code",
   "execution_count": 59,
   "id": "c5bd0029",
   "metadata": {},
   "outputs": [
    {
     "name": "stdout",
     "output_type": "stream",
     "text": [
      "Found 28645 images belonging to 7 classes.\n",
      "Found 7164 images belonging to 7 classes.\n"
     ]
    }
   ],
   "source": [
    "# Everything here will be the same as the previous model.\n",
    "\n",
    "# Initializes the training image data generator.\n",
    "train_datagenerator = ImageDataGenerator(\n",
    "    rescale = 1./255, # Rescales the images by dividing the pixels by 255.\n",
    "    shear_range = 0.2, # Slants the image by up to 20%.\n",
    "    zoom_range = 0.2,  # Zooms into our away from the image by up to 20%.\n",
    "    horizontal_flip = True) # Flips random pictures horizontally.\n",
    "\n",
    "# Initializes the testing image data generator, and also rescales the images\n",
    "# by dividing the pixels by 255, just like the training data.\n",
    "test_datagenerator = ImageDataGenerator(rescale = 1./255)\n",
    "\n",
    "# Initializes the training generator using the previously defined \n",
    "# 'train_datagenerator' variable to create batches of data from the\n",
    "# training directory.\n",
    "train_generator = train_datagenerator.flow_from_directory(\n",
    "    training,\n",
    "    target_size = (48, 48), # Defines the size of the photos in pixels.\n",
    "    batch_size = 64, # Defines the batch size (64 photos per batch).\n",
    "    color_mode = 'grayscale', # Defines the color of the photos (grayscale).\n",
    "    class_mode = 'categorical') # Defines the class mode as categorical since the\n",
    "                                # data will be classified into different emotions.\n",
    "\n",
    "# Initializes the testing generator using the previously defined\n",
    "# 'test_datagenerator' variable to create batches of data from the\n",
    "# testing directory.\n",
    "test_generator = test_datagenerator.flow_from_directory(\n",
    "    testing,\n",
    "    target_size = (48, 48), # Defines the size of the photos in pixels.\n",
    "    batch_size = 64, # Defines the batch size (64 photos per batch).\n",
    "    color_mode = 'grayscale', # Defines the color of the photos (grayscale).\n",
    "    class_mode = 'categorical') # Defines the class mode as categorical since the\n",
    "                                # data will be classified into different emotions."
   ]
  },
  {
   "cell_type": "code",
   "execution_count": 60,
   "id": "fec62d28",
   "metadata": {},
   "outputs": [],
   "source": [
    "# We will add Batch Normalization here to see how it impacts the model.\n",
    "\n",
    "# Initializes the Sequential model.\n",
    "cnn = Sequential()\n",
    "\n",
    "# Adds a 2D convolutional layer with 32 filters, all 3x3 pixels, sets the \n",
    "# activation method as ReLU to make all negative values zero, and defines\n",
    "# the input shape as 48x48 pixels.\n",
    "cnn.add(Conv2D(32, kernel_size = (3, 3), activation = 'relu', \n",
    "                 input_shape = (48, 48, 1)))\n",
    "cnn.add(BatchNormalization()) # Adds Batch Normalization to the model.\n",
    "# Adds a max pooling layer with a size of 2x2, which helps mitigate overfitting.\n",
    "cnn.add(MaxPooling2D(pool_size = (2, 2)))\n",
    "\n",
    "# Adds a convolutional layer with 64 filters, all 3x3 pixels again.\n",
    "cnn.add(Conv2D(64, kernel_size = (3, 3), activation = 'relu'))\n",
    "cnn.add(BatchNormalization()) # Adds Batch Normalization to the model.\n",
    "cnn.add(MaxPooling2D(pool_size = (2, 2)))\n",
    "\n",
    "# Adds a convolutional layer with 128 filters, all 3x3 pixels again.\n",
    "cnn.add(Conv2D(128, kernel_size = (3, 3), activation = 'relu'))\n",
    "cnn.add(BatchNormalization()) # Adds Batch Normalization to the model.\n",
    "cnn.add(MaxPooling2D(pool_size = (2, 2)))\n",
    "\n",
    "# Flattens the data into a 1D vector.\n",
    "cnn.add(Flatten())\n",
    "# Adds a fully connected layer with 128 neurons.\n",
    "cnn.add(Dense(128, activation = 'relu'))\n",
    "# Adds a dropout layer to prevent overfitting. 50% of the inputs are changed\n",
    "# to zero during this training.\n",
    "cnn.add(Dropout(0.5))\n",
    "cnn.add(BatchNormalization()) # Adds Batch Normalization to the model.\n",
    "# Adds an output layer with 7 neurons (1 for each class) and converts the output\n",
    "# into probabilities (softmax). \n",
    "cnn.add(Dense(7, activation = 'softmax'))"
   ]
  },
  {
   "cell_type": "code",
   "execution_count": 61,
   "id": "8efd97d9",
   "metadata": {},
   "outputs": [],
   "source": [
    "# Gets the model ready for use with the photos, using the same parameters\n",
    "# as before. \n",
    "cnn.compile(optimizer = Adam(), loss = 'categorical_crossentropy',\n",
    "              metrics = ['accuracy'])"
   ]
  },
  {
   "cell_type": "code",
   "execution_count": 62,
   "id": "f97f000d",
   "metadata": {},
   "outputs": [
    {
     "name": "stdout",
     "output_type": "stream",
     "text": [
      "Epoch 1/50\n",
      "447/447 [==============================] - 10s 21ms/step - loss: 1.7646 - accuracy: 0.3389 - val_loss: 1.5992 - val_accuracy: 0.3898\n",
      "Epoch 2/50\n",
      "447/447 [==============================] - 9s 21ms/step - loss: 1.4482 - accuracy: 0.4495 - val_loss: 1.4964 - val_accuracy: 0.4174\n",
      "Epoch 3/50\n",
      "447/447 [==============================] - 10s 22ms/step - loss: 1.3447 - accuracy: 0.4913 - val_loss: 1.2948 - val_accuracy: 0.5113\n",
      "Epoch 4/50\n",
      "447/447 [==============================] - 9s 20ms/step - loss: 1.2838 - accuracy: 0.5134 - val_loss: 1.2286 - val_accuracy: 0.5351\n",
      "Epoch 5/50\n",
      "447/447 [==============================] - 9s 21ms/step - loss: 1.2435 - accuracy: 0.5322 - val_loss: 1.2654 - val_accuracy: 0.5168\n",
      "Epoch 6/50\n",
      "447/447 [==============================] - 9s 21ms/step - loss: 1.2119 - accuracy: 0.5442 - val_loss: 1.2181 - val_accuracy: 0.5429\n",
      "Epoch 7/50\n",
      "447/447 [==============================] - 9s 21ms/step - loss: 1.1851 - accuracy: 0.5553 - val_loss: 1.2085 - val_accuracy: 0.5339\n",
      "Epoch 8/50\n",
      "447/447 [==============================] - 9s 21ms/step - loss: 1.1598 - accuracy: 0.5671 - val_loss: 1.4665 - val_accuracy: 0.4668\n",
      "Epoch 9/50\n",
      "447/447 [==============================] - 9s 21ms/step - loss: 1.1423 - accuracy: 0.5724 - val_loss: 1.1981 - val_accuracy: 0.5532\n",
      "Epoch 10/50\n",
      "447/447 [==============================] - 9s 21ms/step - loss: 1.1312 - accuracy: 0.5767 - val_loss: 1.1724 - val_accuracy: 0.5576\n",
      "Epoch 11/50\n",
      "447/447 [==============================] - 9s 20ms/step - loss: 1.1118 - accuracy: 0.5857 - val_loss: 1.1392 - val_accuracy: 0.5757\n",
      "Epoch 12/50\n",
      "447/447 [==============================] - 9s 20ms/step - loss: 1.0947 - accuracy: 0.5942 - val_loss: 1.1381 - val_accuracy: 0.5763\n",
      "Epoch 13/50\n",
      "447/447 [==============================] - 9s 20ms/step - loss: 1.0873 - accuracy: 0.5929 - val_loss: 1.1053 - val_accuracy: 0.5874\n",
      "Epoch 14/50\n",
      "447/447 [==============================] - 9s 21ms/step - loss: 1.0775 - accuracy: 0.5997 - val_loss: 1.1611 - val_accuracy: 0.5663\n",
      "Epoch 15/50\n",
      "447/447 [==============================] - 9s 21ms/step - loss: 1.0661 - accuracy: 0.6038 - val_loss: 1.1931 - val_accuracy: 0.5579\n",
      "Epoch 16/50\n",
      "447/447 [==============================] - 9s 21ms/step - loss: 1.0544 - accuracy: 0.6062 - val_loss: 1.1934 - val_accuracy: 0.5583\n",
      "Epoch 17/50\n",
      "447/447 [==============================] - 9s 20ms/step - loss: 1.0491 - accuracy: 0.6102 - val_loss: 1.1758 - val_accuracy: 0.5588\n",
      "Epoch 18/50\n",
      "447/447 [==============================] - 9s 20ms/step - loss: 1.0344 - accuracy: 0.6171 - val_loss: 1.1238 - val_accuracy: 0.5843\n",
      "Epoch 19/50\n",
      "447/447 [==============================] - 9s 20ms/step - loss: 1.0296 - accuracy: 0.6187 - val_loss: 1.3139 - val_accuracy: 0.5184\n",
      "Epoch 20/50\n",
      "447/447 [==============================] - 9s 21ms/step - loss: 1.0246 - accuracy: 0.6198 - val_loss: 1.0787 - val_accuracy: 0.6052\n",
      "Epoch 21/50\n",
      "447/447 [==============================] - 9s 21ms/step - loss: 1.0082 - accuracy: 0.6291 - val_loss: 1.0804 - val_accuracy: 0.5953\n",
      "Epoch 22/50\n",
      "447/447 [==============================] - 9s 20ms/step - loss: 1.0071 - accuracy: 0.6279 - val_loss: 1.1083 - val_accuracy: 0.5828\n",
      "Epoch 23/50\n",
      "447/447 [==============================] - 9s 20ms/step - loss: 0.9965 - accuracy: 0.6314 - val_loss: 1.1022 - val_accuracy: 0.5921\n",
      "Epoch 24/50\n",
      "447/447 [==============================] - 9s 21ms/step - loss: 0.9921 - accuracy: 0.6305 - val_loss: 1.1426 - val_accuracy: 0.5812\n",
      "Epoch 25/50\n",
      "447/447 [==============================] - 9s 20ms/step - loss: 0.9851 - accuracy: 0.6341 - val_loss: 1.1129 - val_accuracy: 0.5847\n",
      "Epoch 26/50\n",
      "447/447 [==============================] - 9s 21ms/step - loss: 0.9811 - accuracy: 0.6381 - val_loss: 1.1884 - val_accuracy: 0.5683\n",
      "Epoch 27/50\n",
      "447/447 [==============================] - 9s 20ms/step - loss: 0.9769 - accuracy: 0.6387 - val_loss: 1.1212 - val_accuracy: 0.5825\n",
      "Epoch 28/50\n",
      "447/447 [==============================] - 9s 20ms/step - loss: 0.9700 - accuracy: 0.6441 - val_loss: 1.1061 - val_accuracy: 0.5959\n",
      "Epoch 29/50\n",
      "447/447 [==============================] - 9s 20ms/step - loss: 0.9645 - accuracy: 0.6446 - val_loss: 1.1844 - val_accuracy: 0.5657\n",
      "Epoch 30/50\n",
      "447/447 [==============================] - 9s 21ms/step - loss: 0.9635 - accuracy: 0.6445 - val_loss: 1.1041 - val_accuracy: 0.5907\n",
      "Epoch 31/50\n",
      "447/447 [==============================] - 9s 21ms/step - loss: 0.9535 - accuracy: 0.6489 - val_loss: 1.0633 - val_accuracy: 0.6091\n",
      "Epoch 32/50\n",
      "447/447 [==============================] - 9s 21ms/step - loss: 0.9509 - accuracy: 0.6511 - val_loss: 1.0863 - val_accuracy: 0.5971\n",
      "Epoch 33/50\n",
      "447/447 [==============================] - 9s 20ms/step - loss: 0.9455 - accuracy: 0.6503 - val_loss: 1.1089 - val_accuracy: 0.5904\n",
      "Epoch 34/50\n",
      "447/447 [==============================] - 9s 20ms/step - loss: 0.9491 - accuracy: 0.6526 - val_loss: 1.0934 - val_accuracy: 0.5960\n",
      "Epoch 35/50\n",
      "447/447 [==============================] - 9s 21ms/step - loss: 0.9356 - accuracy: 0.6544 - val_loss: 1.0797 - val_accuracy: 0.6059\n",
      "Epoch 36/50\n",
      "447/447 [==============================] - 9s 21ms/step - loss: 0.9292 - accuracy: 0.6602 - val_loss: 1.1110 - val_accuracy: 0.5939\n",
      "Epoch 37/50\n",
      "447/447 [==============================] - 9s 21ms/step - loss: 0.9247 - accuracy: 0.6603 - val_loss: 1.1917 - val_accuracy: 0.5587\n",
      "Epoch 38/50\n",
      "447/447 [==============================] - 9s 20ms/step - loss: 0.9280 - accuracy: 0.6615 - val_loss: 1.0692 - val_accuracy: 0.6099\n",
      "Epoch 39/50\n",
      "447/447 [==============================] - 9s 21ms/step - loss: 0.9208 - accuracy: 0.6617 - val_loss: 1.1284 - val_accuracy: 0.5936\n",
      "Epoch 40/50\n",
      "447/447 [==============================] - 9s 21ms/step - loss: 0.9167 - accuracy: 0.6615 - val_loss: 1.0798 - val_accuracy: 0.6018\n",
      "Epoch 41/50\n",
      "447/447 [==============================] - 9s 21ms/step - loss: 0.9118 - accuracy: 0.6675 - val_loss: 1.2270 - val_accuracy: 0.5559\n",
      "Epoch 42/50\n",
      "447/447 [==============================] - 10s 21ms/step - loss: 0.9100 - accuracy: 0.6696 - val_loss: 1.1034 - val_accuracy: 0.5978\n",
      "Epoch 43/50\n",
      "447/447 [==============================] - 9s 20ms/step - loss: 0.9088 - accuracy: 0.6692 - val_loss: 1.2124 - val_accuracy: 0.5591\n",
      "Epoch 44/50\n",
      "447/447 [==============================] - 9s 21ms/step - loss: 0.9011 - accuracy: 0.6706 - val_loss: 1.1250 - val_accuracy: 0.5911\n",
      "Epoch 45/50\n",
      "447/447 [==============================] - 10s 21ms/step - loss: 0.9055 - accuracy: 0.6710 - val_loss: 1.0834 - val_accuracy: 0.6042\n",
      "Epoch 46/50\n",
      "447/447 [==============================] - 9s 21ms/step - loss: 0.9005 - accuracy: 0.6690 - val_loss: 1.0905 - val_accuracy: 0.5990\n",
      "Epoch 47/50\n",
      "447/447 [==============================] - 9s 21ms/step - loss: 0.9015 - accuracy: 0.6723 - val_loss: 1.0833 - val_accuracy: 0.6050\n",
      "Epoch 48/50\n",
      "447/447 [==============================] - 10s 22ms/step - loss: 0.8953 - accuracy: 0.6751 - val_loss: 1.1274 - val_accuracy: 0.5892\n",
      "Epoch 49/50\n",
      "447/447 [==============================] - 9s 21ms/step - loss: 0.8878 - accuracy: 0.6733 - val_loss: 1.1066 - val_accuracy: 0.6002\n",
      "Epoch 50/50\n",
      "447/447 [==============================] - 9s 21ms/step - loss: 0.8838 - accuracy: 0.6786 - val_loss: 1.0845 - val_accuracy: 0.6070\n"
     ]
    },
    {
     "data": {
      "text/plain": [
       "<keras.src.callbacks.History at 0x1760c40d0>"
      ]
     },
     "execution_count": 62,
     "metadata": {},
     "output_type": "execute_result"
    }
   ],
   "source": [
    "# Fits the model to the training and validation data, running through the epochs.\n",
    "cnn.fit(\n",
    "    train_generator,\n",
    "    # Tells the model to divide the number of samples by the batch size of the\n",
    "    # model to calculate how many batches of data will be processed for each epoch.\n",
    "    steps_per_epoch = train_generator.samples // train_generator.batch_size,\n",
    "    # Specifies the number of epochs the model will go through. We set it to\n",
    "    # 50, so the training dataset will go through the model 50 times.\n",
    "    epochs = 50,\n",
    "    # Initializes the validation data the model will use to test its efficiency.\n",
    "    validation_data = test_generator,\n",
    "    # Calculates how many batches of data will be processed for each validation\n",
    "    # epoch. \n",
    "    validation_steps = test_generator.samples // test_generator.batch_size)"
   ]
  },
  {
   "cell_type": "code",
   "execution_count": 63,
   "id": "117f5ee7",
   "metadata": {},
   "outputs": [
    {
     "name": "stdout",
     "output_type": "stream",
     "text": [
      "112/112 [==============================] - 1s 8ms/step - loss: 1.0873 - accuracy: 0.6059\n"
     ]
    },
    {
     "data": {
      "text/plain": [
       "[1.0873451232910156, 0.60594642162323]"
      ]
     },
     "execution_count": 63,
     "metadata": {},
     "output_type": "execute_result"
    }
   ],
   "source": [
    "# Evaluates the model on the test data.\n",
    "cnn.evaluate(test_generator)"
   ]
  },
  {
   "cell_type": "markdown",
   "id": "8061a4ad",
   "metadata": {},
   "source": [
    "Adding a batch normalization function in this twelveth model seemed to improve the model a lot. The model's accuracy was 60.59%, and the loss value was 1.09."
   ]
  },
  {
   "cell_type": "code",
   "execution_count": 64,
   "id": "9538c1fc",
   "metadata": {},
   "outputs": [
    {
     "name": "stdout",
     "output_type": "stream",
     "text": [
      "112/112 [==============================] - 1s 5ms/step\n",
      "              precision    recall  f1-score   support\n",
      "\n",
      "       angry       0.15      0.15      0.15       956\n",
      "     disgust       0.00      0.00      0.00       111\n",
      "        fear       0.15      0.18      0.16      1023\n",
      "       happy       0.25      0.23      0.24      1772\n",
      "     neutral       0.18      0.18      0.18      1228\n",
      "         sad       0.16      0.16      0.16      1245\n",
      "    surprise       0.11      0.11      0.11       829\n",
      "\n",
      "    accuracy                           0.17      7164\n",
      "   macro avg       0.14      0.14      0.14      7164\n",
      "weighted avg       0.17      0.17      0.17      7164\n",
      "\n"
     ]
    }
   ],
   "source": [
    "# Calculates the predicted values on the test data and stores it in a variable.\n",
    "# The '+ 1' is to make sure any remaining photos that aren't included in a \n",
    "# full batch are included in the predictions.\n",
    "Y_preds = cnn.predict(test_generator, \n",
    "                       test_generator.samples // test_generator.batch_size + 1)\n",
    "# Converts the probabilities to class labels. \n",
    "preds = np.argmax(Y_preds, axis=1)\n",
    "# Retrieves the true class labels for the images.\n",
    "true_vals = test_generator.classes\n",
    "# Retrieves the labels from the 'test_generator' variable.\n",
    "class_labels = list(test_generator.class_indices.keys())\n",
    "# Generates and prints the classification report of the predicted vs. \n",
    "# true classes.\n",
    "print(classification_report(true_vals, preds, target_names=class_labels))"
   ]
  },
  {
   "cell_type": "code",
   "execution_count": 65,
   "id": "677b9179",
   "metadata": {},
   "outputs": [
    {
     "data": {
      "image/png": "[encoded data removed]",
      "text/plain": [
       "<Figure size 1000x800 with 1 Axes>"
      ]
     },
     "metadata": {},
     "output_type": "display_data"
    }
   ],
   "source": [
    "# Creates a confusion matrix of the true vs. predicted classes.\n",
    "conf_matrix = confusion_matrix(y_true, y_pred)\n",
    "\n",
    "# Plots the confusion matrix using seaborn, and matplotlib is used to\n",
    "# display it.\n",
    "plt.figure(figsize=(10, 8))\n",
    "sns.heatmap(conf_matrix, annot=True, fmt='d', cmap='Blues', cbar=False,\n",
    "            xticklabels=class_labels, yticklabels=class_labels)\n",
    "plt.title('Confusion Matrix')\n",
    "plt.xlabel('Predicted')\n",
    "plt.ylabel('True')\n",
    "plt.show()"
   ]
  },
  {
   "cell_type": "markdown",
   "id": "d1ce84bc",
   "metadata": {},
   "source": [
    "##### References\n",
    "- https://www.tensorflow.org/tutorials/images/cnn\n",
    "- https://www.analyticsvidhya.com/blog/2021/01/image-classification-using-convolutional-neural-networks-a-step-by-step-guide/\n",
    "- https://www.geeksforgeeks.org/emotion-detection-using-convolutional-neural-networks-cnns/\n",
    "- https://medium.com/@birdortyedi_23820/deep-learning-lab-episode-3-fer2013-c38f2e052280#:~:text=fer2013%20is%20an%20open%2Dsource,competition%2C%20shortly%20before%20ICML%202013\n",
    "- https://nupmanyu.medium.com/understanding-cnn-convolution-neural-network-b6eebab447f2\n",
    "- https://www.baeldung.com/cs/batch-normalization-cnn"
   ]
  }
 ],
 "metadata": {
  "kernelspec": {
   "display_name": "Python 3 (ipykernel)",
   "language": "python",
   "name": "python3"
  },
  "language_info": {
   "codemirror_mode": {
    "name": "ipython",
    "version": 3
   },
   "file_extension": ".py",
   "mimetype": "text/x-python",
   "name": "python",
   "nbconvert_exporter": "python",
   "pygments_lexer": "ipython3",
   "version": "3.11.7"
  }
 },
 "nbformat": 4,
 "nbformat_minor": 5
}
