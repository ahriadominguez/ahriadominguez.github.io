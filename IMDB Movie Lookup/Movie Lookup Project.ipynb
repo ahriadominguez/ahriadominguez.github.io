{
 "cells": [
  {
   "cell_type": "markdown",
   "id": "573533b0-6f1e-46e8-8b34-ff56986eeed7",
   "metadata": {},
   "source": [
    "# IMDB Movie Lookup System\n",
    "## Author: Ahria Dominguez\n",
    "### Last Updated: 6/29/2024"
   ]
  },
  {
   "cell_type": "markdown",
   "id": "878c64bf-0486-42e6-9472-5be719d61a0c",
   "metadata": {},
   "source": [
    "#### Import libraries."
   ]
  },
  {
   "cell_type": "code",
   "execution_count": 1,
   "id": "712120fc-0bd6-47c5-a2fc-488918003289",
   "metadata": {},
   "outputs": [],
   "source": [
    "# Imports the necessary libraries.\n",
    "import urllib.request, urllib.parse, urllib.error\n",
    "import json\n",
    "import os"
   ]
  },
  {
   "cell_type": "markdown",
   "id": "d81fd0f1-1401-4937-a8a4-bea682f2bcca",
   "metadata": {},
   "source": [
    "#### Obtain a key and store it in JSON as *APIkeys.json*. \n",
    "To keep my API key from being shown, I already used json.dump to create a .json file with my API key in a dictionary. You can dump your API key into the same file name to use the rest of the code."
   ]
  },
  {
   "cell_type": "markdown",
   "id": "14f76865-c19f-4ab4-b368-d9870e0fa013",
   "metadata": {},
   "source": [
    "#### Load the secret API key from a JSON file stored in the same folder in a variable, by using *json.loads*. Open the _APIkeys.json_ file."
   ]
  },
  {
   "cell_type": "code",
   "execution_count": 2,
   "id": "2e712a5a-8aa8-4ca3-8e23-140fa79b35ac",
   "metadata": {},
   "outputs": [],
   "source": [
    "# 'json.loads' does not work here since we're loading in a file and not a string, so I will use 'json.load'.\n",
    "# Opens the same file name as above in a read-only format and assigns it to 'api_key' for future access. It\n",
    "# also assigns just the API key number to a variable to use later.\n",
    "with open('APIkeys.json', 'r') as json_file:\n",
    "    api_file = json.load(json_file)\n",
    "    my_key = api_file['api_key']\n",
    "    \n",
    "# To protect my key, I will not be printing off the results to show it loaded. However, I did check to make\n",
    "# sure it worked, then deleted the cells."
   ]
  },
  {
   "cell_type": "markdown",
   "id": "ed70d970-efad-4ad6-a286-42bb4811cf9d",
   "metadata": {},
   "source": [
    "#### Assign the OMDb portal as a string to a variable."
   ]
  },
  {
   "cell_type": "code",
   "execution_count": 3,
   "id": "648e0ccc-9388-406f-aea3-ebb0e5917856",
   "metadata": {},
   "outputs": [],
   "source": [
    "# Assigns the portal URL to 'serviceurl' since it says to reference it like that later on.\n",
    "serviceurl = 'http://www.omdbapi.com/?'"
   ]
  },
  {
   "cell_type": "markdown",
   "id": "5a7aca8a-0d79-4607-b22d-baa146b49214",
   "metadata": {},
   "source": [
    "#### Create a variable called *apikey* with the last portion of the URL (*&apikey=secretapikey*), where *secretapikey* is your own API key."
   ]
  },
  {
   "cell_type": "code",
   "execution_count": 4,
   "id": "26cbe3c5-7e06-4282-b34d-764c07fe65e7",
   "metadata": {},
   "outputs": [],
   "source": [
    "# Assigns the API key portion of the URL to 'apikey'.\n",
    "apikey = '&apikey=' + my_key"
   ]
  },
  {
   "cell_type": "markdown",
   "id": "574f0c86-ebfc-4f21-a4af-7be19c4f817d",
   "metadata": {},
   "source": [
    "#### Write a utility function called *print_json* to print the movie data from a JSON file."
   ]
  },
  {
   "cell_type": "code",
   "execution_count": 5,
   "id": "ece1f985-fdfa-48e0-9a73-897b02ff2301",
   "metadata": {},
   "outputs": [],
   "source": [
    "# Creates the 'print_json' function to print the value data from the list of keys that are given when\n",
    "# calling for information from the API. I found these keys by going to the API website, going to 'Examples',\n",
    "# scrolling down and entering the 'Titanic' movie's information under 'By Title', and writing down the keys\n",
    "# that are given in the response. I ignored the 'Poster' and 'Response' keys since I'll access them later.\n",
    "def print_json(movie):\n",
    "    keys = ['Title', 'Year', 'Rated', 'Released', 'Runtime', 'Genre', 'Director', 'Writer', \n",
    "               'Actors', 'Plot', 'Language', 'Country', 'Awards', 'Ratings', \n",
    "               'Metascore', 'imdbRating', 'imdbVotes', 'imdbID', 'Type', 'DVD', 'BoxOffice', 'Production',\n",
    "              'Website']\n",
    "    \n",
    "    print(\"_\" * 100) # Prints a line to break up the information.\n",
    "    # Loops through the indices in the above list and prints the keys and values if they are there. If a key\n",
    "    # does not exist for a movie, it will print \"Not a key for this movie\" in the value spot. This is good for\n",
    "    # error handling.\n",
    "    for k in keys:\n",
    "        value = movie.get(k, \"Not a key for this movie.\")\n",
    "        print(f\"{k}: {movie[k]}\")\n",
    "    print(\"_\" * 100) # Prints more lines to break up the space."
   ]
  },
  {
   "cell_type": "markdown",
   "id": "f1c8bc8d-becc-4ea9-a742-70beaf64537e",
   "metadata": {},
   "source": [
    "#### Write a utility function to download a poster of the movie based on the information from the JSON dataset and save it in your local folder. Use the *os* module. The poster data is stored in the JSON key *Poster*. Use the Python command to open a file and write the poster data. Close the file after you're done. This function will save the poster data as an image file."
   ]
  },
  {
   "cell_type": "code",
   "execution_count": 6,
   "id": "4a78fc84-73fa-4f9a-9841-b02d3afe587f",
   "metadata": {},
   "outputs": [],
   "source": [
    "# Creates the 'download_poster' function to access the poster URL, download the image of the poster, and save\n",
    "# it to a new folder in the current directory. \n",
    "def download_poster(movie):\n",
    "    # Accesses the movie's Title key.\n",
    "    title = movie['Title']\n",
    "    # Accesses the movie's poster URL key.\n",
    "    poster_url = movie['Poster']\n",
    "    # Prints the poster URL for error checking.\n",
    "    print(f\"Poster URL: {poster_url}\")\n",
    "    \n",
    "    # Finds the ending of the poster URL to know how to format the file (e.g., '.jpg', '.png', etc.)\n",
    "    file_extension = poster_url.split('.')[-1]\n",
    "    # Reads the images using the URL.\n",
    "    poster_data = urllib.request.urlopen(poster_url).read()\n",
    "    \n",
    "    # Assigns the path to save the file to be in the current directory but under a new file (or already\n",
    "    # created one if it's already been run) called 'Posters'.    \n",
    "    save_file = os.path.join(os.getcwd(), 'Posters')\n",
    "    # Tells Python to make the new file directory if it isn't already there.\n",
    "    if not os.path.isdir(save_file):\n",
    "        os.mkdir(save_file)\n",
    "    # Assigns the name of the file using the file path, title, and file extension to 'file_name'.\n",
    "    file_name = os.path.join(save_file, f\"{title}.{file_extension}\")\n",
    "    \n",
    "    # Uses a try-except block to open and write the file name variable, writes the poster data into that file,\n",
    "    # indicates whether it worked or not with a printed message (and an error if it did not work), prints\n",
    "    # where the file was saved (the path), and then closes the file. \n",
    "    try:\n",
    "        with open(file_name, 'wb') as fhand:\n",
    "            fhand.write(poster_data)\n",
    "        print(f\"Poster was downloaded to the directory: {file_name}\")\n",
    "    except Exception as error:\n",
    "        print(f\"There was an error saving the poster: {error}\")\n",
    "        \n",
    "# It's better to use \"with open\" rather than open(file_name) and file_name.close() because\n",
    "# it will do it for you once the loop is done. Then, you won't forget to close it. "
   ]
  },
  {
   "cell_type": "markdown",
   "id": "8b875969-bb18-4c36-8a3b-b69ca6edd9a7",
   "metadata": {},
   "source": [
    "#### Write a utility function called *search_movie* to search for a movie by its name, print the downloaded *JSON* data, and save the movie poster in the local folder. Use a *try-except* loop for this. Use the previously created *serviceurl* and *apikey* variables. You have to pass on a dictionary with a key, *t*, and the movie name as the corresponding value to the *urllib.parse.urlencode()* function and then add the *serviceurl* and *apikey* to the output of the function to construct the full URL. This URL will be used to access the data. The JSON data has a key called *Response*. If it is *True*, that means the read was successful. Check this before processing the data. If it's not successful, then print the *JSON* key *Error*, which will contain the appropriate error message returned by the movie database."
   ]
  },
  {
   "cell_type": "code",
   "execution_count": 7,
   "id": "a52a2703-d858-4906-8c3e-b94b01ce49e1",
   "metadata": {},
   "outputs": [],
   "source": [
    "# Creates a function called 'search_movie' that searches for the desired movie, checks if the movie read was \n",
    "# successful (using 'Response' == True/False), prints the dictionary values of the movie information (see \n",
    "# 'print_json' function), downloads the movie poster (see 'download_poster' function), and prints any errors \n",
    "# that were encountered.\n",
    "def search_movie(title):\n",
    "    # Begins a try-except block to set the title of the movie as a parameter to the URL, as well as the API\n",
    "    # key, sets the URL, and prints a statement that the title is being accessed. When testing the code, you\n",
    "    # could also have it print out the URL being accessed, but it shouldn't stay in the code if other people\n",
    "    # will access it, since it will have your API key. \n",
    "    try:\n",
    "        parameter = {'t': title}\n",
    "        url = f\"{serviceurl}{urllib.parse.urlencode(parameter)}{apikey}\"\n",
    "        print(f'Information on \"{title}:\"')\n",
    "        # Opens the URL thorugh urllib.request and reads the data.\n",
    "        uh = urllib.request.urlopen(url)\n",
    "        data = uh.read()\n",
    "        # Loads the JSON data into the 'movie_data' variable.\n",
    "        movie_data = json.loads(data)\n",
    "        \n",
    "        # Checks if the 'Response' key's value is True and then uses the 'print_json' function on the movie\n",
    "        # data if it is.\n",
    "        if movie_data['Response'] == 'True':\n",
    "            print_json(movie_data)\n",
    "            # Also checks to see if the 'Poster' key is not empty before performing the 'download_poster' \n",
    "            # function on the data.\n",
    "            if movie_data['Poster'] != 'N/A':\n",
    "                download_poster(movie_data)\n",
    "            else:\n",
    "                pass\n",
    "        else:\n",
    "            print(\"There was an error accessing the movie data: \", movie_data['Error'])\n",
    "    \n",
    "    # Ends the try-except block by handling any errors that may have been encountered through accessing the \n",
    "    # URL and prints the error reason.\n",
    "    except urllib.error.URLError as error:\n",
    "        print(f\"Sorry! There was an error: {error.reason}\")"
   ]
  },
  {
   "cell_type": "markdown",
   "id": "514a21b5-254a-485c-8875-51fb7b1ef313",
   "metadata": {},
   "source": [
    "#### Test the *search_movie* function by entering *Titanic*."
   ]
  },
  {
   "cell_type": "code",
   "execution_count": 8,
   "id": "dbbfaa91-a3b0-4bb8-bd76-6f02fc99d6ae",
   "metadata": {},
   "outputs": [
    {
     "name": "stdout",
     "output_type": "stream",
     "text": [
      "Information on \"Titanic:\"\n",
      "____________________________________________________________________________________________________\n",
      "Title: Titanic\n",
      "Year: 1997\n",
      "Rated: PG-13\n",
      "Released: 19 Dec 1997\n",
      "Runtime: 194 min\n",
      "Genre: Drama, Romance\n",
      "Director: James Cameron\n",
      "Writer: James Cameron\n",
      "Actors: Leonardo DiCaprio, Kate Winslet, Billy Zane\n",
      "Plot: A seventeen-year-old aristocrat falls in love with a kind but poor artist aboard the luxurious, ill-fated R.M.S. Titanic.\n",
      "Language: English, Swedish, Italian, French\n",
      "Country: United States, Mexico\n",
      "Awards: Won 11 Oscars. 126 wins & 83 nominations total\n",
      "Ratings: [{'Source': 'Internet Movie Database', 'Value': '7.9/10'}, {'Source': 'Rotten Tomatoes', 'Value': '88%'}, {'Source': 'Metacritic', 'Value': '75/100'}]\n",
      "Metascore: 75\n",
      "imdbRating: 7.9\n",
      "imdbVotes: 1,287,662\n",
      "imdbID: tt0120338\n",
      "Type: movie\n",
      "DVD: N/A\n",
      "BoxOffice: $674,292,608\n",
      "Production: N/A\n",
      "Website: N/A\n",
      "____________________________________________________________________________________________________\n",
      "Poster URL: https://m.media-amazon.com/images/M/MV5BMDdmZGU3NDQtY2E5My00ZTliLWIzOTUtMTY4ZGI1YjdiNjk3XkEyXkFqcGdeQXVyNTA4NzY1MzY@._V1_SX300.jpg\n",
      "Poster was downloaded to the directory: /Users/ahria/Documents/Bellevue Courses/DSC 680 Applied Data Science/Portfolio/Projects/Movie IMDB Lookup/Posters/Titanic.jpg\n"
     ]
    }
   ],
   "source": [
    "# Searches for the movie \"Titanic\" using the function created above.\n",
    "search_movie(\"Titanic\")"
   ]
  },
  {
   "cell_type": "markdown",
   "id": "f87df3bc-2c1c-4f74-a63f-820acf4af3db",
   "metadata": {},
   "source": [
    "#### Test the *search_movie* function by entering *\"Random_error\"*."
   ]
  },
  {
   "cell_type": "code",
   "execution_count": 9,
   "id": "3baec84f-0136-4ec1-9fe7-b967eae4cafd",
   "metadata": {},
   "outputs": [
    {
     "name": "stdout",
     "output_type": "stream",
     "text": [
      "Information on \"Random_error:\"\n",
      "There was an error accessing the movie data:  Movie not found!\n"
     ]
    }
   ],
   "source": [
    "# Searches for a non-existent movie \"Random_error\" to show that the function can handle bad responses.\n",
    "search_movie(\"Random_error\")"
   ]
  }
 ],
 "metadata": {
  "kernelspec": {
   "display_name": "Python 3 (ipykernel)",
   "language": "python",
   "name": "python3"
  },
  "language_info": {
   "codemirror_mode": {
    "name": "ipython",
    "version": 3
   },
   "file_extension": ".py",
   "mimetype": "text/x-python",
   "name": "python",
   "nbconvert_exporter": "python",
   "pygments_lexer": "ipython3",
   "version": "3.11.7"
  }
 },
 "nbformat": 4,
 "nbformat_minor": 5
}
