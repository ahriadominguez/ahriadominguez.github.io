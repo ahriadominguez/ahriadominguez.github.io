{
 "cells": [
  {
   "cell_type": "markdown",
   "id": "bedbdf55",
   "metadata": {},
   "source": [
    "# Predicting Life Satisfaction\n",
    "## Author: Ahria Dominguez\n",
    "### Last Updated: 6/30/2024"
   ]
  },
  {
   "cell_type": "markdown",
   "id": "3c32654e",
   "metadata": {},
   "source": [
    "In this project, we use a dataset from Jong and colleagues (2020) on traumatic experiences and religiosity to see if life satisfaction can be predicted using the other features in the dataset. \n",
    "\n",
    "We run several different models on the data to determine the best-fitting model, including regressors and classifiers. This notebook only includes running the models and not all the data cleaning that was performed. That is in a separate notebook.\n",
    "\n",
    "The data includes:\n",
    "\n",
    "- COUNTRY: numeric code for the participant's country\n",
    "- GENDER: numeric code for the participant's gender\n",
    "- AGE: participant's age\n",
    "- ABROAD: numeric code for if the participant has lived in another country\n",
    "- ABROAD_YEAR: number of years the participant has lived in other countries\n",
    "- MARITAL: numeric code for the participant's marital status\n",
    "- EMPLOYMENT: numeric code for the participant's employment status\n",
    "- INCOME: numeric code for the participant's income level (exact income not given in the de-identified data)\n",
    "- LE1-LE29: individual Traumatic Life Events Index responses\n",
    "- DASS1-DASS21: individual Depression Anxiety Stress Scales responses\n",
    "- EX1-EX5: individual subjective Existential Security responses\n",
    "- RELG_UP: question asking how religious the participant's upbringing was\n",
    "- AFF_UP: the religious affiliation during the participant's upbringing\n",
    "- RELG_NOW: question asking how religious the participant is now\n",
    "- AFF_NOW: question asking about the religious affiliation of the participant now\n",
    "- AFFILIATION: coded current religious affiliation\n",
    "- SBS1-SBS6: individual Supernatural Belief Scale responses\n",
    "- RELBEH1-RELBEH5: individual religious behavior responses\n",
    "- LOCUS1-LOCUS6: individual Multidimensional Locus of Control Measure responses\n",
    "- GOD1-GOD14: individual Views of God scale responses\n",
    "- SWLS1-SWLS5: individual Satisfaction with Life Scale responses\n",
    "- DAQ1-DAQ15: individual Death Anxiety Questionnaire responses\n",
    "- JONG1-JONG12: individual Existential Death Anxiety Scale responses\n",
    "- DROP1: if the participant passed/failed the first attention check\n",
    "- CHECK: if the participant passed/failed all attention checks\n",
    "- SBS: average score of the SBS\n",
    "- EDAS: average score of the EDAS\n",
    "- DAQ: average score of the DAQ\n",
    "- LE_Sum: self-calculated Traumatic Life Events Index score\n",
    "- DASS_Stress: self-calculated Stress score\n",
    "- DASS_Anxiety: self-calculated Anxiety score\n",
    "- DASS_Depression: self-calculated Depression score\n",
    "- EX_Mean: self-calculated Existential Security score\n",
    "- RELBEH_Mean: self-calculated religious behaviors score\n",
    "- LOCUS_Mean: self-calculated Locus of Control score\n",
    "- GOD_Pos: self-calculated Viewing God Positively score\n",
    "- GOD_Neg: self-calculated Viewing God Negatively score\n",
    "- SWLS_Mean: self-calculated Satisfaction with Life score"
   ]
  },
  {
   "cell_type": "markdown",
   "id": "3363741c",
   "metadata": {},
   "source": [
    "##### Import Libraries"
   ]
  },
  {
   "cell_type": "code",
   "execution_count": 1,
   "id": "42b07031",
   "metadata": {},
   "outputs": [],
   "source": [
    "# Imports the pandas library to load in and work with the data.\n",
    "import pandas as pd\n",
    "\n",
    "# Imports the necessary libraries to select features, model the data, \n",
    "# visualize elements, and evaluate the results.\n",
    "import numpy as np\n",
    "import matplotlib.pyplot as plt\n",
    "from sklearn.feature_selection import RFECV, RFE\n",
    "from sklearn.model_selection import train_test_split, GridSearchCV\n",
    "from sklearn.metrics import mean_squared_error, mean_absolute_error, \\\n",
    "accuracy_score, classification_report, confusion_matrix, r2_score\n",
    "import statsmodels.api as sm\n",
    "from sklearn.linear_model import LinearRegression\n",
    "from sklearn.tree import DecisionTreeRegressor, DecisionTreeClassifier\n",
    "from sklearn.svm import SVR, SVC"
   ]
  },
  {
   "cell_type": "markdown",
   "id": "f02a493c",
   "metadata": {},
   "source": [
    "##### Import the Data"
   ]
  },
  {
   "cell_type": "code",
   "execution_count": 2,
   "id": "39f4433f",
   "metadata": {
    "scrolled": true
   },
   "outputs": [
    {
     "name": "stdout",
     "output_type": "stream",
     "text": [
      "   COUNTRY  GENDER  AGE  ABROAD  ABROAD_YEAR  MARITAL  EMPLOYMENT  INCOME  \\\n",
      "0        2       2   35     1.0          2.0        3           1       8   \n",
      "1        3       2   38     1.0          4.0        3           1       8   \n",
      "2        2       2   46     1.0         11.0        1           1       5   \n",
      "3        2       1   35     1.0          9.0        1           4       5   \n",
      "4        2       1   50     1.0          3.0        3           3       5   \n",
      "\n",
      "        SBS      EDAS  ...  LE_Sum  DASS_Stress  DASS_Anxiety  \\\n",
      "0  1.166667  1.666667  ...     2.0         15.0          13.0   \n",
      "1  3.833333  2.333333  ...     6.0         13.0          17.0   \n",
      "2  4.000000 -4.000000  ...     4.0          9.0           9.0   \n",
      "3  0.666667 -4.000000  ...     5.0         14.0          13.0   \n",
      "4  4.000000 -3.333333  ...    11.0         15.0          10.0   \n",
      "\n",
      "   DASS_Depression  EX_Mean  RELBEH_Mean  LOCUS_Mean   GOD_Pos   GOD_Neg  \\\n",
      "0              9.0      4.2          5.4   -0.666667  4.000000 -2.857143   \n",
      "1             12.0      3.8          6.4    2.833333  3.857143 -1.857143   \n",
      "2              7.0      3.0          6.0    3.000000  4.000000  1.428571   \n",
      "3             14.0      3.2          5.4    3.333333  0.142857 -3.000000   \n",
      "4             12.0      2.2          4.4   -0.500000  3.285714 -3.428571   \n",
      "\n",
      "   SWLS_Mean  \n",
      "0        2.4  \n",
      "1        2.4  \n",
      "2        2.2  \n",
      "3        2.2  \n",
      "4        2.0  \n",
      "\n",
      "[5 rows x 21 columns]\n"
     ]
    }
   ],
   "source": [
    "# Loads in the cleaned dataset into 'old_data'.\n",
    "old_data = pd.read_csv(\"new_data.csv\")\n",
    "\n",
    "# Copies over the columns of interest into a new data frame (only getting rid \n",
    "# of individual questionnaire question scores, since I only need the full score).\n",
    "data = old_data[['COUNTRY', 'GENDER', 'AGE', 'ABROAD', 'ABROAD_YEAR', 'MARITAL', \n",
    "                 'EMPLOYMENT', 'INCOME', 'SBS', 'EDAS', 'DAQ', 'LE_Sum', \n",
    "                 'DASS_Stress', 'DASS_Anxiety', 'DASS_Depression', 'EX_Mean', \n",
    "                 'RELBEH_Mean', 'LOCUS_Mean', 'GOD_Pos', 'GOD_Neg',\n",
    "                 'SWLS_Mean']].copy()\n",
    "print(data.head())"
   ]
  },
  {
   "cell_type": "code",
   "execution_count": 3,
   "id": "01b92d73",
   "metadata": {},
   "outputs": [],
   "source": [
    "# Creates a copy of the new data frame for classifying models to use.\n",
    "classifying_data = data.copy()\n",
    "\n",
    "# Determines classes for people based on their satisfaction with life questionnaire\n",
    "# score (SWLS).\n",
    "def swls_cat(score):\n",
    "    if -3 <= score < -1.5:\n",
    "        return '4'\n",
    "    elif -1.5 <= score < 0:\n",
    "        return '3'\n",
    "    elif 0 <= score < 1.5:\n",
    "        return '2'\n",
    "    elif 1.5 <= score <=3:\n",
    "        return '1'\n",
    "    else:\n",
    "        return 'Unknown'\n",
    "    \n",
    "# Adds the classification to a new column in the copied data frame.\n",
    "classifying_data['SWLS_Category'] = classifying_data['SWLS_Mean'].apply(swls_cat)\n",
    "\n",
    "# Drops the 'SWLS_Mean' column since I only want the categorical data in the new,\n",
    "# copied data frame.\n",
    "classifying_data = classifying_data.drop(columns=['SWLS_Mean'])"
   ]
  },
  {
   "cell_type": "markdown",
   "id": "3e7d0273",
   "metadata": {},
   "source": [
    "##### Split the Data - Regressor Models"
   ]
  },
  {
   "cell_type": "code",
   "execution_count": 4,
   "id": "140dd0f7",
   "metadata": {},
   "outputs": [],
   "source": [
    "# Since there are two separate datasets - one for regressor models and one for\n",
    "# classification models - I will split each dataset into train/test sets.\n",
    "\n",
    "# Splits the data into features and target variables ('r' is for regressor).\n",
    "X_r = data.drop(columns='SWLS_Mean')\n",
    "y_r = data['SWLS_Mean']\n",
    "\n",
    "# Splits the data into training and test sets with a random state of 42. \n",
    "X_train_r, X_test_r, y_train_r, y_test_r = train_test_split(X_r, y_r, \n",
    "                                                            test_size=0.25,\n",
    "                                                           random_state=42)"
   ]
  },
  {
   "cell_type": "markdown",
   "id": "29f09017",
   "metadata": {},
   "source": [
    "##### Split the Data - Classification Models"
   ]
  },
  {
   "cell_type": "code",
   "execution_count": 5,
   "id": "a4aa59a2",
   "metadata": {},
   "outputs": [],
   "source": [
    "# Splits the data into features and target variables ('c' is for classifier).\n",
    "X_c = classifying_data.drop(columns='SWLS_Category')\n",
    "y_c = classifying_data['SWLS_Category']\n",
    "\n",
    "# Splits the data into training and test sets with a random state of 42. \n",
    "X_train_c, X_test_c, y_train_c, y_test_c = train_test_split(X_c, y_c, \n",
    "                                                            test_size=0.25,\n",
    "                                                           random_state=42)"
   ]
  },
  {
   "cell_type": "markdown",
   "id": "b8b3a5e3",
   "metadata": {},
   "source": [
    "##### Feature Selection"
   ]
  },
  {
   "cell_type": "markdown",
   "id": "f2194866",
   "metadata": {},
   "source": [
    "However, I don't want the different models to have different features (making it hard to compare), so I will observe similarities in the results."
   ]
  },
  {
   "cell_type": "markdown",
   "id": "759029b0",
   "metadata": {},
   "source": [
    "###### Regressor Models"
   ]
  },
  {
   "cell_type": "markdown",
   "id": "eecea551",
   "metadata": {},
   "source": [
    "Linear Regression"
   ]
  },
  {
   "cell_type": "code",
   "execution_count": 6,
   "id": "a866d977",
   "metadata": {},
   "outputs": [
    {
     "name": "stdout",
     "output_type": "stream",
     "text": [
      "Optimal number of features : 6\n"
     ]
    },
    {
     "data": {
      "image/png": "[encoded data removed]",
      "text/plain": [
       "<Figure size 640x480 with 1 Axes>"
      ]
     },
     "metadata": {},
     "output_type": "display_data"
    }
   ],
   "source": [
    "# Initializes the Linear Regression model.\n",
    "lregress_model = LinearRegression()\n",
    "\n",
    "# Assigns the necessary parameters for the recursive feature elimination with cross \n",
    "# validation (RFECV) for the linear regression. I will be using a cross-validation \n",
    "# parameter of 5 for all CVs. The score parameter of 'neg_mean_squared_error' is \n",
    "# common to use for linear regressions. \n",
    "lregress_rfecv  = RFECV(estimator=lregress_model, step=1, cv=5, \n",
    "                        scoring=\"neg_mean_squared_error\") \n",
    "\n",
    "# Fits the RFECV to the training data.\n",
    "lregress_rfecv.fit(X_train_r, y_train_r)\n",
    "\n",
    "# Prints and plots the optimal amount of features for the linear regression RFECV.\n",
    "print(\"Optimal number of features : %d\" % lregress_rfecv.n_features_)\n",
    "plt.figure()\n",
    "plt.xlabel(\"Number of Features\")\n",
    "plt.ylabel(\"Cross-Validation Score\")\n",
    "plt.plot(range(1, len(lregress_rfecv.cv_results_[\"mean_test_score\"]) + 1), \n",
    "         lregress_rfecv.cv_results_[\"mean_test_score\"])\n",
    "plt.show()"
   ]
  },
  {
   "cell_type": "code",
   "execution_count": 7,
   "id": "1484ea5a",
   "metadata": {},
   "outputs": [
    {
     "name": "stdout",
     "output_type": "stream",
     "text": [
      "Index(['GENDER', 'MARITAL', 'INCOME', 'DASS_Depression', 'RELBEH_Mean',\n",
      "       'GOD_Pos'],\n",
      "      dtype='object')\n"
     ]
    }
   ],
   "source": [
    "# Initializes the recursive feature elimination (RFE), defining the model (linear \n",
    "# regression) and the number of features to choose (found in the RFECV).\n",
    "lregress_rfe = RFE(estimator=lregress_model, n_features_to_select=6)\n",
    "\n",
    "# Fits the RFE to the regression data.\n",
    "lregress_rfe.fit(X_train_r, y_train_r)\n",
    "\n",
    "# Finds the best features and prints them out for later use. \n",
    "lregress_features = X_train_r.columns[lregress_rfe.support_]\n",
    "print(lregress_features)"
   ]
  },
  {
   "cell_type": "markdown",
   "id": "97421ae9",
   "metadata": {},
   "source": [
    "Decision Tree Regressor"
   ]
  },
  {
   "cell_type": "code",
   "execution_count": 8,
   "id": "cd15e4c5",
   "metadata": {},
   "outputs": [
    {
     "name": "stdout",
     "output_type": "stream",
     "text": [
      "Optimal number of features : 1\n"
     ]
    },
    {
     "data": {
      "image/png": "[encoded data removed]",
      "text/plain": [
       "<Figure size 640x480 with 1 Axes>"
      ]
     },
     "metadata": {},
     "output_type": "display_data"
    }
   ],
   "source": [
    "# Initializes the Decision Tree Regressor model. I included 'random_state=42'\n",
    "# based on a StackOverflow article I found (cited below), and without it, it \n",
    "# said that the optimal number of features was 1. I figured that would be \n",
    "# overfitting the model.\n",
    "dtr_model = DecisionTreeRegressor(random_state=42)\n",
    "\n",
    "# Assigns the necessary parameters for the RFECV for the decision tree regressor.\n",
    "dtr_rfecv  = RFECV(estimator=dtr_model, step=1, cv=5, scoring=\"neg_mean_squared_error\") \n",
    "\n",
    "# Fits the RFECV to the training data.\n",
    "dtr_rfecv.fit(X_train_r, y_train_r)\n",
    "\n",
    "# Prints and plots the optimal amount of features for the decision tree regressor RFECV.\n",
    "print(\"Optimal number of features : %d\" % dtr_rfecv.n_features_)\n",
    "plt.figure()\n",
    "plt.xlabel(\"Number of Features\")\n",
    "plt.ylabel(\"Cross-Validation Score\")\n",
    "plt.plot(range(1, len(dtr_rfecv.cv_results_[\"mean_test_score\"]) + 1), \n",
    "         dtr_rfecv.cv_results_[\"mean_test_score\"])\n",
    "plt.show()"
   ]
  },
  {
   "cell_type": "code",
   "execution_count": 9,
   "id": "b7819806",
   "metadata": {},
   "outputs": [
    {
     "name": "stdout",
     "output_type": "stream",
     "text": [
      "Index(['COUNTRY', 'GENDER', 'AGE', 'ABROAD', 'ABROAD_YEAR', 'MARITAL',\n",
      "       'EMPLOYMENT', 'INCOME', 'SBS', 'EDAS', 'DAQ', 'LE_Sum', 'DASS_Stress',\n",
      "       'DASS_Anxiety', 'DASS_Depression', 'EX_Mean', 'RELBEH_Mean',\n",
      "       'LOCUS_Mean', 'GOD_Pos', 'GOD_Neg'],\n",
      "      dtype='object')\n"
     ]
    }
   ],
   "source": [
    "# Initializes the RFE, defining the model (decision tree regressor), and the\n",
    "# number of features to choose (found in the RFECV). \n",
    "dtr_rfe = RFE(estimator=dtr_model, n_features_to_select=20)\n",
    "\n",
    "# Fits the RFE to the regression data.\n",
    "dtr_rfe.fit(X_train_r, y_train_r)\n",
    "\n",
    "# Finds the best features and prints them out for later use.\n",
    "dtr_features = X_train_r.columns[dtr_rfe.support_]\n",
    "print(dtr_features)"
   ]
  },
  {
   "cell_type": "markdown",
   "id": "2d6e4444",
   "metadata": {},
   "source": [
    "Support Vector Regressor"
   ]
  },
  {
   "cell_type": "code",
   "execution_count": 10,
   "id": "aafd43ec",
   "metadata": {},
   "outputs": [
    {
     "name": "stdout",
     "output_type": "stream",
     "text": [
      "Optimal number of features : 5\n"
     ]
    },
    {
     "data": {
      "image/png": "[encoded data removed]",
      "text/plain": [
       "<Figure size 640x480 with 1 Axes>"
      ]
     },
     "metadata": {},
     "output_type": "display_data"
    }
   ],
   "source": [
    "# Initializes the Support Vector Regressor model. I had to include a\n",
    "# kernel parameter, otherwise the code would not work. \n",
    "svr_model = SVR(kernel='linear')\n",
    "\n",
    "# Assigns the necessary parameters for the RFECV for the support vector regressor.\n",
    "svr_rfecv  = RFECV(estimator=svr_model, step=1, cv=5, scoring=\"neg_mean_squared_error\") \n",
    "\n",
    "# Fits the RFECV to the training data.\n",
    "svr_rfecv.fit(X_train_r, y_train_r)\n",
    "\n",
    "# Prints and plots the optimal amount of features for the support vector regressor \n",
    "# RFECV.\n",
    "print(\"Optimal number of features : %d\" % svr_rfecv.n_features_)\n",
    "plt.figure()\n",
    "plt.xlabel(\"Number of Features\")\n",
    "plt.ylabel(\"Cross-Validation Score\")\n",
    "plt.plot(range(1, len(svr_rfecv.cv_results_[\"mean_test_score\"]) + 1), \n",
    "         svr_rfecv.cv_results_[\"mean_test_score\"])\n",
    "plt.show()"
   ]
  },
  {
   "cell_type": "code",
   "execution_count": 11,
   "id": "e69ff490",
   "metadata": {},
   "outputs": [
    {
     "name": "stdout",
     "output_type": "stream",
     "text": [
      "Index(['GENDER', 'MARITAL', 'DASS_Depression', 'RELBEH_Mean', 'GOD_Pos'], dtype='object')\n"
     ]
    }
   ],
   "source": [
    "# Initializes the RFE, defining the model (support vector regressor), and the\n",
    "# number of features to choose (found in the RFECV). \n",
    "svr_rfe = RFE(estimator=svr_model, n_features_to_select=5)\n",
    "\n",
    "# Fits the RFE to the regression data.\n",
    "svr_rfe.fit(X_train_r, y_train_r)\n",
    "\n",
    "# Finds the best features and prints them out for later use.\n",
    "svr_features = X_train_r.columns[svr_rfe.support_]\n",
    "print(svr_features)"
   ]
  },
  {
   "cell_type": "markdown",
   "id": "76f56fde",
   "metadata": {},
   "source": [
    "###### Classifier Models"
   ]
  },
  {
   "cell_type": "markdown",
   "id": "bcc386c7",
   "metadata": {},
   "source": [
    "Decision Tree Classifier"
   ]
  },
  {
   "cell_type": "code",
   "execution_count": 12,
   "id": "ca8594cb",
   "metadata": {},
   "outputs": [
    {
     "name": "stdout",
     "output_type": "stream",
     "text": [
      "Optimal number of features : 7\n"
     ]
    },
    {
     "data": {
      "image/png": "[encoded data removed]",
      "text/plain": [
       "<Figure size 640x480 with 1 Axes>"
      ]
     },
     "metadata": {},
     "output_type": "display_data"
    }
   ],
   "source": [
    "# Initializes the Decision Tree Classifier model. For the same reason as\n",
    "# the decision tree regressor, I included 'random_state=42' (and to be consistent). \n",
    "dtc_model = DecisionTreeClassifier(random_state=42)\n",
    "\n",
    "# Assigns the necessary parameters for the RFECV for the decision tree classifier.\n",
    "dtc_rfecv = RFECV(estimator=dtc_model, step=1, cv=5, scoring=\"accuracy\")\n",
    "\n",
    "# Fits the RFECV to the training data.\n",
    "dtc_rfecv.fit(X_train_c, y_train_c)\n",
    "\n",
    "# Prints and plots the optimal amount of features for the decision tree classifier \n",
    "# RFECV.\n",
    "print(\"Optimal number of features : %d\" % dtc_rfecv.n_features_)\n",
    "plt.figure()\n",
    "plt.xlabel(\"Number of Features\")\n",
    "plt.ylabel(\"Cross-Validation Score\")\n",
    "plt.plot(range(1, len(dtc_rfecv.cv_results_[\"mean_test_score\"]) + 1), \n",
    "         dtc_rfecv.cv_results_[\"mean_test_score\"])\n",
    "plt.show()"
   ]
  },
  {
   "cell_type": "code",
   "execution_count": 13,
   "id": "80b42cf3",
   "metadata": {},
   "outputs": [
    {
     "name": "stdout",
     "output_type": "stream",
     "text": [
      "Index(['AGE', 'SBS', 'EDAS', 'DASS_Anxiety', 'DASS_Depression', 'RELBEH_Mean',\n",
      "       'GOD_Neg'],\n",
      "      dtype='object')\n"
     ]
    }
   ],
   "source": [
    "# Initializes the RFE, defining the model (decision tree classifier) and the\n",
    "# number of features to choose (found in the RFECV).\n",
    "dtc_rfe = RFE(estimator=dtc_model, n_features_to_select=7)\n",
    "\n",
    "# Fits the RFE to the classifying data.\n",
    "dtc_rfe.fit(X_train_c, y_train_c)\n",
    "\n",
    "# Finds the best features and prints them out for later use.\n",
    "dtc_features = X_train_c.columns[dtc_rfe.support_]\n",
    "print(dtc_features)"
   ]
  },
  {
   "cell_type": "markdown",
   "id": "2ec14f73",
   "metadata": {},
   "source": [
    "Support Vector Classifier"
   ]
  },
  {
   "cell_type": "code",
   "execution_count": 14,
   "id": "7b747f16",
   "metadata": {},
   "outputs": [
    {
     "name": "stdout",
     "output_type": "stream",
     "text": [
      "Optimal number of features : 12\n"
     ]
    },
    {
     "data": {
      "image/png": "[encoded data removed]",
      "text/plain": [
       "<Figure size 640x480 with 1 Axes>"
      ]
     },
     "metadata": {},
     "output_type": "display_data"
    }
   ],
   "source": [
    "# Initializes the Support Vector Classifier model. Just like the SVR, I needed to\n",
    "# specify the kernel to get it to work.\n",
    "svc_model = SVC(kernel='linear')\n",
    "\n",
    "# Assigns the necessary paramters for the RFECV for the support vector classifier. \n",
    "svc_rfecv = RFECV(estimator=svc_model, step=1, cv=5, scoring=\"accuracy\")\n",
    "\n",
    "# Fits the RFECV to the training data.\n",
    "svc_rfecv.fit(X_train_c, y_train_c)\n",
    "\n",
    "# Prints and plots the optimal amount of features for the support vector classifier \n",
    "# RFECV. \n",
    "print(\"Optimal number of features : %d\" % svc_rfecv.n_features_)\n",
    "plt.figure()\n",
    "plt.xlabel(\"Number of Features\")\n",
    "plt.ylabel(\"Cross-Validation Score\")\n",
    "plt.plot(range(1, len(svc_rfecv.cv_results_[\"mean_test_score\"]) + 1), \n",
    "         svc_rfecv.cv_results_[\"mean_test_score\"])\n",
    "plt.show()"
   ]
  },
  {
   "cell_type": "code",
   "execution_count": 15,
   "id": "02a7c53b",
   "metadata": {},
   "outputs": [
    {
     "name": "stdout",
     "output_type": "stream",
     "text": [
      "Index(['COUNTRY', 'GENDER', 'MARITAL', 'EMPLOYMENT', 'INCOME', 'DASS_Anxiety',\n",
      "       'DASS_Depression', 'EX_Mean', 'RELBEH_Mean', 'LOCUS_Mean', 'GOD_Pos',\n",
      "       'GOD_Neg'],\n",
      "      dtype='object')\n"
     ]
    }
   ],
   "source": [
    "# Initializes the RFE, defining the model (support vector classifier) and the\n",
    "# number of features to choose (found in the RFECV). \n",
    "svc_rfe = RFE(estimator=svc_model, n_features_to_select=12)\n",
    "\n",
    "# Fits the RFE to the classifier data.\n",
    "svc_rfe.fit(X_train_c, y_train_c)\n",
    "\n",
    "# Finds the best features and prints them out for later use.\n",
    "svc_features = X_train_c.columns[svc_rfe.support_]\n",
    "print(svc_features)"
   ]
  },
  {
   "cell_type": "markdown",
   "id": "14429423",
   "metadata": {},
   "source": [
    "##### Selecting the Features"
   ]
  },
  {
   "cell_type": "markdown",
   "id": "c36734d9",
   "metadata": {},
   "source": [
    "To select the features I will use for regression and classification models, I will select the common features within all the models (the feature has to be in AT LEAST two models for it to be included."
   ]
  },
  {
   "cell_type": "code",
   "execution_count": 16,
   "id": "50206aa8",
   "metadata": {},
   "outputs": [],
   "source": [
    "# Creates a variable that contains the names of columns of the selected features.\n",
    "selected_features = ['COUNTRY', 'GENDER', 'MARITAL', 'AGE', \n",
    "                            'EMPLOYMENT', 'INCOME', 'SBS', 'EDAS', \n",
    "                            'DASS_Anxiety', 'DASS_Depression', \n",
    "                            'EX_Mean', 'RELBEH_Mean', 'GOD_Pos', \n",
    "                            'GOD_Neg', 'LOCUS_Mean']\n",
    "# Creates new variables of feature data, or \"X,\" with only the selected features for\n",
    "# the regression models.\n",
    "X_train_r_final = X_train_r[selected_features]\n",
    "X_test_r_final = X_test_r[selected_features]\n",
    "\n",
    "# Creates new variables of selected feature data for the classification models.\n",
    "X_train_c_final = X_train_c[selected_features]\n",
    "X_test_c_final = X_test_c[selected_features]"
   ]
  },
  {
   "cell_type": "markdown",
   "id": "f2fdc1c7",
   "metadata": {},
   "source": [
    "##### Grid Searches"
   ]
  },
  {
   "cell_type": "markdown",
   "id": "db1a31cf",
   "metadata": {},
   "source": [
    "No GridSearch is included in this notebook for the linear regression because the optimal parameters were the default parameters, so it was redundant. "
   ]
  },
  {
   "cell_type": "markdown",
   "id": "5a63b095",
   "metadata": {},
   "source": [
    "Decision Tree Regressor"
   ]
  },
  {
   "cell_type": "code",
   "execution_count": 17,
   "id": "4083abb7",
   "metadata": {},
   "outputs": [
    {
     "data": {
      "text/html": [
       "<style>#sk-container-id-1 {color: black;}#sk-container-id-1 pre{padding: 0;}#sk-container-id-1 div.sk-toggleable {background-color: white;}#sk-container-id-1 label.sk-toggleable__label {cursor: pointer;display: block;width: 100%;margin-bottom: 0;padding: 0.3em;box-sizing: border-box;text-align: center;}#sk-container-id-1 label.sk-toggleable__label-arrow:before {content: \"▸\";float: left;margin-right: 0.25em;color: #696969;}#sk-container-id-1 label.sk-toggleable__label-arrow:hover:before {color: black;}#sk-container-id-1 div.sk-estimator:hover label.sk-toggleable__label-arrow:before {color: black;}#sk-container-id-1 div.sk-toggleable__content {max-height: 0;max-width: 0;overflow: hidden;text-align: left;background-color: #f0f8ff;}#sk-container-id-1 div.sk-toggleable__content pre {margin: 0.2em;color: black;border-radius: 0.25em;background-color: #f0f8ff;}#sk-container-id-1 input.sk-toggleable__control:checked~div.sk-toggleable__content {max-height: 200px;max-width: 100%;overflow: auto;}#sk-container-id-1 input.sk-toggleable__control:checked~label.sk-toggleable__label-arrow:before {content: \"▾\";}#sk-container-id-1 div.sk-estimator input.sk-toggleable__control:checked~label.sk-toggleable__label {background-color: #d4ebff;}#sk-container-id-1 div.sk-label input.sk-toggleable__control:checked~label.sk-toggleable__label {background-color: #d4ebff;}#sk-container-id-1 input.sk-hidden--visually {border: 0;clip: rect(1px 1px 1px 1px);clip: rect(1px, 1px, 1px, 1px);height: 1px;margin: -1px;overflow: hidden;padding: 0;position: absolute;width: 1px;}#sk-container-id-1 div.sk-estimator {font-family: monospace;background-color: #f0f8ff;border: 1px dotted black;border-radius: 0.25em;box-sizing: border-box;margin-bottom: 0.5em;}#sk-container-id-1 div.sk-estimator:hover {background-color: #d4ebff;}#sk-container-id-1 div.sk-parallel-item::after {content: \"\";width: 100%;border-bottom: 1px solid gray;flex-grow: 1;}#sk-container-id-1 div.sk-label:hover label.sk-toggleable__label {background-color: #d4ebff;}#sk-container-id-1 div.sk-serial::before {content: \"\";position: absolute;border-left: 1px solid gray;box-sizing: border-box;top: 0;bottom: 0;left: 50%;z-index: 0;}#sk-container-id-1 div.sk-serial {display: flex;flex-direction: column;align-items: center;background-color: white;padding-right: 0.2em;padding-left: 0.2em;position: relative;}#sk-container-id-1 div.sk-item {position: relative;z-index: 1;}#sk-container-id-1 div.sk-parallel {display: flex;align-items: stretch;justify-content: center;background-color: white;position: relative;}#sk-container-id-1 div.sk-item::before, #sk-container-id-1 div.sk-parallel-item::before {content: \"\";position: absolute;border-left: 1px solid gray;box-sizing: border-box;top: 0;bottom: 0;left: 50%;z-index: -1;}#sk-container-id-1 div.sk-parallel-item {display: flex;flex-direction: column;z-index: 1;position: relative;background-color: white;}#sk-container-id-1 div.sk-parallel-item:first-child::after {align-self: flex-end;width: 50%;}#sk-container-id-1 div.sk-parallel-item:last-child::after {align-self: flex-start;width: 50%;}#sk-container-id-1 div.sk-parallel-item:only-child::after {width: 0;}#sk-container-id-1 div.sk-dashed-wrapped {border: 1px dashed gray;margin: 0 0.4em 0.5em 0.4em;box-sizing: border-box;padding-bottom: 0.4em;background-color: white;}#sk-container-id-1 div.sk-label label {font-family: monospace;font-weight: bold;display: inline-block;line-height: 1.2em;}#sk-container-id-1 div.sk-label-container {text-align: center;}#sk-container-id-1 div.sk-container {/* jupyter's `normalize.less` sets `[hidden] { display: none; }` but bootstrap.min.css set `[hidden] { display: none !important; }` so we also need the `!important` here to be able to override the default hidden behavior on the sphinx rendered scikit-learn.org. See: https://github.com/scikit-learn/scikit-learn/issues/21755 */display: inline-block !important;position: relative;}#sk-container-id-1 div.sk-text-repr-fallback {display: none;}</style><div id=\"sk-container-id-1\" class=\"sk-top-container\"><div class=\"sk-text-repr-fallback\"><pre>DecisionTreeRegressor(max_depth=5, max_features=10, min_samples_leaf=10,\n",
       "                      random_state=42, splitter=&#x27;random&#x27;)</pre><b>In a Jupyter environment, please rerun this cell to show the HTML representation or trust the notebook. <br />On GitHub, the HTML representation is unable to render, please try loading this page with nbviewer.org.</b></div><div class=\"sk-container\" hidden><div class=\"sk-item\"><div class=\"sk-estimator sk-toggleable\"><input class=\"sk-toggleable__control sk-hidden--visually\" id=\"sk-estimator-id-1\" type=\"checkbox\" checked><label for=\"sk-estimator-id-1\" class=\"sk-toggleable__label sk-toggleable__label-arrow\">DecisionTreeRegressor</label><div class=\"sk-toggleable__content\"><pre>DecisionTreeRegressor(max_depth=5, max_features=10, min_samples_leaf=10,\n",
       "                      random_state=42, splitter=&#x27;random&#x27;)</pre></div></div></div></div></div>"
      ],
      "text/plain": [
       "DecisionTreeRegressor(max_depth=5, max_features=10, min_samples_leaf=10,\n",
       "                      random_state=42, splitter='random')"
      ]
     },
     "execution_count": 17,
     "metadata": {},
     "output_type": "execute_result"
    }
   ],
   "source": [
    "# Defines the parameters to search through for the DTR GridSearchCV.\n",
    "dtr_param_grid = {\"splitter\":[\"best\", \"random\"],\n",
    "                  \"max_depth\" : [1, 3, 5, 7, 9, 11, 12],\n",
    "                  \"min_samples_leaf\":[1, 2, 3, 4, 5, 6, 7, 8, 9, 10],\n",
    "                  \"max_leaf_nodes\":[None, 10, 20, 30, 40, 50, 60, 70, 80, 90],\n",
    "                  \"max_features\": [None, 5, 10, 15, 20]}\n",
    "\n",
    "# Initializes the DTR GridSearchCV.\n",
    "grid_search_dtr = GridSearchCV(estimator=dtr_model, param_grid=dtr_param_grid,\n",
    "                              cv=5, scoring='neg_mean_squared_error', n_jobs=-1)\n",
    "\n",
    "# Performs the grid search on the selected training data.\n",
    "grid_search_dtr.fit(X_train_r_final, y_train_r)\n",
    "\n",
    "# Gets the best parameters for the DTR model.\n",
    "best_dtr_params = grid_search_dtr.best_params_\n",
    "\n",
    "# Finds the best DTR model and stores it into a variable (also printing\n",
    "# it).\n",
    "best_dtr_model = grid_search_dtr.best_estimator_\n",
    "best_dtr_model"
   ]
  },
  {
   "cell_type": "markdown",
   "id": "6547c9d7",
   "metadata": {},
   "source": [
    "Support Vector Regressor"
   ]
  },
  {
   "cell_type": "code",
   "execution_count": 18,
   "id": "a94b5c9d",
   "metadata": {},
   "outputs": [
    {
     "data": {
      "text/html": [
       "<style>#sk-container-id-2 {color: black;}#sk-container-id-2 pre{padding: 0;}#sk-container-id-2 div.sk-toggleable {background-color: white;}#sk-container-id-2 label.sk-toggleable__label {cursor: pointer;display: block;width: 100%;margin-bottom: 0;padding: 0.3em;box-sizing: border-box;text-align: center;}#sk-container-id-2 label.sk-toggleable__label-arrow:before {content: \"▸\";float: left;margin-right: 0.25em;color: #696969;}#sk-container-id-2 label.sk-toggleable__label-arrow:hover:before {color: black;}#sk-container-id-2 div.sk-estimator:hover label.sk-toggleable__label-arrow:before {color: black;}#sk-container-id-2 div.sk-toggleable__content {max-height: 0;max-width: 0;overflow: hidden;text-align: left;background-color: #f0f8ff;}#sk-container-id-2 div.sk-toggleable__content pre {margin: 0.2em;color: black;border-radius: 0.25em;background-color: #f0f8ff;}#sk-container-id-2 input.sk-toggleable__control:checked~div.sk-toggleable__content {max-height: 200px;max-width: 100%;overflow: auto;}#sk-container-id-2 input.sk-toggleable__control:checked~label.sk-toggleable__label-arrow:before {content: \"▾\";}#sk-container-id-2 div.sk-estimator input.sk-toggleable__control:checked~label.sk-toggleable__label {background-color: #d4ebff;}#sk-container-id-2 div.sk-label input.sk-toggleable__control:checked~label.sk-toggleable__label {background-color: #d4ebff;}#sk-container-id-2 input.sk-hidden--visually {border: 0;clip: rect(1px 1px 1px 1px);clip: rect(1px, 1px, 1px, 1px);height: 1px;margin: -1px;overflow: hidden;padding: 0;position: absolute;width: 1px;}#sk-container-id-2 div.sk-estimator {font-family: monospace;background-color: #f0f8ff;border: 1px dotted black;border-radius: 0.25em;box-sizing: border-box;margin-bottom: 0.5em;}#sk-container-id-2 div.sk-estimator:hover {background-color: #d4ebff;}#sk-container-id-2 div.sk-parallel-item::after {content: \"\";width: 100%;border-bottom: 1px solid gray;flex-grow: 1;}#sk-container-id-2 div.sk-label:hover label.sk-toggleable__label {background-color: #d4ebff;}#sk-container-id-2 div.sk-serial::before {content: \"\";position: absolute;border-left: 1px solid gray;box-sizing: border-box;top: 0;bottom: 0;left: 50%;z-index: 0;}#sk-container-id-2 div.sk-serial {display: flex;flex-direction: column;align-items: center;background-color: white;padding-right: 0.2em;padding-left: 0.2em;position: relative;}#sk-container-id-2 div.sk-item {position: relative;z-index: 1;}#sk-container-id-2 div.sk-parallel {display: flex;align-items: stretch;justify-content: center;background-color: white;position: relative;}#sk-container-id-2 div.sk-item::before, #sk-container-id-2 div.sk-parallel-item::before {content: \"\";position: absolute;border-left: 1px solid gray;box-sizing: border-box;top: 0;bottom: 0;left: 50%;z-index: -1;}#sk-container-id-2 div.sk-parallel-item {display: flex;flex-direction: column;z-index: 1;position: relative;background-color: white;}#sk-container-id-2 div.sk-parallel-item:first-child::after {align-self: flex-end;width: 50%;}#sk-container-id-2 div.sk-parallel-item:last-child::after {align-self: flex-start;width: 50%;}#sk-container-id-2 div.sk-parallel-item:only-child::after {width: 0;}#sk-container-id-2 div.sk-dashed-wrapped {border: 1px dashed gray;margin: 0 0.4em 0.5em 0.4em;box-sizing: border-box;padding-bottom: 0.4em;background-color: white;}#sk-container-id-2 div.sk-label label {font-family: monospace;font-weight: bold;display: inline-block;line-height: 1.2em;}#sk-container-id-2 div.sk-label-container {text-align: center;}#sk-container-id-2 div.sk-container {/* jupyter's `normalize.less` sets `[hidden] { display: none; }` but bootstrap.min.css set `[hidden] { display: none !important; }` so we also need the `!important` here to be able to override the default hidden behavior on the sphinx rendered scikit-learn.org. See: https://github.com/scikit-learn/scikit-learn/issues/21755 */display: inline-block !important;position: relative;}#sk-container-id-2 div.sk-text-repr-fallback {display: none;}</style><div id=\"sk-container-id-2\" class=\"sk-top-container\"><div class=\"sk-text-repr-fallback\"><pre>SVR(C=1)</pre><b>In a Jupyter environment, please rerun this cell to show the HTML representation or trust the notebook. <br />On GitHub, the HTML representation is unable to render, please try loading this page with nbviewer.org.</b></div><div class=\"sk-container\" hidden><div class=\"sk-item\"><div class=\"sk-estimator sk-toggleable\"><input class=\"sk-toggleable__control sk-hidden--visually\" id=\"sk-estimator-id-2\" type=\"checkbox\" checked><label for=\"sk-estimator-id-2\" class=\"sk-toggleable__label sk-toggleable__label-arrow\">SVR</label><div class=\"sk-toggleable__content\"><pre>SVR(C=1)</pre></div></div></div></div></div>"
      ],
      "text/plain": [
       "SVR(C=1)"
      ]
     },
     "execution_count": 18,
     "metadata": {},
     "output_type": "execute_result"
    }
   ],
   "source": [
    "# Defines the parameters to search through for the SVR GridSearchCV.\n",
    "svr_param_grid = {'kernel': ['linear', 'poly', 'rbf', 'sigmoid'],\n",
    "                  'C': [0.1, 1, 10, 100, 1000],\n",
    "                  'gamma': ['scale', 'auto']}\n",
    "\n",
    "# Initializes the SVR GridSearchCV. I also re-initialized the model estimator due \n",
    "# to the fact that I had to specify a kernel when finding the best features.\n",
    "grid_search_svr = GridSearchCV(estimator=SVR(), param_grid=svr_param_grid,\n",
    "                               cv=5, scoring='neg_mean_squared_error', n_jobs=-1)\n",
    "\n",
    "# Performs the grid search on the selected training data.\n",
    "grid_search_svr.fit(X_train_r_final, y_train_r)\n",
    "\n",
    "# Gets the best parameters for the SVR model.\n",
    "best_params_svr = grid_search_svr.best_params_\n",
    "\n",
    "# Finds the best SVR model and stores it into a variable and prints it.\n",
    "best_svr_model = grid_search_svr.best_estimator_\n",
    "best_svr_model"
   ]
  },
  {
   "cell_type": "markdown",
   "id": "790e83fc",
   "metadata": {},
   "source": [
    "Decision Tree Classifier"
   ]
  },
  {
   "cell_type": "code",
   "execution_count": 19,
   "id": "08b41af2",
   "metadata": {},
   "outputs": [
    {
     "data": {
      "text/html": [
       "<style>#sk-container-id-3 {color: black;}#sk-container-id-3 pre{padding: 0;}#sk-container-id-3 div.sk-toggleable {background-color: white;}#sk-container-id-3 label.sk-toggleable__label {cursor: pointer;display: block;width: 100%;margin-bottom: 0;padding: 0.3em;box-sizing: border-box;text-align: center;}#sk-container-id-3 label.sk-toggleable__label-arrow:before {content: \"▸\";float: left;margin-right: 0.25em;color: #696969;}#sk-container-id-3 label.sk-toggleable__label-arrow:hover:before {color: black;}#sk-container-id-3 div.sk-estimator:hover label.sk-toggleable__label-arrow:before {color: black;}#sk-container-id-3 div.sk-toggleable__content {max-height: 0;max-width: 0;overflow: hidden;text-align: left;background-color: #f0f8ff;}#sk-container-id-3 div.sk-toggleable__content pre {margin: 0.2em;color: black;border-radius: 0.25em;background-color: #f0f8ff;}#sk-container-id-3 input.sk-toggleable__control:checked~div.sk-toggleable__content {max-height: 200px;max-width: 100%;overflow: auto;}#sk-container-id-3 input.sk-toggleable__control:checked~label.sk-toggleable__label-arrow:before {content: \"▾\";}#sk-container-id-3 div.sk-estimator input.sk-toggleable__control:checked~label.sk-toggleable__label {background-color: #d4ebff;}#sk-container-id-3 div.sk-label input.sk-toggleable__control:checked~label.sk-toggleable__label {background-color: #d4ebff;}#sk-container-id-3 input.sk-hidden--visually {border: 0;clip: rect(1px 1px 1px 1px);clip: rect(1px, 1px, 1px, 1px);height: 1px;margin: -1px;overflow: hidden;padding: 0;position: absolute;width: 1px;}#sk-container-id-3 div.sk-estimator {font-family: monospace;background-color: #f0f8ff;border: 1px dotted black;border-radius: 0.25em;box-sizing: border-box;margin-bottom: 0.5em;}#sk-container-id-3 div.sk-estimator:hover {background-color: #d4ebff;}#sk-container-id-3 div.sk-parallel-item::after {content: \"\";width: 100%;border-bottom: 1px solid gray;flex-grow: 1;}#sk-container-id-3 div.sk-label:hover label.sk-toggleable__label {background-color: #d4ebff;}#sk-container-id-3 div.sk-serial::before {content: \"\";position: absolute;border-left: 1px solid gray;box-sizing: border-box;top: 0;bottom: 0;left: 50%;z-index: 0;}#sk-container-id-3 div.sk-serial {display: flex;flex-direction: column;align-items: center;background-color: white;padding-right: 0.2em;padding-left: 0.2em;position: relative;}#sk-container-id-3 div.sk-item {position: relative;z-index: 1;}#sk-container-id-3 div.sk-parallel {display: flex;align-items: stretch;justify-content: center;background-color: white;position: relative;}#sk-container-id-3 div.sk-item::before, #sk-container-id-3 div.sk-parallel-item::before {content: \"\";position: absolute;border-left: 1px solid gray;box-sizing: border-box;top: 0;bottom: 0;left: 50%;z-index: -1;}#sk-container-id-3 div.sk-parallel-item {display: flex;flex-direction: column;z-index: 1;position: relative;background-color: white;}#sk-container-id-3 div.sk-parallel-item:first-child::after {align-self: flex-end;width: 50%;}#sk-container-id-3 div.sk-parallel-item:last-child::after {align-self: flex-start;width: 50%;}#sk-container-id-3 div.sk-parallel-item:only-child::after {width: 0;}#sk-container-id-3 div.sk-dashed-wrapped {border: 1px dashed gray;margin: 0 0.4em 0.5em 0.4em;box-sizing: border-box;padding-bottom: 0.4em;background-color: white;}#sk-container-id-3 div.sk-label label {font-family: monospace;font-weight: bold;display: inline-block;line-height: 1.2em;}#sk-container-id-3 div.sk-label-container {text-align: center;}#sk-container-id-3 div.sk-container {/* jupyter's `normalize.less` sets `[hidden] { display: none; }` but bootstrap.min.css set `[hidden] { display: none !important; }` so we also need the `!important` here to be able to override the default hidden behavior on the sphinx rendered scikit-learn.org. See: https://github.com/scikit-learn/scikit-learn/issues/21755 */display: inline-block !important;position: relative;}#sk-container-id-3 div.sk-text-repr-fallback {display: none;}</style><div id=\"sk-container-id-3\" class=\"sk-top-container\"><div class=\"sk-text-repr-fallback\"><pre>DecisionTreeClassifier(random_state=42)</pre><b>In a Jupyter environment, please rerun this cell to show the HTML representation or trust the notebook. <br />On GitHub, the HTML representation is unable to render, please try loading this page with nbviewer.org.</b></div><div class=\"sk-container\" hidden><div class=\"sk-item\"><div class=\"sk-estimator sk-toggleable\"><input class=\"sk-toggleable__control sk-hidden--visually\" id=\"sk-estimator-id-3\" type=\"checkbox\" checked><label for=\"sk-estimator-id-3\" class=\"sk-toggleable__label sk-toggleable__label-arrow\">DecisionTreeClassifier</label><div class=\"sk-toggleable__content\"><pre>DecisionTreeClassifier(random_state=42)</pre></div></div></div></div></div>"
      ],
      "text/plain": [
       "DecisionTreeClassifier(random_state=42)"
      ]
     },
     "execution_count": 19,
     "metadata": {},
     "output_type": "execute_result"
    }
   ],
   "source": [
    "# Defines the parameters to search through for the DTC GridSearchCV.\n",
    "dtc_param_grid = {'criterion': ['gini', 'entropy'],\n",
    "                  'max_depth': [None, 10, 20, 30],\n",
    "                  'min_samples_split': [2, 5, 10],\n",
    "                  'min_samples_leaf': [1, 2, 4],\n",
    "                  'max_features': ['sqrt', 'log2', None,\n",
    "                                  0.5, 1, 2, 3],\n",
    "                  'class_weight': [None, 'balanced']}\n",
    "\n",
    "# Initializes the DTC GridSearchCV.\n",
    "grid_search_dtc = GridSearchCV(estimator=dtc_model, param_grid=dtc_param_grid,\n",
    "                              cv=5, scoring='accuracy', n_jobs=-1)\n",
    "\n",
    "# Performs the grid search on the selected training data.\n",
    "grid_search_dtc.fit(X_train_c_final, y_train_c)\n",
    "\n",
    "# Gets the best parameters for the DTC model.\n",
    "best_params_dtc = grid_search_dtc.best_params_\n",
    "\n",
    "# Finds the best DTC model and stores it into a variable and prints it. \n",
    "best_dtc_model = grid_search_dtc.best_estimator_\n",
    "best_dtc_model"
   ]
  },
  {
   "cell_type": "markdown",
   "id": "6838191f",
   "metadata": {},
   "source": [
    "Support Vector Classifier"
   ]
  },
  {
   "cell_type": "code",
   "execution_count": 20,
   "id": "161f6f2b",
   "metadata": {},
   "outputs": [
    {
     "data": {
      "text/html": [
       "<style>#sk-container-id-4 {color: black;}#sk-container-id-4 pre{padding: 0;}#sk-container-id-4 div.sk-toggleable {background-color: white;}#sk-container-id-4 label.sk-toggleable__label {cursor: pointer;display: block;width: 100%;margin-bottom: 0;padding: 0.3em;box-sizing: border-box;text-align: center;}#sk-container-id-4 label.sk-toggleable__label-arrow:before {content: \"▸\";float: left;margin-right: 0.25em;color: #696969;}#sk-container-id-4 label.sk-toggleable__label-arrow:hover:before {color: black;}#sk-container-id-4 div.sk-estimator:hover label.sk-toggleable__label-arrow:before {color: black;}#sk-container-id-4 div.sk-toggleable__content {max-height: 0;max-width: 0;overflow: hidden;text-align: left;background-color: #f0f8ff;}#sk-container-id-4 div.sk-toggleable__content pre {margin: 0.2em;color: black;border-radius: 0.25em;background-color: #f0f8ff;}#sk-container-id-4 input.sk-toggleable__control:checked~div.sk-toggleable__content {max-height: 200px;max-width: 100%;overflow: auto;}#sk-container-id-4 input.sk-toggleable__control:checked~label.sk-toggleable__label-arrow:before {content: \"▾\";}#sk-container-id-4 div.sk-estimator input.sk-toggleable__control:checked~label.sk-toggleable__label {background-color: #d4ebff;}#sk-container-id-4 div.sk-label input.sk-toggleable__control:checked~label.sk-toggleable__label {background-color: #d4ebff;}#sk-container-id-4 input.sk-hidden--visually {border: 0;clip: rect(1px 1px 1px 1px);clip: rect(1px, 1px, 1px, 1px);height: 1px;margin: -1px;overflow: hidden;padding: 0;position: absolute;width: 1px;}#sk-container-id-4 div.sk-estimator {font-family: monospace;background-color: #f0f8ff;border: 1px dotted black;border-radius: 0.25em;box-sizing: border-box;margin-bottom: 0.5em;}#sk-container-id-4 div.sk-estimator:hover {background-color: #d4ebff;}#sk-container-id-4 div.sk-parallel-item::after {content: \"\";width: 100%;border-bottom: 1px solid gray;flex-grow: 1;}#sk-container-id-4 div.sk-label:hover label.sk-toggleable__label {background-color: #d4ebff;}#sk-container-id-4 div.sk-serial::before {content: \"\";position: absolute;border-left: 1px solid gray;box-sizing: border-box;top: 0;bottom: 0;left: 50%;z-index: 0;}#sk-container-id-4 div.sk-serial {display: flex;flex-direction: column;align-items: center;background-color: white;padding-right: 0.2em;padding-left: 0.2em;position: relative;}#sk-container-id-4 div.sk-item {position: relative;z-index: 1;}#sk-container-id-4 div.sk-parallel {display: flex;align-items: stretch;justify-content: center;background-color: white;position: relative;}#sk-container-id-4 div.sk-item::before, #sk-container-id-4 div.sk-parallel-item::before {content: \"\";position: absolute;border-left: 1px solid gray;box-sizing: border-box;top: 0;bottom: 0;left: 50%;z-index: -1;}#sk-container-id-4 div.sk-parallel-item {display: flex;flex-direction: column;z-index: 1;position: relative;background-color: white;}#sk-container-id-4 div.sk-parallel-item:first-child::after {align-self: flex-end;width: 50%;}#sk-container-id-4 div.sk-parallel-item:last-child::after {align-self: flex-start;width: 50%;}#sk-container-id-4 div.sk-parallel-item:only-child::after {width: 0;}#sk-container-id-4 div.sk-dashed-wrapped {border: 1px dashed gray;margin: 0 0.4em 0.5em 0.4em;box-sizing: border-box;padding-bottom: 0.4em;background-color: white;}#sk-container-id-4 div.sk-label label {font-family: monospace;font-weight: bold;display: inline-block;line-height: 1.2em;}#sk-container-id-4 div.sk-label-container {text-align: center;}#sk-container-id-4 div.sk-container {/* jupyter's `normalize.less` sets `[hidden] { display: none; }` but bootstrap.min.css set `[hidden] { display: none !important; }` so we also need the `!important` here to be able to override the default hidden behavior on the sphinx rendered scikit-learn.org. See: https://github.com/scikit-learn/scikit-learn/issues/21755 */display: inline-block !important;position: relative;}#sk-container-id-4 div.sk-text-repr-fallback {display: none;}</style><div id=\"sk-container-id-4\" class=\"sk-top-container\"><div class=\"sk-text-repr-fallback\"><pre>SVC(C=1000, gamma=0.0001)</pre><b>In a Jupyter environment, please rerun this cell to show the HTML representation or trust the notebook. <br />On GitHub, the HTML representation is unable to render, please try loading this page with nbviewer.org.</b></div><div class=\"sk-container\" hidden><div class=\"sk-item\"><div class=\"sk-estimator sk-toggleable\"><input class=\"sk-toggleable__control sk-hidden--visually\" id=\"sk-estimator-id-4\" type=\"checkbox\" checked><label for=\"sk-estimator-id-4\" class=\"sk-toggleable__label sk-toggleable__label-arrow\">SVC</label><div class=\"sk-toggleable__content\"><pre>SVC(C=1000, gamma=0.0001)</pre></div></div></div></div></div>"
      ],
      "text/plain": [
       "SVC(C=1000, gamma=0.0001)"
      ]
     },
     "execution_count": 20,
     "metadata": {},
     "output_type": "execute_result"
    }
   ],
   "source": [
    "# Defines the parameters to search through for the SVC GridSearchCV.\n",
    "svc_param_grid = {'kernel': ['linear', 'poly', 'rbf', 'sigmoid'],\n",
    "                  'gamma': [1, 0.1, 0.01, 0.001, 0.0001],\n",
    "                  'C': [0.1, 1, 10, 100, 1000]}\n",
    "\n",
    "# Initializes the SVC GridSearchCV. I also re-initialized the model estimator due \n",
    "# to the fact that I had to specify a kernel when finding the best features.\n",
    "grid_search_svc = GridSearchCV(estimator=SVC(), param_grid=svc_param_grid, cv=5,\n",
    "                               scoring='accuracy', n_jobs=-1)\n",
    "\n",
    "# Performs the grid search on the selected training data.\n",
    "grid_search_svc.fit(X_train_c_final, y_train_c)\n",
    "\n",
    "# Gets the best parameters for the SVC model.\n",
    "best_params_svc = grid_search_svc.best_params_\n",
    "\n",
    "# Finds the best SVC model and stores it into a variable and prints it.\n",
    "best_svc_model = grid_search_svc.best_estimator_\n",
    "best_svc_model"
   ]
  },
  {
   "cell_type": "markdown",
   "id": "764741f9",
   "metadata": {},
   "source": [
    "##### Running the Models"
   ]
  },
  {
   "cell_type": "markdown",
   "id": "62515865",
   "metadata": {},
   "source": [
    "Linear Regression"
   ]
  },
  {
   "cell_type": "code",
   "execution_count": 21,
   "id": "3c31dbb9",
   "metadata": {},
   "outputs": [],
   "source": [
    "# Fits the linear regression model to the selected training features.\n",
    "lregress_model.fit(X_train_r_final, y_train_r)\n",
    "\n",
    "# Makes predictions on the testing data set.\n",
    "lregress_preds = lregress_model.predict(X_test_r_final)"
   ]
  },
  {
   "cell_type": "code",
   "execution_count": 22,
   "id": "f6e0e6ea",
   "metadata": {},
   "outputs": [
    {
     "name": "stdout",
     "output_type": "stream",
     "text": [
      "Linear Regression R2: 0.08946132704656728\n",
      "Linear Regression RMSE: 1.200942572116858\n",
      "Linear Regression MAE: 0.8941496092145156\n"
     ]
    }
   ],
   "source": [
    "# Calculates evaluation metrics for the linear regression model.\n",
    "l_r2_score = r2_score(y_test_r, lregress_preds)\n",
    "l_rmse = np.sqrt(mean_squared_error(y_test_r, lregress_preds))\n",
    "l_mae = mean_absolute_error(y_test_r, lregress_preds)\n",
    "\n",
    "# Prints the results.\n",
    "print(\"Linear Regression R2: {}\".format(l_r2_score))\n",
    "print(\"Linear Regression RMSE: {}\".format(l_rmse))\n",
    "print(\"Linear Regression MAE: {}\".format(l_mae))"
   ]
  },
  {
   "cell_type": "markdown",
   "id": "3e85183c",
   "metadata": {},
   "source": [
    "OLS Regression"
   ]
  },
  {
   "cell_type": "code",
   "execution_count": 23,
   "id": "7217fb93",
   "metadata": {},
   "outputs": [],
   "source": [
    "# Adds a constant intercept to the selected features in order to\n",
    "# run an Ordinary Least Squares (OLS) regression model. \n",
    "ols_X_train = sm.add_constant(X_train_r_final)\n",
    "ols_X_test = sm.add_constant(X_test_r_final)"
   ]
  },
  {
   "cell_type": "code",
   "execution_count": 24,
   "id": "85b7a00d",
   "metadata": {},
   "outputs": [
    {
     "data": {
      "text/html": [
       "<table class=\"simpletable\">\n",
       "<caption>OLS Regression Results</caption>\n",
       "<tr>\n",
       "  <th>Dep. Variable:</th>        <td>SWLS_Mean</td>    <th>  R-squared:         </th> <td>   0.449</td>\n",
       "</tr>\n",
       "<tr>\n",
       "  <th>Model:</th>                   <td>OLS</td>       <th>  Adj. R-squared:    </th> <td>   0.394</td>\n",
       "</tr>\n",
       "<tr>\n",
       "  <th>Method:</th>             <td>Least Squares</td>  <th>  F-statistic:       </th> <td>   8.197</td>\n",
       "</tr>\n",
       "<tr>\n",
       "  <th>Date:</th>             <td>Sat, 01 Jun 2024</td> <th>  Prob (F-statistic):</th> <td>2.11e-13</td>\n",
       "</tr>\n",
       "<tr>\n",
       "  <th>Time:</th>                 <td>21:53:23</td>     <th>  Log-Likelihood:    </th> <td> -260.37</td>\n",
       "</tr>\n",
       "<tr>\n",
       "  <th>No. Observations:</th>      <td>   167</td>      <th>  AIC:               </th> <td>   552.7</td>\n",
       "</tr>\n",
       "<tr>\n",
       "  <th>Df Residuals:</th>          <td>   151</td>      <th>  BIC:               </th> <td>   602.6</td>\n",
       "</tr>\n",
       "<tr>\n",
       "  <th>Df Model:</th>              <td>    15</td>      <th>                     </th>     <td> </td>   \n",
       "</tr>\n",
       "<tr>\n",
       "  <th>Covariance Type:</th>      <td>nonrobust</td>    <th>                     </th>     <td> </td>   \n",
       "</tr>\n",
       "</table>\n",
       "<table class=\"simpletable\">\n",
       "<tr>\n",
       "         <td></td>            <th>coef</th>     <th>std err</th>      <th>t</th>      <th>P>|t|</th>  <th>[0.025</th>    <th>0.975]</th>  \n",
       "</tr>\n",
       "<tr>\n",
       "  <th>const</th>           <td>    0.7899</td> <td>    0.789</td> <td>    1.001</td> <td> 0.318</td> <td>   -0.769</td> <td>    2.349</td>\n",
       "</tr>\n",
       "<tr>\n",
       "  <th>COUNTRY</th>         <td>   -0.0263</td> <td>    0.049</td> <td>   -0.541</td> <td> 0.589</td> <td>   -0.122</td> <td>    0.070</td>\n",
       "</tr>\n",
       "<tr>\n",
       "  <th>GENDER</th>          <td>   -0.4765</td> <td>    0.194</td> <td>   -2.451</td> <td> 0.015</td> <td>   -0.861</td> <td>   -0.092</td>\n",
       "</tr>\n",
       "<tr>\n",
       "  <th>MARITAL</th>         <td>    0.1201</td> <td>    0.088</td> <td>    1.363</td> <td> 0.175</td> <td>   -0.054</td> <td>    0.294</td>\n",
       "</tr>\n",
       "<tr>\n",
       "  <th>AGE</th>             <td>    0.0019</td> <td>    0.010</td> <td>    0.197</td> <td> 0.844</td> <td>   -0.017</td> <td>    0.021</td>\n",
       "</tr>\n",
       "<tr>\n",
       "  <th>EMPLOYMENT</th>      <td>    0.0132</td> <td>    0.062</td> <td>    0.215</td> <td> 0.830</td> <td>   -0.109</td> <td>    0.135</td>\n",
       "</tr>\n",
       "<tr>\n",
       "  <th>INCOME</th>          <td>    0.1737</td> <td>    0.063</td> <td>    2.768</td> <td> 0.006</td> <td>    0.050</td> <td>    0.298</td>\n",
       "</tr>\n",
       "<tr>\n",
       "  <th>SBS</th>             <td>    0.0356</td> <td>    0.072</td> <td>    0.492</td> <td> 0.623</td> <td>   -0.107</td> <td>    0.178</td>\n",
       "</tr>\n",
       "<tr>\n",
       "  <th>EDAS</th>            <td>   -0.0214</td> <td>    0.040</td> <td>   -0.538</td> <td> 0.591</td> <td>   -0.100</td> <td>    0.057</td>\n",
       "</tr>\n",
       "<tr>\n",
       "  <th>DASS_Anxiety</th>    <td>    0.0493</td> <td>    0.035</td> <td>    1.426</td> <td> 0.156</td> <td>   -0.019</td> <td>    0.118</td>\n",
       "</tr>\n",
       "<tr>\n",
       "  <th>DASS_Depression</th> <td>   -0.1434</td> <td>    0.029</td> <td>   -4.893</td> <td> 0.000</td> <td>   -0.201</td> <td>   -0.085</td>\n",
       "</tr>\n",
       "<tr>\n",
       "  <th>EX_Mean</th>         <td>   -0.0406</td> <td>    0.133</td> <td>   -0.304</td> <td> 0.761</td> <td>   -0.304</td> <td>    0.223</td>\n",
       "</tr>\n",
       "<tr>\n",
       "  <th>RELBEH_Mean</th>     <td>    0.1035</td> <td>    0.057</td> <td>    1.813</td> <td> 0.072</td> <td>   -0.009</td> <td>    0.216</td>\n",
       "</tr>\n",
       "<tr>\n",
       "  <th>GOD_Pos</th>         <td>    0.0798</td> <td>    0.069</td> <td>    1.154</td> <td> 0.250</td> <td>   -0.057</td> <td>    0.216</td>\n",
       "</tr>\n",
       "<tr>\n",
       "  <th>GOD_Neg</th>         <td>    0.0566</td> <td>    0.051</td> <td>    1.112</td> <td> 0.268</td> <td>   -0.044</td> <td>    0.157</td>\n",
       "</tr>\n",
       "<tr>\n",
       "  <th>LOCUS_Mean</th>      <td>    0.0535</td> <td>    0.054</td> <td>    0.983</td> <td> 0.327</td> <td>   -0.054</td> <td>    0.161</td>\n",
       "</tr>\n",
       "</table>\n",
       "<table class=\"simpletable\">\n",
       "<tr>\n",
       "  <th>Omnibus:</th>       <td> 3.389</td> <th>  Durbin-Watson:     </th> <td>   1.753</td>\n",
       "</tr>\n",
       "<tr>\n",
       "  <th>Prob(Omnibus):</th> <td> 0.184</td> <th>  Jarque-Bera (JB):  </th> <td>   2.819</td>\n",
       "</tr>\n",
       "<tr>\n",
       "  <th>Skew:</th>          <td>-0.210</td> <th>  Prob(JB):          </th> <td>   0.244</td>\n",
       "</tr>\n",
       "<tr>\n",
       "  <th>Kurtosis:</th>      <td> 2.521</td> <th>  Cond. No.          </th> <td>    361.</td>\n",
       "</tr>\n",
       "</table><br/><br/>Notes:<br/>[1] Standard Errors assume that the covariance matrix of the errors is correctly specified."
      ],
      "text/latex": [
       "\\begin{center}\n",
       "\\begin{tabular}{lclc}\n",
       "\\toprule\n",
       "\\textbf{Dep. Variable:}    &    SWLS\\_Mean    & \\textbf{  R-squared:         } &     0.449   \\\\\n",
       "\\textbf{Model:}            &       OLS        & \\textbf{  Adj. R-squared:    } &     0.394   \\\\\n",
       "\\textbf{Method:}           &  Least Squares   & \\textbf{  F-statistic:       } &     8.197   \\\\\n",
       "\\textbf{Date:}             & Sat, 01 Jun 2024 & \\textbf{  Prob (F-statistic):} &  2.11e-13   \\\\\n",
       "\\textbf{Time:}             &     21:53:23     & \\textbf{  Log-Likelihood:    } &   -260.37   \\\\\n",
       "\\textbf{No. Observations:} &         167      & \\textbf{  AIC:               } &     552.7   \\\\\n",
       "\\textbf{Df Residuals:}     &         151      & \\textbf{  BIC:               } &     602.6   \\\\\n",
       "\\textbf{Df Model:}         &          15      & \\textbf{                     } &             \\\\\n",
       "\\textbf{Covariance Type:}  &    nonrobust     & \\textbf{                     } &             \\\\\n",
       "\\bottomrule\n",
       "\\end{tabular}\n",
       "\\begin{tabular}{lcccccc}\n",
       "                          & \\textbf{coef} & \\textbf{std err} & \\textbf{t} & \\textbf{P$> |$t$|$} & \\textbf{[0.025} & \\textbf{0.975]}  \\\\\n",
       "\\midrule\n",
       "\\textbf{const}            &       0.7899  &        0.789     &     1.001  &         0.318        &       -0.769    &        2.349     \\\\\n",
       "\\textbf{COUNTRY}          &      -0.0263  &        0.049     &    -0.541  &         0.589        &       -0.122    &        0.070     \\\\\n",
       "\\textbf{GENDER}           &      -0.4765  &        0.194     &    -2.451  &         0.015        &       -0.861    &       -0.092     \\\\\n",
       "\\textbf{MARITAL}          &       0.1201  &        0.088     &     1.363  &         0.175        &       -0.054    &        0.294     \\\\\n",
       "\\textbf{AGE}              &       0.0019  &        0.010     &     0.197  &         0.844        &       -0.017    &        0.021     \\\\\n",
       "\\textbf{EMPLOYMENT}       &       0.0132  &        0.062     &     0.215  &         0.830        &       -0.109    &        0.135     \\\\\n",
       "\\textbf{INCOME}           &       0.1737  &        0.063     &     2.768  &         0.006        &        0.050    &        0.298     \\\\\n",
       "\\textbf{SBS}              &       0.0356  &        0.072     &     0.492  &         0.623        &       -0.107    &        0.178     \\\\\n",
       "\\textbf{EDAS}             &      -0.0214  &        0.040     &    -0.538  &         0.591        &       -0.100    &        0.057     \\\\\n",
       "\\textbf{DASS\\_Anxiety}    &       0.0493  &        0.035     &     1.426  &         0.156        &       -0.019    &        0.118     \\\\\n",
       "\\textbf{DASS\\_Depression} &      -0.1434  &        0.029     &    -4.893  &         0.000        &       -0.201    &       -0.085     \\\\\n",
       "\\textbf{EX\\_Mean}         &      -0.0406  &        0.133     &    -0.304  &         0.761        &       -0.304    &        0.223     \\\\\n",
       "\\textbf{RELBEH\\_Mean}     &       0.1035  &        0.057     &     1.813  &         0.072        &       -0.009    &        0.216     \\\\\n",
       "\\textbf{GOD\\_Pos}         &       0.0798  &        0.069     &     1.154  &         0.250        &       -0.057    &        0.216     \\\\\n",
       "\\textbf{GOD\\_Neg}         &       0.0566  &        0.051     &     1.112  &         0.268        &       -0.044    &        0.157     \\\\\n",
       "\\textbf{LOCUS\\_Mean}      &       0.0535  &        0.054     &     0.983  &         0.327        &       -0.054    &        0.161     \\\\\n",
       "\\bottomrule\n",
       "\\end{tabular}\n",
       "\\begin{tabular}{lclc}\n",
       "\\textbf{Omnibus:}       &  3.389 & \\textbf{  Durbin-Watson:     } &    1.753  \\\\\n",
       "\\textbf{Prob(Omnibus):} &  0.184 & \\textbf{  Jarque-Bera (JB):  } &    2.819  \\\\\n",
       "\\textbf{Skew:}          & -0.210 & \\textbf{  Prob(JB):          } &    0.244  \\\\\n",
       "\\textbf{Kurtosis:}      &  2.521 & \\textbf{  Cond. No.          } &     361.  \\\\\n",
       "\\bottomrule\n",
       "\\end{tabular}\n",
       "%\\caption{OLS Regression Results}\n",
       "\\end{center}\n",
       "\n",
       "Notes: \\newline\n",
       " [1] Standard Errors assume that the covariance matrix of the errors is correctly specified."
      ],
      "text/plain": [
       "<class 'statsmodels.iolib.summary.Summary'>\n",
       "\"\"\"\n",
       "                            OLS Regression Results                            \n",
       "==============================================================================\n",
       "Dep. Variable:              SWLS_Mean   R-squared:                       0.449\n",
       "Model:                            OLS   Adj. R-squared:                  0.394\n",
       "Method:                 Least Squares   F-statistic:                     8.197\n",
       "Date:                Sat, 01 Jun 2024   Prob (F-statistic):           2.11e-13\n",
       "Time:                        21:53:23   Log-Likelihood:                -260.37\n",
       "No. Observations:                 167   AIC:                             552.7\n",
       "Df Residuals:                     151   BIC:                             602.6\n",
       "Df Model:                          15                                         \n",
       "Covariance Type:            nonrobust                                         \n",
       "===================================================================================\n",
       "                      coef    std err          t      P>|t|      [0.025      0.975]\n",
       "-----------------------------------------------------------------------------------\n",
       "const               0.7899      0.789      1.001      0.318      -0.769       2.349\n",
       "COUNTRY            -0.0263      0.049     -0.541      0.589      -0.122       0.070\n",
       "GENDER             -0.4765      0.194     -2.451      0.015      -0.861      -0.092\n",
       "MARITAL             0.1201      0.088      1.363      0.175      -0.054       0.294\n",
       "AGE                 0.0019      0.010      0.197      0.844      -0.017       0.021\n",
       "EMPLOYMENT          0.0132      0.062      0.215      0.830      -0.109       0.135\n",
       "INCOME              0.1737      0.063      2.768      0.006       0.050       0.298\n",
       "SBS                 0.0356      0.072      0.492      0.623      -0.107       0.178\n",
       "EDAS               -0.0214      0.040     -0.538      0.591      -0.100       0.057\n",
       "DASS_Anxiety        0.0493      0.035      1.426      0.156      -0.019       0.118\n",
       "DASS_Depression    -0.1434      0.029     -4.893      0.000      -0.201      -0.085\n",
       "EX_Mean            -0.0406      0.133     -0.304      0.761      -0.304       0.223\n",
       "RELBEH_Mean         0.1035      0.057      1.813      0.072      -0.009       0.216\n",
       "GOD_Pos             0.0798      0.069      1.154      0.250      -0.057       0.216\n",
       "GOD_Neg             0.0566      0.051      1.112      0.268      -0.044       0.157\n",
       "LOCUS_Mean          0.0535      0.054      0.983      0.327      -0.054       0.161\n",
       "==============================================================================\n",
       "Omnibus:                        3.389   Durbin-Watson:                   1.753\n",
       "Prob(Omnibus):                  0.184   Jarque-Bera (JB):                2.819\n",
       "Skew:                          -0.210   Prob(JB):                        0.244\n",
       "Kurtosis:                       2.521   Cond. No.                         361.\n",
       "==============================================================================\n",
       "\n",
       "Notes:\n",
       "[1] Standard Errors assume that the covariance matrix of the errors is correctly specified.\n",
       "\"\"\""
      ]
     },
     "execution_count": 24,
     "metadata": {},
     "output_type": "execute_result"
    }
   ],
   "source": [
    "# Fits the OLS regression model. \n",
    "ols_model = sm.OLS(y_train_r, ols_X_train).fit()\n",
    "\n",
    "# Prints the summary of the regression model results.\n",
    "ols_model.summary()"
   ]
  },
  {
   "cell_type": "markdown",
   "id": "ff9517b1",
   "metadata": {},
   "source": [
    "Decision Tree Regressor"
   ]
  },
  {
   "cell_type": "code",
   "execution_count": 25,
   "id": "1f2ea1e9",
   "metadata": {},
   "outputs": [],
   "source": [
    "# Fits the DTR model using the best parameters and selected features.\n",
    "best_dtr_model.fit(X_train_r_final, y_train_r)\n",
    "\n",
    "# Calculates the predictions on the test data.\n",
    "dtr_preds = best_dtr_model.predict(X_test_r_final)"
   ]
  },
  {
   "cell_type": "code",
   "execution_count": 26,
   "id": "f724d43f",
   "metadata": {},
   "outputs": [
    {
     "name": "stdout",
     "output_type": "stream",
     "text": [
      "Decision Tree Regressor R2: 0.08825948426257735\n",
      "Decision Tree Regressor RMSE: 1.2017348878331957\n",
      "Decision Tree Regressor MAE: 0.9864633600095557\n"
     ]
    }
   ],
   "source": [
    "# Calculates evaluation metrics for the decision tree regressor model.\n",
    "dtr_r2_score = r2_score(y_test_r, dtr_preds)\n",
    "dtr_rmse = np.sqrt(mean_squared_error(y_test_r, dtr_preds))\n",
    "dtr_mae = mean_absolute_error(y_test_r, dtr_preds)\n",
    "\n",
    "# Prints the results.\n",
    "print(\"Decision Tree Regressor R2: {}\".format(dtr_r2_score))\n",
    "print(\"Decision Tree Regressor RMSE: {}\".format(dtr_rmse))\n",
    "print(\"Decision Tree Regressor MAE: {}\".format(dtr_mae))"
   ]
  },
  {
   "cell_type": "markdown",
   "id": "64dd21ac",
   "metadata": {},
   "source": [
    "Support Vector Regressor"
   ]
  },
  {
   "cell_type": "code",
   "execution_count": 27,
   "id": "a4f75922",
   "metadata": {},
   "outputs": [],
   "source": [
    "# Fits the SVR model using the best parameters and selected features.\n",
    "best_svr_model.fit(X_train_r_final, y_train_r)\n",
    "\n",
    "# Calculates the predictions on the test data.\n",
    "svr_preds = best_svr_model.predict(X_test_r_final)"
   ]
  },
  {
   "cell_type": "code",
   "execution_count": 28,
   "id": "702fd3b2",
   "metadata": {},
   "outputs": [
    {
     "name": "stdout",
     "output_type": "stream",
     "text": [
      "Support Vector Regressor R2: 0.0916832949356895\n",
      "Support Vector Regressor RMSE: 1.199476359947955\n",
      "Support Vector Regressor MAE: 0.9329215706678072\n"
     ]
    }
   ],
   "source": [
    "# Calculates the evaluation metrics for the support vector regressor model. \n",
    "svr_r2_score = r2_score(y_test_r, svr_preds)\n",
    "svr_rmse = np.sqrt(mean_squared_error(y_test_r, svr_preds))\n",
    "svr_mae = mean_absolute_error(y_test_r, svr_preds)\n",
    "\n",
    "# Prints the results.\n",
    "print(\"Support Vector Regressor R2: {}\".format(svr_r2_score))\n",
    "print(\"Support Vector Regressor RMSE: {}\".format(svr_rmse))\n",
    "print(\"Support Vector Regressor MAE: {}\".format(svr_mae))"
   ]
  },
  {
   "cell_type": "markdown",
   "id": "6e85c080",
   "metadata": {},
   "source": [
    "Decision Tree Classifier"
   ]
  },
  {
   "cell_type": "code",
   "execution_count": 29,
   "id": "2bf6b2cf",
   "metadata": {},
   "outputs": [],
   "source": [
    "# Fits the DTC model using the best parameters and selected features.\n",
    "best_dtc_model.fit(X_train_c_final, y_train_c)\n",
    "\n",
    "# Calculates the predictions on the test data.\n",
    "dtc_preds = best_dtc_model.predict(X_test_c_final)"
   ]
  },
  {
   "cell_type": "code",
   "execution_count": 30,
   "id": "bedf65e1",
   "metadata": {},
   "outputs": [
    {
     "name": "stdout",
     "output_type": "stream",
     "text": [
      "Decision Tree Classifier Accuracy: 0.42857142857142855\n",
      "Decision Tree Classifier Classification Report:\n",
      "               precision    recall  f1-score   support\n",
      "\n",
      "           1       0.58      0.50      0.54        28\n",
      "           2       0.47      0.50      0.49        18\n",
      "           3       0.17      0.12      0.14         8\n",
      "           4       0.00      0.00      0.00         2\n",
      "\n",
      "    accuracy                           0.43        56\n",
      "   macro avg       0.31      0.28      0.29        56\n",
      "weighted avg       0.47      0.43      0.45        56\n",
      "\n"
     ]
    }
   ],
   "source": [
    "# Evaluates the DTC model via an accuracy score and a classification report.\n",
    "dtc_accuracy = accuracy_score(y_test_c, dtc_preds)\n",
    "dtc_classification = classification_report(y_test_c, dtc_preds)\n",
    "\n",
    "# Prints the results.\n",
    "print(\"Decision Tree Classifier Accuracy: {}\".format(dtc_accuracy))\n",
    "print(\"Decision Tree Classifier Classification Report:\\n {}\".format(dtc_classification))"
   ]
  },
  {
   "cell_type": "markdown",
   "id": "90c0f9a0",
   "metadata": {},
   "source": [
    "Support Vector Classifier"
   ]
  },
  {
   "cell_type": "code",
   "execution_count": 31,
   "id": "43038d54",
   "metadata": {},
   "outputs": [],
   "source": [
    "# Fits the SVC model using the best parameters and selected features.\n",
    "best_svc_model.fit(X_train_c_final, y_train_c)\n",
    "\n",
    "# Calculates the predictions based on the test data.\n",
    "svc_preds = best_svc_model.predict(X_test_c_final)"
   ]
  },
  {
   "cell_type": "code",
   "execution_count": 32,
   "id": "5e4dbdb2",
   "metadata": {},
   "outputs": [
    {
     "name": "stdout",
     "output_type": "stream",
     "text": [
      "Support Vector Classifier Accuracy: 0.375\n",
      "Support Vector Classifier Classification Report:\n",
      "               precision    recall  f1-score   support\n",
      "\n",
      "           1       0.53      0.57      0.55        28\n",
      "           2       0.14      0.11      0.12        18\n",
      "           3       0.33      0.25      0.29         8\n",
      "           4       0.17      0.50      0.25         2\n",
      "\n",
      "    accuracy                           0.38        56\n",
      "   macro avg       0.29      0.36      0.30        56\n",
      "weighted avg       0.37      0.38      0.37        56\n",
      "\n"
     ]
    }
   ],
   "source": [
    "# Evaluates the SVC model via an accuracy score and a classification report.\n",
    "svc_accuracy = accuracy_score(y_test_c, svc_preds)\n",
    "svc_classification = classification_report(y_test_c, svc_preds)\n",
    "\n",
    "# Prints the results.\n",
    "print(\"Support Vector Classifier Accuracy: {}\".format(svc_accuracy))\n",
    "print(\"Support Vector Classifier Classification Report:\\n {}\".format(svc_classification))"
   ]
  },
  {
   "cell_type": "markdown",
   "id": "ca352fd4",
   "metadata": {},
   "source": [
    "##### References\n",
    "\n",
    "- Jong, J. Baimel, A., Ross, R., McKay, R., Bluemke, M., & Halberstadt, J. (2020). Traumatic life experiences and religiosity in eight countires. _Scientific Data, 7_(140). https://doi.org/10.1038/s41597-020-0482-y\n",
    "\n",
    "- https://stackoverflow.com/questions/47688734/recursive-feature-elimination-rfe-sklearn\n",
    "\n",
    "- https://medium.com/@hsu.lihsiang.esth/feature-selection-with-recursive-feature-elimination-rfe-for-parisian-bike-count-data-23f0ce9db691\n",
    "\n",
    "- https://scikit-learn.org/stable/auto_examples/feature_selection/plot_rfe_with_cross_validation.html\n",
    "\n",
    "- https://stats.stackexchange.com/questions/429962/recursive-feature-elimination-on-just-the-train-data-or-complete-dataset\n",
    "\n",
    "- https://scikit-learn.org/stable/modules/generated/sklearn.feature_selection.RFECV.html\n",
    "\n",
    "- https://machinelearningmastery.com/rfe-feature-selection-in-python/\n",
    "\n",
    "- https://stackoverflow.com/questions/76812504/attributeerror-rfecv-object-has-no-attribute-grid-scores\n",
    "\n",
    "- https://www.kaggle.com/discussions/questions-and-answers/377391\n",
    "\n",
    "- https://datascience.stackexchange.com/questions/21877/how-to-use-the-output-of-gridsearch"
   ]
  }
 ],
 "metadata": {
  "kernelspec": {
   "display_name": "Python 3 (ipykernel)",
   "language": "python",
   "name": "python3"
  },
  "language_info": {
   "codemirror_mode": {
    "name": "ipython",
    "version": 3
   },
   "file_extension": ".py",
   "mimetype": "text/x-python",
   "name": "python",
   "nbconvert_exporter": "python",
   "pygments_lexer": "ipython3",
   "version": "3.11.7"
  }
 },
 "nbformat": 4,
 "nbformat_minor": 5
}
