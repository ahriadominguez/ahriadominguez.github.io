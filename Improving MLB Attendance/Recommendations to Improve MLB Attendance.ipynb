{
 "cells": [
  {
   "cell_type": "markdown",
   "id": "5cb5b314",
   "metadata": {},
   "source": [
    "# Recommendations to Improve MLB Attendance\n",
    "## Author: Ahria Dominguez\n",
    "### Last Updated: 6/29/2024"
   ]
  },
  {
   "cell_type": "markdown",
   "id": "54afbe47",
   "metadata": {},
   "source": [
    "In this project, we use Major League Baseball (MLB) data for the Dodgers team to give a recommendation on how to improve fan attendance to Dodgers games.\n",
    "\n",
    "The data includes:\n",
    "- month: The month of the game\n",
    "- day: The day of the month of the game\n",
    "- attend: The number of people who attended the game\n",
    "- day_of_week: The day of the week of the game\n",
    "- opponent: The team the Dodgers played against\n",
    "- temp: The temperature outside\n",
    "- skies: The weather condition of the skies\n",
    "- day_night: Whether the game happened during the day or at night\n",
    "- cap: If a baseball cap was given to fans\n",
    "- shirt: If a shirt was given to fans\n",
    "- fireworks: It fireworks occurred\n",
    "- bobblehead: If a bobblehead was given to fans"
   ]
  },
  {
   "cell_type": "markdown",
   "id": "97fafab4",
   "metadata": {},
   "source": [
    "#### Load in the Data"
   ]
  },
  {
   "cell_type": "code",
   "execution_count": 1,
   "id": "35129113",
   "metadata": {},
   "outputs": [],
   "source": [
    "# Imports the pandas library in order to load in and work with the data.\n",
    "import pandas as pd"
   ]
  },
  {
   "cell_type": "code",
   "execution_count": 2,
   "id": "b7b501f3",
   "metadata": {},
   "outputs": [],
   "source": [
    "# Loads in the data to the variable 'dodgers'.\n",
    "dodgers = pd.read_csv(\"dodgers-2022.csv\")"
   ]
  },
  {
   "cell_type": "code",
   "execution_count": 3,
   "id": "d28a8738",
   "metadata": {},
   "outputs": [
    {
     "data": {
      "text/html": [
       "<div>\n",
       "<style scoped>\n",
       "    .dataframe tbody tr th:only-of-type {\n",
       "        vertical-align: middle;\n",
       "    }\n",
       "\n",
       "    .dataframe tbody tr th {\n",
       "        vertical-align: top;\n",
       "    }\n",
       "\n",
       "    .dataframe thead th {\n",
       "        text-align: right;\n",
       "    }\n",
       "</style>\n",
       "<table border=\"1\" class=\"dataframe\">\n",
       "  <thead>\n",
       "    <tr style=\"text-align: right;\">\n",
       "      <th></th>\n",
       "      <th>month</th>\n",
       "      <th>day</th>\n",
       "      <th>attend</th>\n",
       "      <th>day_of_week</th>\n",
       "      <th>opponent</th>\n",
       "      <th>temp</th>\n",
       "      <th>skies</th>\n",
       "      <th>day_night</th>\n",
       "      <th>cap</th>\n",
       "      <th>shirt</th>\n",
       "      <th>fireworks</th>\n",
       "      <th>bobblehead</th>\n",
       "    </tr>\n",
       "  </thead>\n",
       "  <tbody>\n",
       "    <tr>\n",
       "      <th>0</th>\n",
       "      <td>APR</td>\n",
       "      <td>10</td>\n",
       "      <td>56000</td>\n",
       "      <td>Tuesday</td>\n",
       "      <td>Pirates</td>\n",
       "      <td>67</td>\n",
       "      <td>Clear</td>\n",
       "      <td>Day</td>\n",
       "      <td>NO</td>\n",
       "      <td>NO</td>\n",
       "      <td>NO</td>\n",
       "      <td>NO</td>\n",
       "    </tr>\n",
       "    <tr>\n",
       "      <th>1</th>\n",
       "      <td>APR</td>\n",
       "      <td>11</td>\n",
       "      <td>29729</td>\n",
       "      <td>Wednesday</td>\n",
       "      <td>Pirates</td>\n",
       "      <td>58</td>\n",
       "      <td>Cloudy</td>\n",
       "      <td>Night</td>\n",
       "      <td>NO</td>\n",
       "      <td>NO</td>\n",
       "      <td>NO</td>\n",
       "      <td>NO</td>\n",
       "    </tr>\n",
       "    <tr>\n",
       "      <th>2</th>\n",
       "      <td>APR</td>\n",
       "      <td>12</td>\n",
       "      <td>28328</td>\n",
       "      <td>Thursday</td>\n",
       "      <td>Pirates</td>\n",
       "      <td>57</td>\n",
       "      <td>Cloudy</td>\n",
       "      <td>Night</td>\n",
       "      <td>NO</td>\n",
       "      <td>NO</td>\n",
       "      <td>NO</td>\n",
       "      <td>NO</td>\n",
       "    </tr>\n",
       "    <tr>\n",
       "      <th>3</th>\n",
       "      <td>APR</td>\n",
       "      <td>13</td>\n",
       "      <td>31601</td>\n",
       "      <td>Friday</td>\n",
       "      <td>Padres</td>\n",
       "      <td>54</td>\n",
       "      <td>Cloudy</td>\n",
       "      <td>Night</td>\n",
       "      <td>NO</td>\n",
       "      <td>NO</td>\n",
       "      <td>YES</td>\n",
       "      <td>NO</td>\n",
       "    </tr>\n",
       "    <tr>\n",
       "      <th>4</th>\n",
       "      <td>APR</td>\n",
       "      <td>14</td>\n",
       "      <td>46549</td>\n",
       "      <td>Saturday</td>\n",
       "      <td>Padres</td>\n",
       "      <td>57</td>\n",
       "      <td>Cloudy</td>\n",
       "      <td>Night</td>\n",
       "      <td>NO</td>\n",
       "      <td>NO</td>\n",
       "      <td>NO</td>\n",
       "      <td>NO</td>\n",
       "    </tr>\n",
       "  </tbody>\n",
       "</table>\n",
       "</div>"
      ],
      "text/plain": [
       "  month  day  attend day_of_week opponent  temp   skies day_night cap shirt  \\\n",
       "0   APR   10   56000     Tuesday  Pirates    67  Clear        Day  NO    NO   \n",
       "1   APR   11   29729   Wednesday  Pirates    58  Cloudy     Night  NO    NO   \n",
       "2   APR   12   28328    Thursday  Pirates    57  Cloudy     Night  NO    NO   \n",
       "3   APR   13   31601      Friday   Padres    54  Cloudy     Night  NO    NO   \n",
       "4   APR   14   46549    Saturday   Padres    57  Cloudy     Night  NO    NO   \n",
       "\n",
       "  fireworks bobblehead  \n",
       "0        NO         NO  \n",
       "1        NO         NO  \n",
       "2        NO         NO  \n",
       "3       YES         NO  \n",
       "4        NO         NO  "
      ]
     },
     "execution_count": 3,
     "metadata": {},
     "output_type": "execute_result"
    }
   ],
   "source": [
    "# Prints the header of the data frame to show the import worked.\n",
    "dodgers.head()"
   ]
  },
  {
   "cell_type": "markdown",
   "id": "38af1a58",
   "metadata": {},
   "source": [
    "#### Exploratory Visualizations"
   ]
  },
  {
   "cell_type": "markdown",
   "id": "1ab9ba4a",
   "metadata": {},
   "source": [
    "Before jumping into code, I want to create simple visualizations to get an idea of what the dataset looks like and any relationships that may jump out at me."
   ]
  },
  {
   "cell_type": "code",
   "execution_count": 4,
   "id": "82e6c8d0",
   "metadata": {},
   "outputs": [],
   "source": [
    "# Imports the matplotlib library to create exploratory visualizations.\n",
    "import matplotlib.pyplot as plt"
   ]
  },
  {
   "cell_type": "code",
   "execution_count": 5,
   "id": "60fdc1fb",
   "metadata": {},
   "outputs": [
    {
     "data": {
      "image/png": "[encoded data removed]",
      "text/plain": [
       "<Figure size 640x480 with 1 Axes>"
      ]
     },
     "metadata": {},
     "output_type": "display_data"
    }
   ],
   "source": [
    "# Creates a scatter plot to visualize the relationship between attendance and temperature.\n",
    "plt.scatter(dodgers.temp, dodgers.attend)\n",
    "plt.title(\"Game Attendance vs. Outdoor Temperature\")\n",
    "plt.xlabel(\"Temperature\")\n",
    "plt.ylabel(\"Amount of Attendees\")\n",
    "plt.show()"
   ]
  },
  {
   "cell_type": "markdown",
   "id": "52afb776",
   "metadata": {},
   "source": [
    "It doesn't appear just by looking at the scatter plot of attendance vs. temperature that there is any correlation. The data points are all over the chart and in no particular line."
   ]
  },
  {
   "cell_type": "code",
   "execution_count": 6,
   "id": "c40d310c",
   "metadata": {},
   "outputs": [
    {
     "data": {
      "image/png": "[encoded data removed]",
      "text/plain": [
       "<Figure size 640x480 with 1 Axes>"
      ]
     },
     "metadata": {},
     "output_type": "display_data"
    }
   ],
   "source": [
    "# Creates bar charts of attendance by month.\n",
    "plt.bar(dodgers['month'], dodgers['attend'], color='cornflowerblue')\n",
    "plt.title(\"Attendance by Month\")\n",
    "plt.xlabel(\"Month\")\n",
    "plt.ylabel(\"Number of Attendees\")\n",
    "plt.show()"
   ]
  },
  {
   "cell_type": "code",
   "execution_count": 7,
   "id": "7172ed80",
   "metadata": {},
   "outputs": [
    {
     "data": {
      "text/plain": [
       "month\n",
       "MAY    18\n",
       "AUG    15\n",
       "APR    12\n",
       "JUL    12\n",
       "SEP    12\n",
       "JUN     9\n",
       "OCT     3\n",
       "Name: count, dtype: int64"
      ]
     },
     "execution_count": 7,
     "metadata": {},
     "output_type": "execute_result"
    }
   ],
   "source": [
    "# Shows the amount of month data points there are in the dataset.\n",
    "dodgers['month'].value_counts()"
   ]
  },
  {
   "cell_type": "markdown",
   "id": "b303b5d2",
   "metadata": {},
   "source": [
    "At first, the bar graph doesn't seem to tell us much. It looks like there are the least amount of attendees in October, but I wanted to check the amount of games in each month, as well. I'm glad I did because May has the highest amount of games, while still having fewer attendees than April, June, July, or August. October actually faired quite well while only having 3 games in the month. April and August seem to be the highest months for attendees."
   ]
  },
  {
   "cell_type": "code",
   "execution_count": 8,
   "id": "ac93047b",
   "metadata": {},
   "outputs": [
    {
     "data": {
      "image/png": "[encoded data removed]",
      "text/plain": [
       "<Figure size 640x480 with 1 Axes>"
      ]
     },
     "metadata": {},
     "output_type": "display_data"
    }
   ],
   "source": [
    "# Creates bar charts of attendance by day of the week.\n",
    "plt.bar(dodgers['day_of_week'], dodgers['attend'], color='cornflowerblue')\n",
    "plt.title(\"Attendance by Day of the Week\")\n",
    "plt.xlabel(\"Day of the Week\")\n",
    "plt.ylabel(\"Number of Attendees\")\n",
    "plt.xticks(fontsize = 8) # Makes the font size of the x-axis labels smaller since they were overlapping.\n",
    "plt.show()"
   ]
  },
  {
   "cell_type": "code",
   "execution_count": 9,
   "id": "b4dd164f",
   "metadata": {},
   "outputs": [
    {
     "data": {
      "text/plain": [
       "day_of_week\n",
       "Tuesday      13\n",
       "Friday       13\n",
       "Saturday     13\n",
       "Sunday       13\n",
       "Wednesday    12\n",
       "Monday       12\n",
       "Thursday      5\n",
       "Name: count, dtype: int64"
      ]
     },
     "execution_count": 9,
     "metadata": {},
     "output_type": "execute_result"
    }
   ],
   "source": [
    "# Shows the amount of day of the week data points there are in the dataset.\n",
    "dodgers['day_of_week'].value_counts()"
   ]
  },
  {
   "cell_type": "markdown",
   "id": "268513ae",
   "metadata": {},
   "source": [
    "Again, by looking at the graph itself, it doesn't appear to show much of a different in the individual days of the week. I wanted to also show the value counts of the different days to see how they measured up. I was surprised by how well Thursdays did given they only had 5 games. The rest of the days all had about the same number of games (12-13). Perhaps there is something about Thursdays that makes the games more desirable to attend."
   ]
  },
  {
   "cell_type": "code",
   "execution_count": 10,
   "id": "cea8a1ee",
   "metadata": {},
   "outputs": [
    {
     "data": {
      "image/png": "[encoded data removed]",
      "text/plain": [
       "<Figure size 640x480 with 1 Axes>"
      ]
     },
     "metadata": {},
     "output_type": "display_data"
    }
   ],
   "source": [
    "# Creates horizontal bar charts of attendance and the opposing team. (A vertical bar chart was too messy.)\n",
    "plt.barh(dodgers['opponent'], dodgers['attend'], color='cornflowerblue')\n",
    "plt.title(\"Attendance by Opposing Team\")\n",
    "plt.xlabel(\"Number of Attendees\")\n",
    "plt.ylabel(\"Team\")\n",
    "plt.xticks(fontsize = 8) # Makes the font size of the x-axis labels smaller.\n",
    "plt.show()"
   ]
  },
  {
   "cell_type": "code",
   "execution_count": 11,
   "id": "ccb1f267",
   "metadata": {},
   "outputs": [
    {
     "data": {
      "text/plain": [
       "opponent\n",
       "Giants       9\n",
       "Rockies      9\n",
       "Snakes       9\n",
       "Padres       9\n",
       "Cardinals    7\n",
       "Mets         4\n",
       "Brewers      4\n",
       "Pirates      3\n",
       "Cubs         3\n",
       "Phillies     3\n",
       "Reds         3\n",
       "Astros       3\n",
       "White Sox    3\n",
       "Angels       3\n",
       "Nationals    3\n",
       "Braves       3\n",
       "Marlins      3\n",
       "Name: count, dtype: int64"
      ]
     },
     "execution_count": 11,
     "metadata": {},
     "output_type": "execute_result"
    }
   ],
   "source": [
    "# Shows the amount of opposing team data points there are in the dataset.\n",
    "dodgers['opponent'].value_counts()"
   ]
  },
  {
   "cell_type": "markdown",
   "id": "6672bd1c",
   "metadata": {},
   "source": [
    "It looks like either the Pirates or the Giants have the most attendees for the games. However, the Pirates also have a third of the amount of games compared to the Giants. I'm not sure how much power management would have over scheduling games, but if they could leverage the teams that more people are interested in watching the Dodgers play against, that could get more people to come to the games. On the other hand, it looks like the fewest amount of attendees attended the Astros games, so perhaps they can use other things to tempt people to show up to those games."
   ]
  },
  {
   "cell_type": "markdown",
   "id": "634febcb",
   "metadata": {},
   "source": [
    "#### Exploratory Calculations"
   ]
  },
  {
   "cell_type": "markdown",
   "id": "0266676e",
   "metadata": {},
   "source": [
    "Originally, I had bar graphs plotted for each of the following calculations. However, they were all misleading once I saw the calculations done below. This is because there were so many more games in different categories compared to others (e.g., clear skies, nighttime games, no free ball caps, etc.) that it would skew the appearance of the bar charts. Instead, I decided to evaluate those columns based on the below calculations."
   ]
  },
  {
   "cell_type": "code",
   "execution_count": 12,
   "id": "5612b398",
   "metadata": {},
   "outputs": [
    {
     "data": {
      "text/plain": [
       "skies\n",
       "Clear     62\n",
       "Cloudy    19\n",
       "Name: count, dtype: int64"
      ]
     },
     "execution_count": 12,
     "metadata": {},
     "output_type": "execute_result"
    }
   ],
   "source": [
    "# Shows the amount of each different sky data point there are in the dataset.\n",
    "dodgers['skies'].value_counts()"
   ]
  },
  {
   "cell_type": "code",
   "execution_count": 13,
   "id": "93b540ce",
   "metadata": {},
   "outputs": [
    {
     "data": {
      "text/plain": [
       "skies\n",
       "Clear     41729.209677\n",
       "Cloudy    38791.315789\n",
       "Name: attend, dtype: float64"
      ]
     },
     "execution_count": 13,
     "metadata": {},
     "output_type": "execute_result"
    }
   ],
   "source": [
    "# Calculates the average number of attendees by the sky (clear or cloudy).\n",
    "dodgers.groupby('skies')['attend'].mean()"
   ]
  },
  {
   "cell_type": "markdown",
   "id": "33f7e60d",
   "metadata": {},
   "source": [
    "It doesn't look like there is much of a difference between the mean amount of attendees based on the skies (cloudy or clear) in the means. Based on the means, maybe more people are inclined to go to a game when it's sunny out, but it's hard to know if it's statistically significant just looking at the results."
   ]
  },
  {
   "cell_type": "code",
   "execution_count": 14,
   "id": "8a6da51a",
   "metadata": {},
   "outputs": [
    {
     "data": {
      "text/plain": [
       "day_night\n",
       "Night    66\n",
       "Day      15\n",
       "Name: count, dtype: int64"
      ]
     },
     "execution_count": 14,
     "metadata": {},
     "output_type": "execute_result"
    }
   ],
   "source": [
    "# Shows the amount of different day/night game data points there are in the dataset.\n",
    "dodgers['day_night'].value_counts()"
   ]
  },
  {
   "cell_type": "code",
   "execution_count": 15,
   "id": "3bcedd47",
   "metadata": {},
   "outputs": [
    {
     "data": {
      "text/plain": [
       "day_night\n",
       "Day      41793.266667\n",
       "Night    40868.893939\n",
       "Name: attend, dtype: float64"
      ]
     },
     "execution_count": 15,
     "metadata": {},
     "output_type": "execute_result"
    }
   ],
   "source": [
    "# Calculates the average number of attendees by the time of day the game occurred.\n",
    "dodgers.groupby('day_night')['attend'].mean()"
   ]
  },
  {
   "cell_type": "markdown",
   "id": "d9365ec6",
   "metadata": {},
   "source": [
    "Again, there doesn't seem to be a big difference between day and night in terms of attendance. Even though there are much fewer games that occurred during the day, more people attended those. Perhaps management can leverage that and schedule more daytime games. Although, I am unsure just by looking at it if it is significant."
   ]
  },
  {
   "cell_type": "code",
   "execution_count": 16,
   "id": "2034994f",
   "metadata": {},
   "outputs": [
    {
     "data": {
      "text/plain": [
       "cap\n",
       "NO     79\n",
       "YES     2\n",
       "Name: count, dtype: int64"
      ]
     },
     "execution_count": 16,
     "metadata": {},
     "output_type": "execute_result"
    }
   ],
   "source": [
    "# Shows the amount of different ball cap data points there are in the dataset.\n",
    "dodgers['cap'].value_counts()"
   ]
  },
  {
   "cell_type": "code",
   "execution_count": 17,
   "id": "29f3e835",
   "metadata": {},
   "outputs": [
    {
     "data": {
      "text/plain": [
       "cap\n",
       "NO     41112.240506\n",
       "YES    38189.500000\n",
       "Name: attend, dtype: float64"
      ]
     },
     "execution_count": 17,
     "metadata": {},
     "output_type": "execute_result"
    }
   ],
   "source": [
    "# Calculates the average number of attendees by whether ball caps were given out or not.\n",
    "dodgers.groupby('cap')['attend'].mean()"
   ]
  },
  {
   "cell_type": "markdown",
   "id": "559faa16",
   "metadata": {},
   "source": [
    "It seems like, on average, fewer people attend games where ball caps are given out. However, there are only two data points where this occurred. It could be that fewer people attended for another reason. This will have to be investigated more later on."
   ]
  },
  {
   "cell_type": "code",
   "execution_count": 18,
   "id": "a1889f28",
   "metadata": {},
   "outputs": [
    {
     "data": {
      "text/plain": [
       "shirt\n",
       "NO     78\n",
       "YES     3\n",
       "Name: count, dtype: int64"
      ]
     },
     "execution_count": 18,
     "metadata": {},
     "output_type": "execute_result"
    }
   ],
   "source": [
    "# Shows the amount of different shirt data points there are in the dataset.\n",
    "dodgers['shirt'].value_counts()"
   ]
  },
  {
   "cell_type": "code",
   "execution_count": 19,
   "id": "f00851e7",
   "metadata": {},
   "outputs": [
    {
     "data": {
      "text/plain": [
       "shirt\n",
       "NO     40824.551282\n",
       "YES    46643.666667\n",
       "Name: attend, dtype: float64"
      ]
     },
     "execution_count": 19,
     "metadata": {},
     "output_type": "execute_result"
    }
   ],
   "source": [
    "# Calculates the average number of attendees by whether shirts were given out or not.\n",
    "dodgers.groupby('shirt')['attend'].mean()"
   ]
  },
  {
   "cell_type": "markdown",
   "id": "81ea5aff",
   "metadata": {},
   "source": [
    "On average, there were more attendees for games that gave out free shirts than games that didn't, even though there were only three games in the dataset where that occurred. This might be a statistically significant finding (although I'll see later on), and it seems like people want to attend games where free things are given out."
   ]
  },
  {
   "cell_type": "code",
   "execution_count": 20,
   "id": "f1c072c4",
   "metadata": {},
   "outputs": [
    {
     "data": {
      "text/plain": [
       "fireworks\n",
       "NO     67\n",
       "YES    14\n",
       "Name: count, dtype: int64"
      ]
     },
     "execution_count": 20,
     "metadata": {},
     "output_type": "execute_result"
    }
   ],
   "source": [
    "# Shows the amount of different firework prevalence data points there are in the dataset.\n",
    "dodgers['fireworks'].value_counts()"
   ]
  },
  {
   "cell_type": "code",
   "execution_count": 21,
   "id": "d1808382",
   "metadata": {},
   "outputs": [
    {
     "data": {
      "text/plain": [
       "fireworks\n",
       "NO     41032.179104\n",
       "YES    41077.857143\n",
       "Name: attend, dtype: float64"
      ]
     },
     "execution_count": 21,
     "metadata": {},
     "output_type": "execute_result"
    }
   ],
   "source": [
    "# Calculates the average number of attendees by whether fireworks happened or not.\n",
    "dodgers.groupby('fireworks')['attend'].mean()"
   ]
  },
  {
   "cell_type": "markdown",
   "id": "3a533d3b",
   "metadata": {},
   "source": [
    "It does not appear that people, on average, want to attend a game where there are fireworks compared to games that do not have them. Although, there are fewer games where fireworks occurred than games that they didn't. I'm not quite sure what to make of this finding, but it doesn't seem to be too exciting."
   ]
  },
  {
   "cell_type": "code",
   "execution_count": 22,
   "id": "be08b56d",
   "metadata": {},
   "outputs": [
    {
     "data": {
      "text/plain": [
       "bobblehead\n",
       "NO     70\n",
       "YES    11\n",
       "Name: count, dtype: int64"
      ]
     },
     "execution_count": 22,
     "metadata": {},
     "output_type": "execute_result"
    }
   ],
   "source": [
    "# Shows the amount of different bobblehead data points there are in the dataset.\n",
    "dodgers['bobblehead'].value_counts()"
   ]
  },
  {
   "cell_type": "code",
   "execution_count": 23,
   "id": "d6caf388",
   "metadata": {},
   "outputs": [
    {
     "data": {
      "text/plain": [
       "bobblehead\n",
       "NO     39137.928571\n",
       "YES    53144.636364\n",
       "Name: attend, dtype: float64"
      ]
     },
     "execution_count": 23,
     "metadata": {},
     "output_type": "execute_result"
    }
   ],
   "source": [
    "# Calculates the average number of attendees by whether bobbleheads were given out or not.\n",
    "dodgers.groupby('bobblehead')['attend'].mean()"
   ]
  },
  {
   "cell_type": "markdown",
   "id": "883fb83b",
   "metadata": {},
   "source": [
    "A lot more people attended games that gave out free bobbleheads! I am not sure yet if it is statistically significant, but considering there were only 11 games out of the 81 that gave out bobbleheads, it might be likely that this is a huge drawing factor to entice people to go to the games. Management would definitely need to know about this finding."
   ]
  },
  {
   "cell_type": "markdown",
   "id": "d30539b0",
   "metadata": {},
   "source": [
    "#### Correlation Analyses"
   ]
  },
  {
   "cell_type": "code",
   "execution_count": 24,
   "id": "ff171439",
   "metadata": {},
   "outputs": [],
   "source": [
    "# Now, I want to alter the variables of the non-numeric columns into numeric values to run correlation \n",
    "# analyses with the number of attendees because you cannot run '.corr()' with string values.\n",
    "\n",
    "# Replaces the months with their numeric value.\n",
    "dodgers['month'] = dodgers['month'].replace({\"APR\": 4, \"MAY\": 5, \"JUN\": 6, \"JUL\": 7, \"AUG\": 8, \"SEP\": 9,\n",
    "                                            \"OCT\": 10})\n",
    "# Replaces the days of the week with numeric values.\n",
    "dodgers['day_of_week'] = dodgers['day_of_week'].replace({\"Sunday\": 1, \"Monday\": 2, \"Tuesday\": 3, \n",
    "                                                        \"Wednesday\": 4, \"Thursday\": 5, \"Friday\": 6, \n",
    "                                                        \"Saturday\": 7})\n",
    "\n",
    "# Replaces the opponent names with numeric values.\n",
    "dodgers['opponent'] = dodgers['opponent'].replace({\"Giants\": 1, \"Rockies\": 2, \"Snakes\": 3, \"Padres\": 4,\n",
    "                                                  \"Cardinals\": 5, \"Mets\": 6, \"Brewers\": 7, \"Pirates\": 8,\n",
    "                                                  \"Cubs\": 9, \"Phillies\": 10, \"Reds\": 11, \"Astros\": 12,\n",
    "                                                  \"White Sox\": 13, \"Angels\": 14, \"Nationals\": 15,\n",
    "                                                  \"Braves\": 16, \"Marlins\": 17})\n",
    "\n",
    "# Replaces the 'skies' forecast with numeric values. (There was a trailing whitespace in 'Clear'.)\n",
    "dodgers['skies'] = dodgers['skies'].replace({\"Clear \": 1, \"Cloudy\": 2})\n",
    "\n",
    "# Replaces the day/night time of day with numeric values.\n",
    "dodgers['day_night'] = dodgers['day_night'].replace({\"Day\": 1, \"Night\": 2})\n",
    "\n",
    "# The following columns all have the same values in them, so I can run a loop to change them. \n",
    "# Assigns the column names of the values I want to replace to 'replace_names'.\n",
    "replace_names = ['cap', 'shirt', 'fireworks', 'bobblehead']\n",
    "\n",
    "# Loops over those column names and replaces 'NO' with 0 and 'YES' with 1.\n",
    "for name in replace_names:\n",
    "    dodgers[name] = dodgers[name].replace({\"NO\": 0, \"YES\": 1})"
   ]
  },
  {
   "cell_type": "code",
   "execution_count": 25,
   "id": "c5e918a0",
   "metadata": {},
   "outputs": [
    {
     "data": {
      "text/html": [
       "<div>\n",
       "<style scoped>\n",
       "    .dataframe tbody tr th:only-of-type {\n",
       "        vertical-align: middle;\n",
       "    }\n",
       "\n",
       "    .dataframe tbody tr th {\n",
       "        vertical-align: top;\n",
       "    }\n",
       "\n",
       "    .dataframe thead th {\n",
       "        text-align: right;\n",
       "    }\n",
       "</style>\n",
       "<table border=\"1\" class=\"dataframe\">\n",
       "  <thead>\n",
       "    <tr style=\"text-align: right;\">\n",
       "      <th></th>\n",
       "      <th>month</th>\n",
       "      <th>day</th>\n",
       "      <th>attend</th>\n",
       "      <th>day_of_week</th>\n",
       "      <th>opponent</th>\n",
       "      <th>temp</th>\n",
       "      <th>skies</th>\n",
       "      <th>day_night</th>\n",
       "      <th>cap</th>\n",
       "      <th>shirt</th>\n",
       "      <th>fireworks</th>\n",
       "      <th>bobblehead</th>\n",
       "    </tr>\n",
       "  </thead>\n",
       "  <tbody>\n",
       "    <tr>\n",
       "      <th>0</th>\n",
       "      <td>4</td>\n",
       "      <td>10</td>\n",
       "      <td>56000</td>\n",
       "      <td>3</td>\n",
       "      <td>8</td>\n",
       "      <td>67</td>\n",
       "      <td>1</td>\n",
       "      <td>1</td>\n",
       "      <td>0</td>\n",
       "      <td>0</td>\n",
       "      <td>0</td>\n",
       "      <td>0</td>\n",
       "    </tr>\n",
       "    <tr>\n",
       "      <th>1</th>\n",
       "      <td>4</td>\n",
       "      <td>11</td>\n",
       "      <td>29729</td>\n",
       "      <td>4</td>\n",
       "      <td>8</td>\n",
       "      <td>58</td>\n",
       "      <td>2</td>\n",
       "      <td>2</td>\n",
       "      <td>0</td>\n",
       "      <td>0</td>\n",
       "      <td>0</td>\n",
       "      <td>0</td>\n",
       "    </tr>\n",
       "    <tr>\n",
       "      <th>2</th>\n",
       "      <td>4</td>\n",
       "      <td>12</td>\n",
       "      <td>28328</td>\n",
       "      <td>5</td>\n",
       "      <td>8</td>\n",
       "      <td>57</td>\n",
       "      <td>2</td>\n",
       "      <td>2</td>\n",
       "      <td>0</td>\n",
       "      <td>0</td>\n",
       "      <td>0</td>\n",
       "      <td>0</td>\n",
       "    </tr>\n",
       "    <tr>\n",
       "      <th>3</th>\n",
       "      <td>4</td>\n",
       "      <td>13</td>\n",
       "      <td>31601</td>\n",
       "      <td>6</td>\n",
       "      <td>4</td>\n",
       "      <td>54</td>\n",
       "      <td>2</td>\n",
       "      <td>2</td>\n",
       "      <td>0</td>\n",
       "      <td>0</td>\n",
       "      <td>1</td>\n",
       "      <td>0</td>\n",
       "    </tr>\n",
       "    <tr>\n",
       "      <th>4</th>\n",
       "      <td>4</td>\n",
       "      <td>14</td>\n",
       "      <td>46549</td>\n",
       "      <td>7</td>\n",
       "      <td>4</td>\n",
       "      <td>57</td>\n",
       "      <td>2</td>\n",
       "      <td>2</td>\n",
       "      <td>0</td>\n",
       "      <td>0</td>\n",
       "      <td>0</td>\n",
       "      <td>0</td>\n",
       "    </tr>\n",
       "  </tbody>\n",
       "</table>\n",
       "</div>"
      ],
      "text/plain": [
       "   month  day  attend  day_of_week  opponent  temp  skies  day_night  cap  \\\n",
       "0      4   10   56000            3         8    67      1          1    0   \n",
       "1      4   11   29729            4         8    58      2          2    0   \n",
       "2      4   12   28328            5         8    57      2          2    0   \n",
       "3      4   13   31601            6         4    54      2          2    0   \n",
       "4      4   14   46549            7         4    57      2          2    0   \n",
       "\n",
       "   shirt  fireworks  bobblehead  \n",
       "0      0          0           0  \n",
       "1      0          0           0  \n",
       "2      0          0           0  \n",
       "3      0          1           0  \n",
       "4      0          0           0  "
      ]
     },
     "execution_count": 25,
     "metadata": {},
     "output_type": "execute_result"
    }
   ],
   "source": [
    "# Prints the header to show it worked.\n",
    "dodgers.head()"
   ]
  },
  {
   "cell_type": "code",
   "execution_count": 26,
   "id": "5744f3ab",
   "metadata": {},
   "outputs": [
    {
     "data": {
      "text/html": [
       "<div>\n",
       "<style scoped>\n",
       "    .dataframe tbody tr th:only-of-type {\n",
       "        vertical-align: middle;\n",
       "    }\n",
       "\n",
       "    .dataframe tbody tr th {\n",
       "        vertical-align: top;\n",
       "    }\n",
       "\n",
       "    .dataframe thead th {\n",
       "        text-align: right;\n",
       "    }\n",
       "</style>\n",
       "<table border=\"1\" class=\"dataframe\">\n",
       "  <thead>\n",
       "    <tr style=\"text-align: right;\">\n",
       "      <th></th>\n",
       "      <th>month</th>\n",
       "      <th>day</th>\n",
       "      <th>attend</th>\n",
       "      <th>day_of_week</th>\n",
       "      <th>opponent</th>\n",
       "      <th>temp</th>\n",
       "      <th>skies</th>\n",
       "      <th>day_night</th>\n",
       "      <th>cap</th>\n",
       "      <th>shirt</th>\n",
       "      <th>fireworks</th>\n",
       "      <th>bobblehead</th>\n",
       "    </tr>\n",
       "  </thead>\n",
       "  <tbody>\n",
       "    <tr>\n",
       "      <th>month</th>\n",
       "      <td>1.000000</td>\n",
       "      <td>-0.317497</td>\n",
       "      <td>0.049306</td>\n",
       "      <td>-0.034183</td>\n",
       "      <td>-0.355156</td>\n",
       "      <td>0.806647</td>\n",
       "      <td>-0.132903</td>\n",
       "      <td>-0.001950</td>\n",
       "      <td>0.079739</td>\n",
       "      <td>-0.028081</td>\n",
       "      <td>-0.023376</td>\n",
       "      <td>-0.030223</td>\n",
       "    </tr>\n",
       "    <tr>\n",
       "      <th>day</th>\n",
       "      <td>-0.317497</td>\n",
       "      <td>1.000000</td>\n",
       "      <td>0.027093</td>\n",
       "      <td>0.160664</td>\n",
       "      <td>0.258826</td>\n",
       "      <td>-0.127612</td>\n",
       "      <td>-0.038396</td>\n",
       "      <td>-0.039828</td>\n",
       "      <td>-0.202274</td>\n",
       "      <td>-0.030182</td>\n",
       "      <td>0.099528</td>\n",
       "      <td>0.145363</td>\n",
       "    </tr>\n",
       "    <tr>\n",
       "      <th>attend</th>\n",
       "      <td>0.049306</td>\n",
       "      <td>0.027093</td>\n",
       "      <td>1.000000</td>\n",
       "      <td>0.045177</td>\n",
       "      <td>0.096267</td>\n",
       "      <td>0.098951</td>\n",
       "      <td>-0.150963</td>\n",
       "      <td>-0.043544</td>\n",
       "      <td>-0.055002</td>\n",
       "      <td>0.133269</td>\n",
       "      <td>0.002094</td>\n",
       "      <td>0.581895</td>\n",
       "    </tr>\n",
       "    <tr>\n",
       "      <th>day_of_week</th>\n",
       "      <td>-0.034183</td>\n",
       "      <td>0.160664</td>\n",
       "      <td>0.045177</td>\n",
       "      <td>1.000000</td>\n",
       "      <td>0.044460</td>\n",
       "      <td>-0.210856</td>\n",
       "      <td>0.173522</td>\n",
       "      <td>0.455972</td>\n",
       "      <td>-0.147091</td>\n",
       "      <td>-0.181300</td>\n",
       "      <td>0.423744</td>\n",
       "      <td>-0.003203</td>\n",
       "    </tr>\n",
       "    <tr>\n",
       "      <th>opponent</th>\n",
       "      <td>-0.355156</td>\n",
       "      <td>0.258826</td>\n",
       "      <td>0.096267</td>\n",
       "      <td>0.044460</td>\n",
       "      <td>1.000000</td>\n",
       "      <td>-0.403943</td>\n",
       "      <td>0.168992</td>\n",
       "      <td>-0.069666</td>\n",
       "      <td>0.103074</td>\n",
       "      <td>0.166932</td>\n",
       "      <td>0.083623</td>\n",
       "      <td>-0.080352</td>\n",
       "    </tr>\n",
       "    <tr>\n",
       "      <th>temp</th>\n",
       "      <td>0.806647</td>\n",
       "      <td>-0.127612</td>\n",
       "      <td>0.098951</td>\n",
       "      <td>-0.210856</td>\n",
       "      <td>-0.403943</td>\n",
       "      <td>1.000000</td>\n",
       "      <td>-0.316584</td>\n",
       "      <td>-0.272141</td>\n",
       "      <td>0.064521</td>\n",
       "      <td>0.004394</td>\n",
       "      <td>-0.189899</td>\n",
       "      <td>0.049573</td>\n",
       "    </tr>\n",
       "    <tr>\n",
       "      <th>skies</th>\n",
       "      <td>-0.132903</td>\n",
       "      <td>-0.038396</td>\n",
       "      <td>-0.150963</td>\n",
       "      <td>0.173522</td>\n",
       "      <td>0.168992</td>\n",
       "      <td>-0.316584</td>\n",
       "      <td>1.000000</td>\n",
       "      <td>0.188903</td>\n",
       "      <td>0.099671</td>\n",
       "      <td>-0.108566</td>\n",
       "      <td>-0.021880</td>\n",
       "      <td>-0.049349</td>\n",
       "    </tr>\n",
       "    <tr>\n",
       "      <th>day_night</th>\n",
       "      <td>-0.001950</td>\n",
       "      <td>-0.039828</td>\n",
       "      <td>-0.043544</td>\n",
       "      <td>0.455972</td>\n",
       "      <td>-0.069666</td>\n",
       "      <td>-0.272141</td>\n",
       "      <td>0.188903</td>\n",
       "      <td>1.000000</td>\n",
       "      <td>-0.128951</td>\n",
       "      <td>-0.074796</td>\n",
       "      <td>0.217922</td>\n",
       "      <td>0.188982</td>\n",
       "    </tr>\n",
       "    <tr>\n",
       "      <th>cap</th>\n",
       "      <td>0.079739</td>\n",
       "      <td>-0.202274</td>\n",
       "      <td>-0.055002</td>\n",
       "      <td>-0.147091</td>\n",
       "      <td>0.103074</td>\n",
       "      <td>0.064521</td>\n",
       "      <td>0.099671</td>\n",
       "      <td>-0.128951</td>\n",
       "      <td>1.000000</td>\n",
       "      <td>-0.031204</td>\n",
       "      <td>-0.072732</td>\n",
       "      <td>-0.063074</td>\n",
       "    </tr>\n",
       "    <tr>\n",
       "      <th>shirt</th>\n",
       "      <td>-0.028081</td>\n",
       "      <td>-0.030182</td>\n",
       "      <td>0.133269</td>\n",
       "      <td>-0.181300</td>\n",
       "      <td>0.166932</td>\n",
       "      <td>0.004394</td>\n",
       "      <td>-0.108566</td>\n",
       "      <td>-0.074796</td>\n",
       "      <td>-0.031204</td>\n",
       "      <td>1.000000</td>\n",
       "      <td>-0.089648</td>\n",
       "      <td>-0.077743</td>\n",
       "    </tr>\n",
       "    <tr>\n",
       "      <th>fireworks</th>\n",
       "      <td>-0.023376</td>\n",
       "      <td>0.099528</td>\n",
       "      <td>0.002094</td>\n",
       "      <td>0.423744</td>\n",
       "      <td>0.083623</td>\n",
       "      <td>-0.189899</td>\n",
       "      <td>-0.021880</td>\n",
       "      <td>0.217922</td>\n",
       "      <td>-0.072732</td>\n",
       "      <td>-0.089648</td>\n",
       "      <td>1.000000</td>\n",
       "      <td>-0.181207</td>\n",
       "    </tr>\n",
       "    <tr>\n",
       "      <th>bobblehead</th>\n",
       "      <td>-0.030223</td>\n",
       "      <td>0.145363</td>\n",
       "      <td>0.581895</td>\n",
       "      <td>-0.003203</td>\n",
       "      <td>-0.080352</td>\n",
       "      <td>0.049573</td>\n",
       "      <td>-0.049349</td>\n",
       "      <td>0.188982</td>\n",
       "      <td>-0.063074</td>\n",
       "      <td>-0.077743</td>\n",
       "      <td>-0.181207</td>\n",
       "      <td>1.000000</td>\n",
       "    </tr>\n",
       "  </tbody>\n",
       "</table>\n",
       "</div>"
      ],
      "text/plain": [
       "                month       day    attend  day_of_week  opponent      temp  \\\n",
       "month        1.000000 -0.317497  0.049306    -0.034183 -0.355156  0.806647   \n",
       "day         -0.317497  1.000000  0.027093     0.160664  0.258826 -0.127612   \n",
       "attend       0.049306  0.027093  1.000000     0.045177  0.096267  0.098951   \n",
       "day_of_week -0.034183  0.160664  0.045177     1.000000  0.044460 -0.210856   \n",
       "opponent    -0.355156  0.258826  0.096267     0.044460  1.000000 -0.403943   \n",
       "temp         0.806647 -0.127612  0.098951    -0.210856 -0.403943  1.000000   \n",
       "skies       -0.132903 -0.038396 -0.150963     0.173522  0.168992 -0.316584   \n",
       "day_night   -0.001950 -0.039828 -0.043544     0.455972 -0.069666 -0.272141   \n",
       "cap          0.079739 -0.202274 -0.055002    -0.147091  0.103074  0.064521   \n",
       "shirt       -0.028081 -0.030182  0.133269    -0.181300  0.166932  0.004394   \n",
       "fireworks   -0.023376  0.099528  0.002094     0.423744  0.083623 -0.189899   \n",
       "bobblehead  -0.030223  0.145363  0.581895    -0.003203 -0.080352  0.049573   \n",
       "\n",
       "                skies  day_night       cap     shirt  fireworks  bobblehead  \n",
       "month       -0.132903  -0.001950  0.079739 -0.028081  -0.023376   -0.030223  \n",
       "day         -0.038396  -0.039828 -0.202274 -0.030182   0.099528    0.145363  \n",
       "attend      -0.150963  -0.043544 -0.055002  0.133269   0.002094    0.581895  \n",
       "day_of_week  0.173522   0.455972 -0.147091 -0.181300   0.423744   -0.003203  \n",
       "opponent     0.168992  -0.069666  0.103074  0.166932   0.083623   -0.080352  \n",
       "temp        -0.316584  -0.272141  0.064521  0.004394  -0.189899    0.049573  \n",
       "skies        1.000000   0.188903  0.099671 -0.108566  -0.021880   -0.049349  \n",
       "day_night    0.188903   1.000000 -0.128951 -0.074796   0.217922    0.188982  \n",
       "cap          0.099671  -0.128951  1.000000 -0.031204  -0.072732   -0.063074  \n",
       "shirt       -0.108566  -0.074796 -0.031204  1.000000  -0.089648   -0.077743  \n",
       "fireworks   -0.021880   0.217922 -0.072732 -0.089648   1.000000   -0.181207  \n",
       "bobblehead  -0.049349   0.188982 -0.063074 -0.077743  -0.181207    1.000000  "
      ]
     },
     "execution_count": 26,
     "metadata": {},
     "output_type": "execute_result"
    }
   ],
   "source": [
    "# Creates a correlation matrix for the data frame to compare all variables with 'attend'.\n",
    "dodgers.corr()"
   ]
  },
  {
   "cell_type": "markdown",
   "id": "7d2abb15",
   "metadata": {},
   "source": [
    "Since I am only trying to see what is correlated with attendance, I paid closest attention to the results in the 'attend' column/row (same in both). There's a weak correlation with attendance and skies at -0.15, meaning that as skies were cloudy, fewer people attended. However, if we go back to the calculations done above, there were only 19 games where the skies were cloudy, as opposed to 62 games where skies were clear. This finding has a weak Pearson correlation, and I wouldn't be surprised if the relationship is there because there were fewer cloudy games (it could be something else besides the clouds driving people to not go). There is also a weak correlation between free shirts and attendance at 0.13, meaning that if shirts were given out, more people attended. Even though it's a weak correlation, this is interesting since there were only 3 games that gave out shirts, as opposed to 78 games where they weren't. Perhaps this relationship would be stronger if there were more instances of it occurring.\n",
    "\n",
    "Finally, there is a moderate correlation between attendance and bobbleheads at 0.58, meaning that if bobbleheads were given out, more people attended the games. While this isn't quite a strong correlation, it is still very interesting. There were only 11 games out of the 81 where bobbleheads were given out, so I'm sure this relationship would be stronger if the games were more balanced. It seems like people really like free things/collectables."
   ]
  },
  {
   "cell_type": "markdown",
   "id": "993971c4",
   "metadata": {},
   "source": [
    "#### Linear Regression"
   ]
  },
  {
   "cell_type": "code",
   "execution_count": 27,
   "id": "c12734f1",
   "metadata": {},
   "outputs": [],
   "source": [
    "# Now, I will evaluate a linear regression model on the data.\n",
    "# Imports the necessary sklearn packages to run a linear regression and the numpy package to calculate root\n",
    "# mean squared error.\n",
    "from sklearn.linear_model import LinearRegression\n",
    "from sklearn.model_selection import train_test_split\n",
    "from sklearn.metrics import mean_squared_error\n",
    "import numpy as np"
   ]
  },
  {
   "cell_type": "code",
   "execution_count": 28,
   "id": "9a636afc",
   "metadata": {},
   "outputs": [],
   "source": [
    "# Assigns all other columns besides 'attend' to 'features' and only 'attend' to 'target'.\n",
    "features = dodgers.drop('attend', axis=1)\n",
    "target = dodgers['attend']\n",
    "\n",
    "# Uses 'train_test_split' on the dataset with a test size of 25%.\n",
    "features_train, features_test, target_train, target_test = train_test_split(features, target, test_size=0.25, \n",
    "                                                                            random_state=42)\n",
    "# Assigns the LinearRegression() function to 'regression'.\n",
    "regression = LinearRegression()"
   ]
  },
  {
   "cell_type": "code",
   "execution_count": 29,
   "id": "744f208d",
   "metadata": {},
   "outputs": [],
   "source": [
    "# Fits the regression model to the training data.\n",
    "regression.fit(features_train, target_train)\n",
    "\n",
    "# Calculates the predictions on the test features.\n",
    "predictions = regression.predict(features_test)"
   ]
  },
  {
   "cell_type": "code",
   "execution_count": 30,
   "id": "0b8d73f9",
   "metadata": {},
   "outputs": [
    {
     "data": {
      "text/plain": [
       "0.18369859667274768"
      ]
     },
     "execution_count": 30,
     "metadata": {},
     "output_type": "execute_result"
    }
   ],
   "source": [
    "# Calculates and prints the R-squared value.\n",
    "regression.score(features_test, target_test)"
   ]
  },
  {
   "cell_type": "code",
   "execution_count": 31,
   "id": "9b3088f7",
   "metadata": {},
   "outputs": [
    {
     "data": {
      "text/plain": [
       "8443.069317453448"
      ]
     },
     "execution_count": 31,
     "metadata": {},
     "output_type": "execute_result"
    }
   ],
   "source": [
    "# Calculates the mean squared error of the model.\n",
    "mse = mean_squared_error(target_test, predictions)\n",
    "\n",
    "# Calculates and prints the root mean squared error of the model (I find it easier than MSE to interpret).\n",
    "np.sqrt(mse)"
   ]
  },
  {
   "cell_type": "code",
   "execution_count": 32,
   "id": "cd6ca57e",
   "metadata": {},
   "outputs": [
    {
     "data": {
      "text/plain": [
       "array([  673.72108356,   -77.28389663,   493.90916649,   411.34880157,\n",
       "          69.85798453, -3267.64850469, -3188.84479556, -1628.82708117,\n",
       "        5114.22185101,  3860.43464844, 16744.024233  ])"
      ]
     },
     "execution_count": 32,
     "metadata": {},
     "output_type": "execute_result"
    }
   ],
   "source": [
    "# Prints the model coefficients of the different features.\n",
    "regression.coef_"
   ]
  },
  {
   "cell_type": "code",
   "execution_count": 33,
   "id": "6958d892",
   "metadata": {},
   "outputs": [
    {
     "data": {
      "text/plain": [
       "34313.85232618003"
      ]
     },
     "execution_count": 33,
     "metadata": {},
     "output_type": "execute_result"
    }
   ],
   "source": [
    "# Prints the model intercept value.\n",
    "regression.intercept_"
   ]
  },
  {
   "cell_type": "markdown",
   "id": "63ed2b9d",
   "metadata": {},
   "source": [
    "#### Interpretation of Model Results\n",
    "The model's R-squared value was 0.18, meaning that 18% of the variance in the model is explained by the features in the model. There may be unnecessary features in the model causing this value to be somewhat low. The root mean squared error (RMSE) of the model was 8,443.07, meaning the model's predictions on amount of attendees deviated from the true amount by about 8,443 people on average. The model's intercept was 34,313.85, meaning that if all the features were set to 0, the model expects the number of attendees to be about 34,314. The model coefficients show the importance of each feature to the model. Generally, the higher the number, the stronger the contribution to the model's predictions. We can see that the last feature and the third to last feature had the highest impact on the predictions. These features were bobbleheads and shirts, respectively. So, for every one-unit increase of bobbleheads and shirts (them being given out), the number of attendees are expected to increase by ~16,744 and ~5,114 people respectively.\n",
    "\n",
    "This seems to fit the results of the exploratory analyses earlier on. Bobbleheads really seem to draw people to the games, probably because they're so collectible. I don't know anyone who doesn't love free shirts, so it's also not surprising that the prevalence of free shirts contributes to the model's predictions. These results influence my below recommendations to the Dodgers' management team."
   ]
  },
  {
   "cell_type": "markdown",
   "id": "08b9566a",
   "metadata": {},
   "source": [
    "#### Recommendation"
   ]
  },
  {
   "cell_type": "markdown",
   "id": "6c21f279",
   "metadata": {},
   "source": [
    "I would recommend that the Dodgers' management team should consider giving out more free bobbleheads and free shirts, especially bobbleheads, if they were to only choose one. They are likely a collectors item, and they could entice people to want to come to more games. On average, the prevalence of free bobbleheads brings about 16,744 more people to the games, which means there are that many more people there who could spend money on other merchandise and/or food. While shirts don't bring out as many people (about 5,114 per game where they're given out), that's still a lot more people who could be spending money at the stadium. \n",
    "\n",
    "Overall, I think the findings of bobbleheads and shirts having an impact on the amount of attendees is pretty sound. While the correlation coefficient between number of attendees and free shirts was a weak one, I think that could be due to the statistical power of the number of games where free shirts were given out. There were much fewer instances of them, so I think the relationship could become stronger if it happened more often. The correlation between the number of attendees and prevalence of free bobbleheads was a moderate one, but I also think it's not considered strong due to the fact that there were much fewer instances of bobbleheads being given out.\n",
    "\n",
    "If the Dodgers' management team considers giving out more free merchandise (particularly bobbleheads and shirts), they could increase the amount of attendees to their games."
   ]
  },
  {
   "cell_type": "markdown",
   "id": "5cfa05e8",
   "metadata": {},
   "source": [
    "#### References\n",
    "Bobbitt, Z. (2021, November 22). _How to perform bivariate analysis in Python (with examples)._ Statology. https://www.statology.org/bivariate-analysis-in-python/\n",
    "\n",
    "Gupta, A. (2023, August 2). _Python | Linear regression using sklearn._ GeeksforGeeks. https://www.geeksforgeeks.org/python-linear-regression-using-sklearn/\n",
    "\n",
    "Kumar, A. (2023, November 27). _A quick guide to bivariate analysis in Python._ Analytics Vidhya. https://www.analyticsvidhya.com/blog/2022/02/a-quick-guide-to-bivariate-analysis-in-python/\n",
    "\n",
    "JMP. (n.d.). _Interpreting regression output._ https://www.jmp.com/en_us/statistics-knowledge-portal/what-is-regression/interpreting-regression-results.html\n",
    "\n",
    "Thomas, S. (2023, April 11). _Understanding the Pearson correlation coefficient._ Outlier. https://articles.outlier.org/pearson-correlation-coefficient"
   ]
  }
 ],
 "metadata": {
  "kernelspec": {
   "display_name": "Python 3 (ipykernel)",
   "language": "python",
   "name": "python3"
  },
  "language_info": {
   "codemirror_mode": {
    "name": "ipython",
    "version": 3
   },
   "file_extension": ".py",
   "mimetype": "text/x-python",
   "name": "python",
   "nbconvert_exporter": "python",
   "pygments_lexer": "ipython3",
   "version": "3.11.7"
  }
 },
 "nbformat": 4,
 "nbformat_minor": 5
}
