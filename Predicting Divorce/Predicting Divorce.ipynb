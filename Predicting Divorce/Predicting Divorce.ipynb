{
 "cells": [
  {
   "cell_type": "markdown",
   "id": "5a77e1b2",
   "metadata": {},
   "source": [
    "# Predicting Divorce\n",
    "## Author: Ahria Dominguez\n",
    "### Last Updated: 6/30/2024"
   ]
  },
  {
   "cell_type": "markdown",
   "id": "1cf79251",
   "metadata": {},
   "source": [
    "In this project, we will examine data from a Kaggle dataset titled _Split or Stay: Divorce Predictor Dataset_ (https://www.kaggle.com/datasets/rabieelkharoua/split-or-stay-divorce-predictor-dataset?resource=download). We will determine if divorce can be predicted using the authors' Divorce Predictors Scale (DPS) responses from Turkish participants through several different models.\n",
    "\n",
    "The data consist of:\n",
    "- Atr1-Atr54: Individual responses from the DPS\n",
    "- Class: A Boolean variable which indicates if the couple is now divorced or married (0 = Divorced; 1 = Married)"
   ]
  },
  {
   "cell_type": "markdown",
   "id": "0a769b1f",
   "metadata": {},
   "source": [
    "##### Import the Data"
   ]
  },
  {
   "cell_type": "code",
   "execution_count": 1,
   "id": "a3d35b90",
   "metadata": {},
   "outputs": [],
   "source": [
    "# Imports the pandas library to load in and work with the data.\n",
    "import pandas as pd\n",
    "# Changes the pandas setting to have no maximum of displayed rows.\n",
    "pd.set_option('display.max_rows', None)\n",
    "# Imports the libraries needed to select features, model the data, and\n",
    "# visualize the data. Some libraries are included to evaluate model results.\n",
    "import matplotlib.pyplot as plt\n",
    "import seaborn as sns\n",
    "from sklearn.feature_selection import RFECV, RFE\n",
    "from sklearn.model_selection import train_test_split, GridSearchCV\n",
    "from sklearn.metrics import accuracy_score, classification_report, \\\n",
    "confusion_matrix\n",
    "from sklearn.linear_model import LogisticRegression\n",
    "from sklearn.preprocessing import StandardScaler\n",
    "from sklearn.tree import DecisionTreeClassifier\n",
    "from sklearn.ensemble import RandomForestClassifier\n",
    "from sklearn.svm import SVC"
   ]
  },
  {
   "cell_type": "code",
   "execution_count": 2,
   "id": "4c18bf97",
   "metadata": {},
   "outputs": [
    {
     "name": "stdout",
     "output_type": "stream",
     "text": [
      "   Atr1  Atr2  Atr3  Atr4  Atr5  Atr6  Atr7  Atr8  Atr9  Atr10  ...  Atr46  \\\n",
      "0     2     2     4     1     0     0     0     0     0      0  ...      2   \n",
      "1     4     4     4     4     4     0     0     4     4      4  ...      2   \n",
      "2     2     2     2     2     1     3     2     1     1      2  ...      3   \n",
      "3     3     2     3     2     3     3     3     3     3      3  ...      2   \n",
      "4     2     2     1     1     1     1     0     0     0      0  ...      2   \n",
      "\n",
      "   Atr47  Atr48  Atr49  Atr50  Atr51  Atr52  Atr53  Atr54  Class  \n",
      "0      1      3      3      3      2      3      2      1      1  \n",
      "1      2      3      4      4      4      4      2      2      1  \n",
      "2      2      3      1      1      1      2      2      2      1  \n",
      "3      2      3      3      3      3      2      2      2      1  \n",
      "4      1      2      3      2      2      2      1      0      1  \n",
      "\n",
      "[5 rows x 55 columns]\n"
     ]
    }
   ],
   "source": [
    "# Loads in the XLSX file.\n",
    "data = pd.read_excel(\"divorce.xlsx\")\n",
    "\n",
    "# Prints the header to show the import worked.\n",
    "print(data.head())"
   ]
  },
  {
   "cell_type": "markdown",
   "id": "a35514b5",
   "metadata": {},
   "source": [
    "##### Data Exploration and Transformation"
   ]
  },
  {
   "cell_type": "code",
   "execution_count": 3,
   "id": "a3274c68",
   "metadata": {
    "scrolled": true
   },
   "outputs": [
    {
     "data": {
      "text/plain": [
       "Atr1     0\n",
       "Atr2     0\n",
       "Atr3     0\n",
       "Atr4     0\n",
       "Atr5     0\n",
       "Atr6     0\n",
       "Atr7     0\n",
       "Atr8     0\n",
       "Atr9     0\n",
       "Atr10    0\n",
       "Atr11    0\n",
       "Atr12    0\n",
       "Atr13    0\n",
       "Atr14    0\n",
       "Atr15    0\n",
       "Atr16    0\n",
       "Atr17    0\n",
       "Atr18    0\n",
       "Atr19    0\n",
       "Atr20    0\n",
       "Atr21    0\n",
       "Atr22    0\n",
       "Atr23    0\n",
       "Atr24    0\n",
       "Atr25    0\n",
       "Atr26    0\n",
       "Atr27    0\n",
       "Atr28    0\n",
       "Atr29    0\n",
       "Atr30    0\n",
       "Atr31    0\n",
       "Atr32    0\n",
       "Atr33    0\n",
       "Atr34    0\n",
       "Atr35    0\n",
       "Atr36    0\n",
       "Atr37    0\n",
       "Atr38    0\n",
       "Atr39    0\n",
       "Atr40    0\n",
       "Atr41    0\n",
       "Atr42    0\n",
       "Atr43    0\n",
       "Atr44    0\n",
       "Atr45    0\n",
       "Atr46    0\n",
       "Atr47    0\n",
       "Atr48    0\n",
       "Atr49    0\n",
       "Atr50    0\n",
       "Atr51    0\n",
       "Atr52    0\n",
       "Atr53    0\n",
       "Atr54    0\n",
       "Class    0\n",
       "dtype: int64"
      ]
     },
     "execution_count": 3,
     "metadata": {},
     "output_type": "execute_result"
    }
   ],
   "source": [
    "# Checks for any missing values in the data frame.\n",
    "# There are none.\n",
    "missing = data.isnull().sum()\n",
    "missing"
   ]
  },
  {
   "cell_type": "code",
   "execution_count": 4,
   "id": "e843c581",
   "metadata": {},
   "outputs": [
    {
     "data": {
      "text/plain": [
       "Class\n",
       "0    86\n",
       "1    84\n",
       "Name: count, dtype: int64"
      ]
     },
     "execution_count": 4,
     "metadata": {},
     "output_type": "execute_result"
    }
   ],
   "source": [
    "# Checks the balance of the binary target variable.\n",
    "data['Class'].value_counts()\n",
    "# It appears there are 86 divorced couples and 84 married couples, which is balanced."
   ]
  },
  {
   "cell_type": "code",
   "execution_count": 5,
   "id": "3ccdcbdf",
   "metadata": {},
   "outputs": [
    {
     "name": "stdout",
     "output_type": "stream",
     "text": [
      "   Atr1  Atr2  Atr3  Atr4  Atr5  Atr6  Atr7  Atr8  Atr9  Atr10  ...  Atr47  \\\n",
      "0     2     2     4     1     0     0     0     0     0      0  ...      1   \n",
      "1     4     4     4     4     4     0     0     4     4      4  ...      2   \n",
      "2     2     2     2     2     1     3     2     1     1      2  ...      2   \n",
      "3     3     2     3     2     3     3     3     3     3      3  ...      2   \n",
      "4     2     2     1     1     1     1     0     0     0      0  ...      1   \n",
      "\n",
      "   Atr48  Atr49  Atr50  Atr51  Atr52  Atr53  Atr54  Class  mean_Atr  \n",
      "0      3      3      3      2      3      2      1      1  1.111111  \n",
      "1      3      4      4      4      4      2      2      1  2.574074  \n",
      "2      3      1      1      1      2      2      2      1  2.092593  \n",
      "3      3      3      3      3      2      2      2      1  2.462963  \n",
      "4      2      3      2      2      2      1      0      1  1.000000  \n",
      "\n",
      "[5 rows x 56 columns]\n"
     ]
    }
   ],
   "source": [
    "# Adds a new column that calculates the mean questionnaire score for each person.\n",
    "# It will only be used to see the correlation between the score and the presence of \n",
    "# divorce.\n",
    "data['mean_Atr'] = data.iloc[:, 0:54].mean(axis=1)\n",
    "print(data.head())"
   ]
  },
  {
   "cell_type": "code",
   "execution_count": 6,
   "id": "2a0d16c5",
   "metadata": {},
   "outputs": [
    {
     "data": {
      "image/png": "[encoded data removed]",
      "text/plain": [
       "<Figure size 640x480 with 1 Axes>"
      ]
     },
     "metadata": {},
     "output_type": "display_data"
    }
   ],
   "source": [
    "# To see the differences in scores between the married and divorced group, I wanted\n",
    "# to make side-by-side violin plots to see if there were any major differences.\n",
    "sns.violinplot(x='Class', y='mean_Atr', data=data)\n",
    "plt.xlabel('Divorced or Married')\n",
    "plt.ylabel('Mean Divorce Predictors Scale Score')\n",
    "plt.title('Violin Plot of Questionnaire Scores by Marital Group')\n",
    "plt.show()\n",
    "# It appears that couples who got divorced had much lower mean DPS scores compared to\n",
    "# people who stayed married."
   ]
  },
  {
   "cell_type": "code",
   "execution_count": 7,
   "id": "8c7a0093",
   "metadata": {},
   "outputs": [
    {
     "name": "stdout",
     "output_type": "stream",
     "text": [
      "Atr1      Atr19       0.900446\n",
      "Atr5      Atr9        0.916327\n",
      "          Atr11       0.936955\n",
      "          Atr13       0.915033\n",
      "          Atr17       0.947429\n",
      "          Atr19       0.943349\n",
      "          Atr29       0.925601\n",
      "          mean_Atr    0.949574\n",
      "Atr8      Atr9        0.915301\n",
      "          Atr18       0.941084\n",
      "          Atr20       0.922465\n",
      "          Atr30       0.902820\n",
      "          mean_Atr    0.917132\n",
      "Atr9      Atr5        0.916327\n",
      "          Atr8        0.915301\n",
      "          Atr11       0.911557\n",
      "          Atr15       0.949041\n",
      "          Atr17       0.922307\n",
      "          Atr18       0.925543\n",
      "          Atr19       0.916472\n",
      "          Atr20       0.902254\n",
      "          Atr21       0.909428\n",
      "          Atr27       0.903959\n",
      "          Class       0.912368\n",
      "          mean_Atr    0.942314\n",
      "Atr10     Atr16       0.922320\n",
      "Atr11     Atr5        0.936955\n",
      "          Atr9        0.911557\n",
      "          Atr13       0.909464\n",
      "          Atr17       0.944807\n",
      "          Atr18       0.909451\n",
      "          Atr19       0.950068\n",
      "          Atr29       0.918680\n",
      "          Class       0.918386\n",
      "          mean_Atr    0.939648\n",
      "Atr12     Atr18       0.943030\n",
      "          Atr20       0.938615\n",
      "Atr13     Atr5        0.915033\n",
      "          Atr11       0.909464\n",
      "          Atr17       0.917924\n",
      "          Atr19       0.904728\n",
      "          mean_Atr    0.903785\n",
      "Atr14     Atr18       0.929789\n",
      "          Atr20       0.933584\n",
      "          Atr26       0.907042\n",
      "          Atr30       0.903153\n",
      "Atr15     Atr9        0.949041\n",
      "          Atr17       0.916223\n",
      "          Atr18       0.919839\n",
      "          Class       0.901220\n",
      "          mean_Atr    0.916759\n",
      "Atr16     Atr10       0.922320\n",
      "          Atr18       0.906975\n",
      "          mean_Atr    0.904606\n",
      "Atr17     Atr5        0.947429\n",
      "          Atr9        0.922307\n",
      "          Atr11       0.944807\n",
      "          Atr13       0.917924\n",
      "          Atr15       0.916223\n",
      "          Atr18       0.918684\n",
      "          Atr19       0.964425\n",
      "          Atr20       0.905699\n",
      "          Atr29       0.930227\n",
      "          Class       0.929346\n",
      "          mean_Atr    0.951724\n",
      "Atr18     Atr8        0.941084\n",
      "          Atr9        0.925543\n",
      "          Atr11       0.909451\n",
      "          Atr12       0.943030\n",
      "          Atr14       0.929789\n",
      "          Atr15       0.919839\n",
      "          Atr16       0.906975\n",
      "          Atr17       0.918684\n",
      "          Atr19       0.917737\n",
      "          Atr20       0.961844\n",
      "          Atr24       0.919184\n",
      "          Atr26       0.926811\n",
      "          Atr30       0.918040\n",
      "          Class       0.923208\n",
      "          mean_Atr    0.937997\n",
      "Atr19     Atr1        0.900446\n",
      "          Atr5        0.943349\n",
      "          Atr9        0.916472\n",
      "          Atr11       0.950068\n",
      "          Atr13       0.904728\n",
      "          Atr17       0.964425\n",
      "          Atr18       0.917737\n",
      "          Atr20       0.907114\n",
      "          Atr29       0.940079\n",
      "          Class       0.928627\n",
      "          mean_Atr    0.955678\n",
      "Atr20     Atr8        0.922465\n",
      "          Atr9        0.902254\n",
      "          Atr12       0.938615\n",
      "          Atr14       0.933584\n",
      "          Atr17       0.905699\n",
      "          Atr18       0.961844\n",
      "          Atr19       0.907114\n",
      "          Atr24       0.908759\n",
      "          Atr26       0.923414\n",
      "          Atr30       0.932468\n",
      "          Class       0.907008\n",
      "          mean_Atr    0.940939\n",
      "Atr21     Atr9        0.909428\n",
      "          Atr22       0.903371\n",
      "          Atr27       0.930125\n",
      "          Atr29       0.929916\n",
      "          mean_Atr    0.934834\n",
      "Atr22     Atr21       0.903371\n",
      "          Atr28       0.936827\n",
      "          mean_Atr    0.911534\n",
      "Atr23     Atr25       0.921060\n",
      "          Atr29       0.941470\n",
      "          mean_Atr    0.927921\n",
      "Atr24     Atr18       0.919184\n",
      "          Atr20       0.908759\n",
      "          Atr26       0.929349\n",
      "          mean_Atr    0.906175\n",
      "Atr25     Atr23       0.921060\n",
      "          Atr29       0.928070\n",
      "          mean_Atr    0.913674\n",
      "Atr26     Atr14       0.907042\n",
      "          Atr18       0.926811\n",
      "          Atr20       0.923414\n",
      "          Atr24       0.929349\n",
      "          Atr27       0.914260\n",
      "          Atr30       0.914818\n",
      "          mean_Atr    0.910119\n",
      "Atr27     Atr9        0.903959\n",
      "          Atr21       0.930125\n",
      "          Atr26       0.914260\n",
      "          Atr29       0.911498\n",
      "          mean_Atr    0.929301\n",
      "Atr28     Atr22       0.936827\n",
      "Atr29     Atr5        0.925601\n",
      "          Atr11       0.918680\n",
      "          Atr17       0.930227\n",
      "          Atr19       0.940079\n",
      "          Atr21       0.929916\n",
      "          Atr23       0.941470\n",
      "          Atr25       0.928070\n",
      "          Atr27       0.911498\n",
      "          Atr35       0.903024\n",
      "          mean_Atr    0.953020\n",
      "Atr30     Atr8        0.902820\n",
      "          Atr14       0.903153\n",
      "          Atr18       0.918040\n",
      "          Atr20       0.932468\n",
      "          Atr26       0.914818\n",
      "          mean_Atr    0.916017\n",
      "Atr33     Atr34       0.916196\n",
      "          Atr35       0.932225\n",
      "          Atr36       0.914141\n",
      "          Atr54       0.901159\n",
      "          mean_Atr    0.930254\n",
      "Atr34     Atr33       0.916196\n",
      "          Atr35       0.904974\n",
      "          Atr36       0.928839\n",
      "          Atr38       0.902859\n",
      "Atr35     Atr29       0.903024\n",
      "          Atr33       0.932225\n",
      "          Atr34       0.904974\n",
      "          Atr36       0.957168\n",
      "          Atr38       0.901847\n",
      "          Atr41       0.907887\n",
      "          mean_Atr    0.936859\n",
      "Atr36     Atr33       0.914141\n",
      "          Atr34       0.928839\n",
      "          Atr35       0.957168\n",
      "          Atr38       0.939840\n",
      "          Atr40       0.920231\n",
      "          mean_Atr    0.944505\n",
      "Atr37     mean_Atr    0.906917\n",
      "Atr38     Atr34       0.902859\n",
      "          Atr35       0.901847\n",
      "          Atr36       0.939840\n",
      "          Atr40       0.934156\n",
      "          mean_Atr    0.916949\n",
      "Atr39     Atr40       0.911905\n",
      "          Atr41       0.913565\n",
      "          mean_Atr    0.921106\n",
      "Atr40     Atr36       0.920231\n",
      "          Atr38       0.934156\n",
      "          Atr39       0.911905\n",
      "          Atr41       0.912484\n",
      "          Class       0.938684\n",
      "          mean_Atr    0.935179\n",
      "Atr41     Atr35       0.907887\n",
      "          Atr39       0.913565\n",
      "          Atr40       0.912484\n",
      "          mean_Atr    0.929252\n",
      "Atr54     Atr33       0.901159\n",
      "Class     Atr9        0.912368\n",
      "          Atr11       0.918386\n",
      "          Atr15       0.901220\n",
      "          Atr17       0.929346\n",
      "          Atr18       0.923208\n",
      "          Atr19       0.928627\n",
      "          Atr20       0.907008\n",
      "          Atr40       0.938684\n",
      "          mean_Atr    0.946750\n",
      "mean_Atr  Atr5        0.949574\n",
      "          Atr8        0.917132\n",
      "          Atr9        0.942314\n",
      "          Atr11       0.939648\n",
      "          Atr13       0.903785\n",
      "          Atr15       0.916759\n",
      "          Atr16       0.904606\n",
      "          Atr17       0.951724\n",
      "          Atr18       0.937997\n",
      "          Atr19       0.955678\n",
      "          Atr20       0.940939\n",
      "          Atr21       0.934834\n",
      "          Atr22       0.911534\n",
      "          Atr23       0.927921\n",
      "          Atr24       0.906175\n",
      "          Atr25       0.913674\n",
      "          Atr26       0.910119\n",
      "          Atr27       0.929301\n",
      "          Atr29       0.953020\n",
      "          Atr30       0.916017\n",
      "          Atr33       0.930254\n",
      "          Atr35       0.936859\n",
      "          Atr36       0.944505\n",
      "          Atr37       0.906917\n",
      "          Atr38       0.916949\n",
      "          Atr39       0.921106\n",
      "          Atr40       0.935179\n",
      "          Atr41       0.929252\n",
      "          Class       0.946750\n",
      "dtype: float64\n"
     ]
    }
   ],
   "source": [
    "# Assigns the correlations of all variables in the data frame to the variable 'corrs'.\n",
    "corrs = data.corr()\n",
    "\n",
    "# Unstacks the correlations into an array.\n",
    "numb_array = corrs.unstack()\n",
    "\n",
    "# Assigns all correlations that are greater than 0.90 or less than -0.90 to\n",
    "# 'redun_array', since those variables may be considered redundant.\n",
    "redun_array = numb_array[((numb_array > 0.90) | (numb_array < -0.90)) &\n",
    "                        (numb_array != 1)]\n",
    "# Prints the array.\n",
    "print(redun_array)\n",
    "\n",
    "# To get rid of redundant variables, I will get rid of variables that highly correlate \n",
    "# with one another. These include: Atr5, Atr8, Atr9, Atr11, Atr13, Atr14, Atr16, Atr17, \n",
    "# Atr18, Atr19, Atr20, Atr21, Atr22, Atr23, Atr26, Atr29, Atr33, Atr34, Atr35, Atr36, \n",
    "# Atr40, Atr41, and mean_Atr. "
   ]
  },
  {
   "cell_type": "code",
   "execution_count": 8,
   "id": "2e24e773",
   "metadata": {},
   "outputs": [
    {
     "name": "stdout",
     "output_type": "stream",
     "text": [
      "   Atr1  Atr2  Atr3  Atr4  Atr6  Atr7  Atr10  Atr12  Atr15  Atr24  ...  Atr46  \\\n",
      "0     2     2     4     1     0     0      0      0      0      0  ...      2   \n",
      "1     4     4     4     4     0     0      4      3      4      2  ...      2   \n",
      "2     2     2     2     2     3     2      2      4      3      2  ...      3   \n",
      "3     3     2     3     2     3     3      3      3      3      1  ...      2   \n",
      "4     2     2     1     1     1     0      0      1      1      0  ...      2   \n",
      "\n",
      "   Atr47  Atr48  Atr49  Atr50  Atr51  Atr52  Atr53  Atr54  Class  \n",
      "0      1      3      3      3      2      3      2      1      1  \n",
      "1      2      3      4      4      4      4      2      2      1  \n",
      "2      2      3      1      1      1      2      2      2      1  \n",
      "3      2      3      3      3      3      2      2      2      1  \n",
      "4      1      2      3      2      2      2      1      0      1  \n",
      "\n",
      "[5 rows x 33 columns]\n"
     ]
    }
   ],
   "source": [
    "# Drops the columns of redundant variables.\n",
    "data = data.drop(columns=['Atr5', 'Atr8', 'Atr9', 'Atr11', 'Atr13', 'Atr14', 'Atr16', \n",
    "                          'Atr17', 'Atr18', 'Atr19', 'Atr20', 'Atr21', 'Atr22', 'Atr23', \n",
    "                          'Atr26', 'Atr29', 'Atr33', 'Atr34', 'Atr35', 'Atr36', 'Atr40', \n",
    "                          'Atr41', 'mean_Atr'])\n",
    "print(data.head())"
   ]
  },
  {
   "cell_type": "markdown",
   "id": "3b039d7c",
   "metadata": {},
   "source": [
    "##### Split the Data"
   ]
  },
  {
   "cell_type": "code",
   "execution_count": 9,
   "id": "810718c8",
   "metadata": {},
   "outputs": [],
   "source": [
    "# Splits the data into features and target variables.\n",
    "X = data.drop(columns='Class')\n",
    "y = data['Class']\n",
    "\n",
    "# Splits the data into training and test sets with a random state of 42.\n",
    "X_train, X_test, y_train, y_test = train_test_split(X, y, \n",
    "                                                   test_size=0.25,\n",
    "                                                   random_state=42)\n",
    "# Scales the data for some of the models.\n",
    "scaler = StandardScaler()\n",
    "X_train_scaled = scaler.fit_transform(X_train)\n",
    "X_test_scaled = scaler.fit_transform(X_test)"
   ]
  },
  {
   "cell_type": "markdown",
   "id": "c19e0f96",
   "metadata": {},
   "source": [
    "##### Logistic Regression RFECV"
   ]
  },
  {
   "cell_type": "code",
   "execution_count": 10,
   "id": "1f8ae5e6",
   "metadata": {},
   "outputs": [
    {
     "name": "stdout",
     "output_type": "stream",
     "text": [
      "Optimal number of features: 7\n"
     ]
    },
    {
     "data": {
      "image/png": "[encoded data removed]",
      "text/plain": [
       "<Figure size 640x480 with 1 Axes>"
      ]
     },
     "metadata": {},
     "output_type": "display_data"
    }
   ],
   "source": [
    "# Initializes the Logistic Regression model.\n",
    "lr_model = LogisticRegression(max_iter=10000)\n",
    "\n",
    "# Assigns the necessary parameters for the RFECV for the logistic regression.\n",
    "lr_rfecv = RFECV(estimator=lr_model, step=1, cv=5, scoring='accuracy')\n",
    "# Fits the RFECV to the training data.\n",
    "lr_rfecv.fit(X_train_scaled, y_train)\n",
    "\n",
    "# Prints and plots the optimal amount of features for the logistic regression\n",
    "# RFECV.\n",
    "print(\"Optimal number of features: %d\" % lr_rfecv.n_features_)\n",
    "plt.figure()\n",
    "plt.xlabel(\"Number of Features\")\n",
    "plt.ylabel(\"Cross-Validation Score\")\n",
    "plt.plot(range(1, len(lr_rfecv.cv_results_[\"mean_test_score\"]) + 1),\n",
    "        lr_rfecv.cv_results_[\"mean_test_score\"])\n",
    "plt.show()"
   ]
  },
  {
   "cell_type": "code",
   "execution_count": 11,
   "id": "779bd49e",
   "metadata": {},
   "outputs": [
    {
     "name": "stdout",
     "output_type": "stream",
     "text": [
      "Index(['Atr3', 'Atr12', 'Atr15', 'Atr28', 'Atr31', 'Atr39', 'Atr44'], dtype='object')\n"
     ]
    }
   ],
   "source": [
    "# Initializes the RFE, defining the model (logistic regression) and the\n",
    "# number of features to choose (found in RFECV).\n",
    "lr_rfe = RFE(estimator=lr_model, n_features_to_select=7)\n",
    "\n",
    "# Fits the RFE to the training data.\n",
    "lr_rfe.fit(X_train_scaled, y_train)\n",
    "\n",
    "# Finds the best features and prints them out for later use.\n",
    "lr_features = X.columns[lr_rfe.support_]\n",
    "print(lr_features)"
   ]
  },
  {
   "cell_type": "markdown",
   "id": "0d090237",
   "metadata": {},
   "source": [
    "##### Decision Tree Classifier RFECV"
   ]
  },
  {
   "cell_type": "code",
   "execution_count": 12,
   "id": "0de37157",
   "metadata": {},
   "outputs": [
    {
     "name": "stdout",
     "output_type": "stream",
     "text": [
      "Optimal number of features: 1\n"
     ]
    },
    {
     "data": {
      "image/png": "[encoded data removed]",
      "text/plain": [
       "<Figure size 640x480 with 1 Axes>"
      ]
     },
     "metadata": {},
     "output_type": "display_data"
    }
   ],
   "source": [
    "# Initializes the Decision Tree Classifier model.\n",
    "dtc_model = DecisionTreeClassifier(random_state=42)\n",
    "\n",
    "# Assigns the necessary parameters for the RFECV for the decision tree classifier.\n",
    "dtc_rfecv = RFECV(estimator=dtc_model, step=1, cv=5, scoring=\"accuracy\")\n",
    "\n",
    "# Fits the RFECV to the training data.\n",
    "dtc_rfecv.fit(X_train, y_train)\n",
    "\n",
    "# Prints and plots the optimal amount of features for the decision tree classifier\n",
    "# RFECV.\n",
    "print(\"Optimal number of features: %d\" % dtc_rfecv.n_features_)\n",
    "plt.figure()\n",
    "plt.xlabel(\"Number of Features\")\n",
    "plt.ylabel(\"Cross-Validation Score\")\n",
    "plt.plot(range(1, len(dtc_rfecv.cv_results_[\"mean_test_score\"]) + 1),\n",
    "        dtc_rfecv.cv_results_[\"mean_test_score\"])\n",
    "plt.show()"
   ]
  },
  {
   "cell_type": "code",
   "execution_count": 13,
   "id": "ce560fc3",
   "metadata": {},
   "outputs": [
    {
     "name": "stdout",
     "output_type": "stream",
     "text": [
      "Index(['Atr38'], dtype='object')\n"
     ]
    }
   ],
   "source": [
    "# Initializes the RFE, defining the model (decision tree classifier) and the \n",
    "# number of features to choose (found in RFECV).\n",
    "dtc_rfe = RFE(estimator=dtc_model, n_features_to_select=1)\n",
    "\n",
    "# Fits the RFE to the training data.\n",
    "dtc_rfe.fit(X_train, y_train)\n",
    "\n",
    "# Finds the best features and prints them out for later use.\n",
    "dtc_features = X_train.columns[dtc_rfe.support_]\n",
    "print(dtc_features)"
   ]
  },
  {
   "cell_type": "markdown",
   "id": "7abe0054",
   "metadata": {},
   "source": [
    "##### Random Forest Classifier"
   ]
  },
  {
   "cell_type": "code",
   "execution_count": 14,
   "id": "dacd7f01",
   "metadata": {},
   "outputs": [
    {
     "name": "stdout",
     "output_type": "stream",
     "text": [
      "Optimal number of features: 7\n"
     ]
    },
    {
     "data": {
      "image/png": "[encoded data removed]",
      "text/plain": [
       "<Figure size 640x480 with 1 Axes>"
      ]
     },
     "metadata": {},
     "output_type": "display_data"
    }
   ],
   "source": [
    "# Initializes the Random Forest Classifier model.\n",
    "rfc_model = RandomForestClassifier(n_estimators=100, random_state=42)\n",
    "\n",
    "# Assigns the necessary parameters for the RFECV for the random forest classifier.\n",
    "rfc_rfecv = RFECV(estimator=rfc_model, step=1, cv=5, scoring=\"accuracy\")\n",
    "\n",
    "# Fits the RFECV to the training data.\n",
    "rfc_rfecv.fit(X_train, y_train)\n",
    "\n",
    "# Prints and plots the optimal amount of features for the random forest classifier\n",
    "# RFECV.\n",
    "print(\"Optimal number of features: %d\" % rfc_rfecv.n_features_)\n",
    "plt.figure()\n",
    "plt.xlabel(\"Number of Features\")\n",
    "plt.ylabel(\"Cross-Validation Score\")\n",
    "plt.plot(range(1, len(rfc_rfecv.cv_results_[\"mean_test_score\"]) + 1),\n",
    "        rfc_rfecv.cv_results_[\"mean_test_score\"])\n",
    "plt.show()"
   ]
  },
  {
   "cell_type": "code",
   "execution_count": 15,
   "id": "cb314414",
   "metadata": {},
   "outputs": [
    {
     "name": "stdout",
     "output_type": "stream",
     "text": [
      "Index(['Atr4', 'Atr12', 'Atr15', 'Atr25', 'Atr28', 'Atr30', 'Atr38'], dtype='object')\n"
     ]
    }
   ],
   "source": [
    "# Initializes the RFE, defining the model (random forest classifier) and the \n",
    "# number of features to choose (found in RFECV).\n",
    "rfc_rfe = RFE(estimator=rfc_model, n_features_to_select=7)\n",
    "\n",
    "# Fits the RFE to the training data.\n",
    "rfc_rfe.fit(X_train, y_train)\n",
    "\n",
    "# Finds the best features and prints them out for later use.\n",
    "rfc_features = X_train.columns[rfc_rfe.support_]\n",
    "print(rfc_features)"
   ]
  },
  {
   "cell_type": "markdown",
   "id": "27517573",
   "metadata": {},
   "source": [
    "##### Support Vector Classifier RFECV"
   ]
  },
  {
   "cell_type": "code",
   "execution_count": 16,
   "id": "f7dafd68",
   "metadata": {},
   "outputs": [
    {
     "name": "stdout",
     "output_type": "stream",
     "text": [
      "Optimal number of features: 5\n"
     ]
    },
    {
     "data": {
      "image/png": "[encoded data removed]",
      "text/plain": [
       "<Figure size 640x480 with 1 Axes>"
      ]
     },
     "metadata": {},
     "output_type": "display_data"
    }
   ],
   "source": [
    "# Initializes the Support Vector Classifier model. \n",
    "svc_model = SVC(kernel='linear')\n",
    "\n",
    "# Assigns the necessary parameters for the RFECV for the support vector classifier.\n",
    "svc_rfecv = RFECV(estimator=svc_model, step=1, cv=5, scoring=\"accuracy\")\n",
    "\n",
    "# Fits the RFECV to the scaled training data.\n",
    "svc_rfecv.fit(X_train_scaled, y_train)\n",
    "\n",
    "# Prints and plots the optimal amount of features for the support vector classifier\n",
    "# RFECV.\n",
    "print(\"Optimal number of features: %d\" % svc_rfecv.n_features_)\n",
    "plt.figure()\n",
    "plt.xlabel(\"Number of Features\")\n",
    "plt.ylabel(\"Cross-Validation Score\")\n",
    "plt.plot(range(1, len(svc_rfecv.cv_results_[\"mean_test_score\"]) + 1),\n",
    "        svc_rfecv.cv_results_[\"mean_test_score\"])\n",
    "plt.show()"
   ]
  },
  {
   "cell_type": "code",
   "execution_count": 17,
   "id": "d51fe511",
   "metadata": {},
   "outputs": [
    {
     "name": "stdout",
     "output_type": "stream",
     "text": [
      "Index(['Atr2', 'Atr15', 'Atr28', 'Atr39', 'Atr44'], dtype='object')\n"
     ]
    }
   ],
   "source": [
    "# Initializes the RFE, defining the model (support vector classifier) and the\n",
    "# number of features to choose (found in the RFECV).\n",
    "svc_rfe = RFE(estimator=svc_model, n_features_to_select=5)\n",
    "\n",
    "# Fits the RFE to the training data.\n",
    "svc_rfe.fit(X_train, y_train)\n",
    "\n",
    "# Finds the best features and prints them out for later use.\n",
    "svc_features = X_train.columns[svc_rfe.support_]\n",
    "print(svc_features)"
   ]
  },
  {
   "cell_type": "markdown",
   "id": "c1e11c7f",
   "metadata": {},
   "source": [
    "##### Organizing Selected Features"
   ]
  },
  {
   "cell_type": "code",
   "execution_count": 18,
   "id": "7ceb4267",
   "metadata": {},
   "outputs": [],
   "source": [
    "# Dumps the selected features for each model into their own variable.\n",
    "selected_features_lr = ['Atr3', 'Atr12', 'Atr15', 'Atr28', 'Atr31', 'Atr39', 'Atr44']\n",
    "selected_features_dtc = ['Atr38']\n",
    "selected_features_rfc = ['Atr4', 'Atr12', 'Atr15', 'Atr25', 'Atr28', 'Atr30', 'Atr38']\n",
    "selected_features_svc = ['Atr2', 'Atr15', 'Atr28', 'Atr39', 'Atr44']\n",
    "\n",
    "# Converts the X_train data into a list to enumerate over their indices.\n",
    "feature_names = X_train.columns.tolist()\n",
    "feature_indices = {name: idx for idx, name in enumerate(feature_names)}\n",
    "\n",
    "# Finds the indices for each feature for each model and saves them as a variable.\n",
    "selected_features_lr_indices = [feature_indices[name] for name in \n",
    "                                selected_features_lr]\n",
    "selected_features_dtc_indices = [feature_indices[name] for name in \n",
    "                                 selected_features_dtc]\n",
    "selected_features_rfc_indices = [feature_indices[name] for name in \n",
    "                                 selected_features_rfc]\n",
    "selected_features_svc_indices = [feature_indices[name] for name in \n",
    "                                 selected_features_svc]\n",
    "\n",
    "# Creates new X training and test variables for each model based on their \n",
    "# selected features.\n",
    "X_train_scaled_lr = X_train_scaled[:, selected_features_lr_indices]\n",
    "X_test_scaled_lr = X_test_scaled[:, selected_features_lr_indices]\n",
    "X_train_dtc = X_train.iloc[:, selected_features_dtc_indices].values\n",
    "X_test_dtc = X_test.iloc[:, selected_features_dtc_indices].values\n",
    "X_train_scaled_rfc = X_train_scaled[:, selected_features_rfc_indices]\n",
    "X_test_scaled_rfc = X_test_scaled[:, selected_features_rfc_indices]\n",
    "X_train_scaled_svc = X_train_scaled[:, selected_features_svc_indices]\n",
    "X_test_scaled_svc = X_test_scaled[:, selected_features_svc_indices]"
   ]
  },
  {
   "cell_type": "markdown",
   "id": "331e4fc9",
   "metadata": {},
   "source": [
    "##### Grid Searches"
   ]
  },
  {
   "cell_type": "markdown",
   "id": "33a7c6fe",
   "metadata": {},
   "source": [
    "Logistic Regression"
   ]
  },
  {
   "cell_type": "code",
   "execution_count": 19,
   "id": "d74eaa50",
   "metadata": {},
   "outputs": [
    {
     "data": {
      "text/html": [
       "<style>#sk-container-id-1 {color: black;}#sk-container-id-1 pre{padding: 0;}#sk-container-id-1 div.sk-toggleable {background-color: white;}#sk-container-id-1 label.sk-toggleable__label {cursor: pointer;display: block;width: 100%;margin-bottom: 0;padding: 0.3em;box-sizing: border-box;text-align: center;}#sk-container-id-1 label.sk-toggleable__label-arrow:before {content: \"▸\";float: left;margin-right: 0.25em;color: #696969;}#sk-container-id-1 label.sk-toggleable__label-arrow:hover:before {color: black;}#sk-container-id-1 div.sk-estimator:hover label.sk-toggleable__label-arrow:before {color: black;}#sk-container-id-1 div.sk-toggleable__content {max-height: 0;max-width: 0;overflow: hidden;text-align: left;background-color: #f0f8ff;}#sk-container-id-1 div.sk-toggleable__content pre {margin: 0.2em;color: black;border-radius: 0.25em;background-color: #f0f8ff;}#sk-container-id-1 input.sk-toggleable__control:checked~div.sk-toggleable__content {max-height: 200px;max-width: 100%;overflow: auto;}#sk-container-id-1 input.sk-toggleable__control:checked~label.sk-toggleable__label-arrow:before {content: \"▾\";}#sk-container-id-1 div.sk-estimator input.sk-toggleable__control:checked~label.sk-toggleable__label {background-color: #d4ebff;}#sk-container-id-1 div.sk-label input.sk-toggleable__control:checked~label.sk-toggleable__label {background-color: #d4ebff;}#sk-container-id-1 input.sk-hidden--visually {border: 0;clip: rect(1px 1px 1px 1px);clip: rect(1px, 1px, 1px, 1px);height: 1px;margin: -1px;overflow: hidden;padding: 0;position: absolute;width: 1px;}#sk-container-id-1 div.sk-estimator {font-family: monospace;background-color: #f0f8ff;border: 1px dotted black;border-radius: 0.25em;box-sizing: border-box;margin-bottom: 0.5em;}#sk-container-id-1 div.sk-estimator:hover {background-color: #d4ebff;}#sk-container-id-1 div.sk-parallel-item::after {content: \"\";width: 100%;border-bottom: 1px solid gray;flex-grow: 1;}#sk-container-id-1 div.sk-label:hover label.sk-toggleable__label {background-color: #d4ebff;}#sk-container-id-1 div.sk-serial::before {content: \"\";position: absolute;border-left: 1px solid gray;box-sizing: border-box;top: 0;bottom: 0;left: 50%;z-index: 0;}#sk-container-id-1 div.sk-serial {display: flex;flex-direction: column;align-items: center;background-color: white;padding-right: 0.2em;padding-left: 0.2em;position: relative;}#sk-container-id-1 div.sk-item {position: relative;z-index: 1;}#sk-container-id-1 div.sk-parallel {display: flex;align-items: stretch;justify-content: center;background-color: white;position: relative;}#sk-container-id-1 div.sk-item::before, #sk-container-id-1 div.sk-parallel-item::before {content: \"\";position: absolute;border-left: 1px solid gray;box-sizing: border-box;top: 0;bottom: 0;left: 50%;z-index: -1;}#sk-container-id-1 div.sk-parallel-item {display: flex;flex-direction: column;z-index: 1;position: relative;background-color: white;}#sk-container-id-1 div.sk-parallel-item:first-child::after {align-self: flex-end;width: 50%;}#sk-container-id-1 div.sk-parallel-item:last-child::after {align-self: flex-start;width: 50%;}#sk-container-id-1 div.sk-parallel-item:only-child::after {width: 0;}#sk-container-id-1 div.sk-dashed-wrapped {border: 1px dashed gray;margin: 0 0.4em 0.5em 0.4em;box-sizing: border-box;padding-bottom: 0.4em;background-color: white;}#sk-container-id-1 div.sk-label label {font-family: monospace;font-weight: bold;display: inline-block;line-height: 1.2em;}#sk-container-id-1 div.sk-label-container {text-align: center;}#sk-container-id-1 div.sk-container {/* jupyter's `normalize.less` sets `[hidden] { display: none; }` but bootstrap.min.css set `[hidden] { display: none !important; }` so we also need the `!important` here to be able to override the default hidden behavior on the sphinx rendered scikit-learn.org. See: https://github.com/scikit-learn/scikit-learn/issues/21755 */display: inline-block !important;position: relative;}#sk-container-id-1 div.sk-text-repr-fallback {display: none;}</style><div id=\"sk-container-id-1\" class=\"sk-top-container\"><div class=\"sk-text-repr-fallback\"><pre>LogisticRegression(C=0.1, max_iter=10000, solver=&#x27;liblinear&#x27;)</pre><b>In a Jupyter environment, please rerun this cell to show the HTML representation or trust the notebook. <br />On GitHub, the HTML representation is unable to render, please try loading this page with nbviewer.org.</b></div><div class=\"sk-container\" hidden><div class=\"sk-item\"><div class=\"sk-estimator sk-toggleable\"><input class=\"sk-toggleable__control sk-hidden--visually\" id=\"sk-estimator-id-1\" type=\"checkbox\" checked><label for=\"sk-estimator-id-1\" class=\"sk-toggleable__label sk-toggleable__label-arrow\">LogisticRegression</label><div class=\"sk-toggleable__content\"><pre>LogisticRegression(C=0.1, max_iter=10000, solver=&#x27;liblinear&#x27;)</pre></div></div></div></div></div>"
      ],
      "text/plain": [
       "LogisticRegression(C=0.1, max_iter=10000, solver='liblinear')"
      ]
     },
     "execution_count": 19,
     "metadata": {},
     "output_type": "execute_result"
    }
   ],
   "source": [
    "# Defines the parameters to search through for the LR GridSearchCV.\n",
    "lr_param_grid = {'C': [0.1, 1, 10, 100],\n",
    "                  'solver': ['liblinear', 'lbfgs']}\n",
    "\n",
    "# Initializes the LR GridSearchCV.\n",
    "grid_search_lr = GridSearchCV(estimator=lr_model, param_grid=lr_param_grid,\n",
    "                              cv=5, scoring='accuracy', n_jobs=-1)\n",
    "\n",
    "# Performs the grid search on the selected training data.\n",
    "grid_search_lr.fit(X_train_scaled, y_train)\n",
    "\n",
    "# Gets the best parameters for the LR model.\n",
    "best_params_lr = grid_search_lr.best_params_\n",
    "\n",
    "# Finds the best LR model and stores it into a variable and prints it. \n",
    "best_lr_model = grid_search_lr.best_estimator_\n",
    "best_lr_model"
   ]
  },
  {
   "cell_type": "markdown",
   "id": "e5fc7c8d",
   "metadata": {},
   "source": [
    "Decision Tree Classifier"
   ]
  },
  {
   "cell_type": "code",
   "execution_count": 20,
   "id": "a05e19a3",
   "metadata": {},
   "outputs": [
    {
     "data": {
      "text/html": [
       "<style>#sk-container-id-2 {color: black;}#sk-container-id-2 pre{padding: 0;}#sk-container-id-2 div.sk-toggleable {background-color: white;}#sk-container-id-2 label.sk-toggleable__label {cursor: pointer;display: block;width: 100%;margin-bottom: 0;padding: 0.3em;box-sizing: border-box;text-align: center;}#sk-container-id-2 label.sk-toggleable__label-arrow:before {content: \"▸\";float: left;margin-right: 0.25em;color: #696969;}#sk-container-id-2 label.sk-toggleable__label-arrow:hover:before {color: black;}#sk-container-id-2 div.sk-estimator:hover label.sk-toggleable__label-arrow:before {color: black;}#sk-container-id-2 div.sk-toggleable__content {max-height: 0;max-width: 0;overflow: hidden;text-align: left;background-color: #f0f8ff;}#sk-container-id-2 div.sk-toggleable__content pre {margin: 0.2em;color: black;border-radius: 0.25em;background-color: #f0f8ff;}#sk-container-id-2 input.sk-toggleable__control:checked~div.sk-toggleable__content {max-height: 200px;max-width: 100%;overflow: auto;}#sk-container-id-2 input.sk-toggleable__control:checked~label.sk-toggleable__label-arrow:before {content: \"▾\";}#sk-container-id-2 div.sk-estimator input.sk-toggleable__control:checked~label.sk-toggleable__label {background-color: #d4ebff;}#sk-container-id-2 div.sk-label input.sk-toggleable__control:checked~label.sk-toggleable__label {background-color: #d4ebff;}#sk-container-id-2 input.sk-hidden--visually {border: 0;clip: rect(1px 1px 1px 1px);clip: rect(1px, 1px, 1px, 1px);height: 1px;margin: -1px;overflow: hidden;padding: 0;position: absolute;width: 1px;}#sk-container-id-2 div.sk-estimator {font-family: monospace;background-color: #f0f8ff;border: 1px dotted black;border-radius: 0.25em;box-sizing: border-box;margin-bottom: 0.5em;}#sk-container-id-2 div.sk-estimator:hover {background-color: #d4ebff;}#sk-container-id-2 div.sk-parallel-item::after {content: \"\";width: 100%;border-bottom: 1px solid gray;flex-grow: 1;}#sk-container-id-2 div.sk-label:hover label.sk-toggleable__label {background-color: #d4ebff;}#sk-container-id-2 div.sk-serial::before {content: \"\";position: absolute;border-left: 1px solid gray;box-sizing: border-box;top: 0;bottom: 0;left: 50%;z-index: 0;}#sk-container-id-2 div.sk-serial {display: flex;flex-direction: column;align-items: center;background-color: white;padding-right: 0.2em;padding-left: 0.2em;position: relative;}#sk-container-id-2 div.sk-item {position: relative;z-index: 1;}#sk-container-id-2 div.sk-parallel {display: flex;align-items: stretch;justify-content: center;background-color: white;position: relative;}#sk-container-id-2 div.sk-item::before, #sk-container-id-2 div.sk-parallel-item::before {content: \"\";position: absolute;border-left: 1px solid gray;box-sizing: border-box;top: 0;bottom: 0;left: 50%;z-index: -1;}#sk-container-id-2 div.sk-parallel-item {display: flex;flex-direction: column;z-index: 1;position: relative;background-color: white;}#sk-container-id-2 div.sk-parallel-item:first-child::after {align-self: flex-end;width: 50%;}#sk-container-id-2 div.sk-parallel-item:last-child::after {align-self: flex-start;width: 50%;}#sk-container-id-2 div.sk-parallel-item:only-child::after {width: 0;}#sk-container-id-2 div.sk-dashed-wrapped {border: 1px dashed gray;margin: 0 0.4em 0.5em 0.4em;box-sizing: border-box;padding-bottom: 0.4em;background-color: white;}#sk-container-id-2 div.sk-label label {font-family: monospace;font-weight: bold;display: inline-block;line-height: 1.2em;}#sk-container-id-2 div.sk-label-container {text-align: center;}#sk-container-id-2 div.sk-container {/* jupyter's `normalize.less` sets `[hidden] { display: none; }` but bootstrap.min.css set `[hidden] { display: none !important; }` so we also need the `!important` here to be able to override the default hidden behavior on the sphinx rendered scikit-learn.org. See: https://github.com/scikit-learn/scikit-learn/issues/21755 */display: inline-block !important;position: relative;}#sk-container-id-2 div.sk-text-repr-fallback {display: none;}</style><div id=\"sk-container-id-2\" class=\"sk-top-container\"><div class=\"sk-text-repr-fallback\"><pre>DecisionTreeClassifier(min_samples_leaf=2, min_samples_split=10,\n",
       "                       random_state=42)</pre><b>In a Jupyter environment, please rerun this cell to show the HTML representation or trust the notebook. <br />On GitHub, the HTML representation is unable to render, please try loading this page with nbviewer.org.</b></div><div class=\"sk-container\" hidden><div class=\"sk-item\"><div class=\"sk-estimator sk-toggleable\"><input class=\"sk-toggleable__control sk-hidden--visually\" id=\"sk-estimator-id-2\" type=\"checkbox\" checked><label for=\"sk-estimator-id-2\" class=\"sk-toggleable__label sk-toggleable__label-arrow\">DecisionTreeClassifier</label><div class=\"sk-toggleable__content\"><pre>DecisionTreeClassifier(min_samples_leaf=2, min_samples_split=10,\n",
       "                       random_state=42)</pre></div></div></div></div></div>"
      ],
      "text/plain": [
       "DecisionTreeClassifier(min_samples_leaf=2, min_samples_split=10,\n",
       "                       random_state=42)"
      ]
     },
     "execution_count": 20,
     "metadata": {},
     "output_type": "execute_result"
    }
   ],
   "source": [
    "# Defines the parameters to search through for the DTC GridSearchCV.\n",
    "dtc_param_grid = {'criterion': ['gini', 'entropy'],\n",
    "                  'max_depth': [None, 10, 20, 30],\n",
    "                  'min_samples_split': [2, 5, 10],\n",
    "                  'min_samples_leaf': [1, 2, 4],\n",
    "                  'max_features': ['sqrt', 'log2', None,\n",
    "                                  0.5, 1, 2, 3],\n",
    "                  'class_weight': [None, 'balanced']}\n",
    "\n",
    "# Initializes the DTC GridSearchCV.\n",
    "grid_search_dtc = GridSearchCV(estimator=dtc_model, param_grid=dtc_param_grid,\n",
    "                              cv=5, scoring='accuracy', n_jobs=-1)\n",
    "\n",
    "# Performs the grid search on the selected training data.\n",
    "grid_search_dtc.fit(X_train, y_train)\n",
    "\n",
    "# Gets the best parameters for the DTC model.\n",
    "best_params_dtc = grid_search_dtc.best_params_\n",
    "\n",
    "# Finds the best DTC model and stores it into a variable and prints it. \n",
    "best_dtc_model = grid_search_dtc.best_estimator_\n",
    "best_dtc_model"
   ]
  },
  {
   "cell_type": "markdown",
   "id": "0aa958c5",
   "metadata": {},
   "source": [
    "Random Forest Classifier"
   ]
  },
  {
   "cell_type": "code",
   "execution_count": 21,
   "id": "4bd7b449",
   "metadata": {},
   "outputs": [
    {
     "data": {
      "text/html": [
       "<style>#sk-container-id-3 {color: black;}#sk-container-id-3 pre{padding: 0;}#sk-container-id-3 div.sk-toggleable {background-color: white;}#sk-container-id-3 label.sk-toggleable__label {cursor: pointer;display: block;width: 100%;margin-bottom: 0;padding: 0.3em;box-sizing: border-box;text-align: center;}#sk-container-id-3 label.sk-toggleable__label-arrow:before {content: \"▸\";float: left;margin-right: 0.25em;color: #696969;}#sk-container-id-3 label.sk-toggleable__label-arrow:hover:before {color: black;}#sk-container-id-3 div.sk-estimator:hover label.sk-toggleable__label-arrow:before {color: black;}#sk-container-id-3 div.sk-toggleable__content {max-height: 0;max-width: 0;overflow: hidden;text-align: left;background-color: #f0f8ff;}#sk-container-id-3 div.sk-toggleable__content pre {margin: 0.2em;color: black;border-radius: 0.25em;background-color: #f0f8ff;}#sk-container-id-3 input.sk-toggleable__control:checked~div.sk-toggleable__content {max-height: 200px;max-width: 100%;overflow: auto;}#sk-container-id-3 input.sk-toggleable__control:checked~label.sk-toggleable__label-arrow:before {content: \"▾\";}#sk-container-id-3 div.sk-estimator input.sk-toggleable__control:checked~label.sk-toggleable__label {background-color: #d4ebff;}#sk-container-id-3 div.sk-label input.sk-toggleable__control:checked~label.sk-toggleable__label {background-color: #d4ebff;}#sk-container-id-3 input.sk-hidden--visually {border: 0;clip: rect(1px 1px 1px 1px);clip: rect(1px, 1px, 1px, 1px);height: 1px;margin: -1px;overflow: hidden;padding: 0;position: absolute;width: 1px;}#sk-container-id-3 div.sk-estimator {font-family: monospace;background-color: #f0f8ff;border: 1px dotted black;border-radius: 0.25em;box-sizing: border-box;margin-bottom: 0.5em;}#sk-container-id-3 div.sk-estimator:hover {background-color: #d4ebff;}#sk-container-id-3 div.sk-parallel-item::after {content: \"\";width: 100%;border-bottom: 1px solid gray;flex-grow: 1;}#sk-container-id-3 div.sk-label:hover label.sk-toggleable__label {background-color: #d4ebff;}#sk-container-id-3 div.sk-serial::before {content: \"\";position: absolute;border-left: 1px solid gray;box-sizing: border-box;top: 0;bottom: 0;left: 50%;z-index: 0;}#sk-container-id-3 div.sk-serial {display: flex;flex-direction: column;align-items: center;background-color: white;padding-right: 0.2em;padding-left: 0.2em;position: relative;}#sk-container-id-3 div.sk-item {position: relative;z-index: 1;}#sk-container-id-3 div.sk-parallel {display: flex;align-items: stretch;justify-content: center;background-color: white;position: relative;}#sk-container-id-3 div.sk-item::before, #sk-container-id-3 div.sk-parallel-item::before {content: \"\";position: absolute;border-left: 1px solid gray;box-sizing: border-box;top: 0;bottom: 0;left: 50%;z-index: -1;}#sk-container-id-3 div.sk-parallel-item {display: flex;flex-direction: column;z-index: 1;position: relative;background-color: white;}#sk-container-id-3 div.sk-parallel-item:first-child::after {align-self: flex-end;width: 50%;}#sk-container-id-3 div.sk-parallel-item:last-child::after {align-self: flex-start;width: 50%;}#sk-container-id-3 div.sk-parallel-item:only-child::after {width: 0;}#sk-container-id-3 div.sk-dashed-wrapped {border: 1px dashed gray;margin: 0 0.4em 0.5em 0.4em;box-sizing: border-box;padding-bottom: 0.4em;background-color: white;}#sk-container-id-3 div.sk-label label {font-family: monospace;font-weight: bold;display: inline-block;line-height: 1.2em;}#sk-container-id-3 div.sk-label-container {text-align: center;}#sk-container-id-3 div.sk-container {/* jupyter's `normalize.less` sets `[hidden] { display: none; }` but bootstrap.min.css set `[hidden] { display: none !important; }` so we also need the `!important` here to be able to override the default hidden behavior on the sphinx rendered scikit-learn.org. See: https://github.com/scikit-learn/scikit-learn/issues/21755 */display: inline-block !important;position: relative;}#sk-container-id-3 div.sk-text-repr-fallback {display: none;}</style><div id=\"sk-container-id-3\" class=\"sk-top-container\"><div class=\"sk-text-repr-fallback\"><pre>RandomForestClassifier(n_estimators=50, random_state=42)</pre><b>In a Jupyter environment, please rerun this cell to show the HTML representation or trust the notebook. <br />On GitHub, the HTML representation is unable to render, please try loading this page with nbviewer.org.</b></div><div class=\"sk-container\" hidden><div class=\"sk-item\"><div class=\"sk-estimator sk-toggleable\"><input class=\"sk-toggleable__control sk-hidden--visually\" id=\"sk-estimator-id-3\" type=\"checkbox\" checked><label for=\"sk-estimator-id-3\" class=\"sk-toggleable__label sk-toggleable__label-arrow\">RandomForestClassifier</label><div class=\"sk-toggleable__content\"><pre>RandomForestClassifier(n_estimators=50, random_state=42)</pre></div></div></div></div></div>"
      ],
      "text/plain": [
       "RandomForestClassifier(n_estimators=50, random_state=42)"
      ]
     },
     "execution_count": 21,
     "metadata": {},
     "output_type": "execute_result"
    }
   ],
   "source": [
    "# Defines the parameters to search through for the RFC GridSearchCV.\n",
    "rfc_param_grid = {'n_estimators': [50, 100, 200],\n",
    "                  'max_depth': [None, 10, 20, 30],\n",
    "                  'min_samples_split': [2, 5, 10],\n",
    "                  'min_samples_leaf': [1, 2, 4]}\n",
    "\n",
    "# Initializes the RFC GridSearchCV.\n",
    "grid_search_rfc = GridSearchCV(estimator=rfc_model, param_grid=rfc_param_grid,\n",
    "                              cv=5, scoring='accuracy', n_jobs=-1)\n",
    "\n",
    "# Performs the grid search on the selected training data.\n",
    "grid_search_rfc.fit(X_train_scaled, y_train)\n",
    "\n",
    "# Gets the best parameters for the RFC model.\n",
    "best_params_rfc = grid_search_rfc.best_params_\n",
    "\n",
    "# Finds the best RFC model and stores it into a variable and prints it. \n",
    "best_rfc_model = grid_search_rfc.best_estimator_\n",
    "best_rfc_model"
   ]
  },
  {
   "cell_type": "markdown",
   "id": "fa429182",
   "metadata": {},
   "source": [
    "Support Vector Classifier"
   ]
  },
  {
   "cell_type": "code",
   "execution_count": 22,
   "id": "0985d420",
   "metadata": {},
   "outputs": [
    {
     "data": {
      "text/html": [
       "<style>#sk-container-id-4 {color: black;}#sk-container-id-4 pre{padding: 0;}#sk-container-id-4 div.sk-toggleable {background-color: white;}#sk-container-id-4 label.sk-toggleable__label {cursor: pointer;display: block;width: 100%;margin-bottom: 0;padding: 0.3em;box-sizing: border-box;text-align: center;}#sk-container-id-4 label.sk-toggleable__label-arrow:before {content: \"▸\";float: left;margin-right: 0.25em;color: #696969;}#sk-container-id-4 label.sk-toggleable__label-arrow:hover:before {color: black;}#sk-container-id-4 div.sk-estimator:hover label.sk-toggleable__label-arrow:before {color: black;}#sk-container-id-4 div.sk-toggleable__content {max-height: 0;max-width: 0;overflow: hidden;text-align: left;background-color: #f0f8ff;}#sk-container-id-4 div.sk-toggleable__content pre {margin: 0.2em;color: black;border-radius: 0.25em;background-color: #f0f8ff;}#sk-container-id-4 input.sk-toggleable__control:checked~div.sk-toggleable__content {max-height: 200px;max-width: 100%;overflow: auto;}#sk-container-id-4 input.sk-toggleable__control:checked~label.sk-toggleable__label-arrow:before {content: \"▾\";}#sk-container-id-4 div.sk-estimator input.sk-toggleable__control:checked~label.sk-toggleable__label {background-color: #d4ebff;}#sk-container-id-4 div.sk-label input.sk-toggleable__control:checked~label.sk-toggleable__label {background-color: #d4ebff;}#sk-container-id-4 input.sk-hidden--visually {border: 0;clip: rect(1px 1px 1px 1px);clip: rect(1px, 1px, 1px, 1px);height: 1px;margin: -1px;overflow: hidden;padding: 0;position: absolute;width: 1px;}#sk-container-id-4 div.sk-estimator {font-family: monospace;background-color: #f0f8ff;border: 1px dotted black;border-radius: 0.25em;box-sizing: border-box;margin-bottom: 0.5em;}#sk-container-id-4 div.sk-estimator:hover {background-color: #d4ebff;}#sk-container-id-4 div.sk-parallel-item::after {content: \"\";width: 100%;border-bottom: 1px solid gray;flex-grow: 1;}#sk-container-id-4 div.sk-label:hover label.sk-toggleable__label {background-color: #d4ebff;}#sk-container-id-4 div.sk-serial::before {content: \"\";position: absolute;border-left: 1px solid gray;box-sizing: border-box;top: 0;bottom: 0;left: 50%;z-index: 0;}#sk-container-id-4 div.sk-serial {display: flex;flex-direction: column;align-items: center;background-color: white;padding-right: 0.2em;padding-left: 0.2em;position: relative;}#sk-container-id-4 div.sk-item {position: relative;z-index: 1;}#sk-container-id-4 div.sk-parallel {display: flex;align-items: stretch;justify-content: center;background-color: white;position: relative;}#sk-container-id-4 div.sk-item::before, #sk-container-id-4 div.sk-parallel-item::before {content: \"\";position: absolute;border-left: 1px solid gray;box-sizing: border-box;top: 0;bottom: 0;left: 50%;z-index: -1;}#sk-container-id-4 div.sk-parallel-item {display: flex;flex-direction: column;z-index: 1;position: relative;background-color: white;}#sk-container-id-4 div.sk-parallel-item:first-child::after {align-self: flex-end;width: 50%;}#sk-container-id-4 div.sk-parallel-item:last-child::after {align-self: flex-start;width: 50%;}#sk-container-id-4 div.sk-parallel-item:only-child::after {width: 0;}#sk-container-id-4 div.sk-dashed-wrapped {border: 1px dashed gray;margin: 0 0.4em 0.5em 0.4em;box-sizing: border-box;padding-bottom: 0.4em;background-color: white;}#sk-container-id-4 div.sk-label label {font-family: monospace;font-weight: bold;display: inline-block;line-height: 1.2em;}#sk-container-id-4 div.sk-label-container {text-align: center;}#sk-container-id-4 div.sk-container {/* jupyter's `normalize.less` sets `[hidden] { display: none; }` but bootstrap.min.css set `[hidden] { display: none !important; }` so we also need the `!important` here to be able to override the default hidden behavior on the sphinx rendered scikit-learn.org. See: https://github.com/scikit-learn/scikit-learn/issues/21755 */display: inline-block !important;position: relative;}#sk-container-id-4 div.sk-text-repr-fallback {display: none;}</style><div id=\"sk-container-id-4\" class=\"sk-top-container\"><div class=\"sk-text-repr-fallback\"><pre>SVC(C=0.1, gamma=1, kernel=&#x27;poly&#x27;)</pre><b>In a Jupyter environment, please rerun this cell to show the HTML representation or trust the notebook. <br />On GitHub, the HTML representation is unable to render, please try loading this page with nbviewer.org.</b></div><div class=\"sk-container\" hidden><div class=\"sk-item\"><div class=\"sk-estimator sk-toggleable\"><input class=\"sk-toggleable__control sk-hidden--visually\" id=\"sk-estimator-id-4\" type=\"checkbox\" checked><label for=\"sk-estimator-id-4\" class=\"sk-toggleable__label sk-toggleable__label-arrow\">SVC</label><div class=\"sk-toggleable__content\"><pre>SVC(C=0.1, gamma=1, kernel=&#x27;poly&#x27;)</pre></div></div></div></div></div>"
      ],
      "text/plain": [
       "SVC(C=0.1, gamma=1, kernel='poly')"
      ]
     },
     "execution_count": 22,
     "metadata": {},
     "output_type": "execute_result"
    }
   ],
   "source": [
    "# Defines the parameters to search through for the SVC GridSearchCV.\n",
    "svc_param_grid = {'kernel': ['linear', 'poly', 'rbf', 'sigmoid'],\n",
    "                  'gamma': [1, 0.1, 0.01, 0.001, 0.0001],\n",
    "                  'C': [0.1, 1, 10, 100, 1000]}\n",
    "\n",
    "# Initializes the SVC GridSearchCV. I also re-initialized the model estimator due \n",
    "# to the fact that I had to specify a kernel when finding the best features.\n",
    "grid_search_svc = GridSearchCV(estimator=SVC(), param_grid=svc_param_grid, cv=5,\n",
    "                               scoring='accuracy', n_jobs=-1)\n",
    "\n",
    "# Performs the grid search on the selected training data.\n",
    "grid_search_svc.fit(X_train_scaled, y_train)\n",
    "\n",
    "# Gets the best parameters for the SVC model.\n",
    "best_params_svc = grid_search_svc.best_params_\n",
    "\n",
    "# Finds the best SVC model and stores it into a variable and prints it.\n",
    "best_svc_model = grid_search_svc.best_estimator_\n",
    "best_svc_model"
   ]
  },
  {
   "cell_type": "markdown",
   "id": "66ad0aef",
   "metadata": {},
   "source": [
    "##### Models"
   ]
  },
  {
   "cell_type": "markdown",
   "id": "a650a34d",
   "metadata": {},
   "source": [
    "Logistic Regression"
   ]
  },
  {
   "cell_type": "code",
   "execution_count": 23,
   "id": "029d63f7",
   "metadata": {},
   "outputs": [],
   "source": [
    "# Fits the logistic regression model to all training features.\n",
    "best_lr_model.fit(X_train_scaled, y_train)\n",
    "\n",
    "# Makes predictions on the testing data set.\n",
    "lr_preds = best_lr_model.predict(X_test_scaled)"
   ]
  },
  {
   "cell_type": "code",
   "execution_count": 24,
   "id": "f43a27ff",
   "metadata": {},
   "outputs": [
    {
     "name": "stdout",
     "output_type": "stream",
     "text": [
      "Logistic Regression Accuracy: 0.9767441860465116\n",
      "Logistic Regression Classification Report:\n",
      "               precision    recall  f1-score   support\n",
      "\n",
      "           0       0.95      1.00      0.98        20\n",
      "           1       1.00      0.96      0.98        23\n",
      "\n",
      "    accuracy                           0.98        43\n",
      "   macro avg       0.98      0.98      0.98        43\n",
      "weighted avg       0.98      0.98      0.98        43\n",
      "\n"
     ]
    }
   ],
   "source": [
    "# Evaluates the LR model via an accuracy score and a classification report.\n",
    "lr_accuracy = accuracy_score(y_test, lr_preds)\n",
    "lr_classification = classification_report(y_test, lr_preds)\n",
    "\n",
    "# Prints the results.\n",
    "print(\"Logistic Regression Accuracy: {}\".format(lr_accuracy))\n",
    "print(\"Logistic Regression Classification Report:\\n {}\".format(lr_classification))"
   ]
  },
  {
   "cell_type": "code",
   "execution_count": 25,
   "id": "2a60aaae",
   "metadata": {},
   "outputs": [],
   "source": [
    "# Fits the logistic regression model to the selected training features.\n",
    "best_lr_model.fit(X_train_scaled_lr, y_train)\n",
    "\n",
    "# Makes predictions on the testing data set.\n",
    "lr_preds2 = best_lr_model.predict(X_test_scaled_lr)"
   ]
  },
  {
   "cell_type": "code",
   "execution_count": 26,
   "id": "33193c8d",
   "metadata": {},
   "outputs": [
    {
     "name": "stdout",
     "output_type": "stream",
     "text": [
      "Logistic Regression Accuracy: 0.9767441860465116\n",
      "Logistic Regression Classification Report:\n",
      "               precision    recall  f1-score   support\n",
      "\n",
      "           0       0.95      1.00      0.98        20\n",
      "           1       1.00      0.96      0.98        23\n",
      "\n",
      "    accuracy                           0.98        43\n",
      "   macro avg       0.98      0.98      0.98        43\n",
      "weighted avg       0.98      0.98      0.98        43\n",
      "\n"
     ]
    }
   ],
   "source": [
    "# Evaluates the LR model via an accuracy score and a classification report.\n",
    "lr_accuracy2 = accuracy_score(y_test, lr_preds2)\n",
    "lr_classification2 = classification_report(y_test, lr_preds2)\n",
    "\n",
    "# Prints the results.\n",
    "print(\"Logistic Regression Accuracy: {}\".format(lr_accuracy2))\n",
    "print(\"Logistic Regression Classification Report:\\n {}\".format(lr_classification2))"
   ]
  },
  {
   "cell_type": "markdown",
   "id": "3c55941c",
   "metadata": {},
   "source": [
    "Decision Tree Classifier "
   ]
  },
  {
   "cell_type": "code",
   "execution_count": 27,
   "id": "2e508297",
   "metadata": {},
   "outputs": [],
   "source": [
    "# Fits the DTC model using the best parameters and all features.\n",
    "best_dtc_model.fit(X_train, y_train)\n",
    "\n",
    "# Calculates the predictions on the test data.\n",
    "dtc_preds = best_dtc_model.predict(X_test)"
   ]
  },
  {
   "cell_type": "code",
   "execution_count": 28,
   "id": "44c19f72",
   "metadata": {},
   "outputs": [
    {
     "name": "stdout",
     "output_type": "stream",
     "text": [
      "Decision Tree Classifier Accuracy: 0.813953488372093\n",
      "Decision Tree Classifier Classification Report:\n",
      "               precision    recall  f1-score   support\n",
      "\n",
      "           0       0.80      0.80      0.80        20\n",
      "           1       0.83      0.83      0.83        23\n",
      "\n",
      "    accuracy                           0.81        43\n",
      "   macro avg       0.81      0.81      0.81        43\n",
      "weighted avg       0.81      0.81      0.81        43\n",
      "\n"
     ]
    }
   ],
   "source": [
    "# Evaluates the DTC model via an accuracy score and a classification report.\n",
    "dtc_accuracy = accuracy_score(y_test, dtc_preds)\n",
    "dtc_classification = classification_report(y_test, dtc_preds)\n",
    "\n",
    "# Prints the results.\n",
    "print(\"Decision Tree Classifier Accuracy: {}\".format(dtc_accuracy))\n",
    "print(\"Decision Tree Classifier Classification Report:\\n {}\".format(dtc_classification))"
   ]
  },
  {
   "cell_type": "code",
   "execution_count": 29,
   "id": "37ee85e9",
   "metadata": {},
   "outputs": [],
   "source": [
    "# Fits the DTC model using the best parameters and selected features.\n",
    "best_dtc_model.fit(X_train_dtc, y_train)\n",
    "\n",
    "# Calculates the predictions on the test data.\n",
    "dtc_preds2 = best_dtc_model.predict(X_test_dtc)"
   ]
  },
  {
   "cell_type": "code",
   "execution_count": 30,
   "id": "23c4dfc6",
   "metadata": {},
   "outputs": [
    {
     "name": "stdout",
     "output_type": "stream",
     "text": [
      "Decision Tree Classifier Accuracy: 0.813953488372093\n",
      "Decision Tree Classifier Classification Report:\n",
      "               precision    recall  f1-score   support\n",
      "\n",
      "           0       0.80      0.80      0.80        20\n",
      "           1       0.83      0.83      0.83        23\n",
      "\n",
      "    accuracy                           0.81        43\n",
      "   macro avg       0.81      0.81      0.81        43\n",
      "weighted avg       0.81      0.81      0.81        43\n",
      "\n"
     ]
    }
   ],
   "source": [
    "# Evaluates the DTC model via an accuracy score and a classification report.\n",
    "dtc_accuracy2 = accuracy_score(y_test, dtc_preds2)\n",
    "dtc_classification2 = classification_report(y_test, dtc_preds2)\n",
    "\n",
    "# Prints the results.\n",
    "print(\"Decision Tree Classifier Accuracy: {}\".format(dtc_accuracy2))\n",
    "print(\"Decision Tree Classifier Classification Report:\\n {}\".format(dtc_classification2)\n",
    "     )"
   ]
  },
  {
   "cell_type": "markdown",
   "id": "4771906b",
   "metadata": {},
   "source": [
    "Random Forest Classifier"
   ]
  },
  {
   "cell_type": "code",
   "execution_count": 31,
   "id": "0969ecba",
   "metadata": {},
   "outputs": [],
   "source": [
    "# Fits the RFC model using the best parameters and all features.\n",
    "best_rfc_model.fit(X_train_scaled, y_train)\n",
    "\n",
    "# Calculates the predictions on the test data.\n",
    "rfc_preds = best_rfc_model.predict(X_test_scaled)"
   ]
  },
  {
   "cell_type": "code",
   "execution_count": 32,
   "id": "a5424dec",
   "metadata": {},
   "outputs": [
    {
     "name": "stdout",
     "output_type": "stream",
     "text": [
      "Random Forest Classifier Accuracy: 0.9767441860465116\n",
      "Random Forest Classifier Classification Report:\n",
      "               precision    recall  f1-score   support\n",
      "\n",
      "           0       0.95      1.00      0.98        20\n",
      "           1       1.00      0.96      0.98        23\n",
      "\n",
      "    accuracy                           0.98        43\n",
      "   macro avg       0.98      0.98      0.98        43\n",
      "weighted avg       0.98      0.98      0.98        43\n",
      "\n"
     ]
    }
   ],
   "source": [
    "# Evaluates the RFC model via an accuracy score and a classification report.\n",
    "rfc_accuracy = accuracy_score(y_test, rfc_preds)\n",
    "rfc_classification = classification_report(y_test, rfc_preds)\n",
    "\n",
    "# Prints the results.\n",
    "print(\"Random Forest Classifier Accuracy: {}\".format(rfc_accuracy))\n",
    "print(\"Random Forest Classifier Classification Report:\\n {}\".format(rfc_classification))"
   ]
  },
  {
   "cell_type": "code",
   "execution_count": 33,
   "id": "8bfe4780",
   "metadata": {},
   "outputs": [],
   "source": [
    "# Fits the RFC model using the best parameters and the selected features.\n",
    "best_rfc_model.fit(X_train_scaled_rfc, y_train)\n",
    "\n",
    "# Calculates the predictions on the test data.\n",
    "rfc_preds2 = best_rfc_model.predict(X_test_scaled_rfc)"
   ]
  },
  {
   "cell_type": "code",
   "execution_count": 34,
   "id": "22c4fd5d",
   "metadata": {},
   "outputs": [
    {
     "name": "stdout",
     "output_type": "stream",
     "text": [
      "Random Forest Classifier Accuracy: 0.9534883720930233\n",
      "Random Forest Classifier Classification Report:\n",
      "               precision    recall  f1-score   support\n",
      "\n",
      "           0       0.95      0.95      0.95        20\n",
      "           1       0.96      0.96      0.96        23\n",
      "\n",
      "    accuracy                           0.95        43\n",
      "   macro avg       0.95      0.95      0.95        43\n",
      "weighted avg       0.95      0.95      0.95        43\n",
      "\n"
     ]
    }
   ],
   "source": [
    "# Evaluates the RFC model via an accuracy score and a classification report.\n",
    "rfc_accuracy2 = accuracy_score(y_test, rfc_preds2)\n",
    "rfc_classification2 = classification_report(y_test, rfc_preds2)\n",
    "\n",
    "# Prints the results.\n",
    "print(\"Random Forest Classifier Accuracy: {}\".format(rfc_accuracy2))\n",
    "print(\"Random Forest Classifier Classification Report:\\n {}\".format(rfc_classification2)\n",
    "     )"
   ]
  },
  {
   "cell_type": "markdown",
   "id": "0ae50e9b",
   "metadata": {},
   "source": [
    "Support Vector Classifier"
   ]
  },
  {
   "cell_type": "code",
   "execution_count": 35,
   "id": "ff406f77",
   "metadata": {},
   "outputs": [],
   "source": [
    "# Fits the SVC model using the best parameters and all features.\n",
    "best_svc_model.fit(X_train_scaled, y_train)\n",
    "\n",
    "# Calculates the predictions on the test data.\n",
    "svc_preds = best_svc_model.predict(X_test_scaled)"
   ]
  },
  {
   "cell_type": "code",
   "execution_count": 36,
   "id": "4117d7f6",
   "metadata": {},
   "outputs": [
    {
     "name": "stdout",
     "output_type": "stream",
     "text": [
      "Support Vector Classifier Accuracy: 1.0\n",
      "Support Vector Classifier Classification Report:\n",
      "               precision    recall  f1-score   support\n",
      "\n",
      "           0       1.00      1.00      1.00        20\n",
      "           1       1.00      1.00      1.00        23\n",
      "\n",
      "    accuracy                           1.00        43\n",
      "   macro avg       1.00      1.00      1.00        43\n",
      "weighted avg       1.00      1.00      1.00        43\n",
      "\n"
     ]
    }
   ],
   "source": [
    "# Evaluates the SVC model via an accuracy score and a classification report.\n",
    "svc_accuracy = accuracy_score(y_test, svc_preds)\n",
    "svc_classification = classification_report(y_test, svc_preds)\n",
    "\n",
    "# Prints the results.\n",
    "print(\"Support Vector Classifier Accuracy: {}\".format(svc_accuracy))\n",
    "print(\"Support Vector Classifier Classification Report:\\n {}\".format(svc_classification)\n",
    "     )"
   ]
  },
  {
   "cell_type": "code",
   "execution_count": 37,
   "id": "2e542654",
   "metadata": {},
   "outputs": [],
   "source": [
    "# Fits the SVC model using the best parameters and selected features.\n",
    "best_svc_model.fit(X_train_scaled_svc, y_train)\n",
    "\n",
    "# Calculates the predictions on the test data.\n",
    "svc_preds2 = best_svc_model.predict(X_test_scaled_svc)"
   ]
  },
  {
   "cell_type": "code",
   "execution_count": 38,
   "id": "ccb7c5e2",
   "metadata": {},
   "outputs": [
    {
     "name": "stdout",
     "output_type": "stream",
     "text": [
      "Support Vector Classifier Accuracy: 0.9767441860465116\n",
      "Support Vector Classifier Classification Report:\n",
      "               precision    recall  f1-score   support\n",
      "\n",
      "           0       0.95      1.00      0.98        20\n",
      "           1       1.00      0.96      0.98        23\n",
      "\n",
      "    accuracy                           0.98        43\n",
      "   macro avg       0.98      0.98      0.98        43\n",
      "weighted avg       0.98      0.98      0.98        43\n",
      "\n"
     ]
    }
   ],
   "source": [
    "# Evaluates the SVC model via an accuracy score and a classification report.\n",
    "svc_accuracy2 = accuracy_score(y_test, svc_preds2)\n",
    "svc_classification2 = classification_report(y_test, svc_preds2)\n",
    "\n",
    "# Prints the results.\n",
    "print(\"Support Vector Classifier Accuracy: {}\".format(svc_accuracy2))\n",
    "print(\"Support Vector Classifier Classification Report:\\n {}\".format(svc_classification2\n",
    "                                                                    ))"
   ]
  }
 ],
 "metadata": {
  "kernelspec": {
   "display_name": "Python 3 (ipykernel)",
   "language": "python",
   "name": "python3"
  },
  "language_info": {
   "codemirror_mode": {
    "name": "ipython",
    "version": 3
   },
   "file_extension": ".py",
   "mimetype": "text/x-python",
   "name": "python",
   "nbconvert_exporter": "python",
   "pygments_lexer": "ipython3",
   "version": "3.11.7"
  }
 },
 "nbformat": 4,
 "nbformat_minor": 5
}
